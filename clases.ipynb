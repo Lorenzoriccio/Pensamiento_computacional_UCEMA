{
  "nbformat": 4,
  "nbformat_minor": 0,
  "metadata": {
    "colab": {
      "name": "IPC Notas 2022.ipynb",
      "provenance": [],
      "collapsed_sections": [
        "7Nb2md4AmTZL",
        "R_9WsBxQ9Aho",
        "wMoD0Vq6YaH5",
        "MZCpvJdg6yhd",
        "BEvKV4Pc43VX",
        "de6BTCvFO5Z7",
        "YaTZ7USHPC-C",
        "VRZ3qHiM1tY-",
        "c9iBo3nxVJ_3",
        "iKjSaKpgZC4x",
        "yZ30cdFfcvXn",
        "PxBVV_RhuYv9"
      ],
      "toc_visible": true,
      "include_colab_link": true
    },
    "kernelspec": {
      "name": "python3",
      "display_name": "Python 3"
    },
    "language_info": {
      "name": "python"
    }
  },
  "cells": [
    {
      "cell_type": "markdown",
      "metadata": {
        "id": "view-in-github",
        "colab_type": "text"
      },
      "source": [
        "<a href=\"https://colab.research.google.com/github/Lorenzoriccio/Pensamientos_computacional_UCEMA/blob/main/clases.ipynb\" target=\"_parent\"><img src=\"https://colab.research.google.com/assets/colab-badge.svg\" alt=\"Open In Colab\"/></a>"
      ]
    },
    {
      "cell_type": "markdown",
      "source": [
        "### ¡Hola Colab!\n",
        "\n",
        "Aunque esto parece texto plano, en realidad no lo es. En realidad estamos escribiendo en formato Markdown. Por ejemplo: \n",
        "\n",
        "\n",
        "*   Podemos dar formato usando *cursivas*, **negritas** o ~tachado~\n",
        "*   Y muchas cosas más\n",
        "\n"
      ],
      "metadata": {
        "id": "Z-4lCBkNJ0id"
      }
    },
    {
      "cell_type": "markdown",
      "source": [
        "### Mini repaso de los errores de Python\n",
        "Hasta ahora vimos cuatro tipos de errores: \n",
        "\n",
        "\n",
        "*   Errores de sintaxis(`SyntaxError`)\n",
        "*   Errores matemáticos(por ejemplo `ZeroDivisionError`)\n",
        "*   Errores de funciones no definidas(`NameError`)\n",
        "*   Errores de tipos que se dan cuando utilizamos operaciones con tipo de datos inadecuados(`TypeError`)\n",
        "\n",
        "\n",
        "\n"
      ],
      "metadata": {
        "id": "hqcmp73MQ3E-"
      }
    },
    {
      "cell_type": "markdown",
      "source": [
        "### Consideraciones importantes sobre el uso de Colab\n",
        "\n",
        "\n",
        "1. Todo lo que escriben, se guarda solo. Si no sucediera, pueden forzarlo haciendo `ctrl + s` (file -> save)\n",
        "2. Todo lo que hacen es sólo de ustedes, salvo que lo compartan\n",
        "3. Si yo (Franco) les comparto un documento, no lo van a poder editar y si lo hacen pierden todos los cambios. Para eso, siempre que les compartan un documento para editarlo (por ejemplo en instancia de parcial), siempre hay que guardarlo como una copia antes. Para eso tienen que hacer `file -> save a copy in drive `"
      ],
      "metadata": {
        "id": "bJ9DLgfqSq7j"
      }
    },
    {
      "cell_type": "code",
      "source": [
        "2 + 3"
      ],
      "metadata": {
        "colab": {
          "base_uri": "https://localhost:8080/"
        },
        "id": "hh2t3vrCNvs7",
        "outputId": "e0386f3c-f6b7-44ab-d095-7c15f452e16d"
      },
      "execution_count": null,
      "outputs": [
        {
          "output_type": "execute_result",
          "data": {
            "text/plain": [
              "5"
            ]
          },
          "metadata": {},
          "execution_count": 47
        }
      ]
    },
    {
      "cell_type": "code",
      "source": [
        "'Hola' + ' mundo!'"
      ],
      "metadata": {
        "colab": {
          "base_uri": "https://localhost:8080/",
          "height": 35
        },
        "id": "9Xz1Eg1XO8Qd",
        "outputId": "51780fa2-3fad-4925-c067-5a9e95296cf8"
      },
      "execution_count": null,
      "outputs": [
        {
          "output_type": "execute_result",
          "data": {
            "text/plain": [
              "'Hola mundo!'"
            ],
            "application/vnd.google.colaboratory.intrinsic+json": {
              "type": "string"
            }
          },
          "metadata": {},
          "execution_count": 48
        }
      ]
    },
    {
      "cell_type": "code",
      "source": [
        "def sumar(x,y): \n",
        "  return x + y"
      ],
      "metadata": {
        "id": "bP8y_-e_PKCt"
      },
      "execution_count": null,
      "outputs": []
    },
    {
      "cell_type": "code",
      "source": [
        "sumar(1,2)"
      ],
      "metadata": {
        "colab": {
          "base_uri": "https://localhost:8080/"
        },
        "id": "5aLgeD44PpU9",
        "outputId": "216d0784-fb32-4780-9108-42fc70bcd475"
      },
      "execution_count": null,
      "outputs": [
        {
          "output_type": "execute_result",
          "data": {
            "text/plain": [
              "3"
            ]
          },
          "metadata": {},
          "execution_count": 50
        }
      ]
    },
    {
      "cell_type": "markdown",
      "source": [
        "## Replit"
      ],
      "metadata": {
        "id": "vwIRzVPtfThV"
      }
    },
    {
      "cell_type": "markdown",
      "source": [
        "### Ejercicios funciones "
      ],
      "metadata": {
        "id": "AJ5HlbO_mdPM"
      }
    },
    {
      "cell_type": "code",
      "source": [
        "# Hecho"
      ],
      "metadata": {
        "id": "4WGAc8rPRahD"
      },
      "execution_count": null,
      "outputs": []
    },
    {
      "cell_type": "markdown",
      "source": [
        "**1. sumar(a, b)**\n",
        "\n",
        "Creá una función sumar que tome dos números y devuelva la suma de ellos\n",
        "\n",
        "\n",
        "```\n",
        "sumar(2, 3) # 5\n",
        "sumar(1.2, 3.4) # 4.6\n",
        "sumar(3, -5) # -2\n",
        "```"
      ],
      "metadata": {
        "id": "kOA64IF5fnz5"
      }
    },
    {
      "cell_type": "code",
      "source": [
        "def sumar(a,b): \n",
        "  return a + b"
      ],
      "metadata": {
        "id": "0bZu3mcIfcMa"
      },
      "execution_count": null,
      "outputs": []
    },
    {
      "cell_type": "code",
      "source": [
        "sumar(2, 3)"
      ],
      "metadata": {
        "colab": {
          "base_uri": "https://localhost:8080/"
        },
        "id": "MFu2vWQZfsXO",
        "outputId": "6cf0d17b-5e5e-4021-95f8-988203064746"
      },
      "execution_count": null,
      "outputs": [
        {
          "output_type": "execute_result",
          "data": {
            "text/plain": [
              "5"
            ]
          },
          "metadata": {},
          "execution_count": 52
        }
      ]
    },
    {
      "cell_type": "markdown",
      "source": [
        "**2. restar(a, b)**\n",
        "\n",
        "Creá una función restar que tome dos números y devuelva la resta de ellos\n",
        "\n",
        "```\n",
        "restar(3, 2) # 1\n",
        "restar(10, 5.5) # 4.5\n",
        "restar(3, 5) # -2\n",
        "restar(3, 2) # 1\n",
        "restar(10, 5.5) # 4.5\n",
        "restar(3, 5) # -2\n",
        "multiplicar(a, b)\n",
        "```\n",
        "\n"
      ],
      "metadata": {
        "id": "cI6C_bsdfw5u"
      }
    },
    {
      "cell_type": "code",
      "source": [
        "def restar(a, b): \n",
        "  return a - b"
      ],
      "metadata": {
        "id": "bVoKQFhFfxh8"
      },
      "execution_count": null,
      "outputs": []
    },
    {
      "cell_type": "code",
      "source": [
        "restar(3, 2)"
      ],
      "metadata": {
        "colab": {
          "base_uri": "https://localhost:8080/"
        },
        "id": "_RbkLNUqf2ju",
        "outputId": "8ed88733-aadf-4b2a-f639-747bc19e3b35"
      },
      "execution_count": null,
      "outputs": [
        {
          "output_type": "execute_result",
          "data": {
            "text/plain": [
              "1"
            ]
          },
          "metadata": {},
          "execution_count": 54
        }
      ]
    },
    {
      "cell_type": "markdown",
      "source": [
        "**3. multiplicar(a, b)**\n",
        "\n",
        "Creá una función multiplicar que tome dos números y devuelva la multiplicación de ellos\n",
        "\n",
        "```\n",
        "multiplicar(2, 3) # 6\n",
        "multiplicar(4, 0.5) # 2\n",
        "```\n"
      ],
      "metadata": {
        "id": "MfRwHoK9f82O"
      }
    },
    {
      "cell_type": "code",
      "source": [
        "def multiplicar(a, b): \n",
        "  return a * b "
      ],
      "metadata": {
        "id": "dXbiTZRwf7Zu"
      },
      "execution_count": null,
      "outputs": []
    },
    {
      "cell_type": "code",
      "source": [
        "multiplicar(2, 3)"
      ],
      "metadata": {
        "colab": {
          "base_uri": "https://localhost:8080/"
        },
        "id": "DMkmt5e6gSsw",
        "outputId": "ddc9f2a0-6926-4b0b-a777-25f21a5260a7"
      },
      "execution_count": null,
      "outputs": [
        {
          "output_type": "execute_result",
          "data": {
            "text/plain": [
              "6"
            ]
          },
          "metadata": {},
          "execution_count": 56
        }
      ]
    },
    {
      "cell_type": "markdown",
      "source": [
        "**4. dividir(a, b)**\n",
        "\n",
        "Creá una función dividir que tome dos números y devuelva la suma de ellos\n",
        "\n",
        "\n",
        "```\n",
        "dividir(12, 3) # 4\n",
        "dividir(8, 4) # 2\n",
        "sumar(30, 6) # 5\n",
        "```\n"
      ],
      "metadata": {
        "id": "6OQ1KzB3gV2Q"
      }
    },
    {
      "cell_type": "code",
      "source": [
        "def dividir(a, b): \n",
        "  return a // b"
      ],
      "metadata": {
        "id": "DbedgSaugWnV"
      },
      "execution_count": null,
      "outputs": []
    },
    {
      "cell_type": "code",
      "source": [
        "dividir(12, 3)"
      ],
      "metadata": {
        "colab": {
          "base_uri": "https://localhost:8080/"
        },
        "id": "xqtnbbB8gapg",
        "outputId": "6d7a2823-ccce-4687-8a42-67ad2b7decd1"
      },
      "execution_count": null,
      "outputs": [
        {
          "output_type": "execute_result",
          "data": {
            "text/plain": [
              "4"
            ]
          },
          "metadata": {},
          "execution_count": 58
        }
      ]
    },
    {
      "cell_type": "markdown",
      "source": [
        "**5. es_par(numero)**\n",
        "\n",
        "Creá una función es_par que tome como argumento un número y si dicho números es par\n",
        "\n",
        "TIP: un número es par si divido por 2 el resto (o módulo) de esa operación es 0"
      ],
      "metadata": {
        "id": "VBalrdXPgwBJ"
      }
    },
    {
      "cell_type": "code",
      "source": [
        "def es_par(numero): \n",
        "  return numero % 2 == 0 "
      ],
      "metadata": {
        "id": "Rl8dn8P8gxue"
      },
      "execution_count": null,
      "outputs": []
    },
    {
      "cell_type": "code",
      "source": [
        "es_par(2)"
      ],
      "metadata": {
        "colab": {
          "base_uri": "https://localhost:8080/"
        },
        "id": "AUGH2Trgg1MT",
        "outputId": "3f5898b1-ead7-49b4-b442-a717e03a231e"
      },
      "execution_count": null,
      "outputs": [
        {
          "output_type": "execute_result",
          "data": {
            "text/plain": [
              "True"
            ]
          },
          "metadata": {},
          "execution_count": 60
        }
      ]
    },
    {
      "cell_type": "code",
      "source": [
        "es_par(3)"
      ],
      "metadata": {
        "colab": {
          "base_uri": "https://localhost:8080/"
        },
        "id": "vBz_SSduhQ-5",
        "outputId": "37cf4f86-3b88-47a9-8b43-6063c523bd15"
      },
      "execution_count": null,
      "outputs": [
        {
          "output_type": "execute_result",
          "data": {
            "text/plain": [
              "False"
            ]
          },
          "metadata": {},
          "execution_count": 61
        }
      ]
    },
    {
      "cell_type": "markdown",
      "source": [
        "**6. es_impar(numero)**\n",
        "\n",
        "Creá una función es_impar que tome como argumento un número y si dicho números es impar\n",
        "\n",
        "TIP: un número es impar si divido por 2 el resto (o módulo) de esa operación no es 0"
      ],
      "metadata": {
        "id": "0hS-qO5ig-6G"
      }
    },
    {
      "cell_type": "code",
      "source": [
        "def es_impar(numero): \n",
        "  return numero % 2 == 1\n",
        "  # o return not es_par(numero)"
      ],
      "metadata": {
        "id": "eFZY6WXsg_hp"
      },
      "execution_count": null,
      "outputs": []
    },
    {
      "cell_type": "code",
      "source": [
        "es_impar(2)"
      ],
      "metadata": {
        "colab": {
          "base_uri": "https://localhost:8080/"
        },
        "id": "rKhAE4e4hLlK",
        "outputId": "e0f4c592-2729-4eb4-8dbe-0f72da9f3aac"
      },
      "execution_count": null,
      "outputs": [
        {
          "output_type": "execute_result",
          "data": {
            "text/plain": [
              "False"
            ]
          },
          "metadata": {},
          "execution_count": 63
        }
      ]
    },
    {
      "cell_type": "code",
      "source": [
        "es_impar(3)"
      ],
      "metadata": {
        "colab": {
          "base_uri": "https://localhost:8080/"
        },
        "id": "ZW88m1pdhTOO",
        "outputId": "d996f32f-6c4a-426c-a653-a4d04eaf493b"
      },
      "execution_count": null,
      "outputs": [
        {
          "output_type": "execute_result",
          "data": {
            "text/plain": [
              "True"
            ]
          },
          "metadata": {},
          "execution_count": 64
        }
      ]
    },
    {
      "cell_type": "markdown",
      "source": [
        "**7. calcular_area_triangulo(base, altura)**\n",
        "\n",
        "Creá una función calcular_area_triangulo que tome la base y la altura de un triángulo y devuelva el área del mismo\n",
        "\n",
        "\n",
        "```\n",
        "calcular_area_triangulo(3, 4) # 6\n",
        "calcular_area_triangulo(5, 6) # 40\n",
        "```\n",
        "\n"
      ],
      "metadata": {
        "id": "kVs2muyzhVXf"
      }
    },
    {
      "cell_type": "code",
      "source": [
        "def calcular_area_triangulo(base, altura): \n",
        "  return (base * altura) / 2"
      ],
      "metadata": {
        "id": "urGezel2hdnQ"
      },
      "execution_count": null,
      "outputs": []
    },
    {
      "cell_type": "markdown",
      "source": [
        "**8. nombre_completo(nombre, apellido)**\n",
        "\n",
        "Creá una función obtener_nombre_completo que tome como argumento un nombre y un apellido y devuelva un string con la unión de ambos valores\n",
        "\n",
        "\n",
        "```\n",
        "nombre_completo('Ada', 'Lovelace') # 'Ada Lovelace'\n",
        "```\n"
      ],
      "metadata": {
        "id": "lYswePpLhrTA"
      }
    },
    {
      "cell_type": "code",
      "source": [
        "def nombre_completo(nombre,apellido):\n",
        "  return nombre + \" \" + apellido"
      ],
      "metadata": {
        "id": "3S_4rZavhvH6"
      },
      "execution_count": null,
      "outputs": []
    },
    {
      "cell_type": "code",
      "source": [
        "nombre_completo('Ada', 'Lovelace')"
      ],
      "metadata": {
        "colab": {
          "base_uri": "https://localhost:8080/",
          "height": 35
        },
        "id": "caBHExR2hz2r",
        "outputId": "efb22f6a-e4a9-44ce-d872-7f390cc1b5e5"
      },
      "execution_count": null,
      "outputs": [
        {
          "output_type": "execute_result",
          "data": {
            "text/plain": [
              "'Ada Lovelace'"
            ],
            "application/vnd.google.colaboratory.intrinsic+json": {
              "type": "string"
            }
          },
          "metadata": {},
          "execution_count": 67
        }
      ]
    },
    {
      "cell_type": "markdown",
      "source": [
        "**9. saludar(nombre)**\n",
        "\n",
        "Creá una función saludar que tome un nombre y devuelva un saludo que lo incluya.\n",
        "\n",
        "\n",
        "```\n",
        "saludar('Ada') # 'Hola Ada, un gusto conocerte'\n",
        "```\n"
      ],
      "metadata": {
        "id": "hTD6_OSih4d0"
      }
    },
    {
      "cell_type": "code",
      "source": [
        "def saludar(nombre): \n",
        "  return \"Hola \" + nombre +\", un gusto conocerte\""
      ],
      "metadata": {
        "id": "s6fdNS0Xh78V"
      },
      "execution_count": null,
      "outputs": []
    },
    {
      "cell_type": "code",
      "source": [
        "saludar('Ada')"
      ],
      "metadata": {
        "colab": {
          "base_uri": "https://localhost:8080/",
          "height": 35
        },
        "id": "L8iezrZniALj",
        "outputId": "3cc1361d-f591-4f57-fd2e-c3cf31d3144c"
      },
      "execution_count": null,
      "outputs": [
        {
          "output_type": "execute_result",
          "data": {
            "text/plain": [
              "'Hola Ada, un gusto conocerte'"
            ],
            "application/vnd.google.colaboratory.intrinsic+json": {
              "type": "string"
            }
          },
          "metadata": {},
          "execution_count": 69
        }
      ]
    },
    {
      "cell_type": "markdown",
      "source": [
        "**10. saludar_completo(nombre, apellido)**\n",
        "\n",
        "Usando las funciones anteriores (nombre_completo y saludar), definí una función saludar_completo que tome un nombre y un apellido y devuelva un saludo usando el nombre completo de la persona.\n",
        "\n",
        "\n",
        "```\n",
        ">>> saludar_completo(\"Ada\", \"Lovelace\")\n",
        "Hola Ada Lovelace, un gusto conocerte\n",
        "```\n",
        "\n"
      ],
      "metadata": {
        "id": "iRplmwM3iI6V"
      }
    },
    {
      "cell_type": "code",
      "source": [
        "def saludar_completo(nombre, apellido): \n",
        "  return saludar(nombre_completo(nombre, apellido))"
      ],
      "metadata": {
        "id": "V0tPq4h_iRt8"
      },
      "execution_count": null,
      "outputs": []
    },
    {
      "cell_type": "code",
      "source": [
        "saludar_completo('Franco', 'Bulgarelli')"
      ],
      "metadata": {
        "colab": {
          "base_uri": "https://localhost:8080/",
          "height": 35
        },
        "id": "uXvgLr8Mify0",
        "outputId": "ea1f2678-382c-481c-9c6f-a5b70e73f9f6"
      },
      "execution_count": null,
      "outputs": [
        {
          "output_type": "execute_result",
          "data": {
            "text/plain": [
              "'Hola Franco Bulgarelli, un gusto conocerte'"
            ],
            "application/vnd.google.colaboratory.intrinsic+json": {
              "type": "string"
            }
          },
          "metadata": {},
          "execution_count": 71
        }
      ]
    },
    {
      "cell_type": "markdown",
      "source": [
        "**11. obtener_datos_ciudad(nombre, poblacion, pais)**\n",
        "\n",
        "Creá una función obtener_datos_ciudad que tome un string nombre, un número poblacion y un string pais y devuelva string con el siguiente formato: La ciudad de NOMBRE tiene una población de POBLACION habitantes y está ubicada en PAIS"
      ],
      "metadata": {
        "id": "xAyliNZriqdJ"
      }
    },
    {
      "cell_type": "code",
      "source": [
        "def obtener_datos_ciudad(nombre, poblacion, pais): \n",
        "  return \"La ciudad de \" + nombre + \" tiene una población de \" + str(poblacion) + \" habitantes y está ubicada en \" + pais "
      ],
      "metadata": {
        "id": "XqtpVFd9irAe"
      },
      "execution_count": null,
      "outputs": []
    },
    {
      "cell_type": "code",
      "source": [
        "obtener_datos_ciudad(\"Santa Fe\", 545606, \"Argentina\")"
      ],
      "metadata": {
        "colab": {
          "base_uri": "https://localhost:8080/",
          "height": 35
        },
        "id": "6DXVD79qi5c6",
        "outputId": "a1c47ba8-16ff-4666-a346-4f84e8b11072"
      },
      "execution_count": null,
      "outputs": [
        {
          "output_type": "execute_result",
          "data": {
            "text/plain": [
              "'La ciudad de Santa Fe tiene una población de 545606 habitantes y está ubicada en Argentina'"
            ],
            "application/vnd.google.colaboratory.intrinsic+json": {
              "type": "string"
            }
          },
          "metadata": {},
          "execution_count": 73
        }
      ]
    },
    {
      "cell_type": "markdown",
      "source": [
        "**12. convertir_horas_en_segundos(horas)**\n",
        "\n",
        "Creá una función convertir_horas_en_segundos que tome como argumento un número de horas y devuelva la conversión a segundos de dicha cantidad de horas"
      ],
      "metadata": {
        "id": "LJt6kPLOjJL4"
      }
    },
    {
      "cell_type": "code",
      "source": [
        "def convertir_horas_en_segundos(horas): \n",
        "  return horas * 3600"
      ],
      "metadata": {
        "id": "R48DAdP7jN3R"
      },
      "execution_count": null,
      "outputs": []
    },
    {
      "cell_type": "code",
      "source": [
        "convertir_horas_en_segundos(1)"
      ],
      "metadata": {
        "colab": {
          "base_uri": "https://localhost:8080/"
        },
        "id": "4pRcEsfmjzuL",
        "outputId": "dd2d96dc-7106-41cb-b580-c9afe6af1fb3"
      },
      "execution_count": null,
      "outputs": [
        {
          "output_type": "execute_result",
          "data": {
            "text/plain": [
              "3600"
            ]
          },
          "metadata": {},
          "execution_count": 75
        }
      ]
    },
    {
      "cell_type": "markdown",
      "source": [
        "**13. calcular_perimetro_rectangulo(ancho, alto)**\n",
        "\n",
        "Creá una función calcular_area_triangulo que tome el ancho y el alto de un rectángulo y devuelva su perímetro"
      ],
      "metadata": {
        "id": "Hb6OlQxFj9em"
      }
    },
    {
      "cell_type": "code",
      "source": [
        "def calcular_perimetro_rectangulo(ancho,alto): \n",
        "  return ancho * 2 + alto * 2"
      ],
      "metadata": {
        "id": "B4r_7DuDkEA-"
      },
      "execution_count": null,
      "outputs": []
    },
    {
      "cell_type": "code",
      "source": [
        "calcular_perimetro_rectangulo(3.2, 5)"
      ],
      "metadata": {
        "colab": {
          "base_uri": "https://localhost:8080/"
        },
        "id": "ByLECkI7kJit",
        "outputId": "47858e32-06ee-4377-c982-871ea49dc0f2"
      },
      "execution_count": null,
      "outputs": [
        {
          "output_type": "execute_result",
          "data": {
            "text/plain": [
              "16.4"
            ]
          },
          "metadata": {},
          "execution_count": 77
        }
      ]
    },
    {
      "cell_type": "markdown",
      "source": [
        "**14. calcular_porcentaje(numero, porcentaje)**\n",
        "\n",
        "Definí una función calcular_porcentaje que tome un número y un porcentaje y devuelva el valor del porcentaje correspondiente al número"
      ],
      "metadata": {
        "id": "01-txGYFkRlP"
      }
    },
    {
      "cell_type": "code",
      "source": [
        "def calcular_porcentaje(numero, porcentaje): \n",
        "  return (porcentaje*100) // numero"
      ],
      "metadata": {
        "id": "yoE9JRwPkZde"
      },
      "execution_count": null,
      "outputs": []
    },
    {
      "cell_type": "code",
      "source": [
        "calcular_porcentaje(100, 15)"
      ],
      "metadata": {
        "colab": {
          "base_uri": "https://localhost:8080/"
        },
        "id": "096Gg848koMF",
        "outputId": "addf226c-6cf9-42dc-974a-dbbcf5457e3d"
      },
      "execution_count": null,
      "outputs": [
        {
          "output_type": "execute_result",
          "data": {
            "text/plain": [
              "15"
            ]
          },
          "metadata": {},
          "execution_count": 79
        }
      ]
    },
    {
      "cell_type": "markdown",
      "source": [
        "**15. sumar_porcentaje(numero, porcentaje)**\n",
        "\n",
        "Creá una función sumar_porcentaje que tome un número y un porcentaje y devuelva la suma de dicho número con la de su porcentaje. Usá la función calcular_porcentaje para obtener el porcentaje a sumar  "
      ],
      "metadata": {
        "id": "KEFal9BfkwIj"
      }
    },
    {
      "cell_type": "code",
      "source": [
        "def sumar_porcentaje(numero, porcentaje): \n",
        "  return calcular_porcentaje(numero, porcentaje) + numero "
      ],
      "metadata": {
        "id": "RJ2EuKm7kvuw"
      },
      "execution_count": null,
      "outputs": []
    },
    {
      "cell_type": "code",
      "source": [
        "sumar_porcentaje(100, 15)"
      ],
      "metadata": {
        "colab": {
          "base_uri": "https://localhost:8080/"
        },
        "id": "2PSqnhpelAI3",
        "outputId": "3d2c87d1-ec14-414e-b44a-fa2608de0e24"
      },
      "execution_count": null,
      "outputs": [
        {
          "output_type": "execute_result",
          "data": {
            "text/plain": [
              "115"
            ]
          },
          "metadata": {},
          "execution_count": 81
        }
      ]
    },
    {
      "cell_type": "markdown",
      "source": [
        "**16. restar_porcentaje(numero, porcentaje)**\n",
        "\n",
        "Definí una función restar_porcentaje que tome un número y un porcentaje y devuelva la resta de dicho número con la de su porcentaje. Usá la función calcular_porcentaje para obtener el porcentaje a restar"
      ],
      "metadata": {
        "id": "kk1E6xSulGaz"
      }
    },
    {
      "cell_type": "code",
      "source": [
        "def restar_porcentaje(numero, porcentaje): \n",
        "  return numero - calcular_porcentaje(numero, porcentaje)"
      ],
      "metadata": {
        "id": "QGxlLyNMlMpR"
      },
      "execution_count": null,
      "outputs": []
    },
    {
      "cell_type": "code",
      "source": [
        "restar_porcentaje(100, 15)"
      ],
      "metadata": {
        "colab": {
          "base_uri": "https://localhost:8080/"
        },
        "id": "JdYmPnuHlTry",
        "outputId": "3514c227-e9e9-4e4b-8b62-ed3f64986e8b"
      },
      "execution_count": null,
      "outputs": [
        {
          "output_type": "execute_result",
          "data": {
            "text/plain": [
              "85"
            ]
          },
          "metadata": {},
          "execution_count": 83
        }
      ]
    },
    {
      "cell_type": "markdown",
      "source": [
        "**17. calcular_fps(fps, minutos)**\n",
        "\n",
        "FPS son cuadros por segundo (frames per second). Creá una una función calcular_fps que tome una cantidad de cuadros por segundo y una cantidad de minutos, y devuelva cuántos cuadros hubo en esa cantidad de minutos"
      ],
      "metadata": {
        "id": "z4ZsS9ZAnj9Q"
      }
    },
    {
      "cell_type": "code",
      "source": [
        "def calcular_fps(fps,minutos): \n",
        "  return (60*minutos) *fps"
      ],
      "metadata": {
        "id": "Q2emZGFwoMbt"
      },
      "execution_count": null,
      "outputs": []
    },
    {
      "cell_type": "code",
      "source": [
        "calcular_fps(1, 1)"
      ],
      "metadata": {
        "colab": {
          "base_uri": "https://localhost:8080/"
        },
        "id": "ttPduY2Lo-BW",
        "outputId": "2a5cd4a3-49ff-4e5d-edd0-c514840bbeea"
      },
      "execution_count": null,
      "outputs": [
        {
          "output_type": "execute_result",
          "data": {
            "text/plain": [
              "60"
            ]
          },
          "metadata": {},
          "execution_count": 85
        }
      ]
    },
    {
      "cell_type": "markdown",
      "source": [
        "**18. obtener_rivales(a, b)**\n",
        "\n",
        "Definí una función obtener_rivales que tome dos strings y devuelva un string con el formato uno vs. otro"
      ],
      "metadata": {
        "id": "PSZLetRYo_XR"
      }
    },
    {
      "cell_type": "code",
      "source": [
        "def obtener_rivales(a,b): \n",
        "  return a + \" vs. \" + b"
      ],
      "metadata": {
        "id": "UwRI0vskpQtt"
      },
      "execution_count": null,
      "outputs": []
    },
    {
      "cell_type": "code",
      "source": [
        "obtener_rivales('Lorenzo', 'Nadia')"
      ],
      "metadata": {
        "colab": {
          "base_uri": "https://localhost:8080/",
          "height": 35
        },
        "id": "6CPwuIKzpT4j",
        "outputId": "281d8250-10a4-4caf-9457-0fc799adce3d"
      },
      "execution_count": null,
      "outputs": [
        {
          "output_type": "execute_result",
          "data": {
            "text/plain": [
              "'Lorenzo vs. Nadia'"
            ],
            "application/vnd.google.colaboratory.intrinsic+json": {
              "type": "string"
            }
          },
          "metadata": {},
          "execution_count": 87
        }
      ]
    },
    {
      "cell_type": "code",
      "source": [
        "obtener_rivales('Coca', 'Pepsi')"
      ],
      "metadata": {
        "colab": {
          "base_uri": "https://localhost:8080/",
          "height": 35
        },
        "id": "zjDWuhfHpiVD",
        "outputId": "8504b129-b93e-4ff1-8e5d-369605618ca0"
      },
      "execution_count": null,
      "outputs": [
        {
          "output_type": "execute_result",
          "data": {
            "text/plain": [
              "'Coca vs. Pepsi'"
            ],
            "application/vnd.google.colaboratory.intrinsic+json": {
              "type": "string"
            }
          },
          "metadata": {},
          "execution_count": 88
        }
      ]
    },
    {
      "cell_type": "markdown",
      "source": [
        "**19. generar_email(usuario, dominio)**\n",
        "\n",
        "Creá una función generar_email que tome dos string usuario y dominio y el un string email con el formato usuario@dominio.com"
      ],
      "metadata": {
        "id": "eMAomScepw9u"
      }
    },
    {
      "cell_type": "code",
      "source": [
        "def generar_email(usuario,dominio): \n",
        "  return usuario + \"@\" + dominio + \".com\""
      ],
      "metadata": {
        "id": "2k2WKfaNp4jC"
      },
      "execution_count": null,
      "outputs": []
    },
    {
      "cell_type": "code",
      "source": [
        "generar_email(\"adalovelace\", \"gmail\")"
      ],
      "metadata": {
        "colab": {
          "base_uri": "https://localhost:8080/",
          "height": 35
        },
        "id": "QG7Zdajmp8xj",
        "outputId": "75b3a550-294c-4480-8b23-4c9f19ef269a"
      },
      "execution_count": null,
      "outputs": [
        {
          "output_type": "execute_result",
          "data": {
            "text/plain": [
              "'adalovelace@gmail.com'"
            ],
            "application/vnd.google.colaboratory.intrinsic+json": {
              "type": "string"
            }
          },
          "metadata": {},
          "execution_count": 90
        }
      ]
    },
    {
      "cell_type": "markdown",
      "source": [
        "**20. hace_calor(temperatura)**\n",
        "\n",
        "Creá una función hace_calor que tome como argumento un número temperatura y si hace calor (22 grados o más)"
      ],
      "metadata": {
        "id": "CtG3XW41qVD4"
      }
    },
    {
      "cell_type": "code",
      "source": [
        "def hace_calor(temperatura): \n",
        "  if temperatura >= 22: \n",
        "    return True \n",
        "  else: \n",
        "    return False "
      ],
      "metadata": {
        "id": "Xra7ukBEqSeQ"
      },
      "execution_count": null,
      "outputs": []
    },
    {
      "cell_type": "code",
      "source": [
        "hace_calor(12)"
      ],
      "metadata": {
        "colab": {
          "base_uri": "https://localhost:8080/"
        },
        "id": "_K9G7H4PqY_o",
        "outputId": "7e5f10c3-4473-420a-fed1-a00228cf371d"
      },
      "execution_count": null,
      "outputs": [
        {
          "output_type": "execute_result",
          "data": {
            "text/plain": [
              "False"
            ]
          },
          "metadata": {},
          "execution_count": 92
        }
      ]
    },
    {
      "cell_type": "code",
      "source": [
        "hace_calor(22)"
      ],
      "metadata": {
        "colab": {
          "base_uri": "https://localhost:8080/"
        },
        "id": "qdF5JcU0qVsZ",
        "outputId": "fc2131c7-bb98-485b-ae37-67f376c62361"
      },
      "execution_count": null,
      "outputs": [
        {
          "output_type": "execute_result",
          "data": {
            "text/plain": [
              "True"
            ]
          },
          "metadata": {},
          "execution_count": 93
        }
      ]
    },
    {
      "cell_type": "markdown",
      "source": [
        "**21. hace_frio(temperatura)**\n",
        "\n",
        "Creá una función hace_calor que tome como argumento un número temperatura y si hace frio (12 grados o menos)"
      ],
      "metadata": {
        "id": "0Qh67W6EqiCv"
      }
    },
    {
      "cell_type": "code",
      "source": [
        "def hace_frio(temperatura): \n",
        "  if temperatura <= 12: \n",
        "    return True\n",
        "  else: \n",
        "    return False "
      ],
      "metadata": {
        "id": "1TAnn_Qxqiko"
      },
      "execution_count": null,
      "outputs": []
    },
    {
      "cell_type": "code",
      "source": [
        "hace_frio(0)"
      ],
      "metadata": {
        "colab": {
          "base_uri": "https://localhost:8080/"
        },
        "id": "iJZ25tkAqoiD",
        "outputId": "27c6e655-31e2-488f-bc3f-a6c02627dc00"
      },
      "execution_count": null,
      "outputs": [
        {
          "output_type": "execute_result",
          "data": {
            "text/plain": [
              "True"
            ]
          },
          "metadata": {},
          "execution_count": 95
        }
      ]
    },
    {
      "cell_type": "markdown",
      "source": [
        "**22. calcular_puntaje(facil, normal, dificil)**\n",
        "\n",
        "Creá una función calcular_puntaje que calcule el puntaje de un examen que consiste en ejercicios de distinto nivel. Debe tomar como argumento tres que consisten en la cantidad de ejercicios resueltos en cada nivel y devolver un número con el puntaje correspondiente.\n",
        "\n",
        "El puntaje se calcula de la siguiente forma:\n",
        "\n",
        "facil: 3 puntos\n",
        "\n",
        "normal: 5 puntos\n",
        "\n",
        "dificil: 10 puntos"
      ],
      "metadata": {
        "id": "OeVDdwIXq3aA"
      }
    },
    {
      "cell_type": "code",
      "source": [
        "def calcular_puntaje(facil,normal,dificil): \n",
        "  return facil*3 + normal*5 + dificil*10"
      ],
      "metadata": {
        "id": "Pbc3XuXaq4DG"
      },
      "execution_count": null,
      "outputs": []
    },
    {
      "cell_type": "code",
      "source": [
        "calcular_puntaje(3, 0, 0)"
      ],
      "metadata": {
        "colab": {
          "base_uri": "https://localhost:8080/"
        },
        "id": "hMFzYSl0rFPG",
        "outputId": "b456bd2f-bd7e-481b-f781-f26d6f6c8f85"
      },
      "execution_count": null,
      "outputs": [
        {
          "output_type": "execute_result",
          "data": {
            "text/plain": [
              "9"
            ]
          },
          "metadata": {},
          "execution_count": 97
        }
      ]
    },
    {
      "cell_type": "markdown",
      "source": [
        "**23. acepta_deposito(monto)**\n",
        "\n",
        "Creá una función acepta_deposito que tome como argumento un número monto y si el monto es divisible por 10 "
      ],
      "metadata": {
        "id": "GnpeH2xUrGLS"
      }
    },
    {
      "cell_type": "code",
      "source": [
        "def acepta_deposito(monto): \n",
        "  return monto % 10 == 0"
      ],
      "metadata": {
        "id": "GKrSGDJfpgB7"
      },
      "execution_count": null,
      "outputs": []
    },
    {
      "cell_type": "code",
      "source": [
        "acepta_deposito(400)"
      ],
      "metadata": {
        "colab": {
          "base_uri": "https://localhost:8080/"
        },
        "id": "dRJFrJ8ZpmWH",
        "outputId": "b3bbc42f-c9a2-4549-9648-6cdb482d0dbb"
      },
      "execution_count": null,
      "outputs": [
        {
          "output_type": "execute_result",
          "data": {
            "text/plain": [
              "True"
            ]
          },
          "metadata": {},
          "execution_count": 99
        }
      ]
    },
    {
      "cell_type": "code",
      "source": [
        "acepta_deposito(777)"
      ],
      "metadata": {
        "colab": {
          "base_uri": "https://localhost:8080/"
        },
        "id": "cUBS6krPp5D7",
        "outputId": "30dbcdd3-ac50-4a6f-bf1b-c814caf65aeb"
      },
      "execution_count": null,
      "outputs": [
        {
          "output_type": "execute_result",
          "data": {
            "text/plain": [
              "False"
            ]
          },
          "metadata": {},
          "execution_count": 100
        }
      ]
    },
    {
      "cell_type": "markdown",
      "source": [
        "### Ejercicios booleanos "
      ],
      "metadata": {
        "id": "7Nb2md4AmTZL"
      }
    },
    {
      "cell_type": "code",
      "source": [
        "# Hecho"
      ],
      "metadata": {
        "id": "arQkwx8RRYkh"
      },
      "execution_count": null,
      "outputs": []
    },
    {
      "cell_type": "markdown",
      "source": [
        "**1. puede_ver_pelicula(edad, tiene_autorizacion)**\n",
        "\n",
        "Crear una función puede_ver_pelicula que tome como argumentos un número edad y un booleano tiene_autorizacion, y devuelva si la persona está habilitada para ver la película. Sólo puede ver la película si: tiene 15 años o más, o tiene autorización de sus padres.\n",
        "\n",
        "\n",
        "```\n",
        "puede_ver_pelicula(12, False) # False\n",
        "puede_ver_pelicula(12, True)  # True\n",
        "puede_ver_pelicula(16, False) # True\n",
        "puede_ver_pelicula(18, True)  # True\n",
        "```\n",
        "\n"
      ],
      "metadata": {
        "id": "Z4XE67S4OgnF"
      }
    },
    {
      "cell_type": "code",
      "source": [
        "def puede_ver_pelicula(edad, tiene_autorizacion): \n",
        "  return edad >= 15 or tiene_autorizacion"
      ],
      "metadata": {
        "id": "zXH3bSaoOrmu"
      },
      "execution_count": null,
      "outputs": []
    },
    {
      "cell_type": "code",
      "source": [
        "puede_ver_pelicula(12, False) "
      ],
      "metadata": {
        "colab": {
          "base_uri": "https://localhost:8080/"
        },
        "id": "ViPlfbS6PI-_",
        "outputId": "3985fe26-0707-4554-ca7d-76b35326a77a"
      },
      "execution_count": null,
      "outputs": [
        {
          "output_type": "execute_result",
          "data": {
            "text/plain": [
              "False"
            ]
          },
          "metadata": {},
          "execution_count": 102
        }
      ]
    },
    {
      "cell_type": "code",
      "source": [
        "puede_ver_pelicula(18, True)  "
      ],
      "metadata": {
        "colab": {
          "base_uri": "https://localhost:8080/"
        },
        "id": "pvdEY3ZDPCCo",
        "outputId": "e2fe40b2-aabe-4a36-a08f-a35295d15b5d"
      },
      "execution_count": null,
      "outputs": [
        {
          "output_type": "execute_result",
          "data": {
            "text/plain": [
              "True"
            ]
          },
          "metadata": {},
          "execution_count": 103
        }
      ]
    },
    {
      "cell_type": "code",
      "source": [
        "puede_ver_pelicula(12, True)  "
      ],
      "metadata": {
        "colab": {
          "base_uri": "https://localhost:8080/"
        },
        "id": "7qxfGVeIPFMF",
        "outputId": "f8f22c69-4dee-43a1-8ad7-ba9a18fc6e7c"
      },
      "execution_count": null,
      "outputs": [
        {
          "output_type": "execute_result",
          "data": {
            "text/plain": [
              "True"
            ]
          },
          "metadata": {},
          "execution_count": 104
        }
      ]
    },
    {
      "cell_type": "markdown",
      "source": [
        "**2. esta_en_rango(valor, minimo, maximo)**\n",
        "\n",
        "Crear una función esta_en_rango que tome como argumentos tres números, un valor, un número minimo y un número maximo, y devuelva si el valor se encuentra entre los números minimo y maximo (si el valor es igual a uno de los extremos se considera que está dentro del rango)\n",
        "\n",
        "\n",
        "```\n",
        "esta_en_rango(3, 1, 10)   # True\n",
        "esta_en_rango(1, 1, 10)   # True\n",
        "esta_en_rango(10, 1, 10)  # True\n",
        "esta_en_rango(12, 1, 10)  # False\n",
        "esta_en_rango(-3, 1, 10)  # False\n",
        "```\n",
        "\n"
      ],
      "metadata": {
        "id": "PqfeAQx6PKhz"
      }
    },
    {
      "cell_type": "code",
      "source": [
        "def esta_en_rango(valor, minimo, maximo): \n",
        "  return valor in range(minimo, maximo)"
      ],
      "metadata": {
        "id": "_osLBd_RPcUT"
      },
      "execution_count": null,
      "outputs": []
    },
    {
      "cell_type": "code",
      "source": [
        "esta_en_rango(3, 1, 10)  "
      ],
      "metadata": {
        "colab": {
          "base_uri": "https://localhost:8080/"
        },
        "id": "nhNZMuzgPv8x",
        "outputId": "0484f61b-5cbc-43e9-b073-1893025e3027"
      },
      "execution_count": null,
      "outputs": [
        {
          "output_type": "execute_result",
          "data": {
            "text/plain": [
              "True"
            ]
          },
          "metadata": {},
          "execution_count": 106
        }
      ]
    },
    {
      "cell_type": "code",
      "source": [
        "esta_en_rango(12, 1, 10)  # False"
      ],
      "metadata": {
        "colab": {
          "base_uri": "https://localhost:8080/"
        },
        "id": "lmuayZ-rPzLz",
        "outputId": "f974cede-1d1d-41b4-ea9c-3614b754a16a"
      },
      "execution_count": null,
      "outputs": [
        {
          "output_type": "execute_result",
          "data": {
            "text/plain": [
              "False"
            ]
          },
          "metadata": {},
          "execution_count": 107
        }
      ]
    },
    {
      "cell_type": "markdown",
      "source": [
        "**3. puede_avanzar(colo_semaforo)**\n",
        "\n",
        "Crear una función puede_avanzar que tome como argumento un string con el color del semáforo y devuelva si puede avanzar.\n",
        "\n",
        "\n",
        "```\n",
        "puede_avanzar('verde')     # True\n",
        "puede_avanzar('amarillo')  # False\n",
        "puede_avanzar('rojo')      # False\n",
        "```\n",
        "\n"
      ],
      "metadata": {
        "id": "DEAUKyL2P1IK"
      }
    },
    {
      "cell_type": "code",
      "source": [
        "def puede_avanzar(colo_semaforo): \n",
        "  return colo_semaforo == 'verde'"
      ],
      "metadata": {
        "id": "a9cOPF0uP_k9"
      },
      "execution_count": null,
      "outputs": []
    },
    {
      "cell_type": "code",
      "source": [
        "puede_avanzar('verde')     "
      ],
      "metadata": {
        "colab": {
          "base_uri": "https://localhost:8080/"
        },
        "id": "oRnDQJ2UQKXd",
        "outputId": "83edc82b-c5a3-4a82-b4d9-e97c240999a6"
      },
      "execution_count": null,
      "outputs": [
        {
          "output_type": "execute_result",
          "data": {
            "text/plain": [
              "True"
            ]
          },
          "metadata": {},
          "execution_count": 109
        }
      ]
    },
    {
      "cell_type": "code",
      "source": [
        "puede_avanzar('amarillo') "
      ],
      "metadata": {
        "colab": {
          "base_uri": "https://localhost:8080/"
        },
        "id": "8qz2v2yxQN0X",
        "outputId": "a485f954-7f32-43c6-9b6d-bb8d13e093c4"
      },
      "execution_count": null,
      "outputs": [
        {
          "output_type": "execute_result",
          "data": {
            "text/plain": [
              "False"
            ]
          },
          "metadata": {},
          "execution_count": 110
        }
      ]
    },
    {
      "cell_type": "markdown",
      "source": [
        "**4. es_vocal(letra)**\n",
        "\n",
        "Crear una función es_vocal que tome como argumento un string letra y devuelva si letra es una vocal.\n",
        "\n",
        "\n",
        "```\n",
        "es_vocal('a') # True\n",
        "es_vocal('n') # False\n",
        "```\n",
        "\n"
      ],
      "metadata": {
        "id": "QmCSPvDXQPRb"
      }
    },
    {
      "cell_type": "code",
      "source": [
        "vocales = ['a', 'e', 'i', 'o', 'u']\n",
        "def es_vocal(letra): \n",
        "  return letra in vocales "
      ],
      "metadata": {
        "id": "4mGYULnBQiOD"
      },
      "execution_count": null,
      "outputs": []
    },
    {
      "cell_type": "code",
      "source": [
        "es_vocal('a') "
      ],
      "metadata": {
        "colab": {
          "base_uri": "https://localhost:8080/"
        },
        "id": "i-fwo2wNQ0xo",
        "outputId": "29c32239-ffe6-4c08-94ec-9a2e0bc695a4"
      },
      "execution_count": null,
      "outputs": [
        {
          "output_type": "execute_result",
          "data": {
            "text/plain": [
              "True"
            ]
          },
          "metadata": {},
          "execution_count": 112
        }
      ]
    },
    {
      "cell_type": "code",
      "source": [
        "es_vocal('n') "
      ],
      "metadata": {
        "colab": {
          "base_uri": "https://localhost:8080/"
        },
        "id": "KE5l0MQsQ2gq",
        "outputId": "a79cfb12-acf0-47dd-9df6-e31c4e43d786"
      },
      "execution_count": null,
      "outputs": [
        {
          "output_type": "execute_result",
          "data": {
            "text/plain": [
              "False"
            ]
          },
          "metadata": {},
          "execution_count": 113
        }
      ]
    },
    {
      "cell_type": "markdown",
      "source": [
        "**5. es_consonante(letra)**\n",
        "\n",
        "Crear una función es_consonante que tome como argumento un string letra y devuelva si es una consonante\n",
        "\n",
        "```\n",
        "es_consonante('a') # False\n",
        "es_consonante('n') # True\n",
        "```\n",
        "\n"
      ],
      "metadata": {
        "id": "VdLmRMS7Q4xi"
      }
    },
    {
      "cell_type": "code",
      "source": [
        "def es_consonante(letra): \n",
        "  return not es_vocal(letra)"
      ],
      "metadata": {
        "id": "PmJcEHWAQ-US"
      },
      "execution_count": null,
      "outputs": []
    },
    {
      "cell_type": "code",
      "source": [
        "es_consonante('a') "
      ],
      "metadata": {
        "colab": {
          "base_uri": "https://localhost:8080/"
        },
        "id": "m4VfTR_0RDdf",
        "outputId": "7ad49271-8317-4714-b160-ac3bdede023f"
      },
      "execution_count": null,
      "outputs": [
        {
          "output_type": "execute_result",
          "data": {
            "text/plain": [
              "False"
            ]
          },
          "metadata": {},
          "execution_count": 115
        }
      ]
    },
    {
      "cell_type": "code",
      "source": [
        "es_consonante('n') "
      ],
      "metadata": {
        "colab": {
          "base_uri": "https://localhost:8080/"
        },
        "id": "kqmJSptzRFXb",
        "outputId": "296e315e-5ee7-44ba-f2b0-5288101ec2c4"
      },
      "execution_count": null,
      "outputs": [
        {
          "output_type": "execute_result",
          "data": {
            "text/plain": [
              "True"
            ]
          },
          "metadata": {},
          "execution_count": 116
        }
      ]
    },
    {
      "cell_type": "markdown",
      "source": [
        "**6. es_hora_valida(hora)**\n",
        "\n",
        "Nota: este ejercicio es difícil porque requiere usar la función str.split, que la veremos más adelante…\n",
        "\n",
        "\n",
        "```\n",
        ">> hora, minuto = str.split(\"12:30\", \":\")\n",
        ">> hora\n",
        "'12'\n",
        ">> minuto\n",
        "'30'\n",
        "… y también la función int, que toma un string y lo conveirte a número, si es posible:\n",
        "\n",
        ">> int(\"23\")\n",
        "23\n",
        ">> int(\"hola\")\n",
        "Traceback (most recent call last):\n",
        "  File \"<stdin>\", line 1, in <module>\n",
        "ValueError: invalid literal for int() with base 10: 'hola'\n",
        "```\n",
        "Crear una función es_hora_valida que tome como argumento un string hora con el formato HH:mm y determine si es una hora válida del día o no\n",
        "\n",
        "\n",
        "```\n",
        "es_hora_valida('12:23') # True\n",
        "es_hora_valida('12:65') # False\n",
        "es_hora_valida('28:05') # False\n",
        "es_hora_valida('00:00') # True\n",
        "```\n"
      ],
      "metadata": {
        "id": "wdQbMYJkRHOI"
      }
    },
    {
      "cell_type": "markdown",
      "source": [
        "**7. puede_renovar_carnet(paso_test, tiene_multas_impagas, pago_impuestos)**\n",
        "\n",
        "Crear una función puede_renovar_carnet que tome como argumentos tres booleanos, paso_test, tiene_multas_impagas y pago_impuestos, y devuelva si una persona está habilitada para renovar su carnet de conducir. Una persona puede renovar su carnet si pasó los tests, no tiene multas impagas y pagó todos los impuestos\n",
        "\n",
        "\n",
        "```\n",
        "puede_renovar_carnet(True, True, True)    # False\n",
        "puede_renovar_carnet(True, True, False)   # False\n",
        "puede_renovar_carnet(True, False, True)   # True\n",
        "puede_renovar_carnet(True, False, False)  # False\n",
        "puede_renovar_carnet(False, True, True)   # False\n",
        "puede_renovar_carnet(False, True, False)  # False\n",
        "puede_renovar_carnet(False, False, True)  # False\n",
        "puede_renovar_carnet(False, False, False) # False\n",
        "```\n",
        "\n",
        "\n"
      ],
      "metadata": {
        "id": "Ik84G5KLR-6L"
      }
    },
    {
      "cell_type": "code",
      "source": [
        "def puede_renovar_carnet(paso_test, tiene_multas_impagas, pago_impuestos): \n",
        "  return paso_test and not tiene_multas_impagas and pago_impuestos"
      ],
      "metadata": {
        "id": "cVQKS5DlSIQ1"
      },
      "execution_count": null,
      "outputs": []
    },
    {
      "cell_type": "code",
      "source": [
        "puede_renovar_carnet(True, True, True)   "
      ],
      "metadata": {
        "colab": {
          "base_uri": "https://localhost:8080/"
        },
        "id": "1PH_OmWVSjpo",
        "outputId": "99de9534-6c19-43f0-ea03-ef842a6ac52c"
      },
      "execution_count": null,
      "outputs": [
        {
          "output_type": "execute_result",
          "data": {
            "text/plain": [
              "False"
            ]
          },
          "metadata": {},
          "execution_count": 118
        }
      ]
    },
    {
      "cell_type": "code",
      "source": [
        "puede_renovar_carnet(True, False, True)   "
      ],
      "metadata": {
        "colab": {
          "base_uri": "https://localhost:8080/"
        },
        "id": "c89m4tOYS5k8",
        "outputId": "aa4aa64f-2a5e-4bb9-991f-25cab3d6a982"
      },
      "execution_count": null,
      "outputs": [
        {
          "output_type": "execute_result",
          "data": {
            "text/plain": [
              "True"
            ]
          },
          "metadata": {},
          "execution_count": 119
        }
      ]
    },
    {
      "cell_type": "markdown",
      "source": [
        "**8. puede_graduarse(asistencia, materias_aprobadas, tesisAprobada)**\n",
        "\n",
        "Crear una función puede_graduarse que tome como argumentos dos números asistencia y materias_aprobadas y un booleano tesisAprobada, y devuelva si una persona puede gruadarse. Una persona puede graduarse si tiene un 75% de asistencia o más, 50 materias aprobadas o más y la tesis aprobada.\n",
        "\n",
        "```\n",
        "puede_graduarse(80, 50, True)  # True\n",
        "puede_graduarse(80, 50, False) # False\n",
        "puede_graduarse(80, 45, True)  # False\n",
        "puede_graduarse(80, 45, False) # False\n",
        "puede_graduarse(65, 50, True)  # False\n",
        "puede_graduarse(33, 55, False) # False\n",
        "puede_graduarse(42, 45, True)  # False\n",
        "puede_graduarse(28, 45, False) # False\n",
        "```\n",
        "\n",
        "\n"
      ],
      "metadata": {
        "id": "VQZJQSYMS8d9"
      }
    },
    {
      "cell_type": "code",
      "source": [
        "def puede_graduarse(asistencia, materias_aprobadas, tesisAprobada): \n",
        "  return asistencia >= 75 and materias_aprobadas >= 50 and tesisAprobada "
      ],
      "metadata": {
        "id": "IT39MlHTTEBC"
      },
      "execution_count": null,
      "outputs": []
    },
    {
      "cell_type": "code",
      "source": [
        "puede_graduarse(80, 50, True)"
      ],
      "metadata": {
        "colab": {
          "base_uri": "https://localhost:8080/"
        },
        "id": "OfLAcmkhTZ8Z",
        "outputId": "d4e2a28d-2157-4b62-f132-9496e2394f73"
      },
      "execution_count": null,
      "outputs": [
        {
          "output_type": "execute_result",
          "data": {
            "text/plain": [
              "True"
            ]
          },
          "metadata": {},
          "execution_count": 121
        }
      ]
    },
    {
      "cell_type": "code",
      "source": [
        "puede_graduarse(80, 50, False)"
      ],
      "metadata": {
        "colab": {
          "base_uri": "https://localhost:8080/"
        },
        "id": "or-34AwOTi8V",
        "outputId": "05e466ac-2ef5-4cb2-b8ec-1c1cd399fc10"
      },
      "execution_count": null,
      "outputs": [
        {
          "output_type": "execute_result",
          "data": {
            "text/plain": [
              "False"
            ]
          },
          "metadata": {},
          "execution_count": 122
        }
      ]
    },
    {
      "cell_type": "markdown",
      "source": [
        "**9. comienza_con_a(string)**\n",
        "\n",
        "Definí una función comienza_con_a que, al aplicarla con un string, me diga si el mismo comienza con la letra ‘a’, sin importar si la palabra está escrita en minusculas o mayúsculas. Por ejemplo:\n",
        "\n",
        "\n",
        "```\n",
        "\n",
        ">> comienza_con_a(\"aguja\")\n",
        "True\n",
        "\n",
        ">> comienza_con_a(\"AGUA\")\n",
        "True\n",
        "\n",
        ">> comienza_con_a(\"bote\")\n",
        "False\n",
        "```\n",
        "\n"
      ],
      "metadata": {
        "id": "_4NSPqxyTpSC"
      }
    },
    {
      "cell_type": "code",
      "source": [
        "def comienza_con_a(string): \n",
        "  return str.startswith(string, 'a') or str.startswith(string, 'A')"
      ],
      "metadata": {
        "id": "pktojzolTxOT"
      },
      "execution_count": null,
      "outputs": []
    },
    {
      "cell_type": "code",
      "source": [
        "comienza_con_a(\"aguja\")"
      ],
      "metadata": {
        "colab": {
          "base_uri": "https://localhost:8080/"
        },
        "id": "2JI5QjryUaWE",
        "outputId": "d2a97e4a-17d1-4b4d-e9f8-ea001fb9d319"
      },
      "execution_count": null,
      "outputs": [
        {
          "output_type": "execute_result",
          "data": {
            "text/plain": [
              "True"
            ]
          },
          "metadata": {},
          "execution_count": 124
        }
      ]
    },
    {
      "cell_type": "code",
      "source": [
        "comienza_con_a(\"AGUA\")"
      ],
      "metadata": {
        "colab": {
          "base_uri": "https://localhost:8080/"
        },
        "id": "JnD4FeqwUhDO",
        "outputId": "6194d507-2f48-4d21-ba15-179a02639bbc"
      },
      "execution_count": null,
      "outputs": [
        {
          "output_type": "execute_result",
          "data": {
            "text/plain": [
              "True"
            ]
          },
          "metadata": {},
          "execution_count": 125
        }
      ]
    },
    {
      "cell_type": "code",
      "source": [
        "comienza_con_a(\"bote\")"
      ],
      "metadata": {
        "colab": {
          "base_uri": "https://localhost:8080/"
        },
        "id": "Bwuhx88dU0Z2",
        "outputId": "7240ffa5-a7bf-4f12-e6e1-e5e85d1d0ae7"
      },
      "execution_count": null,
      "outputs": [
        {
          "output_type": "execute_result",
          "data": {
            "text/plain": [
              "False"
            ]
          },
          "metadata": {},
          "execution_count": 126
        }
      ]
    },
    {
      "cell_type": "markdown",
      "source": [
        "**10. es_multiplo_de_3**\n",
        "\n",
        "Definí la función es_multiplo_de_3 que dice si un número se puede dividir por 3. Por ejemplo:\n",
        "\n",
        "\n",
        "```\n",
        ">> es_multiplo_de_3(9)\n",
        "True\n",
        ">> es_multiplo_de_3(4)\n",
        "False\n",
        "```\n",
        "Consejo: no resuelvas la función directamente. En su lugar dividí en subtareas y creá y usá una función es_multiplo_de 😎."
      ],
      "metadata": {
        "id": "Tnw6IH8ZU3pm"
      }
    },
    {
      "cell_type": "code",
      "source": [
        "def es_multiplo_de_3(numero): \n",
        "  return numero % 3 == 0"
      ],
      "metadata": {
        "id": "VBUk0QPeyS9k"
      },
      "execution_count": null,
      "outputs": []
    },
    {
      "cell_type": "code",
      "source": [
        "es_multiplo_de_3(9)"
      ],
      "metadata": {
        "colab": {
          "base_uri": "https://localhost:8080/"
        },
        "id": "TNYcKhIKycuV",
        "outputId": "9d6dc348-267a-4ad0-8d93-3cfcc2436a3b"
      },
      "execution_count": null,
      "outputs": [
        {
          "output_type": "execute_result",
          "data": {
            "text/plain": [
              "True"
            ]
          },
          "metadata": {},
          "execution_count": 128
        }
      ]
    },
    {
      "cell_type": "code",
      "source": [
        "es_multiplo_de_3(10)"
      ],
      "metadata": {
        "colab": {
          "base_uri": "https://localhost:8080/"
        },
        "id": "PDJZm6uzyezB",
        "outputId": "62a96c6e-c7df-46f4-e220-d0001aac9591"
      },
      "execution_count": null,
      "outputs": [
        {
          "output_type": "execute_result",
          "data": {
            "text/plain": [
              "False"
            ]
          },
          "metadata": {},
          "execution_count": 129
        }
      ]
    },
    {
      "cell_type": "code",
      "source": [
        "def es_multiplo_de(numero, posibleMultiplo): \n",
        "  return posibleMultiplo % numero == 0 "
      ],
      "metadata": {
        "id": "nDiriZxWx_n-"
      },
      "execution_count": null,
      "outputs": []
    },
    {
      "cell_type": "code",
      "source": [
        "es_multiplo_de(3, 6)"
      ],
      "metadata": {
        "colab": {
          "base_uri": "https://localhost:8080/"
        },
        "id": "4zZ1LUdQyICl",
        "outputId": "d6e4e76f-719d-4fec-a163-8f25be29d9b7"
      },
      "execution_count": null,
      "outputs": [
        {
          "output_type": "execute_result",
          "data": {
            "text/plain": [
              "True"
            ]
          },
          "metadata": {},
          "execution_count": 131
        }
      ]
    },
    {
      "cell_type": "markdown",
      "source": [
        "**11. es_bisiesto**\n",
        "\n",
        "Definí la función es_bisiesto que indica si un año tiene 366 días.\n",
        "\n",
        "\n",
        "```\n",
        ">> es_bisiesto(2000)\n",
        "True\n",
        "```\n",
        "Tené en cuenta que un año es bisiesto si:\n",
        "\n",
        "es múltiplo de 400, o bien\n",
        "es múltiplo de 4 pero no de 100\n",
        "Ah: fijate si alguna de las funciones que definiste en los puntos anteriores te puede ser útil 😇."
      ],
      "metadata": {
        "id": "XsksRXBHU-4_"
      }
    },
    {
      "cell_type": "code",
      "source": [
        "def es_bisiesto(anio): \n",
        "  return es_multiplo_de(400, anio) or es_multiplo_de(4, anio) and not es_multiplo_de(100, anio)"
      ],
      "metadata": {
        "id": "xqLiBewByjru"
      },
      "execution_count": null,
      "outputs": []
    },
    {
      "cell_type": "code",
      "source": [
        "es_bisiesto(2000)"
      ],
      "metadata": {
        "colab": {
          "base_uri": "https://localhost:8080/"
        },
        "id": "X9J-we1tzETn",
        "outputId": "4580ab3b-462b-4aad-90bb-6541ecdf08ec"
      },
      "execution_count": null,
      "outputs": [
        {
          "output_type": "execute_result",
          "data": {
            "text/plain": [
              "True"
            ]
          },
          "metadata": {},
          "execution_count": 133
        }
      ]
    },
    {
      "cell_type": "code",
      "source": [
        "es_bisiesto(2022)"
      ],
      "metadata": {
        "colab": {
          "base_uri": "https://localhost:8080/"
        },
        "id": "d1_8-rfXzFeC",
        "outputId": "08f3b651-531c-45e3-c8a4-71bcc2a5274f"
      },
      "execution_count": null,
      "outputs": [
        {
          "output_type": "execute_result",
          "data": {
            "text/plain": [
              "False"
            ]
          },
          "metadata": {},
          "execution_count": 134
        }
      ]
    },
    {
      "cell_type": "markdown",
      "source": [
        "### Ejercicios condicionales "
      ],
      "metadata": {
        "id": "R_9WsBxQ9Aho"
      }
    },
    {
      "cell_type": "code",
      "source": [
        "# Hecho"
      ],
      "metadata": {
        "id": "RyyFq67-RWwC"
      },
      "execution_count": null,
      "outputs": []
    },
    {
      "cell_type": "markdown",
      "source": [
        "**1. inversa(numero)**\n",
        "\n",
        "Definí una función inversa, que al aplicarla con un número cualquiera me devuelve el resultado de dividir a 1 por ese número.\n",
        "\n",
        "```\n",
        ">> inversa(4)\n",
        "0.25\n",
        "\n",
        ">> inversa(0.5)\n",
        "2.0\n",
        "\n",
        "```\n",
        "\n",
        "\n",
        "⚠️ ¡Cuidado! Recordá que no se puede dividir por 0, así que la inversa de 0 no se puede calcular. En este ejercicio vamos a tomar la decisión (no muy correcta matemáticamente 😛) de devolver 0 en ese caso."
      ],
      "metadata": {
        "id": "b7iK0zQW9NXR"
      }
    },
    {
      "cell_type": "code",
      "source": [
        "def inversa(numero): \n",
        "  if numero != 0: \n",
        "    return 1 / numero\n",
        "  else: \n",
        "    return 0"
      ],
      "metadata": {
        "id": "ZzuV3ljM9kL9"
      },
      "execution_count": null,
      "outputs": []
    },
    {
      "cell_type": "code",
      "source": [
        "inversa(0)"
      ],
      "metadata": {
        "colab": {
          "base_uri": "https://localhost:8080/"
        },
        "id": "yV5J3HSV-C3y",
        "outputId": "8b8c084e-1219-4be3-9af3-1790136924b5"
      },
      "execution_count": null,
      "outputs": [
        {
          "output_type": "execute_result",
          "data": {
            "text/plain": [
              "0"
            ]
          },
          "metadata": {},
          "execution_count": 136
        }
      ]
    },
    {
      "cell_type": "code",
      "source": [
        "inversa(0.5)"
      ],
      "metadata": {
        "colab": {
          "base_uri": "https://localhost:8080/"
        },
        "id": "dS9TgsXn-K89",
        "outputId": "1e042787-bf01-4c96-b239-1e69ecac5f47"
      },
      "execution_count": null,
      "outputs": [
        {
          "output_type": "execute_result",
          "data": {
            "text/plain": [
              "2.0"
            ]
          },
          "metadata": {},
          "execution_count": 137
        }
      ]
    },
    {
      "cell_type": "markdown",
      "source": [
        "**2. par_o_impar(numero)**\n",
        "\n",
        "Crear una función par_o_impar que acepte como argumento un numero y devuelva el string par si el numero es par, o el string impar si el numero es impar\n",
        "\n",
        "\n",
        "```\n",
        "par_o_impar(3)  # 'impar'\n",
        "par_o_impar(10) # 'par'\n",
        "```\n"
      ],
      "metadata": {
        "id": "FeGdb1E8HPqE"
      }
    },
    {
      "cell_type": "code",
      "source": [
        "def par_o_impar(numero): \n",
        "  if numero%2 == 0: \n",
        "    return 'par'\n",
        "  else: \n",
        "    return 'impar'"
      ],
      "metadata": {
        "id": "v-taTUEEHi1y"
      },
      "execution_count": null,
      "outputs": []
    },
    {
      "cell_type": "code",
      "source": [
        "par_o_impar(3)"
      ],
      "metadata": {
        "colab": {
          "base_uri": "https://localhost:8080/",
          "height": 35
        },
        "id": "s6weDYLkRQ9-",
        "outputId": "44b8fbf8-c6f8-41eb-c676-7885e4171bc3"
      },
      "execution_count": null,
      "outputs": [
        {
          "output_type": "execute_result",
          "data": {
            "text/plain": [
              "'impar'"
            ],
            "application/vnd.google.colaboratory.intrinsic+json": {
              "type": "string"
            }
          },
          "metadata": {},
          "execution_count": 139
        }
      ]
    },
    {
      "cell_type": "code",
      "source": [
        "par_o_impar(10)"
      ],
      "metadata": {
        "colab": {
          "base_uri": "https://localhost:8080/",
          "height": 35
        },
        "id": "3w6RGAgrRVbb",
        "outputId": "597c702d-24f4-4caa-e488-661a0db325fb"
      },
      "execution_count": null,
      "outputs": [
        {
          "output_type": "execute_result",
          "data": {
            "text/plain": [
              "'par'"
            ],
            "application/vnd.google.colaboratory.intrinsic+json": {
              "type": "string"
            }
          },
          "metadata": {},
          "execution_count": 140
        }
      ]
    },
    {
      "cell_type": "markdown",
      "source": [
        "**3. positivo_o_negativo(numero)**\n",
        "\n",
        "Crear una función positivo_o_negativo que acepte como argumento un numero y devuelva el string positivo si el numero es positivo, o el string negativo si el numero es negativo\n",
        "\n",
        "\n",
        "```\n",
        "positivo_o_negativo(3)  # 'positivo'\n",
        "positivo_o_negativo(-5) # 'negativo'\n",
        "```\n",
        "🤔 Para pensar: ¿ves algo parecido entre esta función y la anterior? ¿Se te ocurre alguna forma de extraer a una nueva función las partes comunes de positivo_o_negativo y par_o_impar y luego modificarlas para no repetir código? ¡Intentalo!"
      ],
      "metadata": {
        "id": "WaBTsBKQRZZd"
      }
    },
    {
      "cell_type": "code",
      "source": [
        "def positivo_o_negativo(numero): \n",
        "  if numero > 0: \n",
        "    return 'positivo'\n",
        "  else: \n",
        "    return 'negativo'"
      ],
      "metadata": {
        "id": "d0QnRKe_RgIo"
      },
      "execution_count": null,
      "outputs": []
    },
    {
      "cell_type": "markdown",
      "source": [
        "**4. avanzar_semaforo(color_actual)**\n",
        "\n",
        "Crear una función avanzar_semaforo que acepte como argumento un string color_actual y devuelva un string con el siguiente color del semáforo, siguiendo el orden: verde -> amarillo -> rojo -> verde\n",
        "\n",
        "\n",
        "```\n",
        "avanzar_semaforo('verde')     # 'amarillo'\n",
        "avanzar_semaforo('amarillo')  # 'rojo'\n",
        "avanzar_semaforo('rojo')      # 'verde'\n",
        "```"
      ],
      "metadata": {
        "id": "s-QNuYPXSxnB"
      }
    },
    {
      "cell_type": "code",
      "source": [
        "def avanzar_semaforo(color_actual): \n",
        "  if color_actual == 'verde': \n",
        "    return 'amarillo'\n",
        "  elif color_actual == 'amarillo': \n",
        "    return 'rojo'\n",
        "  else: \n",
        "    return 'verde'"
      ],
      "metadata": {
        "id": "fl9lyGndS1oQ"
      },
      "execution_count": null,
      "outputs": []
    },
    {
      "cell_type": "code",
      "source": [
        "avanzar_semaforo('verde')"
      ],
      "metadata": {
        "colab": {
          "base_uri": "https://localhost:8080/",
          "height": 35
        },
        "id": "-JZ1EHt2TQNl",
        "outputId": "aedc7b68-0912-430a-e721-3c12501d5313"
      },
      "execution_count": null,
      "outputs": [
        {
          "output_type": "execute_result",
          "data": {
            "text/plain": [
              "'amarillo'"
            ],
            "application/vnd.google.colaboratory.intrinsic+json": {
              "type": "string"
            }
          },
          "metadata": {},
          "execution_count": 143
        }
      ]
    },
    {
      "cell_type": "code",
      "source": [
        "avanzar_semaforo('amarillo')"
      ],
      "metadata": {
        "colab": {
          "base_uri": "https://localhost:8080/",
          "height": 35
        },
        "id": "X3qT-iDFTTPC",
        "outputId": "e5939395-29f9-490b-dd04-6fdb87ff9648"
      },
      "execution_count": null,
      "outputs": [
        {
          "output_type": "execute_result",
          "data": {
            "text/plain": [
              "'rojo'"
            ],
            "application/vnd.google.colaboratory.intrinsic+json": {
              "type": "string"
            }
          },
          "metadata": {},
          "execution_count": 144
        }
      ]
    },
    {
      "cell_type": "markdown",
      "source": [
        "**5. obtener_dias_mes(mes)**\n",
        "\n",
        "Crear una función obtener_dias_mes que tome como argumento un string mes y devuelva un número dependiendo de la cantidad de días que tenga ese mes\n",
        "\n",
        "\n",
        "```\n",
        "obtener_dias_mes(\"diciembre\") # 31\n",
        "obtener_dias_mes(\"febrero\")   # 29\n",
        "```\n",
        "\n"
      ],
      "metadata": {
        "id": "e7Yi4sBlTx7Z"
      }
    },
    {
      "cell_type": "code",
      "source": [
        "def obtener_dias_mes(mes): \n",
        "  if mes == \"enero\" or mes == \"marzo\" or mes == \"mayo\" or mes == \"julio\" or mes == \"agosto\" or mes == \"octubre\" or mes == \"diciembre\": \n",
        "    return 31\n",
        "  elif mes == \"abril\" or mes == \"junio\" or mes == \"septiembre\" or mes == \"noviembre\": \n",
        "    return 30\n",
        "  elif mes == \"febrero\": \n",
        "    return 29 "
      ],
      "metadata": {
        "id": "hZ02TYMMkodD"
      },
      "execution_count": null,
      "outputs": []
    },
    {
      "cell_type": "code",
      "source": [
        "obtener_dias_mes(\"diciembre\")"
      ],
      "metadata": {
        "colab": {
          "base_uri": "https://localhost:8080/"
        },
        "id": "pVql0JuNkr_Q",
        "outputId": "6155fc3a-ebb6-4759-e6f1-59db333e32fe"
      },
      "execution_count": null,
      "outputs": [
        {
          "output_type": "execute_result",
          "data": {
            "text/plain": [
              "31"
            ]
          },
          "metadata": {},
          "execution_count": 146
        }
      ]
    },
    {
      "cell_type": "code",
      "source": [
        "obtener_dias_mes(\"febrero\")"
      ],
      "metadata": {
        "colab": {
          "base_uri": "https://localhost:8080/"
        },
        "id": "tiFlxBE5kqEg",
        "outputId": "8c58b9fe-a674-4b79-9e0e-690aedca1a12"
      },
      "execution_count": null,
      "outputs": [
        {
          "output_type": "execute_result",
          "data": {
            "text/plain": [
              "29"
            ]
          },
          "metadata": {},
          "execution_count": 147
        }
      ]
    },
    {
      "cell_type": "markdown",
      "source": [
        "**6. obtener_generacion(anio_nacimiento)**\n",
        "\n",
        "Crear una función obtener_generacion que tome como argumento un número anio_nacimiento y devuelva un string con la generación a la que pertenece, siguientdo estas reglas:\n",
        "\n",
        "\n",
        "```\n",
        "Generación\tAños de nacimiento\n",
        "Baby boomer\t1949-1968\n",
        "Generación X\t1969-1980\n",
        "Millennials\t1981-1993\n",
        "Generación Z\t1994-2010\n",
        "```\n"
      ],
      "metadata": {
        "id": "c9X3lQvDWQGr"
      }
    },
    {
      "cell_type": "code",
      "source": [
        "def obtener_generacion(anio_nacimiento): \n",
        "  if 1968 >= anio_nacimiento > 1949: \n",
        "    return 'Baby boomer'\n",
        "  elif 1980 >= anio_nacimiento > 1968: \n",
        "    return 'Generacion X'\n",
        "  elif 1993 >= anio_nacimiento > 1980: \n",
        "    return 'Millennials'\n",
        "  else: \n",
        "    return 'Generacion Z'"
      ],
      "metadata": {
        "id": "C5z5zkYmWYD4"
      },
      "execution_count": null,
      "outputs": []
    },
    {
      "cell_type": "code",
      "source": [
        "obtener_generacion(1964)"
      ],
      "metadata": {
        "colab": {
          "base_uri": "https://localhost:8080/",
          "height": 35
        },
        "id": "mwVmCkJ9XfxF",
        "outputId": "e694afc4-934f-4afa-d002-80f61a55b0e9"
      },
      "execution_count": null,
      "outputs": [
        {
          "output_type": "execute_result",
          "data": {
            "text/plain": [
              "'Baby boomer'"
            ],
            "application/vnd.google.colaboratory.intrinsic+json": {
              "type": "string"
            }
          },
          "metadata": {},
          "execution_count": 149
        }
      ]
    },
    {
      "cell_type": "code",
      "source": [
        "obtener_generacion(2002)"
      ],
      "metadata": {
        "colab": {
          "base_uri": "https://localhost:8080/",
          "height": 35
        },
        "id": "mbFsoImxXnQR",
        "outputId": "3f39c6f2-85fe-4801-f5f3-a042657451d7"
      },
      "execution_count": null,
      "outputs": [
        {
          "output_type": "execute_result",
          "data": {
            "text/plain": [
              "'Generacion Z'"
            ],
            "application/vnd.google.colaboratory.intrinsic+json": {
              "type": "string"
            }
          },
          "metadata": {},
          "execution_count": 150
        }
      ]
    },
    {
      "cell_type": "markdown",
      "source": [
        "**7. obtener_sensacion(temperatura)**\n",
        "\n",
        "Crear una función obtener_sensacion que tome como argumento un número temperatura y devuelva un string dependiendo de la temperatura, con las siguientes reglas:\n",
        "\n",
        "```\n",
        "Temperatura\tMensaje\n",
        "Menor a 0°\t¡Está helando!\n",
        "Mayor o igual a 0° y menor a 15°\t¡Hace frío!\n",
        "Mayor o igual a 15° y menor a 25°\tEstá lindo\n",
        "Mayor o igual a entre 25° y menor a 30°\tHace calor\n",
        "Mayor o igual de 30°\t¡Hace mucho calor!\n",
        "```\n",
        "\n"
      ],
      "metadata": {
        "id": "o16ygNibXsxX"
      }
    },
    {
      "cell_type": "code",
      "source": [
        "def obtener_sensacion(temperatura):\n",
        "  if temperatura < 0: \n",
        "    return '¡Está helado!'\n",
        "  elif 0 <= temperatura < 15: \n",
        "    return '¡Hace frío!'\n",
        "  elif 15 <= temperatura < 25: \n",
        "    return 'Está lindo'\n",
        "  elif 25 <= temperatura < 30:\n",
        "    return 'Hace calor'\n",
        "  elif temperatura >= 30:\n",
        "    return '¡Hace mucho calor!'"
      ],
      "metadata": {
        "id": "XvWNmzx4X1FV"
      },
      "execution_count": null,
      "outputs": []
    },
    {
      "cell_type": "code",
      "source": [
        "obtener_sensacion(33)"
      ],
      "metadata": {
        "colab": {
          "base_uri": "https://localhost:8080/",
          "height": 35
        },
        "id": "Uf3kqnGLZb4-",
        "outputId": "5ce7eee3-5e71-483b-8067-5e632b186a72"
      },
      "execution_count": null,
      "outputs": [
        {
          "output_type": "execute_result",
          "data": {
            "text/plain": [
              "'¡Hace mucho calor!'"
            ],
            "application/vnd.google.colaboratory.intrinsic+json": {
              "type": "string"
            }
          },
          "metadata": {},
          "execution_count": 152
        }
      ]
    },
    {
      "cell_type": "code",
      "source": [
        "obtener_sensacion(18)"
      ],
      "metadata": {
        "colab": {
          "base_uri": "https://localhost:8080/",
          "height": 35
        },
        "id": "fygLwWpLZc1n",
        "outputId": "a2a4c920-4acb-4693-b2a4-19b7b4266cbc"
      },
      "execution_count": null,
      "outputs": [
        {
          "output_type": "execute_result",
          "data": {
            "text/plain": [
              "'Está lindo'"
            ],
            "application/vnd.google.colaboratory.intrinsic+json": {
              "type": "string"
            }
          },
          "metadata": {},
          "execution_count": 153
        }
      ]
    },
    {
      "cell_type": "markdown",
      "source": [
        "**8. obtener_nota(puntaje)**\n",
        "Crear una función obtener_nota que tome como argumento un número puntaje y devuelva un string dependiendo del puntaje redondeado, con las siguientes reglas:\n",
        "\n",
        "```\n",
        "Puntaje\tNota\n",
        "Menor a 6\tDesaprobado\n",
        "Mayor o igual a 6 y menor a 7\tRegular\n",
        "Mayor o igual a 7 y menor a 8\tBueno\n",
        "Mayor o igual a entre 8 y menor a 10\tMuy bueno\n",
        "10\tExcelente\n",
        "Menor a 0 o mayor a 10\tPuntaje inválido\n",
        "```\n",
        "Ejemplo de invocaciones:\n",
        "\n",
        "\n",
        "```\n",
        "obtener_nota(7)    # \"Bueno\"\n",
        "obtener_nota(9.6)  # \"Excelente\"\n",
        "obtener_nota(12)   # \"Puntaje inválido\"\n",
        "```\n",
        "\n",
        "\n"
      ],
      "metadata": {
        "id": "AQzm2p91ZfOr"
      }
    },
    {
      "cell_type": "code",
      "source": [
        "def obtener_nota(puntaje): \n",
        "  if puntaje < 6: \n",
        "    return 'Desaprobado'\n",
        "  elif 6 <= puntaje < 7: \n",
        "    return 'Regular'\n",
        "  elif 7 <= puntaje < 8: \n",
        "    return 'Bueno'\n",
        "  elif 8 <= puntaje < 10:\n",
        "    return 'Muy bueno'\n",
        "  elif puntaje == 10:\n",
        "    return 'Excelente'\n",
        "  else: \n",
        "    return 'Puntaje inválido'"
      ],
      "metadata": {
        "id": "S5YSL_ClZ5a_"
      },
      "execution_count": null,
      "outputs": []
    },
    {
      "cell_type": "code",
      "source": [
        "obtener_nota(7)"
      ],
      "metadata": {
        "colab": {
          "base_uri": "https://localhost:8080/",
          "height": 35
        },
        "id": "Zx4bIm7Bad1p",
        "outputId": "d257e1bd-0d55-4aa9-e3ce-42dcf52428a4"
      },
      "execution_count": null,
      "outputs": [
        {
          "output_type": "execute_result",
          "data": {
            "text/plain": [
              "'Bueno'"
            ],
            "application/vnd.google.colaboratory.intrinsic+json": {
              "type": "string"
            }
          },
          "metadata": {},
          "execution_count": 155
        }
      ]
    },
    {
      "cell_type": "code",
      "source": [
        "obtener_nota(12)"
      ],
      "metadata": {
        "colab": {
          "base_uri": "https://localhost:8080/",
          "height": 35
        },
        "id": "CPBGDd_eamzO",
        "outputId": "45dfe191-cbed-4ab9-838c-eeeea628d6b9"
      },
      "execution_count": null,
      "outputs": [
        {
          "output_type": "execute_result",
          "data": {
            "text/plain": [
              "'Puntaje inválido'"
            ],
            "application/vnd.google.colaboratory.intrinsic+json": {
              "type": "string"
            }
          },
          "metadata": {},
          "execution_count": 156
        }
      ]
    },
    {
      "cell_type": "markdown",
      "source": [
        "**9. jugar_piedra_papel_tijera(a, b)**\n",
        "\n",
        "Crear una función jugar_piedra_papel_tijera que tome como argumentos dos strings que representen una jugada (piedra, papel, tijera) y dependiendo el devuelva un string con un mensaje avisando qué jugada ganó (o si hubo empate)\n",
        "\n",
        "\n",
        "```\n",
        "jugar_piedra_papel_tijera('tijera', 'piedra')  # ¡Ganó piedra!\n",
        "jugar_piedra_papel_tijera('piedra', 'tijera')  # ¡Ganó piedra!\n",
        "jugar_piedra_papel_tijera('papel', 'piedra')   # ¡Ganó papel!\n",
        "jugar_piedra_papel_tijera('piedra', 'papel')   # ¡Ganó papel!\n",
        "jugar_piedra_papel_tijera('papel', 'tijera')   # ¡Ganó tijera!\n",
        "jugar_piedra_papel_tijera('tijera', 'papel')   # ¡Ganó tijera!\n",
        "jugar_piedra_papel_tijera('piedra', 'piedra')  # ¡Empate!\n",
        "jugar_piedra_papel_tijera('papel', 'papel')    # ¡Empate!\n",
        "jugar_piedra_papel_tijera('tijera', 'tijera')  # ¡Empate!\n",
        "```"
      ],
      "metadata": {
        "id": "yZD_LaOyape7"
      }
    },
    {
      "cell_type": "code",
      "source": [
        "def jugar_piedra_papel_tijera(a,b):\n",
        "  if a == \"piedra\" and b == \"tijera\": \n",
        "    return \"Ganó piedra\"\n",
        "  elif a == \"tijera\" and b == \"piedra\": \n",
        "    return \"Ganó piedra\"\n",
        "  elif a == \"piedra\" and b == \"papel\": \n",
        "    return \"Ganó papel\"\n",
        "  elif a == \"papel\" and b == \"piedra\": \n",
        "    return \"Ganó papel\"\n",
        "  elif a == \"tijera\" and b == \"papel\": \n",
        "    return \"Ganó tijera\"\n",
        "  elif a == \"papel\" and b == \"tijera\": \n",
        "    return \"Ganó tijera\"\n",
        "  elif a == b: \n",
        "    return \"¡Empate!\""
      ],
      "metadata": {
        "id": "81CZCsnHaz6v"
      },
      "execution_count": null,
      "outputs": []
    },
    {
      "cell_type": "code",
      "source": [
        "jugar_piedra_papel_tijera('tijera', 'papel')"
      ],
      "metadata": {
        "colab": {
          "base_uri": "https://localhost:8080/",
          "height": 35
        },
        "id": "UZJjorsFbGms",
        "outputId": "d0201a11-6295-4624-8476-3922df5b14ab"
      },
      "execution_count": null,
      "outputs": [
        {
          "output_type": "execute_result",
          "data": {
            "text/plain": [
              "'Ganó tijera'"
            ],
            "application/vnd.google.colaboratory.intrinsic+json": {
              "type": "string"
            }
          },
          "metadata": {},
          "execution_count": 158
        }
      ]
    },
    {
      "cell_type": "code",
      "source": [
        "jugar_piedra_papel_tijera('piedra', 'piedra')"
      ],
      "metadata": {
        "colab": {
          "base_uri": "https://localhost:8080/",
          "height": 35
        },
        "id": "HU1-9-PEbORN",
        "outputId": "0845eeeb-c471-4d0c-cd6d-811fd8e6451f"
      },
      "execution_count": null,
      "outputs": [
        {
          "output_type": "execute_result",
          "data": {
            "text/plain": [
              "'¡Empate!'"
            ],
            "application/vnd.google.colaboratory.intrinsic+json": {
              "type": "string"
            }
          },
          "metadata": {},
          "execution_count": 159
        }
      ]
    },
    {
      "cell_type": "markdown",
      "source": [
        "**10. Celsius a Farenheit**\n",
        "\n",
        "La temperatura se mide en grados, pero en algunos países se usan grados “diferentes”.\n",
        "\n",
        "En Argentina, Uruguay y Chile se usan grados Celsius (abreviado °C), pero en en Estados Unidos se utilizan grados Farenheit (°F). Por ejemplo 10°C son 50°F.\n",
        "\n",
        "¿Y cómo hacemos para convertir grados Celsius en grados Farenheit? ¡Usando la siguiente fórmula!\n",
        "\n",
        "GradosFarenheit = GradosCelsius × 1.8 + 32\n",
        "Sabiendo ésto, definí la función celsius_a_farenheit que, a partir de una cantidad de grados en escala Celsius, devuelve el equivalente en escala Fahrenheit.\n",
        "\n",
        "\n",
        "```\n",
        ">> celsius_a_farenheit(10)\n",
        "50  # porque 10°C son 50°F\n",
        ">> celsius_a_farenheit(0)\n",
        "32 # porque 0°C son 32°F\n",
        "```"
      ],
      "metadata": {
        "id": "37POFKRibQNp"
      }
    },
    {
      "cell_type": "code",
      "source": [
        "def celsius_a_farenheit(GradosCelsius): \n",
        "  return GradosCelsius * 1.8 + 32"
      ],
      "metadata": {
        "id": "4Un8L9TBbX1P"
      },
      "execution_count": null,
      "outputs": []
    },
    {
      "cell_type": "code",
      "source": [
        "celsius_a_farenheit(10)"
      ],
      "metadata": {
        "colab": {
          "base_uri": "https://localhost:8080/"
        },
        "id": "coURxOqkbttj",
        "outputId": "22056954-bf20-4f27-ae73-627031e255a7"
      },
      "execution_count": null,
      "outputs": [
        {
          "output_type": "execute_result",
          "data": {
            "text/plain": [
              "50.0"
            ]
          },
          "metadata": {},
          "execution_count": 161
        }
      ]
    },
    {
      "cell_type": "code",
      "source": [
        "celsius_a_farenheit(0)"
      ],
      "metadata": {
        "colab": {
          "base_uri": "https://localhost:8080/"
        },
        "id": "LktqsHblbyFY",
        "outputId": "7e440110-cd8e-4232-c612-48fb1b582380"
      },
      "execution_count": null,
      "outputs": [
        {
          "output_type": "execute_result",
          "data": {
            "text/plain": [
              "32.0"
            ]
          },
          "metadata": {},
          "execution_count": 162
        }
      ]
    },
    {
      "cell_type": "markdown",
      "source": [
        "**11. Farenheit a Celsius**\n",
        "\n",
        "Ahora hagamos el proceso inverso: aprendamos a convertir una temperatura en grados Farenheit a grados Celsius. La fórmula es la siguiente:\n",
        "\n",
        "GradosCelsius = (GradosFarenheit - 32) / 1.8\n",
        "Definí la función farenheit_a_celsius que, a partir de una cantidad de grados en escala Fahrenheit, devuelve el equivalente en escala Celsius.\n",
        "\n",
        "\n",
        "```\n",
        ">> farenheit_a_celsius(32)\n",
        "0 #- porque 32°F son 0°C\n",
        ">> farenheit_a_celsius(50)\n",
        "10 #- porque 50°F son 10°C\n",
        "```"
      ],
      "metadata": {
        "id": "20Q-fZJvz5zG"
      }
    },
    {
      "cell_type": "code",
      "source": [
        "def farenheit_a_celsius(GradosFarenheit): \n",
        "  GradosCelsius = int((GradosFarenheit - 32) / 1.8)\n",
        "  return GradosCelsius"
      ],
      "metadata": {
        "id": "r9O0MtM1z-dt"
      },
      "execution_count": null,
      "outputs": []
    },
    {
      "cell_type": "code",
      "source": [
        "farenheit_a_celsius(32)"
      ],
      "metadata": {
        "colab": {
          "base_uri": "https://localhost:8080/"
        },
        "id": "WO39tsSx0O0q",
        "outputId": "82b4ecec-bbab-4cc0-a016-cbac9dcb0264"
      },
      "execution_count": null,
      "outputs": [
        {
          "output_type": "execute_result",
          "data": {
            "text/plain": [
              "0"
            ]
          },
          "metadata": {},
          "execution_count": 164
        }
      ]
    },
    {
      "cell_type": "code",
      "source": [
        "farenheit_a_celsius(50)"
      ],
      "metadata": {
        "colab": {
          "base_uri": "https://localhost:8080/"
        },
        "id": "NWYez_vo0QeJ",
        "outputId": "fff4c8f7-bf77-4403-94e2-ef4b12212358"
      },
      "execution_count": null,
      "outputs": [
        {
          "output_type": "execute_result",
          "data": {
            "text/plain": [
              "10"
            ]
          },
          "metadata": {},
          "execution_count": 165
        }
      ]
    },
    {
      "cell_type": "markdown",
      "source": [
        "**12. Hace frío internacional**\n",
        "\n",
        "¡Se vino el frío! ❄️ Y necesitamos programar las siguientes funciones:\n",
        "\n",
        "hace_frio_celsius que nos diga si hace menos de 8 grados Celsius\n",
        "hace_frio_farenheit que también nos diga si hace frío, pero que tome una temperatura expresada en grados Farenheit.\n",
        "Ejemplo:\n",
        "\n",
        "```\n",
        ">> hace_frio_celsius(10)\n",
        "False # porque son más de 8°C\n",
        ">> hace_frio_celsius(0)\n",
        "True # porque son menos de 8°C\n",
        ">> hace_frio_farenheit(50) # recordá que 50°F son 10°C\n",
        "False\n",
        ">> hace_frio_farenheit(32) # recordá que 32°F son 0°C\n",
        "True\n",
        "```\n",
        "Definí las funciones hace_frio_celsius y hace_frio_farenheit, que nos digan si una temperatura (en Celsius y Farenheit, respectivamente) es fría.\n",
        "\n",
        "Como desafío adicional, definí hace_frio_farenheit reutilizando hace_frio_celsius y las funciones anteriores que necesites"
      ],
      "metadata": {
        "id": "diyvSVRsb32E"
      }
    },
    {
      "cell_type": "code",
      "source": [
        "def hace_frio_celsius(GradosCelsius): \n",
        "  return GradosCelsius < 8"
      ],
      "metadata": {
        "id": "GUBqpSUjb_GT"
      },
      "execution_count": null,
      "outputs": []
    },
    {
      "cell_type": "code",
      "source": [
        "hace_frio_celsius(10)"
      ],
      "metadata": {
        "colab": {
          "base_uri": "https://localhost:8080/"
        },
        "id": "qGGOx3K-cSE8",
        "outputId": "7aaf9d45-4d4f-4eaa-8b93-b89ef5d4b72a"
      },
      "execution_count": null,
      "outputs": [
        {
          "output_type": "execute_result",
          "data": {
            "text/plain": [
              "False"
            ]
          },
          "metadata": {},
          "execution_count": 167
        }
      ]
    },
    {
      "cell_type": "code",
      "source": [
        "hace_frio_celsius(0)"
      ],
      "metadata": {
        "colab": {
          "base_uri": "https://localhost:8080/"
        },
        "id": "_13Og_B1c1a4",
        "outputId": "f0207cc5-cbe0-4ec2-a7c4-c1faaf67e157"
      },
      "execution_count": null,
      "outputs": [
        {
          "output_type": "execute_result",
          "data": {
            "text/plain": [
              "True"
            ]
          },
          "metadata": {},
          "execution_count": 168
        }
      ]
    },
    {
      "cell_type": "code",
      "source": [
        "def hace_frio_farenheit(GradosFarenheit): \n",
        "  GradosCelsius = (GradosFarenheit - 32) / 1.8\n",
        "  return hace_frio_celsius(GradosCelsius)"
      ],
      "metadata": {
        "id": "wOD6yqdVzRHm"
      },
      "execution_count": null,
      "outputs": []
    },
    {
      "cell_type": "code",
      "source": [
        "hace_frio_farenheit(50)"
      ],
      "metadata": {
        "colab": {
          "base_uri": "https://localhost:8080/"
        },
        "id": "vL_PZJlN0i2z",
        "outputId": "b4ad4586-6bc0-4bfc-b5bf-db0c5f830cba"
      },
      "execution_count": null,
      "outputs": [
        {
          "output_type": "execute_result",
          "data": {
            "text/plain": [
              "False"
            ]
          },
          "metadata": {},
          "execution_count": 170
        }
      ]
    },
    {
      "cell_type": "code",
      "source": [
        "hace_frio_farenheit(32)"
      ],
      "metadata": {
        "colab": {
          "base_uri": "https://localhost:8080/"
        },
        "id": "-6o-jCFH05rG",
        "outputId": "bd17acef-6c9e-41d7-9f6f-feaa0b7f67af"
      },
      "execution_count": null,
      "outputs": [
        {
          "output_type": "execute_result",
          "data": {
            "text/plain": [
              "True"
            ]
          },
          "metadata": {},
          "execution_count": 171
        }
      ]
    },
    {
      "cell_type": "markdown",
      "source": [
        "**13. Dispersión**\n",
        "Trabajamos con tres enteros que representan el nivel de un río en tres días consecutivos 📆. Por ejemplo: medimos los días 1, 2 y 3, y las mediciones son: 22 cm, 283 cm, y 294 cm.\n",
        "\n",
        "Usando estas mediciones nos gustaría saber tres cosas:\n",
        "\n",
        "maximo_entre_tres: toma tres mediciones y nos da la más alta;\n",
        "minimo_entre_tres: toma tres mediciones y nos da la mas baja;\n",
        "dispersion: toma los tres mediciones y devuelve la diferencia entre la más alta y la más baja. Ejemplo:\n",
        "\n",
        "```\n",
        ">> maximo_entre_tres(22, 283, 294)\n",
        "294\n",
        ">> minimo_entre_tres(22, 283, 294)\n",
        "22\n",
        ">> dispersion(22, 283, 294)\n",
        "272 # Porque 294 menos 22 es 272.\n",
        "```\n",
        "¡Desarrollá estas tres funciones! Y no repitas código: reutilizá maximo_entre_tres y minimo_entre_tres en la definición de dispersion 🕶️"
      ],
      "metadata": {
        "id": "kYtWKVHVevwH"
      }
    },
    {
      "cell_type": "code",
      "source": [
        "def maximo_entre_tres(medida1, medida2, medida3): \n",
        "  return max(medida1, medida2, medida3)"
      ],
      "metadata": {
        "id": "STBn_sEVe11-"
      },
      "execution_count": null,
      "outputs": []
    },
    {
      "cell_type": "code",
      "source": [
        "maximo_entre_tres(22, 283, 294)"
      ],
      "metadata": {
        "colab": {
          "base_uri": "https://localhost:8080/"
        },
        "id": "x6R-cQHNfIib",
        "outputId": "e8d7839a-d55a-4f5c-b515-78dc0324f17b"
      },
      "execution_count": null,
      "outputs": [
        {
          "output_type": "execute_result",
          "data": {
            "text/plain": [
              "294"
            ]
          },
          "metadata": {},
          "execution_count": 173
        }
      ]
    },
    {
      "cell_type": "code",
      "source": [
        "def minimo_entre_tres(medida1, medida2, medida3): \n",
        "  return min(medida1, medida2, medida3) "
      ],
      "metadata": {
        "id": "uogWxxWMfMZ-"
      },
      "execution_count": null,
      "outputs": []
    },
    {
      "cell_type": "code",
      "source": [
        "minimo_entre_tres(22, 283, 294)"
      ],
      "metadata": {
        "colab": {
          "base_uri": "https://localhost:8080/"
        },
        "id": "phyi1e6OfVWa",
        "outputId": "c5e79480-ceff-47c6-b7dc-0fba11678063"
      },
      "execution_count": null,
      "outputs": [
        {
          "output_type": "execute_result",
          "data": {
            "text/plain": [
              "22"
            ]
          },
          "metadata": {},
          "execution_count": 175
        }
      ]
    },
    {
      "cell_type": "code",
      "source": [
        "def dispersion(medida1, medida2, medida3):  \n",
        "  return maximo_entre_tres(medida1, medida2, medida3) - minimo_entre_tres(medida1, medida2, medida3) "
      ],
      "metadata": {
        "id": "3Znp0dQcfXkI"
      },
      "execution_count": null,
      "outputs": []
    },
    {
      "cell_type": "code",
      "source": [
        "dispersion(22, 283, 294)"
      ],
      "metadata": {
        "colab": {
          "base_uri": "https://localhost:8080/"
        },
        "id": "LATy2nqmfkWY",
        "outputId": "0fc26c2f-cc4b-4e12-8a25-589de67a5925"
      },
      "execution_count": null,
      "outputs": [
        {
          "output_type": "execute_result",
          "data": {
            "text/plain": [
              "272"
            ]
          },
          "metadata": {},
          "execution_count": 177
        }
      ]
    },
    {
      "cell_type": "markdown",
      "source": [
        "**14. Pasan los días**\n",
        "\n",
        "Siguiendo con el problema anterior, ahora que contamos con la función dispersion, necesitamos definir las siguientes funciones, que reciben los valores de los tres días, y nos responden si son días parejos, locos o normales:\n",
        "\n",
        "dias_parejos: son días parejos si la dispersión es chica (menos de 30 cm)\n",
        "dias_locos: son días locos si la dispersión es grande (más de un metro)\n",
        "dias_normales, son días normales si no son ni parejos ni locos.\n",
        "Ejemplo:\n",
        "\n",
        "\n",
        "```\n",
        ">> dias_parejos(110, 98, 100)\n",
        "True\n",
        ">> dias_normales(1, 200, 500)\n",
        "False\n",
        "```\n",
        "Definí dias_normales, dias_parejos y dias_locos. Asumí que dispersion ya está definida."
      ],
      "metadata": {
        "id": "qWXe-qi8ftvE"
      }
    },
    {
      "cell_type": "code",
      "source": [
        "def dias_parejos(medida1, medida2, medida3): \n",
        "  return dispersion(medida1, medida2, medida3) < 30"
      ],
      "metadata": {
        "id": "66pE0FEufxmp"
      },
      "execution_count": null,
      "outputs": []
    },
    {
      "cell_type": "code",
      "source": [
        "dias_parejos(110, 98, 100)"
      ],
      "metadata": {
        "colab": {
          "base_uri": "https://localhost:8080/"
        },
        "id": "Jzq4H4-bgAE_",
        "outputId": "11045e6b-8082-4fda-dc95-6bfc94886160"
      },
      "execution_count": null,
      "outputs": [
        {
          "output_type": "execute_result",
          "data": {
            "text/plain": [
              "True"
            ]
          },
          "metadata": {},
          "execution_count": 179
        }
      ]
    },
    {
      "cell_type": "code",
      "source": [
        "def dias_locos(medida1, medida2, medida3):\n",
        "  return dispersion(medida1, medida2, medida3) > 100"
      ],
      "metadata": {
        "id": "uqOdWr-rgHeI"
      },
      "execution_count": null,
      "outputs": []
    },
    {
      "cell_type": "code",
      "source": [
        "dias_locos(1, 200, 500)"
      ],
      "metadata": {
        "colab": {
          "base_uri": "https://localhost:8080/"
        },
        "id": "a3a1NjaiggYg",
        "outputId": "93a735e0-0ae8-4031-f619-31c766d83da2"
      },
      "execution_count": null,
      "outputs": [
        {
          "output_type": "execute_result",
          "data": {
            "text/plain": [
              "True"
            ]
          },
          "metadata": {},
          "execution_count": 181
        }
      ]
    },
    {
      "cell_type": "code",
      "source": [
        "def dias_normales(medida1, medida2, medida3): \n",
        "  return not dias_locos(medida1, medida2, medida3) and not dias_parejos(medida1, medida2, medida3)"
      ],
      "metadata": {
        "id": "LfHlp7_MgYF2"
      },
      "execution_count": null,
      "outputs": []
    },
    {
      "cell_type": "code",
      "source": [
        "dias_normales(1, 200, 500) "
      ],
      "metadata": {
        "colab": {
          "base_uri": "https://localhost:8080/"
        },
        "id": "4yK3Ii4jghwS",
        "outputId": "d702f751-52b9-4479-ff4d-d24155a4a431"
      },
      "execution_count": null,
      "outputs": [
        {
          "output_type": "execute_result",
          "data": {
            "text/plain": [
              "False"
            ]
          },
          "metadata": {},
          "execution_count": 183
        }
      ]
    },
    {
      "cell_type": "markdown",
      "source": [
        "**15. Pinos**\n",
        "\n",
        "En una plantación de pinos, de cada árbol se conoce la altura expresada en metros. El peso de un pino se puede calcular a partir de la altura así:\n",
        "\n",
        "3 kg por cada centímetro hasta 3 metros,\n",
        "2 kg por cada centímetro arriba de los 3 metros.\n",
        "\n",
        "\n",
        "Por ejemplo:\n",
        "\n",
        "2 metros pesan 600 kg, porque 200 * 3 = 600\n",
        "5 metros pesan 1300 kg, porque los primeros 3 metros pesan 900 kg y los siguientes 2 pesan los 400 restantes.\n",
        "\n",
        "\n",
        "Los pinos se usan para llevarlos a una fábrica de muebles, a la que le sirven árboles de entre 400 y 1000 kilos, un pino fuera de este rango no le sirve a la fábrica.\n",
        "\n",
        "Definí la función peso_pino, recibe la altura de un pino en metros y devuelve su peso.\n",
        "Definí la función es_peso_util, recibe un peso en kg y responde si un pino de ese peso le sirve a la fábrica\n",
        "Definí la función sirve_pino, recibe la altura de un pino y responde si un pino de ese peso le sirve a la fábrica."
      ],
      "metadata": {
        "id": "UpA7iEEWgybA"
      }
    },
    {
      "cell_type": "code",
      "source": [
        "def peso_pino(altura): \n",
        "  if altura <= 3: \n",
        "    return (altura*100) * 3 \n",
        "  else: \n",
        "    return ((altura - 3)*100) *2 + 900 "
      ],
      "metadata": {
        "id": "xz3wMrPFSMbV"
      },
      "execution_count": null,
      "outputs": []
    },
    {
      "cell_type": "code",
      "source": [
        "peso_pino(2)"
      ],
      "metadata": {
        "colab": {
          "base_uri": "https://localhost:8080/"
        },
        "id": "pzAIkKIhSs9w",
        "outputId": "bf70dd99-e348-4a7a-8ab4-388ab2d66c87"
      },
      "execution_count": null,
      "outputs": [
        {
          "output_type": "execute_result",
          "data": {
            "text/plain": [
              "600"
            ]
          },
          "metadata": {},
          "execution_count": 27
        }
      ]
    },
    {
      "cell_type": "code",
      "source": [
        "peso_pino(5)"
      ],
      "metadata": {
        "colab": {
          "base_uri": "https://localhost:8080/"
        },
        "id": "G6Lwtlz3SuRd",
        "outputId": "3a9676d0-672d-4e0a-ed16-c3ecc311fe2a"
      },
      "execution_count": null,
      "outputs": [
        {
          "output_type": "execute_result",
          "data": {
            "text/plain": [
              "1300"
            ]
          },
          "metadata": {},
          "execution_count": 186
        }
      ]
    },
    {
      "cell_type": "code",
      "source": [
        "peso_pino(6)"
      ],
      "metadata": {
        "colab": {
          "base_uri": "https://localhost:8080/"
        },
        "id": "6lTPZQ0-MhnF",
        "outputId": "0836084a-1602-466f-8423-54dbf05464cc"
      },
      "execution_count": null,
      "outputs": [
        {
          "output_type": "execute_result",
          "data": {
            "text/plain": [
              "1500"
            ]
          },
          "metadata": {},
          "execution_count": 35
        }
      ]
    },
    {
      "cell_type": "code",
      "source": [
        "peso_pino(3)"
      ],
      "metadata": {
        "colab": {
          "base_uri": "https://localhost:8080/"
        },
        "id": "b8YhCCmHOwdM",
        "outputId": "315b4655-c101-4507-d11b-c140b9151af1"
      },
      "execution_count": null,
      "outputs": [
        {
          "output_type": "execute_result",
          "data": {
            "text/plain": [
              "900"
            ]
          },
          "metadata": {},
          "execution_count": 42
        }
      ]
    },
    {
      "cell_type": "code",
      "source": [
        "def peso_util(peso): \n",
        "  return peso >= 400 and peso <= 1000 "
      ],
      "metadata": {
        "id": "gBD8N-xOSzjf"
      },
      "execution_count": null,
      "outputs": []
    },
    {
      "cell_type": "code",
      "source": [
        "def sirve_pino(altura): \n",
        "  return peso_util(peso_pino(altura)) "
      ],
      "metadata": {
        "id": "9aL7RozmTO7P"
      },
      "execution_count": null,
      "outputs": []
    },
    {
      "cell_type": "markdown",
      "source": [
        "**16. ¡Puntos para setenta!**\n",
        "\n",
        "En el conocido juego de la escoba de 15 tenemos que una forma de ganar puntos es mediante el criterio de “setenta” en el cual una carta tiene un valor especifico dependiendo su número:\n",
        "\n",
        "El as (1) tienen 5.5 puntos\n",
        "Las figuras (10, 11, 12) tienen 0.5 puntos\n",
        "Todas las demás cartas tienen tantos puntos como su número.\n",
        "Escribí y explicitá el tipo de punto_para_setenta la cual recibe el número de la carta y debe devolver la cantidad de puntos según el criterio anterior.\n",
        "\n",
        "Asumí que el parametro que recibe la función ya es un número de una carta válida."
      ],
      "metadata": {
        "id": "EuV-wJlciNfe"
      }
    },
    {
      "cell_type": "code",
      "source": [
        "def punto_para_setenta(nroCarta): \n",
        "  if nroCarta == 1: \n",
        "    return 5.5\n",
        "  elif nroCarta == 10 or nroCarta == 11 or nroCarta == 12: \n",
        "    return 0.5\n",
        "  else: \n",
        "    return nroCarta"
      ],
      "metadata": {
        "id": "pZCuAQtLiO9x"
      },
      "execution_count": null,
      "outputs": []
    },
    {
      "cell_type": "code",
      "source": [
        "punto_para_setenta(7)"
      ],
      "metadata": {
        "colab": {
          "base_uri": "https://localhost:8080/"
        },
        "id": "twPLMwPJitny",
        "outputId": "179dab30-898b-43b3-98e1-eac33933611a"
      },
      "execution_count": null,
      "outputs": [
        {
          "output_type": "execute_result",
          "data": {
            "text/plain": [
              "7"
            ]
          },
          "metadata": {},
          "execution_count": 190
        }
      ]
    },
    {
      "cell_type": "code",
      "source": [
        "punto_para_setenta(1)"
      ],
      "metadata": {
        "colab": {
          "base_uri": "https://localhost:8080/"
        },
        "id": "hkIm7QDbiw-s",
        "outputId": "f8a65c25-8f7b-436a-cb41-49fae60bf6b9"
      },
      "execution_count": null,
      "outputs": [
        {
          "output_type": "execute_result",
          "data": {
            "text/plain": [
              "5.5"
            ]
          },
          "metadata": {},
          "execution_count": 191
        }
      ]
    },
    {
      "cell_type": "markdown",
      "source": [
        "### Ejercicios variables"
      ],
      "metadata": {
        "id": "wMoD0Vq6YaH5"
      }
    },
    {
      "cell_type": "code",
      "source": [
        "'''Atención! Falta: \n",
        "3. hasta_donde_llegamos '''"
      ],
      "metadata": {
        "id": "c2uiKFUybnkB"
      },
      "execution_count": null,
      "outputs": []
    },
    {
      "cell_type": "markdown",
      "source": [
        "**1. Alcancía**\n",
        "\n",
        "Vamos a ahorrar para un viaje post COVID 😷. Tenemos una alcancía comunitaria (nuestro pozo) y para decidir si podemos viajar, debemos corroborar que el pozo tenga plata.\n",
        "\n",
        "Definí una función pozo_vacio, que nos indique si el pozo está en 0. Ejemplo:\n",
        "\n",
        "\n",
        "```\n",
        ">>> pozo = 0\n",
        ">>> pozo_vacio()\n",
        "True\n",
        ">>> pozo = 100\n",
        ">>> pozo_vacio()\n",
        "False\n",
        "```\n"
      ],
      "metadata": {
        "id": "3Z9J7-ObbNbi"
      }
    },
    {
      "cell_type": "code",
      "source": [
        "def pozo_vacio(): \n",
        "  return pozo == 0 "
      ],
      "metadata": {
        "id": "FMzjCpyCbQNd"
      },
      "execution_count": null,
      "outputs": []
    },
    {
      "cell_type": "code",
      "source": [
        "pozo = 0\n",
        "pozo_vacio()"
      ],
      "metadata": {
        "colab": {
          "base_uri": "https://localhost:8080/"
        },
        "id": "XiZ2xPtUbUhy",
        "outputId": "ee858974-683b-4fd5-f5c0-067d3e230fda"
      },
      "execution_count": null,
      "outputs": [
        {
          "output_type": "execute_result",
          "data": {
            "text/plain": [
              "True"
            ]
          },
          "metadata": {},
          "execution_count": 194
        }
      ]
    },
    {
      "cell_type": "code",
      "source": [
        "pozo = 100\n",
        "pozo_vacio()"
      ],
      "metadata": {
        "colab": {
          "base_uri": "https://localhost:8080/"
        },
        "id": "4DCLk3HdbW9i",
        "outputId": "dc3903d3-59a8-42df-dbc8-9c8da795a84a"
      },
      "execution_count": null,
      "outputs": [
        {
          "output_type": "execute_result",
          "data": {
            "text/plain": [
              "False"
            ]
          },
          "metadata": {},
          "execution_count": 195
        }
      ]
    },
    {
      "cell_type": "markdown",
      "source": [
        "**2. ¿Ya llegamos al Chaltén?**\n",
        "\n",
        "Sabemos que para llegar al Chaltén necesitamos por persona 3000 pesos\n",
        "\n",
        "Hacé una función cuanta_gente_viaja_al_chalten que retorne, según el monto del pozo, la cantidad de personas que pueden viajar. ¡Tené en cuenta que media persona no puede viajar! 😛\n",
        "\n",
        "Ejemplo:\n",
        "\n",
        "\n",
        "```\n",
        ">>> pozo = 3000\n",
        ">>> cuanta_gente_viaja_al_chalten()\n",
        "1\n",
        ">>> pozo = 1500\n",
        ">>> cuanta_gente_viaja_al_chalten()\n",
        "0\n",
        ">>> pozo = 6000\n",
        ">>> cuanta_gente_viaja_al_chalten()\n",
        "2\n",
        ">>> pozo = 6500\n",
        ">>> cuanta_gente_viaja_al_chalten()\n",
        "2\n",
        "```\n"
      ],
      "metadata": {
        "id": "yLL4PvMMbbFk"
      }
    },
    {
      "cell_type": "code",
      "source": [
        "def cuanta_gente_viaja_al_chalten():\n",
        "  return pozo // 3000 "
      ],
      "metadata": {
        "id": "w_dVuLPibeTT"
      },
      "execution_count": null,
      "outputs": []
    },
    {
      "cell_type": "code",
      "source": [
        "pozo = 3000\n",
        "cuanta_gente_viaja_al_chalten()"
      ],
      "metadata": {
        "colab": {
          "base_uri": "https://localhost:8080/"
        },
        "id": "X9iCYTxBbgR7",
        "outputId": "e6a877fb-b55c-40a5-bfea-59c44a430515"
      },
      "execution_count": null,
      "outputs": [
        {
          "output_type": "execute_result",
          "data": {
            "text/plain": [
              "1"
            ]
          },
          "metadata": {},
          "execution_count": 197
        }
      ]
    },
    {
      "cell_type": "code",
      "source": [
        "pozo = 8999\n",
        "cuanta_gente_viaja_al_chalten()"
      ],
      "metadata": {
        "colab": {
          "base_uri": "https://localhost:8080/"
        },
        "id": "50Eg1EDQbiB3",
        "outputId": "838fb36b-853f-45dc-e155-589861f80002"
      },
      "execution_count": null,
      "outputs": [
        {
          "output_type": "execute_result",
          "data": {
            "text/plain": [
              "2"
            ]
          },
          "metadata": {},
          "execution_count": 198
        }
      ]
    },
    {
      "cell_type": "markdown",
      "source": [
        "**3. Destino alternativo**\n",
        "¡A quién no le gusta tener opciones! Sabemos cuánto nos sale por persona el viaje al Chaltén y nos pasaron en la agencia de viaje los valores por persona a Tilcara (3500 por persona) y Mendoza ($2500 por persona).\n",
        "\n",
        "Definí una función hasta_donde_llegamos que según la cantidad de personas que van a viajar, nos devuelva un string con el nombre de la ciudad a la que podemos llegar. Y si no nos alcanza, que nos recomiende seguir ahorrando:\n",
        "\n",
        "\n",
        "```\n",
        ">>> hasta_donde_llegamos(2)\n",
        "'Tilcara'\n",
        ">>> hasta_donde_llegamos(5)\n",
        "'Seguí ahorrando'\n",
        "```"
      ],
      "metadata": {
        "id": "zeJJtR1LbmQV"
      }
    },
    {
      "cell_type": "markdown",
      "source": [
        "**4. Hora de aportar**\n",
        "\n",
        "Pero para todo esto tenga sentido, hay que poner plata 🤑\n",
        "\n",
        "Definí un procedimiento llamada aportar_al_pozo, que tome como parámetro un aporte (monto de plata) y actualice el monto del pozo:\n",
        "\n",
        "\n",
        "```\n",
        ">>> pozo = 500\n",
        ">>> aportar_al_pozo(1000)\n",
        ">>> pozo\n",
        "1500\n",
        "```\n",
        "\n",
        "\n"
      ],
      "metadata": {
        "id": "K3s7wgccbud_"
      }
    },
    {
      "cell_type": "code",
      "source": [
        "def aportar_al_pozo(plata): \n",
        "  global pozo \n",
        "  pozo += plata "
      ],
      "metadata": {
        "id": "FbQ5nPJybzqK"
      },
      "execution_count": null,
      "outputs": []
    },
    {
      "cell_type": "code",
      "source": [
        "pozo = 500 \n",
        "aportar_al_pozo(1000)\n",
        "pozo "
      ],
      "metadata": {
        "colab": {
          "base_uri": "https://localhost:8080/"
        },
        "id": "LlPFGlK5b_QG",
        "outputId": "a38308d5-539f-4443-babd-fbd336a33d4b"
      },
      "execution_count": null,
      "outputs": [
        {
          "output_type": "execute_result",
          "data": {
            "text/plain": [
              "1500"
            ]
          },
          "metadata": {},
          "execution_count": 200
        }
      ]
    },
    {
      "cell_type": "markdown",
      "source": [
        "**5. Me quiero bajar**\n",
        "\n",
        "¿Pero qué pasa si alguien se quiere bajar? La agencia nos devuelve solo 500, sin importar el monto inicial (asumimos que las personas deben aportar inicialmente más de 500)\n",
        "\n",
        "Definí el procedimiento darse_de_baja, que descuenta del pozo 500"
      ],
      "metadata": {
        "id": "N5QBjMeWcEzx"
      }
    },
    {
      "cell_type": "code",
      "source": [
        "def darse_de_baja(): \n",
        "  global pozo\n",
        "  pozo -= 500"
      ],
      "metadata": {
        "id": "MYKX8jmFcJNb"
      },
      "execution_count": null,
      "outputs": []
    },
    {
      "cell_type": "code",
      "source": [
        "pozo = 1000\n",
        "darse_de_baja()\n",
        "pozo"
      ],
      "metadata": {
        "colab": {
          "base_uri": "https://localhost:8080/"
        },
        "id": "J1mN7ppWcRkc",
        "outputId": "cca17f84-8e3f-4066-e8e6-9e0ad46d7f45"
      },
      "execution_count": null,
      "outputs": [
        {
          "output_type": "execute_result",
          "data": {
            "text/plain": [
              "500"
            ]
          },
          "metadata": {},
          "execution_count": 202
        }
      ]
    },
    {
      "cell_type": "markdown",
      "source": [
        "**6. Tiempo de descuento**\n",
        "\n",
        "Por una nueva reglamentación, todos pozos de dinero que tengan más de 15000, deberán tributar un impuesto (llamado I.V.G.: Impuesto a las Variables Globales) del 1% si el pozo. Por la misma reglamentación, el valor máximo del impuesto será de $500.\n",
        "\n",
        "Definí:\n",
        "\n",
        "una función calcular_monto_ivg, que indique el valor del impuesto I.V.G. que el pozo debe pagar;\n",
        "un procedimiento aplicar_ivg, que descuente del pozo el valor del impuesto que corresponda.\n",
        "Ejemplos:\n",
        "\n",
        "\n",
        "```\n",
        ">>> pozo = 1000\n",
        ">>> calcular_monto_ivg()\n",
        "0 # porque para tributar el monto debe ser de al menos $15000\n",
        ">>> pozo = 16000\n",
        ">>> calcular_monto_ivg()\n",
        "160 # porque es un pozo de más de $15000, y debe tributar el 1%\n",
        ">>> pozo = 125000\n",
        ">>> calcular_monto_ivg()\n",
        "500 # porque el valor máximo del impuesto es 500 (el 1% de 125000 hubiera sido $1250)\n",
        ">>> aplicar_ivg()\n",
        ">>> monto\n",
        "124500 # porque le restó los $500 del impuesto\n",
        "```\n",
        "\n",
        "\n"
      ],
      "metadata": {
        "id": "XfFbPUX6cagi"
      }
    },
    {
      "cell_type": "code",
      "source": [
        "def calcular_monto_ivg(): \n",
        "  global pozo\n",
        "  ivg = 0\n",
        "  if pozo >= 15000: \n",
        "    ivg += int(pozo * 0.01)\n",
        "    if ivg > 500: \n",
        "      return 500\n",
        "  return ivg  "
      ],
      "metadata": {
        "id": "H0dCBE1ics2b"
      },
      "execution_count": null,
      "outputs": []
    },
    {
      "cell_type": "code",
      "source": [
        "pozo = 1000 \n",
        "calcular_monto_ivg()"
      ],
      "metadata": {
        "colab": {
          "base_uri": "https://localhost:8080/"
        },
        "id": "Jqx4P2MOfoi7",
        "outputId": "69a58278-e521-41b1-af1b-aebcafd105ca"
      },
      "execution_count": null,
      "outputs": [
        {
          "output_type": "execute_result",
          "data": {
            "text/plain": [
              "0"
            ]
          },
          "metadata": {},
          "execution_count": 204
        }
      ]
    },
    {
      "cell_type": "code",
      "source": [
        "pozo = 16000\n",
        "calcular_monto_ivg() "
      ],
      "metadata": {
        "colab": {
          "base_uri": "https://localhost:8080/"
        },
        "id": "bY1VaFFFf1kV",
        "outputId": "acd32c9d-ace9-4b9a-d6df-57f730a6e301"
      },
      "execution_count": null,
      "outputs": [
        {
          "output_type": "execute_result",
          "data": {
            "text/plain": [
              "160"
            ]
          },
          "metadata": {},
          "execution_count": 205
        }
      ]
    },
    {
      "cell_type": "code",
      "source": [
        "pozo = 125000\n",
        "calcular_monto_ivg()"
      ],
      "metadata": {
        "colab": {
          "base_uri": "https://localhost:8080/"
        },
        "id": "zpYSOh9LgI2R",
        "outputId": "fae781dd-d8b1-4965-81b6-a097caf7cc1b"
      },
      "execution_count": null,
      "outputs": [
        {
          "output_type": "execute_result",
          "data": {
            "text/plain": [
              "500"
            ]
          },
          "metadata": {},
          "execution_count": 206
        }
      ]
    },
    {
      "cell_type": "code",
      "source": [
        "def aplicar_ivg(): \n",
        "  global pozo\n",
        "  pozo -= calcular_monto_ivg() "
      ],
      "metadata": {
        "id": "riMJ2XNhgN6j"
      },
      "execution_count": null,
      "outputs": []
    },
    {
      "cell_type": "code",
      "source": [
        "pozo = 16000\n",
        "calcular_monto_ivg\n",
        "aplicar_ivg()\n",
        "pozo "
      ],
      "metadata": {
        "colab": {
          "base_uri": "https://localhost:8080/"
        },
        "id": "FHslXvHugWPm",
        "outputId": "53289245-8b86-481c-d41d-798a05d3dc78"
      },
      "execution_count": null,
      "outputs": [
        {
          "output_type": "execute_result",
          "data": {
            "text/plain": [
              "15840"
            ]
          },
          "metadata": {},
          "execution_count": 53
        }
      ]
    },
    {
      "cell_type": "markdown",
      "source": [
        "**7. La tercera es la vencida**\n",
        "\n",
        "¡Otra nueva reglamentación! Después de algunas quejas contra el I.V.G. 😡, se determinó que ningún pozo deberá pagar el impuesto más de tres veces. En otras palabras, al aplicar el impuesto, sólo deberemos descontar del pozo su monto si se aplicó hasta 3 veces. Ejemplo:\n",
        "\n",
        "\n",
        "```\n",
        ">>> monto = 100000\n",
        ">>> aplicar_ivg() # primera aplicación\n",
        ">>> monto\n",
        "99500\n",
        ">>> aplicar_ivg() # segunda aplicación\n",
        ">>> monto\n",
        "99000\n",
        ">>> aplicar_ivg() # tercera aplicación\n",
        ">>> monto\n",
        "98500\n",
        ">>> aplicar_ivg() # cuarta aplicación\n",
        ">>> aplicar_ivg() # quinta aplicación\n",
        ">>> aplicar_ivg() # etc\n",
        ">>> aplicar_ivg() # etc\n",
        ">>> monto\n",
        "98500 # a partir de la cuarta aplicación ya no se descuenta más del pozo\n",
        "```\n",
        "\n",
        "Modificá el procedimiento aplicar_ivg para que refleje estos cambios de reglamentación.\n",
        "\n",
        "💡 Sugerencia: para poder hacer estos cambios en la aplicación del impuesto I.V.G., quizás te convenga agregar nuevas variables globales (qué ironía 😜)"
      ],
      "metadata": {
        "id": "g-Co_E0EglqC"
      }
    },
    {
      "cell_type": "code",
      "source": [
        "aplicacion_ivg = 0\n",
        "def aplicar_ivg(): \n",
        "  global pozo\n",
        "  global aplicacion_ivg\n",
        "  if aplicacion_ivg <= 3: \n",
        "    pozo -= calcular_monto_ivg()\n",
        "    aplicacion_ivg += 1 "
      ],
      "metadata": {
        "id": "lx28okgu-m99"
      },
      "execution_count": null,
      "outputs": []
    },
    {
      "cell_type": "markdown",
      "source": [
        "**8. Que no se acabe el vuelo**\n",
        "\n",
        "Parece que la recaudación no anduvo tan bien y la gente se quiere retirar del pozo 😥️. Así que definimos una nueva regla: si no llegamos a un objetivo mínimo de $1000, el pozo vuelve a cero (porque se devolverá la plata a sus participantes 💸️)\n",
        "\n",
        "Definí un procedimiento volver_a_empezar, tal que si tenemos menos de $1000 en el pozo, lo vuelva a cero."
      ],
      "metadata": {
        "id": "vGo1UvnGhG2K"
      }
    },
    {
      "cell_type": "code",
      "source": [
        "def volver_a_empezar():\n",
        "  global pozo\n",
        "  if pozo < 1000: \n",
        "    pozo = 0"
      ],
      "metadata": {
        "id": "sr6ydOpZhKRp"
      },
      "execution_count": null,
      "outputs": []
    },
    {
      "cell_type": "code",
      "source": [
        "pozo = 900\n",
        "volver_a_empezar()\n",
        "pozo"
      ],
      "metadata": {
        "colab": {
          "base_uri": "https://localhost:8080/"
        },
        "id": "bcD_yo0shVns",
        "outputId": "e632977f-dd3a-438c-f302-2f80a2c92e7d"
      },
      "execution_count": null,
      "outputs": [
        {
          "output_type": "execute_result",
          "data": {
            "text/plain": [
              "0"
            ]
          },
          "metadata": {},
          "execution_count": 211
        }
      ]
    },
    {
      "cell_type": "code",
      "source": [
        "pozo = 1000\n",
        "volver_a_empezar()\n",
        "pozo"
      ],
      "metadata": {
        "colab": {
          "base_uri": "https://localhost:8080/"
        },
        "id": "LIKUYVGFhakm",
        "outputId": "93078824-1a6e-4661-88db-c855721c12f9"
      },
      "execution_count": null,
      "outputs": [
        {
          "output_type": "execute_result",
          "data": {
            "text/plain": [
              "1000"
            ]
          },
          "metadata": {},
          "execution_count": 212
        }
      ]
    },
    {
      "cell_type": "markdown",
      "source": [
        "**9. El delegado/a**\n",
        "\n",
        "En la clase están votando al delegado que representará al curso. Pero como esta es una clase de pensamiento computacional, vamos a crear un procedimiento declarar_delegado que asigne en la variable global delegado el nombre de la persona que tenga más votos:\n",
        "\n",
        "\n",
        "```\n",
        ">>> declarar_delegado(\"Perla\", 5, \"Enzo\", 2)\n",
        ">>> delegado\n",
        "Perla 2022\n",
        "```\n",
        "Definí el procedimiento declarar_delegado"
      ],
      "metadata": {
        "id": "SGG7K-qLhfHj"
      }
    },
    {
      "cell_type": "code",
      "source": [
        "delegado = ''\n",
        "def declarar_delegado(estudiante1, votos1, estudiante2, votos2): \n",
        "  global delegado\n",
        "  delegado = max(votos1, votos2) \n",
        "  if votos1 == delegado: \n",
        "    delegado = estudiante1 + ' 2022'\n",
        "  else: \n",
        "    delegado = estudiante2 + ' 2022'"
      ],
      "metadata": {
        "id": "iBir54Dmhk6u"
      },
      "execution_count": null,
      "outputs": []
    },
    {
      "cell_type": "code",
      "source": [
        "declarar_delegado(\"Perla\", 5, \"Enzo\", 2)\n",
        "delegado"
      ],
      "metadata": {
        "colab": {
          "base_uri": "https://localhost:8080/",
          "height": 35
        },
        "id": "HsB3pHf7h90B",
        "outputId": "340f3a69-870a-41e3-ef24-13d26b8b8ac6"
      },
      "execution_count": null,
      "outputs": [
        {
          "output_type": "execute_result",
          "data": {
            "text/plain": [
              "'Perla 2022'"
            ],
            "application/vnd.google.colaboratory.intrinsic+json": {
              "type": "string"
            }
          },
          "metadata": {},
          "execution_count": 237
        }
      ]
    },
    {
      "cell_type": "markdown",
      "source": [
        "**10. Registro histórico**\n",
        "\n",
        "En la comisión E están creando el registro histórico de delegados/as del curso. Para ellos quieren ahora un procedimiento que les permita registrar los/las delegados/as del curso en cada año en la variable global delegados_por_anio\n",
        "\n",
        "\n",
        "```\n",
        ">>> registrar_delegado_del_anio(\"Sol\", 2021)\n",
        ">>> registrar_delegado_del_anio(\"Perla\", 2022)\n",
        ">>> delegados_por_anio\n",
        "Sol 2021, Perla 2022\n",
        "```\n"
      ],
      "metadata": {
        "id": "-b7PYhXniyDF"
      }
    },
    {
      "cell_type": "code",
      "source": [
        "delegado_por_anio = '' \n",
        "def registrar_delegado_por_anio(nombre, anio): \n",
        "  global delegado_por_anio\n",
        "  if len(delegado_por_anio) != 0:\n",
        "    delegado_por_anio += \", \" + nombre + \" \" + str(anio) \n",
        "  else: \n",
        "    delegado_por_anio += nombre + \" \" + str(anio) "
      ],
      "metadata": {
        "id": "aYcMrTXnZFdo"
      },
      "execution_count": null,
      "outputs": []
    },
    {
      "cell_type": "code",
      "source": [
        "registrar_delegado_por_anio('Sol', 2021)\n",
        "registrar_delegado_por_anio('Perla', 2022)\n",
        "delegado_por_anio"
      ],
      "metadata": {
        "colab": {
          "base_uri": "https://localhost:8080/",
          "height": 35
        },
        "id": "ZkQd0UUziOqx",
        "outputId": "8241e5e2-8687-4d59-e3c4-e3044555b473"
      },
      "execution_count": null,
      "outputs": [
        {
          "output_type": "execute_result",
          "data": {
            "text/plain": [
              "'Sol 2021, Perla 2022'"
            ],
            "application/vnd.google.colaboratory.intrinsic+json": {
              "type": "string"
            }
          },
          "metadata": {},
          "execution_count": 27
        }
      ]
    },
    {
      "cell_type": "markdown",
      "source": [
        "### Ejercicios repetición "
      ],
      "metadata": {
        "id": "MZCpvJdg6yhd"
      }
    },
    {
      "cell_type": "code",
      "source": [
        "# Hecho"
      ],
      "metadata": {
        "id": "kjiL3wWjRUJT"
      },
      "execution_count": null,
      "outputs": []
    },
    {
      "cell_type": "markdown",
      "source": [
        "**1. obtener_indice(valor, lista)**\n",
        "\n",
        "Definí una función obtener_indice que tome como argumento un valor cualquiera valor y un lista cualquiera lista y devuelva el índice del primer ítem con dicho valor en la lista, o -1 si no hay ninguno.\n",
        "\n",
        "\n",
        "```\n",
        "obtener_indice(12, [5, 7, 12, 34, 54, 2, 12])\n",
        "2\n",
        "obtener_indice(83, [5, 7, 12, 34, 54, 2, 12])\n",
        "-1\n",
        "```\n",
        "\n"
      ],
      "metadata": {
        "id": "W-6jLGy_vZzi"
      }
    },
    {
      "cell_type": "code",
      "source": [
        "def obtener_indice(valor, lista):\n",
        "  if valor in lista:\n",
        "    return list.index(lista, valor) # list.index(de dónde lo queres buscar, qué queres buscar)\n",
        "  else:\n",
        "    return -1 "
      ],
      "metadata": {
        "id": "VizLieUyvfUh"
      },
      "execution_count": null,
      "outputs": []
    },
    {
      "cell_type": "code",
      "source": [
        "obtener_indice(12, [5, 7, 12, 34, 54, 2, 12])"
      ],
      "metadata": {
        "colab": {
          "base_uri": "https://localhost:8080/"
        },
        "id": "3Jy-SulZv2gO",
        "outputId": "b89f0b5b-4d9f-4db8-a313-257ad754a7a8"
      },
      "execution_count": null,
      "outputs": [
        {
          "output_type": "execute_result",
          "data": {
            "text/plain": [
              "2"
            ]
          },
          "metadata": {},
          "execution_count": 37
        }
      ]
    },
    {
      "cell_type": "code",
      "source": [
        "obtener_indice(83, [5, 7, 12, 34, 54, 2, 12])"
      ],
      "metadata": {
        "colab": {
          "base_uri": "https://localhost:8080/"
        },
        "id": "JjX1yw0Uv832",
        "outputId": "03bf5a13-6fb2-473f-87ea-162d88204f7c"
      },
      "execution_count": null,
      "outputs": [
        {
          "output_type": "execute_result",
          "data": {
            "text/plain": [
              "-1"
            ]
          },
          "metadata": {},
          "execution_count": 38
        }
      ]
    },
    {
      "cell_type": "markdown",
      "source": [
        "**2. repetir(valor, cantidad)**\n",
        "\n",
        "Definí una función repetir que tome como argumento un valor valor y un número entero cantidad, y devuelva una lista con valor repetido cantidad de veces.\n",
        "\n",
        "\n",
        "```\n",
        "repetir('lovelace', 3)\n",
        "['lovelace', 'lovelace', 'lovelace']\n",
        "repetir('a', 5)\n",
        "['a', 'a', 'a', 'a', 'a']\n",
        "repetir('python', 0)\n",
        "[]\n",
        "```\n",
        "\n",
        "\n"
      ],
      "metadata": {
        "id": "zzcEu7mYwtIJ"
      }
    },
    {
      "cell_type": "code",
      "source": [
        "def repetir(valor, cantidad): \n",
        "  resultado = []\n",
        "  for i in range(cantidad):\n",
        "    resultado.append(valor)\n",
        "  return resultado "
      ],
      "metadata": {
        "id": "RwVn92ILwxhy"
      },
      "execution_count": null,
      "outputs": []
    },
    {
      "cell_type": "code",
      "source": [
        "repetir('lovelace', 3)"
      ],
      "metadata": {
        "colab": {
          "base_uri": "https://localhost:8080/"
        },
        "id": "Im1PHNdxxDgA",
        "outputId": "89d4d8bd-14f2-4d34-cc77-3fc1060a67d9"
      },
      "execution_count": null,
      "outputs": [
        {
          "output_type": "execute_result",
          "data": {
            "text/plain": [
              "['lovelace', 'lovelace', 'lovelace']"
            ]
          },
          "metadata": {},
          "execution_count": 51
        }
      ]
    },
    {
      "cell_type": "code",
      "source": [
        "repetir('python', 0)"
      ],
      "metadata": {
        "colab": {
          "base_uri": "https://localhost:8080/"
        },
        "id": "Bzx2nv1kxbs2",
        "outputId": "3594f82f-e2f6-42a6-d6ba-79431d8c85aa"
      },
      "execution_count": null,
      "outputs": [
        {
          "output_type": "execute_result",
          "data": {
            "text/plain": [
              "[]"
            ]
          },
          "metadata": {},
          "execution_count": 31
        }
      ]
    },
    {
      "cell_type": "markdown",
      "source": [
        "**3. sumar_impares_hasta(numero)**\n",
        "\n",
        "Definí una función sumar_impares_hasta que tome como argumento un número numero y que devuelva la suma de todos los impares empezando desde 0 hasta dicho numero inclusive.\n",
        "\n",
        "\n",
        "```\n",
        "sumar_impares_hasta(5)\n",
        "9 #(1 + 3 + 5 = 9)\n",
        "sumar_impares_hasta(13)\n",
        "49\n",
        "sumar_impares_hasta(47)\n",
        "576\n",
        "```\n",
        "\n"
      ],
      "metadata": {
        "id": "HmAnvxYGxhcJ"
      }
    },
    {
      "cell_type": "code",
      "source": [
        "def sumar_impares_hasta(numero): \n",
        "  suma = 0\n",
        "  for numeros in range(1, numero, 2): #desde el 1, hasta numero, de 2 en 2 porque empieza en impar y sigue\n",
        "    suma += numeros\n",
        "  return suma + numero # le sumo el numero que invoco "
      ],
      "metadata": {
        "id": "rmKyFoLmxmJJ"
      },
      "execution_count": null,
      "outputs": []
    },
    {
      "cell_type": "code",
      "source": [
        "sumar_impares_hasta(5)"
      ],
      "metadata": {
        "colab": {
          "base_uri": "https://localhost:8080/"
        },
        "id": "S0ay9ToDx8dB",
        "outputId": "72cdd049-9105-41ae-a999-dd74b0eee03b"
      },
      "execution_count": null,
      "outputs": [
        {
          "output_type": "execute_result",
          "data": {
            "text/plain": [
              "9"
            ]
          },
          "metadata": {},
          "execution_count": 35
        }
      ]
    },
    {
      "cell_type": "markdown",
      "source": [
        "**4. cuenta_regresiva(numero_inicial)**\n",
        "\n",
        "Definí una función cuenta_regresiva que tome como argumento un número entero numero_inicial y que devuelva un lista con cuyo primer ítem sea numero_inicial y los demás ítems sean números enteros sucesivos descendientes, hasta llegar a 0.\n",
        "\n",
        "\n",
        "```\n",
        "cuenta_regresiva(3)\n",
        "[3, 2, 1, 0]\n",
        "cuenta_regresiva(5)\n",
        "[5, 4, 3, 2, 1, 0]\n",
        "```\n",
        "\n",
        "\n"
      ],
      "metadata": {
        "id": "-ufdqrJhGaln"
      }
    },
    {
      "cell_type": "code",
      "source": [
        "def cuenta_regresiva(numero_inicial): \n",
        "  contador = []\n",
        "  for i in range(numero_inicial + 1): \n",
        "    contador.append(numero_inicial - i)\n",
        "  return contador"
      ],
      "metadata": {
        "id": "lRRBOhnZGfNX"
      },
      "execution_count": null,
      "outputs": []
    },
    {
      "cell_type": "code",
      "source": [
        "a = [1,2,3,4,5,6]\n",
        "a.pop(3)"
      ],
      "metadata": {
        "colab": {
          "base_uri": "https://localhost:8080/"
        },
        "id": "katbKtrQWbKJ",
        "outputId": "56b28a88-e93f-4855-b9d1-355456a01ad4"
      },
      "execution_count": null,
      "outputs": [
        {
          "output_type": "execute_result",
          "data": {
            "text/plain": [
              "4"
            ]
          },
          "metadata": {},
          "execution_count": 178
        }
      ]
    },
    {
      "cell_type": "code",
      "source": [
        "cuenta_regresiva(5)"
      ],
      "metadata": {
        "colab": {
          "base_uri": "https://localhost:8080/"
        },
        "id": "-F793XBCH9Z-",
        "outputId": "d3a3657e-bfa4-461c-b79c-d452ac432594"
      },
      "execution_count": null,
      "outputs": [
        {
          "output_type": "execute_result",
          "data": {
            "text/plain": [
              "[5, 4, 3, 2, 1, 0]"
            ]
          },
          "metadata": {},
          "execution_count": 18
        }
      ]
    },
    {
      "cell_type": "code",
      "source": [
        "cuenta_regresiva(3)"
      ],
      "metadata": {
        "colab": {
          "base_uri": "https://localhost:8080/"
        },
        "id": "C12WbiCVH6KH",
        "outputId": "3e9c225c-57b8-40a7-f197-82a31027a711"
      },
      "execution_count": null,
      "outputs": [
        {
          "output_type": "execute_result",
          "data": {
            "text/plain": [
              "[3, 2, 1, 0]"
            ]
          },
          "metadata": {},
          "execution_count": 17
        }
      ]
    },
    {
      "cell_type": "markdown",
      "source": [
        "**5. invertir(lista)**\n",
        "\n",
        "Definí una función invertir que tome como argumento un lista lista y que devuelva un lista con los mismos valores pero en orden invertido.\n",
        "\n",
        "\n",
        "```\n",
        ">>> invertir([1, 2, 3])\n",
        "[3, 2, 1]\n",
        ">>> invertir([5, 7, 99, 34, 54, 2, 12])\n",
        "[12, 2, 54, 34, 99, 7, 5]\n",
        "```\n"
      ],
      "metadata": {
        "id": "w0h1LuZ3JLjp"
      }
    },
    {
      "cell_type": "code",
      "source": [
        "def invertir(lista): \n",
        "  return lista[::-1]"
      ],
      "metadata": {
        "id": "vXTUMLezJQCl"
      },
      "execution_count": null,
      "outputs": []
    },
    {
      "cell_type": "code",
      "source": [
        "invertir([1, 2, 3])"
      ],
      "metadata": {
        "colab": {
          "base_uri": "https://localhost:8080/"
        },
        "id": "ONHsXVhfJZHn",
        "outputId": "e8ca5cd0-f169-49bd-f031-d904f106ce75"
      },
      "execution_count": null,
      "outputs": [
        {
          "output_type": "execute_result",
          "data": {
            "text/plain": [
              "[3, 2, 1]"
            ]
          },
          "metadata": {},
          "execution_count": 20
        }
      ]
    },
    {
      "cell_type": "code",
      "source": [
        "invertir([5, 7, 99, 34, 54, 2, 12])"
      ],
      "metadata": {
        "colab": {
          "base_uri": "https://localhost:8080/"
        },
        "id": "xZzyEEIwJbRM",
        "outputId": "fc262622-c89a-470e-eb2e-646950c3bb16"
      },
      "execution_count": null,
      "outputs": [
        {
          "output_type": "execute_result",
          "data": {
            "text/plain": [
              "[12, 2, 54, 34, 99, 7, 5]"
            ]
          },
          "metadata": {},
          "execution_count": 21
        }
      ]
    },
    {
      "cell_type": "markdown",
      "source": [
        "**6. remover_duplicados(lista)**\n",
        "\n",
        "Definí una función remover_duplicados que tome como argumento un lista lista y que devuelva un lista con los mismos valores de lista pero sin valores duplicados.\n",
        "\n",
        "\n",
        "```\n",
        ">>> remover_duplicados([1, 1, 1])\n",
        "[1]\n",
        ">>> remover_duplicados([1, 1, 2, 2, 3, 3])\n",
        "[1, 2 ,3]\n",
        ">>> remover_duplicados([5, 23, 8, 5, 5, 44, 23])\n",
        "[5, 23 ,8, 44]\n",
        "```\n",
        "\n",
        "\n"
      ],
      "metadata": {
        "id": "F1elkcSqJgmF"
      }
    },
    {
      "cell_type": "code",
      "source": [
        "def remover_duplicados(lista): \n",
        "  sin_duplicados = []\n",
        "  for i in lista: \n",
        "    if i not in sin_duplicados: \n",
        "      sin_duplicados.append(i)\n",
        "  return sin_duplicados"
      ],
      "metadata": {
        "id": "7lHjkBrBJkqN"
      },
      "execution_count": null,
      "outputs": []
    },
    {
      "cell_type": "code",
      "source": [
        "remover_duplicados([1, 1, 1])"
      ],
      "metadata": {
        "colab": {
          "base_uri": "https://localhost:8080/"
        },
        "id": "LRv7qNMBK57e",
        "outputId": "27e8a978-699b-4bb1-ca0e-d44d0a993ad8"
      },
      "execution_count": null,
      "outputs": [
        {
          "output_type": "execute_result",
          "data": {
            "text/plain": [
              "[1]"
            ]
          },
          "metadata": {},
          "execution_count": 29
        }
      ]
    },
    {
      "cell_type": "code",
      "source": [
        "remover_duplicados([1, 1, 2, 2, 3, 3])"
      ],
      "metadata": {
        "colab": {
          "base_uri": "https://localhost:8080/"
        },
        "id": "fAqBbperK8A_",
        "outputId": "a07475dc-057f-4db8-cb81-9c219338da3c"
      },
      "execution_count": null,
      "outputs": [
        {
          "output_type": "execute_result",
          "data": {
            "text/plain": [
              "[1, 2, 3]"
            ]
          },
          "metadata": {},
          "execution_count": 30
        }
      ]
    },
    {
      "cell_type": "code",
      "source": [
        "remover_duplicados([5, 23, 8, 5, 5, 44, 23])"
      ],
      "metadata": {
        "colab": {
          "base_uri": "https://localhost:8080/"
        },
        "id": "qQIQwHf8K-oU",
        "outputId": "74aef0d8-f052-43d5-f8de-55cbd5181db6"
      },
      "execution_count": null,
      "outputs": [
        {
          "output_type": "execute_result",
          "data": {
            "text/plain": [
              "[5, 23, 8, 44]"
            ]
          },
          "metadata": {},
          "execution_count": 31
        }
      ]
    },
    {
      "cell_type": "markdown",
      "source": [
        "**7. repetir_letras(palabra, cantidad)**\n",
        "\n",
        "Definí una función repetir_letras que tome como argumento un string palabra y un número entero cantidad, y devuelva una string donde cada letra de palabra esté repetida cantidad de veces.\n",
        "\n",
        "\n",
        "```\n",
        ">>> repetir_letras('hola', 2)\n",
        "'hhoollaa'\n",
        ">>> repetir_letras('ada', 3)\n",
        "'aaadddaaa'\n",
        ">>> repetir_letras('ah!', 5)\n",
        "'aaaaahhhhh!!!!!'\n",
        ">>> repetir_letras('basta', 1)\n",
        "'basta'\n",
        "```\n",
        "\n",
        "\n"
      ],
      "metadata": {
        "id": "9lNKsrfhLCo0"
      }
    },
    {
      "cell_type": "code",
      "source": [
        "def repetir_letras(palabra, cantidad):\n",
        "  concatenado = ''\n",
        "  for i in palabra: \n",
        "    concatenado += i*cantidad\n",
        "  return concatenado"
      ],
      "metadata": {
        "id": "sIoHdq8hLB8N"
      },
      "execution_count": null,
      "outputs": []
    },
    {
      "cell_type": "code",
      "source": [
        "repetir_letras('hola', 2)"
      ],
      "metadata": {
        "colab": {
          "base_uri": "https://localhost:8080/",
          "height": 35
        },
        "id": "wF3hB_qvMa1V",
        "outputId": "a674f900-523b-4cb9-f829-c1339b56aa35"
      },
      "execution_count": null,
      "outputs": [
        {
          "output_type": "execute_result",
          "data": {
            "text/plain": [
              "'hhoollaa'"
            ],
            "application/vnd.google.colaboratory.intrinsic+json": {
              "type": "string"
            }
          },
          "metadata": {},
          "execution_count": 37
        }
      ]
    },
    {
      "cell_type": "code",
      "source": [
        "repetir_letras('ada', 3)"
      ],
      "metadata": {
        "colab": {
          "base_uri": "https://localhost:8080/",
          "height": 35
        },
        "id": "mF1QVF2kNsSX",
        "outputId": "414878da-774d-4827-d0d1-31cb72576acb"
      },
      "execution_count": null,
      "outputs": [
        {
          "output_type": "execute_result",
          "data": {
            "text/plain": [
              "'aaadddaaa'"
            ],
            "application/vnd.google.colaboratory.intrinsic+json": {
              "type": "string"
            }
          },
          "metadata": {},
          "execution_count": 38
        }
      ]
    },
    {
      "cell_type": "markdown",
      "source": [
        "**8. capitalizar_palabras(string)**\n",
        "\n",
        "Definí una función capitalizar_palabras tome como argumento un string string y devuelva un string donde cada palabra está capitalizada (con la primera letra máyuscula). Dejar las demás letras como están.\n",
        "\n",
        "\n",
        "```\n",
        ">>> capitalizar_palabras('Esto es un título')\n",
        "'Esto Es Un Título'\n",
        ">>> capitalizar_palabras('había una vez')\n",
        "'Había Una Vez'\n",
        ">>> capitalizar_palabras('OMG')\n",
        "'OMG'\n",
        "```\n",
        "\n",
        "\n"
      ],
      "metadata": {
        "id": "a7usjofmNwTM"
      }
    },
    {
      "cell_type": "code",
      "source": [
        "def capitalizar_palabras(string): \n",
        "  return string.title()"
      ],
      "metadata": {
        "id": "i8c3a5vAi3wF"
      },
      "execution_count": null,
      "outputs": []
    },
    {
      "cell_type": "code",
      "source": [
        "capitalizar_palabras('Esto es un título') "
      ],
      "metadata": {
        "colab": {
          "base_uri": "https://localhost:8080/",
          "height": 35
        },
        "id": "_O2HZkCQjCff",
        "outputId": "7f6b4f87-ecf4-41ed-8ec1-5a085e0bf6b0"
      },
      "execution_count": null,
      "outputs": [
        {
          "output_type": "execute_result",
          "data": {
            "text/plain": [
              "'Esto Es Un Título'"
            ],
            "application/vnd.google.colaboratory.intrinsic+json": {
              "type": "string"
            }
          },
          "metadata": {},
          "execution_count": 2
        }
      ]
    },
    {
      "cell_type": "code",
      "source": [
        "capitalizar_palabras('había una vez') "
      ],
      "metadata": {
        "colab": {
          "base_uri": "https://localhost:8080/",
          "height": 35
        },
        "id": "8ReDTDXYjHDw",
        "outputId": "953d96cb-f584-447f-a951-945721153159"
      },
      "execution_count": null,
      "outputs": [
        {
          "output_type": "execute_result",
          "data": {
            "text/plain": [
              "'Había Una Vez'"
            ],
            "application/vnd.google.colaboratory.intrinsic+json": {
              "type": "string"
            }
          },
          "metadata": {},
          "execution_count": 3
        }
      ]
    },
    {
      "cell_type": "code",
      "source": [
        "# Franco\n",
        "def capitalizar_palabras(str): \n",
        "  lista_palabras = str.split(\" \")\n",
        "  str_capitalizado = capitalizar_palabra(lista_palabras[0])\n",
        "\n",
        "  for palabra in lista_palabras[1:]: \n",
        "    str_capitalizado += \" \"\n",
        "    str_capitalizado += capitalizar_palabra(palabra)\n",
        "\n",
        "  return str_capitalizado\n",
        "\n",
        "def capitalizar_palabra(palabra): \n",
        "  return str.upper(palabra[0]) + palabra[1:]"
      ],
      "metadata": {
        "id": "biXrH8a9f4hh"
      },
      "execution_count": null,
      "outputs": []
    },
    {
      "cell_type": "code",
      "source": [
        "capitalizar_palabras('Esto es un título')"
      ],
      "metadata": {
        "colab": {
          "base_uri": "https://localhost:8080/",
          "height": 35
        },
        "id": "8_za-TpIidT7",
        "outputId": "0b8fed8d-e6f1-448d-e88e-dac2a8b09379"
      },
      "execution_count": null,
      "outputs": [
        {
          "output_type": "execute_result",
          "data": {
            "text/plain": [
              "'Esto Es Un Título'"
            ],
            "application/vnd.google.colaboratory.intrinsic+json": {
              "type": "string"
            }
          },
          "metadata": {},
          "execution_count": 11
        }
      ]
    },
    {
      "cell_type": "code",
      "source": [
        "capitalizar_palabras('había una vez')"
      ],
      "metadata": {
        "colab": {
          "base_uri": "https://localhost:8080/",
          "height": 35
        },
        "id": "T9Aq8DzqhwYQ",
        "outputId": "3d4ff353-eede-4de4-eb63-86fff07484a4"
      },
      "execution_count": null,
      "outputs": [
        {
          "output_type": "execute_result",
          "data": {
            "text/plain": [
              "'Había Una Vez'"
            ],
            "application/vnd.google.colaboratory.intrinsic+json": {
              "type": "string"
            }
          },
          "metadata": {},
          "execution_count": 12
        }
      ]
    },
    {
      "cell_type": "markdown",
      "source": [
        "**9. sumar_seccion(lista, comienzo, cantidad)**\n",
        "\n",
        "Definí una función sumar_seccion que tome como argumento un lista de números enteros lista, un número entero comienzo y un número entero cantidad, y que devuelva la suma de cantidad de números de lista empezando a contar desde el ítem con índice comienzo.\n",
        "\n",
        "\n",
        "```\n",
        ">>> sumar_seccion([2, 2, 4, 3, 10, 20, 5], 0, 3)\n",
        "8 #(2 + 2 + 4 = 8)\n",
        ">>> sumar_seccion([2, 2, 4, 3, 10, 20, 5], 2, 4)\n",
        "37 #(4 + 3 + 10 + 20 = 37)\n",
        ">>> sumar_seccion([2, 2, 4, 3, 10, 20, 5], 4, 1)\n",
        "3\n",
        "```\n",
        "\n",
        "\n"
      ],
      "metadata": {
        "id": "yANAl_I4Qcwd"
      }
    },
    {
      "cell_type": "code",
      "source": [
        "def sumar_seccion(lista, comienzo, cantidad): \n",
        "  suma = 0\n",
        "  for i in lista[comienzo:(comienzo+cantidad)]: \n",
        "      suma += i\n",
        "  return suma "
      ],
      "metadata": {
        "id": "dB07Q3_kkt8o"
      },
      "execution_count": null,
      "outputs": []
    },
    {
      "cell_type": "code",
      "source": [
        "sumar_seccion([2, 2, 4, 3, 10, 20, 5], 0, 3)"
      ],
      "metadata": {
        "colab": {
          "base_uri": "https://localhost:8080/"
        },
        "id": "PpMlHdpTllBT",
        "outputId": "31cb1e8c-f099-450b-b37f-f887956ca0a8"
      },
      "execution_count": null,
      "outputs": [
        {
          "output_type": "execute_result",
          "data": {
            "text/plain": [
              "8"
            ]
          },
          "metadata": {},
          "execution_count": 17
        }
      ]
    },
    {
      "cell_type": "code",
      "source": [
        "sumar_seccion([2, 2, 4, 3, 10, 20, 5], 2, 4)"
      ],
      "metadata": {
        "colab": {
          "base_uri": "https://localhost:8080/"
        },
        "id": "ERFnx84Ulmpk",
        "outputId": "ac4634b6-39f6-48e0-8ce6-353e58e5927e"
      },
      "execution_count": null,
      "outputs": [
        {
          "output_type": "execute_result",
          "data": {
            "text/plain": [
              "37"
            ]
          },
          "metadata": {},
          "execution_count": 23
        }
      ]
    },
    {
      "cell_type": "code",
      "source": [
        "sumar_seccion([2, 2, 4, 3, 10, 20, 5], 4, 1)\n",
        "#me da mal Franco"
      ],
      "metadata": {
        "colab": {
          "base_uri": "https://localhost:8080/"
        },
        "id": "6C1iliqXl_HO",
        "outputId": "ad469a84-e05b-4cd4-93dd-006287ea5f3c"
      },
      "execution_count": null,
      "outputs": [
        {
          "output_type": "execute_result",
          "data": {
            "text/plain": [
              "10"
            ]
          },
          "metadata": {},
          "execution_count": 25
        }
      ]
    },
    {
      "cell_type": "markdown",
      "source": [
        "**10. es_subconjunto(subconjunto, conjunto)**\n",
        "\n",
        "Definí una función es_subconjunto que tome como argumento dos listas, subconjunto y conjunto, y devuelva True si subconjunto es realmente subconjunto de conjunto, es decir, si todos los valores de subconjunto están en conjunto.\n",
        "\n",
        "\n",
        "```\n",
        ">>> es_subconjunto([1], [1, 2, 3])\n",
        "True\n",
        ">>> es_subconjunto([1, 2, 3], [1, 2, 3, 4, 5])\n",
        "True\n",
        ">>> es_subconjunto([27, 49, 54], [54, 27, 8, 27, 49])\n",
        "True\n",
        ">>> es_subconjunto([1, 2, 3], [1, 2])\n",
        "False\n",
        ">>> es_subconjunto([1], [2, 3, 4])\n",
        "False\n",
        "```\n",
        "\n"
      ],
      "metadata": {
        "id": "FnVGIb-YSFmZ"
      }
    },
    {
      "cell_type": "code",
      "source": [
        "def es_subconjunto(subconjunto, conjunto): \n",
        "  es_sub = True\n",
        "  for i in subconjunto: \n",
        "    es_sub = es_sub and (i in conjunto)\n",
        "  return es_sub"
      ],
      "metadata": {
        "id": "sog9bb05kTfn"
      },
      "execution_count": null,
      "outputs": []
    },
    {
      "cell_type": "code",
      "source": [
        "es_subconjunto([1], [1, 2, 3])"
      ],
      "metadata": {
        "colab": {
          "base_uri": "https://localhost:8080/"
        },
        "id": "Rfe6Pqn_lCTa",
        "outputId": "92f06d2e-97bf-4e83-845a-ec4298519c1d"
      },
      "execution_count": null,
      "outputs": [
        {
          "output_type": "execute_result",
          "data": {
            "text/plain": [
              "True"
            ]
          },
          "metadata": {},
          "execution_count": 23
        }
      ]
    },
    {
      "cell_type": "code",
      "source": [
        "es_subconjunto([1, 2, 3], [1, 2])"
      ],
      "metadata": {
        "colab": {
          "base_uri": "https://localhost:8080/"
        },
        "id": "3RSj3SojlT5r",
        "outputId": "030f57e5-69c2-4d48-977f-40a10493ece2"
      },
      "execution_count": null,
      "outputs": [
        {
          "output_type": "execute_result",
          "data": {
            "text/plain": [
              "False"
            ]
          },
          "metadata": {},
          "execution_count": 24
        }
      ]
    },
    {
      "cell_type": "markdown",
      "source": [
        "**11. tiene_bloque(lista)**\n",
        "\n",
        "Definí una función tiene_bloque que tome como argumento un lista lista y devuelva True si dicho lista tiene un bloque de 3 o más ítems consecutivos idénticos, o False si no tiene.\n",
        "\n",
        "\n",
        "```\n",
        ">>> tiene_bloque([1, 2, 3])\n",
        "False\n",
        ">>> tiene_bloque([1, 1, 1, 2, 3])\n",
        "True\n",
        ">>> tiene_bloque([1, 2, 3, 3, 3])\n",
        "True\n",
        ">>> tiene_bloque([1, 2, 3, 3, 3, 8])\n",
        "True\n",
        ">>> tiene_bloque([1, 2, 2, 3, 3, 4])\n",
        "False\n",
        "```\n",
        "\n",
        "\n"
      ],
      "metadata": {
        "id": "4HtsESFeinf4"
      }
    },
    {
      "cell_type": "code",
      "source": [
        "def tiene_bloque(lista): \n",
        "  bloque = False\n",
        "  for i in lista: \n",
        "    bloque = lista.count(i) >= 3 or bloque\n",
        "    '''opciones posibles --> True or False --> T \n",
        "                             False or False --> F'''\n",
        "  return bloque "
      ],
      "metadata": {
        "id": "peD0yQdkiRh7"
      },
      "execution_count": null,
      "outputs": []
    },
    {
      "cell_type": "code",
      "source": [
        "tiene_bloque([1, 2, 3])"
      ],
      "metadata": {
        "colab": {
          "base_uri": "https://localhost:8080/"
        },
        "id": "Lo5mKEoYi8AA",
        "outputId": "6a463f56-2c20-43c9-973c-44b8ce671bd8"
      },
      "execution_count": null,
      "outputs": [
        {
          "output_type": "execute_result",
          "data": {
            "text/plain": [
              "False"
            ]
          },
          "metadata": {},
          "execution_count": 16
        }
      ]
    },
    {
      "cell_type": "code",
      "source": [
        "tiene_bloque([1, 1, 1, 2, 3])"
      ],
      "metadata": {
        "colab": {
          "base_uri": "https://localhost:8080/"
        },
        "id": "AG2-UYSQi9wc",
        "outputId": "b4442cd6-a235-451b-8851-ad6ccdc2170d"
      },
      "execution_count": null,
      "outputs": [
        {
          "output_type": "execute_result",
          "data": {
            "text/plain": [
              "True"
            ]
          },
          "metadata": {},
          "execution_count": 17
        }
      ]
    },
    {
      "cell_type": "code",
      "source": [
        "tiene_bloque([1, 2, 3, 3, 3])"
      ],
      "metadata": {
        "colab": {
          "base_uri": "https://localhost:8080/"
        },
        "id": "0wQ9lIoVjOZo",
        "outputId": "f49780c0-cb45-418c-f10d-1c885a6457d5"
      },
      "execution_count": null,
      "outputs": [
        {
          "output_type": "execute_result",
          "data": {
            "text/plain": [
              "True"
            ]
          },
          "metadata": {},
          "execution_count": 18
        }
      ]
    },
    {
      "cell_type": "markdown",
      "source": [
        "**12. es_palindromo(palabra)**\n",
        "\n",
        "Definí una función es_palindromo que tenga como parámetro un string palabra y devuelva True si dicha palabra es palíndroma, es decir, si puede leerse de igual manera de izquierda a derecha que de derecha a izquierda, o False sino.\n",
        "\n",
        "\n",
        "```\n",
        ">>> es_palindromo('kayak')\n",
        "True\n",
        ">>> es_palindromo('reconocer')\n",
        "True\n",
        ">>> es_palindromo('mama')\n",
        "False\n",
        ">>> es_palindromo('python')\n",
        "False\n",
        "```\n",
        "\n",
        "\n"
      ],
      "metadata": {
        "id": "CdjlWcL1iseB"
      }
    },
    {
      "cell_type": "code",
      "source": [
        "def es_palindromo(palabra): \n",
        "  return palabra == palabra[::-1]"
      ],
      "metadata": {
        "id": "vYuOpPMhmPdn"
      },
      "execution_count": null,
      "outputs": []
    },
    {
      "cell_type": "code",
      "source": [
        "es_palindromo('kayak')"
      ],
      "metadata": {
        "colab": {
          "base_uri": "https://localhost:8080/"
        },
        "id": "Iz6USVkLmfdJ",
        "outputId": "2bbbcbc4-acf5-46a0-d222-448a5572fc67"
      },
      "execution_count": null,
      "outputs": [
        {
          "output_type": "execute_result",
          "data": {
            "text/plain": [
              "True"
            ]
          },
          "metadata": {},
          "execution_count": 38
        }
      ]
    },
    {
      "cell_type": "code",
      "source": [
        "es_palindromo('mama')"
      ],
      "metadata": {
        "colab": {
          "base_uri": "https://localhost:8080/"
        },
        "id": "EYUMvZf4mhVA",
        "outputId": "27b8fa68-4684-4169-aa9c-b99e9366b560"
      },
      "execution_count": null,
      "outputs": [
        {
          "output_type": "execute_result",
          "data": {
            "text/plain": [
              "False"
            ]
          },
          "metadata": {},
          "execution_count": 39
        }
      ]
    },
    {
      "cell_type": "markdown",
      "source": [
        "**13. agregar_al_principio(lista, elemento)**\n",
        "\n",
        "Definí un procedimiento agregar_al_principio que agregue un elemento al principio de una lista (y no al final, como lo haría push)\n",
        "\n",
        "\n",
        "```\n",
        ">>> unos_numeros = [3, 5, 9]\n",
        ">>> agregar_al_principio(unos_numeros, 1)\n",
        ">>> unos_numeros\n",
        "[1, 3, 5, 9]\n",
        ">>> unos_string = [\"mundo\", \"!\"]\n",
        ">>> agregar_al_principio(unos_strings, \"hola\")\n",
        ">>> unos_strings\n",
        "[\"hola\", \"mundo\", \"!\"]\n",
        "```\n",
        "\n",
        "\n"
      ],
      "metadata": {
        "id": "8et_ErN5ix3E"
      }
    },
    {
      "cell_type": "code",
      "source": [
        "def agregar_al_principio(lista, elemento): \n",
        "  return lista.insert(0, elemento)"
      ],
      "metadata": {
        "id": "QFnfqnEfmwoe"
      },
      "execution_count": null,
      "outputs": []
    },
    {
      "cell_type": "code",
      "source": [
        "unos_numeros = [3, 5, 9]\n",
        "agregar_al_principio(unos_numeros, 1)\n",
        "unos_numeros"
      ],
      "metadata": {
        "colab": {
          "base_uri": "https://localhost:8080/"
        },
        "id": "XYeALGt4oAIY",
        "outputId": "c5c934bc-e24f-4834-81e8-05b99ff26c55"
      },
      "execution_count": null,
      "outputs": [
        {
          "output_type": "execute_result",
          "data": {
            "text/plain": [
              "[1, 3, 5, 9]"
            ]
          },
          "metadata": {},
          "execution_count": 26
        }
      ]
    },
    {
      "cell_type": "markdown",
      "source": [
        "### Ejercicios agregaciones "
      ],
      "metadata": {
        "id": "BEvKV4Pc43VX"
      }
    },
    {
      "cell_type": "code",
      "source": [
        "# Hecho"
      ],
      "metadata": {
        "id": "HKbpzT1ORSg6"
      },
      "execution_count": null,
      "outputs": []
    },
    {
      "cell_type": "markdown",
      "source": [
        "**1. promedio**\n",
        "\n",
        "Definí la función promedio que calcule el promedio de una lista (no vacía) de números."
      ],
      "metadata": {
        "id": "yKy5exRJ47pi"
      }
    },
    {
      "cell_type": "code",
      "source": [
        "def promedio(lista_numeros): \n",
        "  return sum(lista_numeros) / len(lista_numeros)"
      ],
      "metadata": {
        "id": "wQQPPWNg7Jtr"
      },
      "execution_count": null,
      "outputs": []
    },
    {
      "cell_type": "code",
      "source": [
        "notas = [10, 4, 2, 9, 8, 8]\n",
        "promedio(notas)"
      ],
      "metadata": {
        "colab": {
          "base_uri": "https://localhost:8080/"
        },
        "id": "FbGXtrqh7fOZ",
        "outputId": "23db5d24-849e-4f5c-e778-85e6c289e1bd"
      },
      "execution_count": null,
      "outputs": [
        {
          "output_type": "execute_result",
          "data": {
            "text/plain": [
              "6.833333333333333"
            ]
          },
          "metadata": {},
          "execution_count": 47
        }
      ]
    },
    {
      "cell_type": "markdown",
      "source": [
        "**2. maximo y minimo**\n",
        "\n",
        "Definí las funciones maximo y mínimo que obtengan el valor más grande y más chico de una lista (no vacía) de números, respectivamente."
      ],
      "metadata": {
        "id": "LygToaR968-x"
      }
    },
    {
      "cell_type": "code",
      "source": [
        "def maximo(lista_numeros): \n",
        "  valor_maximo = None\n",
        "\n",
        "  for numero in lista_numeros: \n",
        "    if valor_maximo is None or numero > valor_maximo: \n",
        "      valor_maximo = numero\n",
        "\n",
        "  return valor_maximo "
      ],
      "metadata": {
        "id": "QMfcRLvy9xGK"
      },
      "execution_count": null,
      "outputs": []
    },
    {
      "cell_type": "code",
      "source": [
        "maximo(notas)"
      ],
      "metadata": {
        "colab": {
          "base_uri": "https://localhost:8080/"
        },
        "id": "cxxXPWLM-azR",
        "outputId": "15f49dd7-0aad-4832-fb52-7cc283c98472"
      },
      "execution_count": null,
      "outputs": [
        {
          "output_type": "execute_result",
          "data": {
            "text/plain": [
              "10"
            ]
          },
          "metadata": {},
          "execution_count": 57
        }
      ]
    },
    {
      "cell_type": "code",
      "source": [
        "maximo([])"
      ],
      "metadata": {
        "id": "JKgjQWTkA0hU"
      },
      "execution_count": null,
      "outputs": []
    },
    {
      "cell_type": "code",
      "source": [
        "def minimo(lista_numeros): \n",
        "  valor_minimo = None\n",
        "\n",
        "  for numero in lista_numeros: \n",
        "    if valor_minimo is None or numero < valor_minimo: \n",
        "      valor_minimo = numero\n",
        "\n",
        "  return valor_minimo"
      ],
      "metadata": {
        "id": "a2BZdYD8-d5A"
      },
      "execution_count": null,
      "outputs": []
    },
    {
      "cell_type": "code",
      "source": [
        "minimo(notas)"
      ],
      "metadata": {
        "colab": {
          "base_uri": "https://localhost:8080/"
        },
        "id": "I9wUfNfO-35-",
        "outputId": "54f2a169-7f92-4dc5-813c-847e92f5dc1a"
      },
      "execution_count": null,
      "outputs": [
        {
          "output_type": "execute_result",
          "data": {
            "text/plain": [
              "2"
            ]
          },
          "metadata": {},
          "execution_count": 59
        }
      ]
    },
    {
      "cell_type": "markdown",
      "source": [
        "**3. mediana**\n",
        "\n",
        "Definí la función mediana, que devuelva la mediana de una lista (no vacía) de números. Ejemplo:\n",
        "\n",
        "\n",
        "```\n",
        ">>> mediana([1, 2, 3, 4, 18, 20])\n",
        "3\n",
        ">>> mediana([48, 18, 2, 4])\n",
        "4\n",
        "```\n",
        "Ayuda\n",
        "la mediana se obtiene obteniendo el elemento del medio tras ordenar la lista de menor a mayor.\n",
        "las siguientes funciones pueden ser útiles: int, rount, sorted"
      ],
      "metadata": {
        "id": "Lg6238wP6-jU"
      }
    },
    {
      "cell_type": "code",
      "source": [
        "def elemento_del_medio(lista):\n",
        "  return lista[int(len(lista) / 2) -1]\n",
        "\n",
        "def mediana(lista): \n",
        "  return elemento_del_medio(sorted(lista))"
      ],
      "metadata": {
        "id": "jk86oqJhiiAW"
      },
      "execution_count": null,
      "outputs": []
    },
    {
      "cell_type": "code",
      "source": [
        "mediana([1, 2, 3, 4, 18, 20])"
      ],
      "metadata": {
        "colab": {
          "base_uri": "https://localhost:8080/"
        },
        "id": "YrnShG8Zkohw",
        "outputId": "70b89a66-bb07-4293-e734-e9ebb366fad7"
      },
      "execution_count": null,
      "outputs": [
        {
          "output_type": "execute_result",
          "data": {
            "text/plain": [
              "3"
            ]
          },
          "metadata": {},
          "execution_count": 20
        }
      ]
    },
    {
      "cell_type": "code",
      "source": [
        "mediana([48, 18, 2, 4])"
      ],
      "metadata": {
        "colab": {
          "base_uri": "https://localhost:8080/"
        },
        "id": "sxf_kFGinixK",
        "outputId": "e8bcc0f8-2af7-4c8c-dd18-e5cec11dada8"
      },
      "execution_count": null,
      "outputs": [
        {
          "output_type": "execute_result",
          "data": {
            "text/plain": [
              "4"
            ]
          },
          "metadata": {},
          "execution_count": 21
        }
      ]
    },
    {
      "cell_type": "markdown",
      "source": [
        "**4. cuantil**\n",
        "\n",
        "Definí la función cuantil, que tome una lista y un número entre 0 y 1 y retorne el valor del cuantil correspondiente:\n",
        "\n",
        "\n",
        "```\n",
        ">>> cuantil([1, 2, 3, 4, 18, 20], 0.5)\n",
        "3\n",
        ">>> cuantil([48, 18, 2, 4], 0.25)\n",
        "2\n",
        ">>> cuantil([48, 18, 2, 4], 0.75)\n",
        "18\n",
        "```\n",
        "\n",
        "\n"
      ],
      "metadata": {
        "id": "ZheMhObR8rqG"
      }
    },
    {
      "cell_type": "markdown",
      "source": [
        "**5. Brecha ecológica**\n",
        "\n",
        "Vamos a definir como la brecha ecológica de una ciudad a la diferencia entre la cantidad de árboles que hay entre el barrio que más tiene y el barrio que menos tiene.\n",
        "\n",
        "Partiendo del lote de datos de arbolado público lineal de CABA, definí una función brecha_ecologica, que resuelva este cálculo."
      ],
      "metadata": {
        "id": "15HB1PF_8u5d"
      }
    },
    {
      "cell_type": "markdown",
      "source": [
        "### Ejercicios integración"
      ],
      "metadata": {
        "id": "XTkrxUkLhHD1"
      }
    },
    {
      "cell_type": "code",
      "source": [
        "'''\n",
        "Atención! Faltan los ejercicios: \n",
        "3.3. estudiantes_aprobados(un_curso)\n",
        "7. Emojificar\n",
        "\n",
        "Atención! Preguntas pendientes de: \n",
        "11. ¡6 a 1!"
      ],
      "metadata": {
        "id": "MHJNlwY1JqG1"
      },
      "execution_count": null,
      "outputs": []
    },
    {
      "cell_type": "markdown",
      "source": [
        "**2. anio**\n",
        "\n",
        "Definí la función anio que dado un string con una fecha (como por ejemplo \"30/11/2014\") devuelva el año, como un número. La función tiene que andar tanto con si el string original completa los dígitos con cero como si no lo hace.\n",
        "\n",
        "Por ejemplo:\n",
        "\n",
        "\n",
        "```\n",
        ">>> anio(\"30/11/2014\")\n",
        "2014\n",
        ">>> anio(\"05/01/0152\")\n",
        "152\n",
        ">>> anio(\"5/1/152\")\n",
        "152\n",
        "```\n",
        "\n",
        "\n"
      ],
      "metadata": {
        "id": "VCMIaLksK5jt"
      }
    },
    {
      "cell_type": "code",
      "source": [
        "# Hecho "
      ],
      "metadata": {
        "id": "oF3a05JhiMDj"
      },
      "execution_count": null,
      "outputs": []
    },
    {
      "cell_type": "code",
      "source": [
        "def anio(fecha): \n",
        "  anio = fecha.split('/')[2]\n",
        "  return int(anio) "
      ],
      "metadata": {
        "id": "Xhx1VkIZ7K_F"
      },
      "execution_count": null,
      "outputs": []
    },
    {
      "cell_type": "code",
      "source": [
        "anio(\"30/11/2014\")"
      ],
      "metadata": {
        "colab": {
          "base_uri": "https://localhost:8080/"
        },
        "id": "kYdXA08DB7e4",
        "outputId": "819fd690-3ead-4c24-a3f6-2df408896cf9"
      },
      "execution_count": null,
      "outputs": [
        {
          "output_type": "execute_result",
          "data": {
            "text/plain": [
              "2014"
            ]
          },
          "metadata": {},
          "execution_count": 26
        }
      ]
    },
    {
      "cell_type": "code",
      "source": [
        "anio(\"5/1/152\")"
      ],
      "metadata": {
        "colab": {
          "base_uri": "https://localhost:8080/"
        },
        "id": "NAfjX_abCMfL",
        "outputId": "efaa7dcb-1169-4401-d71b-59394554eb43"
      },
      "execution_count": null,
      "outputs": [
        {
          "output_type": "execute_result",
          "data": {
            "text/plain": [
              "152"
            ]
          },
          "metadata": {},
          "execution_count": 27
        }
      ]
    },
    {
      "cell_type": "code",
      "source": [
        "anio(\"05/01/0152\") "
      ],
      "metadata": {
        "colab": {
          "base_uri": "https://localhost:8080/"
        },
        "id": "3Wz_sDCHCORJ",
        "outputId": "e3f57b5b-9088-4832-e8d3-006f0a731a94"
      },
      "execution_count": null,
      "outputs": [
        {
          "output_type": "execute_result",
          "data": {
            "text/plain": [
              "152"
            ]
          },
          "metadata": {},
          "execution_count": 28
        }
      ]
    },
    {
      "cell_type": "markdown",
      "source": [
        "**3. Estadísticas del curso**\n",
        "Tenemos datos de un curso como el siguiente:\n",
        "Con esta información, definí las siguientes tres funciones:\n",
        "\n",
        "\n",
        "*   `nota_final(un_estudiante)`: devuelve la nota final de un estudiante, que se calcula como el promedio de sus notas\n",
        "*   `promedio_de_notas_del_curso(un_curso)`: devuelve el promedio general de las notas finales del curso\n",
        "*   `estudiantes_aprobados(un_curso)`: devuelve aquellos estudiantes cuyas notas individuales (sin importar la nota final) son todas mayores o iguales a 4.\n"
      ],
      "metadata": {
        "id": "MWFb-LnaLAaZ"
      }
    },
    {
      "cell_type": "code",
      "source": [
        "# Hecho\n",
        "def nota_final(estudiante):\n",
        "  for i in curso_ejemplo: \n",
        "    if i['nombre'] == estudiante: \n",
        "      return sum(i['notas'])/len(i['notas']) "
      ],
      "metadata": {
        "id": "YQrVCRTbjiwH"
      },
      "execution_count": null,
      "outputs": []
    },
    {
      "cell_type": "code",
      "source": [
        "nota_final('María')"
      ],
      "metadata": {
        "colab": {
          "base_uri": "https://localhost:8080/"
        },
        "id": "RvqA3_IckO79",
        "outputId": "56d0e53d-1345-4835-f64d-e8baea3b3851"
      },
      "execution_count": null,
      "outputs": [
        {
          "output_type": "execute_result",
          "data": {
            "text/plain": [
              "5.0"
            ]
          },
          "metadata": {},
          "execution_count": 31
        }
      ]
    },
    {
      "cell_type": "code",
      "source": [
        "# Hecho\n",
        "def promedio_de_notas_del_curso(curso): \n",
        "  notas_curso = []\n",
        "  for i in curso_ejemplo: \n",
        "    for nota in i['notas']:\n",
        "      notas_curso.append(nota)  \n",
        "  return sum(notas_curso)/len(notas_curso)  "
      ],
      "metadata": {
        "id": "nScTPTqdkiDr"
      },
      "execution_count": null,
      "outputs": []
    },
    {
      "cell_type": "code",
      "source": [
        "promedio_de_notas_del_curso(curso_ejemplo)"
      ],
      "metadata": {
        "colab": {
          "base_uri": "https://localhost:8080/"
        },
        "id": "nL8PbkzKk_kr",
        "outputId": "efea1a6e-a747-400f-b569-b833209d0062"
      },
      "execution_count": null,
      "outputs": [
        {
          "output_type": "execute_result",
          "data": {
            "text/plain": [
              "6.277777777777778"
            ]
          },
          "metadata": {},
          "execution_count": 27
        }
      ]
    },
    {
      "cell_type": "code",
      "source": [
        "def estudiantes_aprobados(curso): \n",
        "  aprobados = []\n",
        "  for i in curso_ejemplo: \n",
        "    for nota in i['notas']: \n",
        "      if nota > 4:\n",
        "        aprobados.append(i['nombre']) \n",
        "  return aprobados "
      ],
      "metadata": {
        "id": "Pw_F6KTglQ2b"
      },
      "execution_count": null,
      "outputs": []
    },
    {
      "cell_type": "code",
      "source": [
        "estudiantes_aprobados(curso_ejemplo)"
      ],
      "metadata": {
        "colab": {
          "base_uri": "https://localhost:8080/"
        },
        "id": "UyBXLXqiy_9R",
        "outputId": "741c25b0-df4e-45ff-a33b-48cb33ea8cf8"
      },
      "execution_count": null,
      "outputs": [
        {
          "output_type": "execute_result",
          "data": {
            "text/plain": [
              "['María',\n",
              " 'Carlos',\n",
              " 'Carlos',\n",
              " 'Carlos',\n",
              " 'Liz',\n",
              " 'Hector',\n",
              " 'Hector',\n",
              " 'Ana',\n",
              " 'Ana',\n",
              " 'Ana',\n",
              " 'Ivana',\n",
              " 'Ivana',\n",
              " 'Ivana']"
            ]
          },
          "metadata": {},
          "execution_count": 94
        }
      ]
    },
    {
      "cell_type": "code",
      "source": [
        "curso_ejemplo = [ \n",
        "  {\n",
        "    'legajo': '123446',\n",
        "    'nombre': 'María',\n",
        "    'apellido': '(...)',\n",
        "    'notas' : [10, 2, 3],\n",
        "    'zona': 'Quilmes'\n",
        "  },\n",
        "  {\n",
        "    'legajo': '123450',\n",
        "    'nombre': 'Carlos',\n",
        "    'apellido': '(...)',\n",
        "    'notas' : [5, 8, 8],\n",
        "    'zona': 'CABA'\n",
        "  },\n",
        "  {\n",
        "    'legajo': '123430',\n",
        "    'nombre': 'Liz',\n",
        "    'apellido': '(...)',\n",
        "    'notas' : [4, 8, 2],\n",
        "    'zona': 'CABA'\n",
        "  },\n",
        "  {\n",
        "    'legajo': '123453',\n",
        "    'nombre': 'Hector',\n",
        "    'apellido': '(...)',\n",
        "    'notas' : [9, 9, 1],\n",
        "    'zona': 'Temperley'\n",
        "  },\n",
        "  {\n",
        "    'legajo': '123110',\n",
        "    'nombre': 'Ana',\n",
        "    'apellido': '(...)',\n",
        "    'notas' : [6, 7, 8],\n",
        "    'zona': 'Quilmes'\n",
        "  },\n",
        "  {\n",
        "    'legajo': '123371',\n",
        "    'nombre': 'Ivana',\n",
        "    'apellido': '(...)',\n",
        "    'notas' : [7, 7, 9],\n",
        "    'zona': 'Avellaneda'\n",
        "  }\n",
        "] "
      ],
      "metadata": {
        "id": "hLsSno0bLXXV"
      },
      "execution_count": null,
      "outputs": []
    },
    {
      "cell_type": "markdown",
      "source": [
        "4. Zonas y legajos\n",
        "Ahora vamos a querer más estadísticas:\n",
        "\n",
        "\n",
        "*   `cantidad_de_estudiantes_por_zona(un_curso)`: devuelve un diccionario con la cantidad de estudiante que hay en cada zona\n",
        "*   `legajos_de_estudiantes(un_curso)`: devuelve una lista con sólo los legajos\n",
        "*   `nombre_completo_de(legajo, un_curso)`: busca un estudiante por legajo y devuelve su nombre completo, asumiendo que el legajo existe.\n",
        "*   `legajo_registrado(legajo, un_curso)`: dice si existe un estudiante con el legajo dado\n",
        "\n",
        "\n",
        "Ejemplos:\n",
        "\n",
        "\n",
        "```\n",
        ">>>> cantidad_de_estudiantes_por_zona(curso_ejemplo)\n",
        " {\n",
        "  \"Quilmes\": 2,\n",
        "  \"CABA\": 2,\n",
        "  \"Temperley\": 1,\n",
        "  \"Avellaneda\": 1\n",
        "}\n",
        ">>> legajos_de_estudiantes(curso_ejemplo)\n",
        "['123446', '123450', '123430', '123453', '123110', '123371']\n",
        ">>> nombre_completo_de('123446', curso_ejemplo)\n",
        "\"María (...)\"\n",
        ">>> legajo_registrado('89612', curso_ejemplo)\n",
        "False # nadie tiene ese legajo\n",
        "```\n",
        "\n"
      ],
      "metadata": {
        "id": "9MraBaoPMDDC"
      }
    },
    {
      "cell_type": "code",
      "source": [
        "# Hecho"
      ],
      "metadata": {
        "id": "A7BUMlTrOkNL"
      },
      "execution_count": null,
      "outputs": []
    },
    {
      "cell_type": "code",
      "source": [
        "# Código de José Questa \n",
        "def cantidad_de_estudiantes_por_zona(curso): \n",
        "  barrios = {}\n",
        "  for estudiante in curso: \n",
        "    zona = estudiante['zona']\n",
        "    if zona not in barrios: \n",
        "      barrios[zona] = 1 \n",
        "    else: \n",
        "      barrios[zona] += 1\n",
        "  return barrios"
      ],
      "metadata": {
        "id": "mbD3INvfncae"
      },
      "execution_count": null,
      "outputs": []
    },
    {
      "cell_type": "code",
      "source": [
        "cantidad_de_estudiantes_por_zona(curso_ejemplo)"
      ],
      "metadata": {
        "colab": {
          "base_uri": "https://localhost:8080/"
        },
        "id": "8D7nW-ucGCDF",
        "outputId": "a0efa41e-d70e-4310-f0a3-ba96f0c32478"
      },
      "execution_count": null,
      "outputs": [
        {
          "output_type": "execute_result",
          "data": {
            "text/plain": [
              "{'Avellaneda': 1, 'CABA': 2, 'Quilmes': 2, 'Temperley': 1}"
            ]
          },
          "metadata": {},
          "execution_count": 133
        }
      ]
    },
    {
      "cell_type": "code",
      "source": [
        "cantidad_de_estudiantes_por_zona(curso_ejemplo)"
      ],
      "metadata": {
        "colab": {
          "base_uri": "https://localhost:8080/",
          "height": 35
        },
        "id": "3zIgAzjwnriN",
        "outputId": "0d599935-36e2-4e7f-e9ec-c23d0ab47ba4"
      },
      "execution_count": null,
      "outputs": [
        {
          "output_type": "execute_result",
          "data": {
            "text/plain": [
              "'Avellaneda'"
            ],
            "application/vnd.google.colaboratory.intrinsic+json": {
              "type": "string"
            }
          },
          "metadata": {},
          "execution_count": 41
        }
      ]
    },
    {
      "cell_type": "code",
      "source": [
        "# Hecho\n",
        "def legajos_de_estudiantes(curso): \n",
        "  legajos = []\n",
        "  for estudiante in curso: \n",
        "    legajos.append(estudiante['legajo'])\n",
        "  return legajos "
      ],
      "metadata": {
        "id": "CB2_8ffSozMg"
      },
      "execution_count": null,
      "outputs": []
    },
    {
      "cell_type": "code",
      "source": [
        "legajos_de_estudiantes(curso_ejemplo)"
      ],
      "metadata": {
        "colab": {
          "base_uri": "https://localhost:8080/"
        },
        "id": "AQPacHu7pA8v",
        "outputId": "bb2f4ec7-0c09-48d7-ac5a-3e2e13d568c2"
      },
      "execution_count": null,
      "outputs": [
        {
          "output_type": "execute_result",
          "data": {
            "text/plain": [
              "['123446', '123450', '123430', '123453', '123110', '123371']"
            ]
          },
          "metadata": {},
          "execution_count": 44
        }
      ]
    },
    {
      "cell_type": "code",
      "source": [
        "# Hecho\n",
        "def nombre_completo_de(legajo, curso): \n",
        "  for estudiante in curso: \n",
        "    if estudiante['legajo'] == legajo: \n",
        "      return estudiante['nombre'] + ' ' + estudiante['apellido']"
      ],
      "metadata": {
        "id": "HX3XMtaHpEWA"
      },
      "execution_count": null,
      "outputs": []
    },
    {
      "cell_type": "code",
      "source": [
        "nombre_completo_de('123446', curso_ejemplo)"
      ],
      "metadata": {
        "colab": {
          "base_uri": "https://localhost:8080/",
          "height": 35
        },
        "id": "x1wrcMdnpUIy",
        "outputId": "928436bb-bbb7-4cba-848c-9fcc47558f35"
      },
      "execution_count": null,
      "outputs": [
        {
          "output_type": "execute_result",
          "data": {
            "text/plain": [
              "'María (...)'"
            ],
            "application/vnd.google.colaboratory.intrinsic+json": {
              "type": "string"
            }
          },
          "metadata": {},
          "execution_count": 46
        }
      ]
    },
    {
      "cell_type": "code",
      "source": [
        "# Hecho\n",
        "def legajo_registrado(legajo, curso): \n",
        "  return legajo in legajos_de_estudiantes(curso)"
      ],
      "metadata": {
        "id": "5NwhzEWupXqk"
      },
      "execution_count": null,
      "outputs": []
    },
    {
      "cell_type": "code",
      "source": [
        "legajo_registrado('89612', curso_ejemplo) "
      ],
      "metadata": {
        "colab": {
          "base_uri": "https://localhost:8080/"
        },
        "id": "xq6cgZSQpnKA",
        "outputId": "a751d2e6-ee9f-4fe4-ea8e-cd7484b4bcee"
      },
      "execution_count": null,
      "outputs": [
        {
          "output_type": "execute_result",
          "data": {
            "text/plain": [
              "False"
            ]
          },
          "metadata": {},
          "execution_count": 53
        }
      ]
    },
    {
      "cell_type": "code",
      "source": [
        "legajo_registrado('123371', curso_ejemplo)"
      ],
      "metadata": {
        "colab": {
          "base_uri": "https://localhost:8080/"
        },
        "id": "JXMCoUTRp-cx",
        "outputId": "2797b4f2-ff16-478d-ff06-f8f42880c0ea"
      },
      "execution_count": null,
      "outputs": [
        {
          "output_type": "execute_result",
          "data": {
            "text/plain": [
              "True"
            ]
          },
          "metadata": {},
          "execution_count": 54
        }
      ]
    },
    {
      "cell_type": "markdown",
      "source": [
        "**5. Estadísticas de estudiantes, recargada**\n",
        "\n",
        "Usando pandas, Creá un DataFrame en pandas con los datos de ejercicio anterior ….\n",
        "\n",
        "import pandas as pd\n",
        "\n",
        "estudiantes = pd.DataFrame(curso_ejemplo)\n",
        "…y realizá los siguientes análisis:\n",
        "\n",
        "\n",
        "1.   Realizá un gráfico de barras donde se ve la cantidad de estudiantes por zona.\n",
        "2.   Generá una tabla con cada zona del curso y su cantidad de estudiantes\n",
        "3.   Generá una tabla con dos columnas: una con el legajo y otra con el nombre completo de cada estudiante\n",
        "4.   Bonus: generá una tabla igual a la original pero que reemplace la columna de notas individuales de cada estudiante por otra con su nota promedio\n",
        "\n",
        "\n",
        "\n"
      ],
      "metadata": {
        "id": "W0q0vDPT9JzR"
      }
    },
    {
      "cell_type": "code",
      "source": [
        "# Hecho "
      ],
      "metadata": {
        "id": "Cc-2ONdViPqe"
      },
      "execution_count": null,
      "outputs": []
    },
    {
      "cell_type": "code",
      "source": [
        "import pandas as pd\n",
        "estudiantes = pd.DataFrame(curso_ejemplo)\n",
        "estudiantes"
      ],
      "metadata": {
        "colab": {
          "base_uri": "https://localhost:8080/",
          "height": 238
        },
        "id": "EUngsUOw9aQ3",
        "outputId": "9bf30a9b-3510-457a-dbc8-56bee6dabc89"
      },
      "execution_count": null,
      "outputs": [
        {
          "output_type": "execute_result",
          "data": {
            "text/plain": [
              "   legajo  nombre apellido       notas        zona\n",
              "0  123446   María    (...)  [10, 2, 3]     Quilmes\n",
              "1  123450  Carlos    (...)   [5, 8, 8]        CABA\n",
              "2  123430     Liz    (...)   [4, 8, 2]        CABA\n",
              "3  123453  Hector    (...)   [9, 9, 1]   Temperley\n",
              "4  123110     Ana    (...)   [6, 7, 8]     Quilmes\n",
              "5  123371   Ivana    (...)   [7, 7, 9]  Avellaneda"
            ],
            "text/html": [
              "\n",
              "  <div id=\"df-be53419e-9cb7-4d64-b76d-2f9b991aa2e8\">\n",
              "    <div class=\"colab-df-container\">\n",
              "      <div>\n",
              "<style scoped>\n",
              "    .dataframe tbody tr th:only-of-type {\n",
              "        vertical-align: middle;\n",
              "    }\n",
              "\n",
              "    .dataframe tbody tr th {\n",
              "        vertical-align: top;\n",
              "    }\n",
              "\n",
              "    .dataframe thead th {\n",
              "        text-align: right;\n",
              "    }\n",
              "</style>\n",
              "<table border=\"1\" class=\"dataframe\">\n",
              "  <thead>\n",
              "    <tr style=\"text-align: right;\">\n",
              "      <th></th>\n",
              "      <th>legajo</th>\n",
              "      <th>nombre</th>\n",
              "      <th>apellido</th>\n",
              "      <th>notas</th>\n",
              "      <th>zona</th>\n",
              "    </tr>\n",
              "  </thead>\n",
              "  <tbody>\n",
              "    <tr>\n",
              "      <th>0</th>\n",
              "      <td>123446</td>\n",
              "      <td>María</td>\n",
              "      <td>(...)</td>\n",
              "      <td>[10, 2, 3]</td>\n",
              "      <td>Quilmes</td>\n",
              "    </tr>\n",
              "    <tr>\n",
              "      <th>1</th>\n",
              "      <td>123450</td>\n",
              "      <td>Carlos</td>\n",
              "      <td>(...)</td>\n",
              "      <td>[5, 8, 8]</td>\n",
              "      <td>CABA</td>\n",
              "    </tr>\n",
              "    <tr>\n",
              "      <th>2</th>\n",
              "      <td>123430</td>\n",
              "      <td>Liz</td>\n",
              "      <td>(...)</td>\n",
              "      <td>[4, 8, 2]</td>\n",
              "      <td>CABA</td>\n",
              "    </tr>\n",
              "    <tr>\n",
              "      <th>3</th>\n",
              "      <td>123453</td>\n",
              "      <td>Hector</td>\n",
              "      <td>(...)</td>\n",
              "      <td>[9, 9, 1]</td>\n",
              "      <td>Temperley</td>\n",
              "    </tr>\n",
              "    <tr>\n",
              "      <th>4</th>\n",
              "      <td>123110</td>\n",
              "      <td>Ana</td>\n",
              "      <td>(...)</td>\n",
              "      <td>[6, 7, 8]</td>\n",
              "      <td>Quilmes</td>\n",
              "    </tr>\n",
              "    <tr>\n",
              "      <th>5</th>\n",
              "      <td>123371</td>\n",
              "      <td>Ivana</td>\n",
              "      <td>(...)</td>\n",
              "      <td>[7, 7, 9]</td>\n",
              "      <td>Avellaneda</td>\n",
              "    </tr>\n",
              "  </tbody>\n",
              "</table>\n",
              "</div>\n",
              "      <button class=\"colab-df-convert\" onclick=\"convertToInteractive('df-be53419e-9cb7-4d64-b76d-2f9b991aa2e8')\"\n",
              "              title=\"Convert this dataframe to an interactive table.\"\n",
              "              style=\"display:none;\">\n",
              "        \n",
              "  <svg xmlns=\"http://www.w3.org/2000/svg\" height=\"24px\"viewBox=\"0 0 24 24\"\n",
              "       width=\"24px\">\n",
              "    <path d=\"M0 0h24v24H0V0z\" fill=\"none\"/>\n",
              "    <path d=\"M18.56 5.44l.94 2.06.94-2.06 2.06-.94-2.06-.94-.94-2.06-.94 2.06-2.06.94zm-11 1L8.5 8.5l.94-2.06 2.06-.94-2.06-.94L8.5 2.5l-.94 2.06-2.06.94zm10 10l.94 2.06.94-2.06 2.06-.94-2.06-.94-.94-2.06-.94 2.06-2.06.94z\"/><path d=\"M17.41 7.96l-1.37-1.37c-.4-.4-.92-.59-1.43-.59-.52 0-1.04.2-1.43.59L10.3 9.45l-7.72 7.72c-.78.78-.78 2.05 0 2.83L4 21.41c.39.39.9.59 1.41.59.51 0 1.02-.2 1.41-.59l7.78-7.78 2.81-2.81c.8-.78.8-2.07 0-2.86zM5.41 20L4 18.59l7.72-7.72 1.47 1.35L5.41 20z\"/>\n",
              "  </svg>\n",
              "      </button>\n",
              "      \n",
              "  <style>\n",
              "    .colab-df-container {\n",
              "      display:flex;\n",
              "      flex-wrap:wrap;\n",
              "      gap: 12px;\n",
              "    }\n",
              "\n",
              "    .colab-df-convert {\n",
              "      background-color: #E8F0FE;\n",
              "      border: none;\n",
              "      border-radius: 50%;\n",
              "      cursor: pointer;\n",
              "      display: none;\n",
              "      fill: #1967D2;\n",
              "      height: 32px;\n",
              "      padding: 0 0 0 0;\n",
              "      width: 32px;\n",
              "    }\n",
              "\n",
              "    .colab-df-convert:hover {\n",
              "      background-color: #E2EBFA;\n",
              "      box-shadow: 0px 1px 2px rgba(60, 64, 67, 0.3), 0px 1px 3px 1px rgba(60, 64, 67, 0.15);\n",
              "      fill: #174EA6;\n",
              "    }\n",
              "\n",
              "    [theme=dark] .colab-df-convert {\n",
              "      background-color: #3B4455;\n",
              "      fill: #D2E3FC;\n",
              "    }\n",
              "\n",
              "    [theme=dark] .colab-df-convert:hover {\n",
              "      background-color: #434B5C;\n",
              "      box-shadow: 0px 1px 3px 1px rgba(0, 0, 0, 0.15);\n",
              "      filter: drop-shadow(0px 1px 2px rgba(0, 0, 0, 0.3));\n",
              "      fill: #FFFFFF;\n",
              "    }\n",
              "  </style>\n",
              "\n",
              "      <script>\n",
              "        const buttonEl =\n",
              "          document.querySelector('#df-be53419e-9cb7-4d64-b76d-2f9b991aa2e8 button.colab-df-convert');\n",
              "        buttonEl.style.display =\n",
              "          google.colab.kernel.accessAllowed ? 'block' : 'none';\n",
              "\n",
              "        async function convertToInteractive(key) {\n",
              "          const element = document.querySelector('#df-be53419e-9cb7-4d64-b76d-2f9b991aa2e8');\n",
              "          const dataTable =\n",
              "            await google.colab.kernel.invokeFunction('convertToInteractive',\n",
              "                                                     [key], {});\n",
              "          if (!dataTable) return;\n",
              "\n",
              "          const docLinkHtml = 'Like what you see? Visit the ' +\n",
              "            '<a target=\"_blank\" href=https://colab.research.google.com/notebooks/data_table.ipynb>data table notebook</a>'\n",
              "            + ' to learn more about interactive tables.';\n",
              "          element.innerHTML = '';\n",
              "          dataTable['output_type'] = 'display_data';\n",
              "          await google.colab.output.renderOutput(dataTable, element);\n",
              "          const docLink = document.createElement('div');\n",
              "          docLink.innerHTML = docLinkHtml;\n",
              "          element.appendChild(docLink);\n",
              "        }\n",
              "      </script>\n",
              "    </div>\n",
              "  </div>\n",
              "  "
            ]
          },
          "metadata": {},
          "execution_count": 47
        }
      ]
    },
    {
      "cell_type": "code",
      "source": [
        "# Realizá un gráfico de barras donde se ve la cantidad de estudiantes por zona.\n",
        "estudiantes_por_zona = estudiantes.groupby('zona').nombre.count()\n",
        "estudiantes_por_zona.plot.bar() "
      ],
      "metadata": {
        "colab": {
          "base_uri": "https://localhost:8080/",
          "height": 341
        },
        "id": "6D2B3Ypv93ha",
        "outputId": "79bc5c1d-e4e9-4e35-9c3f-d334d1d820d1"
      },
      "execution_count": null,
      "outputs": [
        {
          "output_type": "execute_result",
          "data": {
            "text/plain": [
              "<matplotlib.axes._subplots.AxesSubplot at 0x7fb02a36dad0>"
            ]
          },
          "metadata": {},
          "execution_count": 17
        },
        {
          "output_type": "display_data",
          "data": {
            "text/plain": [
              "<Figure size 432x288 with 1 Axes>"
            ],
            "image/png": "[encoded data removed]"
          },
          "metadata": {
            "needs_background": "light"
          }
        }
      ]
    },
    {
      "cell_type": "code",
      "source": [
        "# Generá una tabla con cada zona del curso y su cantidad de estudiantes\n",
        "estudiantes_por_zona"
      ],
      "metadata": {
        "colab": {
          "base_uri": "https://localhost:8080/"
        },
        "id": "tVpEANPS-2A9",
        "outputId": "c571548b-90f4-4528-859a-48af643f6bde"
      },
      "execution_count": null,
      "outputs": [
        {
          "output_type": "execute_result",
          "data": {
            "text/plain": [
              "zona\n",
              "Avellaneda    1\n",
              "CABA          2\n",
              "Quilmes       2\n",
              "Temperley     1\n",
              "Name: nombre, dtype: int64"
            ]
          },
          "metadata": {},
          "execution_count": 18
        }
      ]
    },
    {
      "cell_type": "code",
      "source": [
        "# Generá una tabla con dos columnas: una con el legajo y otra con el nombre completo de cada estudiante\n",
        "estudiantes[[\"legajo\", \"nombre\"]]"
      ],
      "metadata": {
        "colab": {
          "base_uri": "https://localhost:8080/",
          "height": 238
        },
        "id": "Sx3-qOdL_Df8",
        "outputId": "1019fbd7-d717-42f1-92d9-3248e56e034f"
      },
      "execution_count": null,
      "outputs": [
        {
          "output_type": "execute_result",
          "data": {
            "text/plain": [
              "   legajo  nombre\n",
              "0  123446   María\n",
              "1  123450  Carlos\n",
              "2  123430     Liz\n",
              "3  123453  Hector\n",
              "4  123110     Ana\n",
              "5  123371   Ivana"
            ],
            "text/html": [
              "\n",
              "  <div id=\"df-2d8962d8-b722-4d11-b8a7-5f07a0c13abc\">\n",
              "    <div class=\"colab-df-container\">\n",
              "      <div>\n",
              "<style scoped>\n",
              "    .dataframe tbody tr th:only-of-type {\n",
              "        vertical-align: middle;\n",
              "    }\n",
              "\n",
              "    .dataframe tbody tr th {\n",
              "        vertical-align: top;\n",
              "    }\n",
              "\n",
              "    .dataframe thead th {\n",
              "        text-align: right;\n",
              "    }\n",
              "</style>\n",
              "<table border=\"1\" class=\"dataframe\">\n",
              "  <thead>\n",
              "    <tr style=\"text-align: right;\">\n",
              "      <th></th>\n",
              "      <th>legajo</th>\n",
              "      <th>nombre</th>\n",
              "    </tr>\n",
              "  </thead>\n",
              "  <tbody>\n",
              "    <tr>\n",
              "      <th>0</th>\n",
              "      <td>123446</td>\n",
              "      <td>María</td>\n",
              "    </tr>\n",
              "    <tr>\n",
              "      <th>1</th>\n",
              "      <td>123450</td>\n",
              "      <td>Carlos</td>\n",
              "    </tr>\n",
              "    <tr>\n",
              "      <th>2</th>\n",
              "      <td>123430</td>\n",
              "      <td>Liz</td>\n",
              "    </tr>\n",
              "    <tr>\n",
              "      <th>3</th>\n",
              "      <td>123453</td>\n",
              "      <td>Hector</td>\n",
              "    </tr>\n",
              "    <tr>\n",
              "      <th>4</th>\n",
              "      <td>123110</td>\n",
              "      <td>Ana</td>\n",
              "    </tr>\n",
              "    <tr>\n",
              "      <th>5</th>\n",
              "      <td>123371</td>\n",
              "      <td>Ivana</td>\n",
              "    </tr>\n",
              "  </tbody>\n",
              "</table>\n",
              "</div>\n",
              "      <button class=\"colab-df-convert\" onclick=\"convertToInteractive('df-2d8962d8-b722-4d11-b8a7-5f07a0c13abc')\"\n",
              "              title=\"Convert this dataframe to an interactive table.\"\n",
              "              style=\"display:none;\">\n",
              "        \n",
              "  <svg xmlns=\"http://www.w3.org/2000/svg\" height=\"24px\"viewBox=\"0 0 24 24\"\n",
              "       width=\"24px\">\n",
              "    <path d=\"M0 0h24v24H0V0z\" fill=\"none\"/>\n",
              "    <path d=\"M18.56 5.44l.94 2.06.94-2.06 2.06-.94-2.06-.94-.94-2.06-.94 2.06-2.06.94zm-11 1L8.5 8.5l.94-2.06 2.06-.94-2.06-.94L8.5 2.5l-.94 2.06-2.06.94zm10 10l.94 2.06.94-2.06 2.06-.94-2.06-.94-.94-2.06-.94 2.06-2.06.94z\"/><path d=\"M17.41 7.96l-1.37-1.37c-.4-.4-.92-.59-1.43-.59-.52 0-1.04.2-1.43.59L10.3 9.45l-7.72 7.72c-.78.78-.78 2.05 0 2.83L4 21.41c.39.39.9.59 1.41.59.51 0 1.02-.2 1.41-.59l7.78-7.78 2.81-2.81c.8-.78.8-2.07 0-2.86zM5.41 20L4 18.59l7.72-7.72 1.47 1.35L5.41 20z\"/>\n",
              "  </svg>\n",
              "      </button>\n",
              "      \n",
              "  <style>\n",
              "    .colab-df-container {\n",
              "      display:flex;\n",
              "      flex-wrap:wrap;\n",
              "      gap: 12px;\n",
              "    }\n",
              "\n",
              "    .colab-df-convert {\n",
              "      background-color: #E8F0FE;\n",
              "      border: none;\n",
              "      border-radius: 50%;\n",
              "      cursor: pointer;\n",
              "      display: none;\n",
              "      fill: #1967D2;\n",
              "      height: 32px;\n",
              "      padding: 0 0 0 0;\n",
              "      width: 32px;\n",
              "    }\n",
              "\n",
              "    .colab-df-convert:hover {\n",
              "      background-color: #E2EBFA;\n",
              "      box-shadow: 0px 1px 2px rgba(60, 64, 67, 0.3), 0px 1px 3px 1px rgba(60, 64, 67, 0.15);\n",
              "      fill: #174EA6;\n",
              "    }\n",
              "\n",
              "    [theme=dark] .colab-df-convert {\n",
              "      background-color: #3B4455;\n",
              "      fill: #D2E3FC;\n",
              "    }\n",
              "\n",
              "    [theme=dark] .colab-df-convert:hover {\n",
              "      background-color: #434B5C;\n",
              "      box-shadow: 0px 1px 3px 1px rgba(0, 0, 0, 0.15);\n",
              "      filter: drop-shadow(0px 1px 2px rgba(0, 0, 0, 0.3));\n",
              "      fill: #FFFFFF;\n",
              "    }\n",
              "  </style>\n",
              "\n",
              "      <script>\n",
              "        const buttonEl =\n",
              "          document.querySelector('#df-2d8962d8-b722-4d11-b8a7-5f07a0c13abc button.colab-df-convert');\n",
              "        buttonEl.style.display =\n",
              "          google.colab.kernel.accessAllowed ? 'block' : 'none';\n",
              "\n",
              "        async function convertToInteractive(key) {\n",
              "          const element = document.querySelector('#df-2d8962d8-b722-4d11-b8a7-5f07a0c13abc');\n",
              "          const dataTable =\n",
              "            await google.colab.kernel.invokeFunction('convertToInteractive',\n",
              "                                                     [key], {});\n",
              "          if (!dataTable) return;\n",
              "\n",
              "          const docLinkHtml = 'Like what you see? Visit the ' +\n",
              "            '<a target=\"_blank\" href=https://colab.research.google.com/notebooks/data_table.ipynb>data table notebook</a>'\n",
              "            + ' to learn more about interactive tables.';\n",
              "          element.innerHTML = '';\n",
              "          dataTable['output_type'] = 'display_data';\n",
              "          await google.colab.output.renderOutput(dataTable, element);\n",
              "          const docLink = document.createElement('div');\n",
              "          docLink.innerHTML = docLinkHtml;\n",
              "          element.appendChild(docLink);\n",
              "        }\n",
              "      </script>\n",
              "    </div>\n",
              "  </div>\n",
              "  "
            ]
          },
          "metadata": {},
          "execution_count": 20
        }
      ]
    },
    {
      "cell_type": "markdown",
      "source": [
        "**6. Tabla de emojis 😜**\n",
        "\n",
        "Cargá este archivo en una tabla de pandas…\n",
        "\n",
        "\n",
        "```\n",
        "import pandas as pd\n",
        "\n",
        "# notá que este archivo no es un CSV, sino un JSON, un formato\n",
        "# muy diferente pero que podemos cargar de forma muy similar\n",
        "emojis = pd.read_json(\"https://raw.githubusercontent.com/github/gemoji/ce6c4ab12ae229be2b1089cbf7e85702fdc5552f/db/emoji.json\")\n",
        "emojis\n",
        "```\n",
        "\n",
        "\n",
        "\n",
        "… y respondé lo siguiente:\n",
        "\n",
        "¿Cuántas categorías de emojis hay?\n",
        "\n",
        "1.   ¿Cuántas banderas hay?\n",
        "2.   ¿Cuáles son todos los emojis que estén diferenciados por tono de piel?\n",
        "3.   Bonus: Imprimí cada uno usando print\n",
        "4.   ¿Cuántos y cuáles emojis se incorporaron entre la versión 13 y 14 de IOS?\n",
        "\n",
        "\n",
        "\n",
        "\n",
        "\n"
      ],
      "metadata": {
        "id": "H425lZ5F_azo"
      }
    },
    {
      "cell_type": "code",
      "source": [
        "# Hecho "
      ],
      "metadata": {
        "id": "GYkk9VN91JCz"
      },
      "execution_count": null,
      "outputs": []
    },
    {
      "cell_type": "code",
      "source": [
        "import pandas as pd \n",
        "emojis = pd.read_json(\"https://raw.githubusercontent.com/github/gemoji/ce6c4ab12ae229be2b1089cbf7e85702fdc5552f/db/emoji.json\")\n",
        "emojis.sample(5)"
      ],
      "metadata": {
        "colab": {
          "base_uri": "https://localhost:8080/",
          "height": 206
        },
        "id": "X_9dUTfK_rGJ",
        "outputId": "a8467ab3-d6bb-4a82-9a81-acd32675b7f0"
      },
      "execution_count": null,
      "outputs": [
        {
          "output_type": "execute_result",
          "data": {
            "text/plain": [
              "     emoji    description         category          aliases  \\\n",
              "344      🦹   supervillain    People & Body   [supervillain]   \n",
              "1406     🎦         cinema          Symbols         [cinema]   \n",
              "1646    🇭🇷  flag: Croatia            Flags        [croatia]   \n",
              "1324     🚾   water closet          Symbols             [wc]   \n",
              "943      🌙  crescent moon  Travel & Places  [crescent_moon]   \n",
              "\n",
              "                    tags unicode_version  ios_version  skin_tones  \n",
              "344                   []            11.0         12.1         1.0  \n",
              "1406       [film, movie]             6.0          6.0         NaN  \n",
              "1646                  []             6.0          8.3         NaN  \n",
              "1324  [toilet, restroom]             6.0          6.0         NaN  \n",
              "943              [night]             6.0          6.0         NaN  "
            ],
            "text/html": [
              "\n",
              "  <div id=\"df-cf2ba8e5-ca2e-4c5a-84b6-95598c4785ef\">\n",
              "    <div class=\"colab-df-container\">\n",
              "      <div>\n",
              "<style scoped>\n",
              "    .dataframe tbody tr th:only-of-type {\n",
              "        vertical-align: middle;\n",
              "    }\n",
              "\n",
              "    .dataframe tbody tr th {\n",
              "        vertical-align: top;\n",
              "    }\n",
              "\n",
              "    .dataframe thead th {\n",
              "        text-align: right;\n",
              "    }\n",
              "</style>\n",
              "<table border=\"1\" class=\"dataframe\">\n",
              "  <thead>\n",
              "    <tr style=\"text-align: right;\">\n",
              "      <th></th>\n",
              "      <th>emoji</th>\n",
              "      <th>description</th>\n",
              "      <th>category</th>\n",
              "      <th>aliases</th>\n",
              "      <th>tags</th>\n",
              "      <th>unicode_version</th>\n",
              "      <th>ios_version</th>\n",
              "      <th>skin_tones</th>\n",
              "    </tr>\n",
              "  </thead>\n",
              "  <tbody>\n",
              "    <tr>\n",
              "      <th>344</th>\n",
              "      <td>🦹</td>\n",
              "      <td>supervillain</td>\n",
              "      <td>People &amp; Body</td>\n",
              "      <td>[supervillain]</td>\n",
              "      <td>[]</td>\n",
              "      <td>11.0</td>\n",
              "      <td>12.1</td>\n",
              "      <td>1.0</td>\n",
              "    </tr>\n",
              "    <tr>\n",
              "      <th>1406</th>\n",
              "      <td>🎦</td>\n",
              "      <td>cinema</td>\n",
              "      <td>Symbols</td>\n",
              "      <td>[cinema]</td>\n",
              "      <td>[film, movie]</td>\n",
              "      <td>6.0</td>\n",
              "      <td>6.0</td>\n",
              "      <td>NaN</td>\n",
              "    </tr>\n",
              "    <tr>\n",
              "      <th>1646</th>\n",
              "      <td>🇭🇷</td>\n",
              "      <td>flag: Croatia</td>\n",
              "      <td>Flags</td>\n",
              "      <td>[croatia]</td>\n",
              "      <td>[]</td>\n",
              "      <td>6.0</td>\n",
              "      <td>8.3</td>\n",
              "      <td>NaN</td>\n",
              "    </tr>\n",
              "    <tr>\n",
              "      <th>1324</th>\n",
              "      <td>🚾</td>\n",
              "      <td>water closet</td>\n",
              "      <td>Symbols</td>\n",
              "      <td>[wc]</td>\n",
              "      <td>[toilet, restroom]</td>\n",
              "      <td>6.0</td>\n",
              "      <td>6.0</td>\n",
              "      <td>NaN</td>\n",
              "    </tr>\n",
              "    <tr>\n",
              "      <th>943</th>\n",
              "      <td>🌙</td>\n",
              "      <td>crescent moon</td>\n",
              "      <td>Travel &amp; Places</td>\n",
              "      <td>[crescent_moon]</td>\n",
              "      <td>[night]</td>\n",
              "      <td>6.0</td>\n",
              "      <td>6.0</td>\n",
              "      <td>NaN</td>\n",
              "    </tr>\n",
              "  </tbody>\n",
              "</table>\n",
              "</div>\n",
              "      <button class=\"colab-df-convert\" onclick=\"convertToInteractive('df-cf2ba8e5-ca2e-4c5a-84b6-95598c4785ef')\"\n",
              "              title=\"Convert this dataframe to an interactive table.\"\n",
              "              style=\"display:none;\">\n",
              "        \n",
              "  <svg xmlns=\"http://www.w3.org/2000/svg\" height=\"24px\"viewBox=\"0 0 24 24\"\n",
              "       width=\"24px\">\n",
              "    <path d=\"M0 0h24v24H0V0z\" fill=\"none\"/>\n",
              "    <path d=\"M18.56 5.44l.94 2.06.94-2.06 2.06-.94-2.06-.94-.94-2.06-.94 2.06-2.06.94zm-11 1L8.5 8.5l.94-2.06 2.06-.94-2.06-.94L8.5 2.5l-.94 2.06-2.06.94zm10 10l.94 2.06.94-2.06 2.06-.94-2.06-.94-.94-2.06-.94 2.06-2.06.94z\"/><path d=\"M17.41 7.96l-1.37-1.37c-.4-.4-.92-.59-1.43-.59-.52 0-1.04.2-1.43.59L10.3 9.45l-7.72 7.72c-.78.78-.78 2.05 0 2.83L4 21.41c.39.39.9.59 1.41.59.51 0 1.02-.2 1.41-.59l7.78-7.78 2.81-2.81c.8-.78.8-2.07 0-2.86zM5.41 20L4 18.59l7.72-7.72 1.47 1.35L5.41 20z\"/>\n",
              "  </svg>\n",
              "      </button>\n",
              "      \n",
              "  <style>\n",
              "    .colab-df-container {\n",
              "      display:flex;\n",
              "      flex-wrap:wrap;\n",
              "      gap: 12px;\n",
              "    }\n",
              "\n",
              "    .colab-df-convert {\n",
              "      background-color: #E8F0FE;\n",
              "      border: none;\n",
              "      border-radius: 50%;\n",
              "      cursor: pointer;\n",
              "      display: none;\n",
              "      fill: #1967D2;\n",
              "      height: 32px;\n",
              "      padding: 0 0 0 0;\n",
              "      width: 32px;\n",
              "    }\n",
              "\n",
              "    .colab-df-convert:hover {\n",
              "      background-color: #E2EBFA;\n",
              "      box-shadow: 0px 1px 2px rgba(60, 64, 67, 0.3), 0px 1px 3px 1px rgba(60, 64, 67, 0.15);\n",
              "      fill: #174EA6;\n",
              "    }\n",
              "\n",
              "    [theme=dark] .colab-df-convert {\n",
              "      background-color: #3B4455;\n",
              "      fill: #D2E3FC;\n",
              "    }\n",
              "\n",
              "    [theme=dark] .colab-df-convert:hover {\n",
              "      background-color: #434B5C;\n",
              "      box-shadow: 0px 1px 3px 1px rgba(0, 0, 0, 0.15);\n",
              "      filter: drop-shadow(0px 1px 2px rgba(0, 0, 0, 0.3));\n",
              "      fill: #FFFFFF;\n",
              "    }\n",
              "  </style>\n",
              "\n",
              "      <script>\n",
              "        const buttonEl =\n",
              "          document.querySelector('#df-cf2ba8e5-ca2e-4c5a-84b6-95598c4785ef button.colab-df-convert');\n",
              "        buttonEl.style.display =\n",
              "          google.colab.kernel.accessAllowed ? 'block' : 'none';\n",
              "\n",
              "        async function convertToInteractive(key) {\n",
              "          const element = document.querySelector('#df-cf2ba8e5-ca2e-4c5a-84b6-95598c4785ef');\n",
              "          const dataTable =\n",
              "            await google.colab.kernel.invokeFunction('convertToInteractive',\n",
              "                                                     [key], {});\n",
              "          if (!dataTable) return;\n",
              "\n",
              "          const docLinkHtml = 'Like what you see? Visit the ' +\n",
              "            '<a target=\"_blank\" href=https://colab.research.google.com/notebooks/data_table.ipynb>data table notebook</a>'\n",
              "            + ' to learn more about interactive tables.';\n",
              "          element.innerHTML = '';\n",
              "          dataTable['output_type'] = 'display_data';\n",
              "          await google.colab.output.renderOutput(dataTable, element);\n",
              "          const docLink = document.createElement('div');\n",
              "          docLink.innerHTML = docLinkHtml;\n",
              "          element.appendChild(docLink);\n",
              "        }\n",
              "      </script>\n",
              "    </div>\n",
              "  </div>\n",
              "  "
            ]
          },
          "metadata": {},
          "execution_count": 99
        }
      ]
    },
    {
      "cell_type": "code",
      "source": [
        "# 1. ¿Cuántas banderas hay?\n",
        "len(emojis.category == \"Flags\")"
      ],
      "metadata": {
        "colab": {
          "base_uri": "https://localhost:8080/"
        },
        "id": "-8jM8-Vq_xVs",
        "outputId": "9cccd188-0bba-4dba-b320-765add5bdb30"
      },
      "execution_count": null,
      "outputs": [
        {
          "output_type": "execute_result",
          "data": {
            "text/plain": [
              "1805"
            ]
          },
          "metadata": {},
          "execution_count": 25
        }
      ]
    },
    {
      "cell_type": "code",
      "source": [
        "# ¿Cuántas categorías de emojis hay?\n",
        "len(pd.unique(emojis.category)) "
      ],
      "metadata": {
        "colab": {
          "base_uri": "https://localhost:8080/"
        },
        "id": "pAGXBjY3S8d8",
        "outputId": "9d780a2e-612c-4e6a-b454-d17232871e40"
      },
      "execution_count": null,
      "outputs": [
        {
          "output_type": "execute_result",
          "data": {
            "text/plain": [
              "9"
            ]
          },
          "metadata": {},
          "execution_count": 3
        }
      ]
    },
    {
      "cell_type": "code",
      "source": [
        "# 2. ¿Cuáles son todos los emojis que estén diferenciados por tono de piel?\n",
        "emojis_con_tonos_de_piel = emojis[(emojis['skin_tones'].notnull() == True)]\n",
        "for i in emojis_con_tonos_de_piel.emoji: \n",
        "  print(i)"
      ],
      "metadata": {
        "id": "sz_hYAbdT1mr",
        "colab": {
          "base_uri": "https://localhost:8080/"
        },
        "outputId": "5e0cd78a-2599-49ba-fe10-5fa06f25c07e"
      },
      "execution_count": null,
      "outputs": [
        {
          "output_type": "stream",
          "name": "stdout",
          "text": [
            "👋\n",
            "🤚\n",
            "🖐️\n",
            "✋\n",
            "🖖\n",
            "👌\n",
            "🤌\n",
            "🤏\n",
            "✌️\n",
            "🤞\n",
            "🤟\n",
            "🤘\n",
            "🤙\n",
            "👈\n",
            "👉\n",
            "👆\n",
            "🖕\n",
            "👇\n",
            "☝️\n",
            "👍\n",
            "👎\n",
            "✊\n",
            "👊\n",
            "🤛\n",
            "🤜\n",
            "👏\n",
            "🙌\n",
            "👐\n",
            "🤲\n",
            "🙏\n",
            "✍️\n",
            "💅\n",
            "🤳\n",
            "💪\n",
            "🦵\n",
            "🦶\n",
            "👂\n",
            "🦻\n",
            "👃\n",
            "👶\n",
            "🧒\n",
            "👦\n",
            "👧\n",
            "🧑\n",
            "👱\n",
            "👨\n",
            "🧔\n",
            "👨‍🦰\n",
            "👨‍🦱\n",
            "👨‍🦳\n",
            "👨‍🦲\n",
            "👩\n",
            "👩‍🦰\n",
            "🧑‍🦰\n",
            "👩‍🦱\n",
            "🧑‍🦱\n",
            "👩‍🦳\n",
            "🧑‍🦳\n",
            "👩‍🦲\n",
            "🧑‍🦲\n",
            "👱‍♀️\n",
            "👱‍♂️\n",
            "🧓\n",
            "👴\n",
            "👵\n",
            "🙍\n",
            "🙍‍♂️\n",
            "🙍‍♀️\n",
            "🙎\n",
            "🙎‍♂️\n",
            "🙎‍♀️\n",
            "🙅\n",
            "🙅‍♂️\n",
            "🙅‍♀️\n",
            "🙆\n",
            "🙆‍♂️\n",
            "🙆‍♀️\n",
            "💁\n",
            "💁‍♂️\n",
            "💁‍♀️\n",
            "🙋\n",
            "🙋‍♂️\n",
            "🙋‍♀️\n",
            "🧏\n",
            "🧏‍♂️\n",
            "🧏‍♀️\n",
            "🙇\n",
            "🙇‍♂️\n",
            "🙇‍♀️\n",
            "🤦\n",
            "🤦‍♂️\n",
            "🤦‍♀️\n",
            "🤷\n",
            "🤷‍♂️\n",
            "🤷‍♀️\n",
            "🧑‍⚕️\n",
            "👨‍⚕️\n",
            "👩‍⚕️\n",
            "🧑‍🎓\n",
            "👨‍🎓\n",
            "👩‍🎓\n",
            "🧑‍🏫\n",
            "👨‍🏫\n",
            "👩‍🏫\n",
            "🧑‍⚖️\n",
            "👨‍⚖️\n",
            "👩‍⚖️\n",
            "🧑‍🌾\n",
            "👨‍🌾\n",
            "👩‍🌾\n",
            "🧑‍🍳\n",
            "👨‍🍳\n",
            "👩‍🍳\n",
            "🧑‍🔧\n",
            "👨‍🔧\n",
            "👩‍🔧\n",
            "🧑‍🏭\n",
            "👨‍🏭\n",
            "👩‍🏭\n",
            "🧑‍💼\n",
            "👨‍💼\n",
            "👩‍💼\n",
            "🧑‍🔬\n",
            "👨‍🔬\n",
            "👩‍🔬\n",
            "🧑‍💻\n",
            "👨‍💻\n",
            "👩‍💻\n",
            "🧑‍🎤\n",
            "👨‍🎤\n",
            "👩‍🎤\n",
            "🧑‍🎨\n",
            "👨‍🎨\n",
            "👩‍🎨\n",
            "🧑‍✈️\n",
            "👨‍✈️\n",
            "👩‍✈️\n",
            "🧑‍🚀\n",
            "👨‍🚀\n",
            "👩‍🚀\n",
            "🧑‍🚒\n",
            "👨‍🚒\n",
            "👩‍🚒\n",
            "👮\n",
            "👮‍♂️\n",
            "👮‍♀️\n",
            "🕵️\n",
            "🕵️‍♂️\n",
            "🕵️‍♀️\n",
            "💂\n",
            "💂‍♂️\n",
            "💂‍♀️\n",
            "🥷\n",
            "👷\n",
            "👷‍♂️\n",
            "👷‍♀️\n",
            "🤴\n",
            "👸\n",
            "👳\n",
            "👳‍♂️\n",
            "👳‍♀️\n",
            "👲\n",
            "🧕\n",
            "🤵\n",
            "🤵‍♂️\n",
            "🤵‍♀️\n",
            "👰\n",
            "👰‍♂️\n",
            "👰‍♀️\n",
            "🤰\n",
            "🤱\n",
            "👩‍🍼\n",
            "👨‍🍼\n",
            "🧑‍🍼\n",
            "👼\n",
            "🎅\n",
            "🤶\n",
            "🧑‍🎄\n",
            "🦸\n",
            "🦸‍♂️\n",
            "🦸‍♀️\n",
            "🦹\n",
            "🦹‍♂️\n",
            "🦹‍♀️\n",
            "🧙\n",
            "🧙‍♂️\n",
            "🧙‍♀️\n",
            "🧚\n",
            "🧚‍♂️\n",
            "🧚‍♀️\n",
            "🧛\n",
            "🧛‍♂️\n",
            "🧛‍♀️\n",
            "🧜\n",
            "🧜‍♂️\n",
            "🧜‍♀️\n",
            "🧝\n",
            "🧝‍♂️\n",
            "🧝‍♀️\n",
            "💆\n",
            "💆‍♂️\n",
            "💆‍♀️\n",
            "💇\n",
            "💇‍♂️\n",
            "💇‍♀️\n",
            "🚶\n",
            "🚶‍♂️\n",
            "🚶‍♀️\n",
            "🧍\n",
            "🧍‍♂️\n",
            "🧍‍♀️\n",
            "🧎\n",
            "🧎‍♂️\n",
            "🧎‍♀️\n",
            "🧑‍🦯\n",
            "👨‍🦯\n",
            "👩‍🦯\n",
            "🧑‍🦼\n",
            "👨‍🦼\n",
            "👩‍🦼\n",
            "🧑‍🦽\n",
            "👨‍🦽\n",
            "👩‍🦽\n",
            "🏃\n",
            "🏃‍♂️\n",
            "🏃‍♀️\n",
            "💃\n",
            "🕺\n",
            "🕴️\n",
            "🧖\n",
            "🧖‍♂️\n",
            "🧖‍♀️\n",
            "🧗\n",
            "🧗‍♂️\n",
            "🧗‍♀️\n",
            "🏇\n",
            "🏂\n",
            "🏌️\n",
            "🏌️‍♂️\n",
            "🏌️‍♀️\n",
            "🏄\n",
            "🏄‍♂️\n",
            "🏄‍♀️\n",
            "🚣\n",
            "🚣‍♂️\n",
            "🚣‍♀️\n",
            "🏊\n",
            "🏊‍♂️\n",
            "🏊‍♀️\n",
            "⛹️\n",
            "⛹️‍♂️\n",
            "⛹️‍♀️\n",
            "🏋️\n",
            "🏋️‍♂️\n",
            "🏋️‍♀️\n",
            "🚴\n",
            "🚴‍♂️\n",
            "🚴‍♀️\n",
            "🚵\n",
            "🚵‍♂️\n",
            "🚵‍♀️\n",
            "🤸\n",
            "🤸‍♂️\n",
            "🤸‍♀️\n",
            "🤽\n",
            "🤽‍♂️\n",
            "🤽‍♀️\n",
            "🤾\n",
            "🤾‍♂️\n",
            "🤾‍♀️\n",
            "🤹\n",
            "🤹‍♂️\n",
            "🤹‍♀️\n",
            "🧘\n",
            "🧘‍♂️\n",
            "🧘‍♀️\n",
            "🛀\n",
            "🛌\n",
            "🧑‍🤝‍🧑\n",
            "👭\n",
            "👫\n",
            "👬\n"
          ]
        }
      ]
    },
    {
      "cell_type": "code",
      "source": [
        "# 4. ¿Cuántos y cuáles emojis se incorporaron entre la versión 13 y 14 de IOS?\n",
        "emojis[(emojis['ios_version'] >= 13) & (emojis['ios_version'] <= 14)] "
      ],
      "metadata": {
        "colab": {
          "base_uri": "https://localhost:8080/",
          "height": 468
        },
        "id": "P8-xcoEpTN0N",
        "outputId": "35a93919-541b-489d-9a18-153e68ee85fa"
      },
      "execution_count": null,
      "outputs": [
        {
          "output_type": "execute_result",
          "data": {
            "text/plain": [
              "      emoji             description           category  \\\n",
              "21        🥲  smiling face with tear  Smileys & Emotion   \n",
              "60        🥸          disguised face  Smileys & Emotion   \n",
              "87        🥱            yawning face  Smileys & Emotion   \n",
              "134       🤎             brown heart  Smileys & Emotion   \n",
              "136       🤍             white heart  Smileys & Emotion   \n",
              "...     ...                     ...                ...   \n",
              "1514      🟩            green square            Symbols   \n",
              "1515      🟦             blue square            Symbols   \n",
              "1516      🟪           purple square            Symbols   \n",
              "1517      🟫            brown square            Symbols   \n",
              "1542  🏳️‍⚧️        transgender flag              Flags   \n",
              "\n",
              "                       aliases tags unicode_version  ios_version  skin_tones  \n",
              "21    [smiling_face_with_tear]   []            13.0         14.0         NaN  \n",
              "60            [disguised_face]   []            13.0         14.0         NaN  \n",
              "87              [yawning_face]   []            12.0         13.0         NaN  \n",
              "134              [brown_heart]   []            12.0         13.0         NaN  \n",
              "136              [white_heart]   []            12.0         13.0         NaN  \n",
              "...                        ...  ...             ...          ...         ...  \n",
              "1514            [green_square]   []            12.0         13.0         NaN  \n",
              "1515             [blue_square]   []            12.0         13.0         NaN  \n",
              "1516           [purple_square]   []            12.0         13.0         NaN  \n",
              "1517            [brown_square]   []            12.0         13.0         NaN  \n",
              "1542        [transgender_flag]   []            13.0         14.0         NaN  \n",
              "\n",
              "[165 rows x 8 columns]"
            ],
            "text/html": [
              "\n",
              "  <div id=\"df-699cf4d6-bcad-4cab-887b-3a9560a13cae\">\n",
              "    <div class=\"colab-df-container\">\n",
              "      <div>\n",
              "<style scoped>\n",
              "    .dataframe tbody tr th:only-of-type {\n",
              "        vertical-align: middle;\n",
              "    }\n",
              "\n",
              "    .dataframe tbody tr th {\n",
              "        vertical-align: top;\n",
              "    }\n",
              "\n",
              "    .dataframe thead th {\n",
              "        text-align: right;\n",
              "    }\n",
              "</style>\n",
              "<table border=\"1\" class=\"dataframe\">\n",
              "  <thead>\n",
              "    <tr style=\"text-align: right;\">\n",
              "      <th></th>\n",
              "      <th>emoji</th>\n",
              "      <th>description</th>\n",
              "      <th>category</th>\n",
              "      <th>aliases</th>\n",
              "      <th>tags</th>\n",
              "      <th>unicode_version</th>\n",
              "      <th>ios_version</th>\n",
              "      <th>skin_tones</th>\n",
              "    </tr>\n",
              "  </thead>\n",
              "  <tbody>\n",
              "    <tr>\n",
              "      <th>21</th>\n",
              "      <td>🥲</td>\n",
              "      <td>smiling face with tear</td>\n",
              "      <td>Smileys &amp; Emotion</td>\n",
              "      <td>[smiling_face_with_tear]</td>\n",
              "      <td>[]</td>\n",
              "      <td>13.0</td>\n",
              "      <td>14.0</td>\n",
              "      <td>NaN</td>\n",
              "    </tr>\n",
              "    <tr>\n",
              "      <th>60</th>\n",
              "      <td>🥸</td>\n",
              "      <td>disguised face</td>\n",
              "      <td>Smileys &amp; Emotion</td>\n",
              "      <td>[disguised_face]</td>\n",
              "      <td>[]</td>\n",
              "      <td>13.0</td>\n",
              "      <td>14.0</td>\n",
              "      <td>NaN</td>\n",
              "    </tr>\n",
              "    <tr>\n",
              "      <th>87</th>\n",
              "      <td>🥱</td>\n",
              "      <td>yawning face</td>\n",
              "      <td>Smileys &amp; Emotion</td>\n",
              "      <td>[yawning_face]</td>\n",
              "      <td>[]</td>\n",
              "      <td>12.0</td>\n",
              "      <td>13.0</td>\n",
              "      <td>NaN</td>\n",
              "    </tr>\n",
              "    <tr>\n",
              "      <th>134</th>\n",
              "      <td>🤎</td>\n",
              "      <td>brown heart</td>\n",
              "      <td>Smileys &amp; Emotion</td>\n",
              "      <td>[brown_heart]</td>\n",
              "      <td>[]</td>\n",
              "      <td>12.0</td>\n",
              "      <td>13.0</td>\n",
              "      <td>NaN</td>\n",
              "    </tr>\n",
              "    <tr>\n",
              "      <th>136</th>\n",
              "      <td>🤍</td>\n",
              "      <td>white heart</td>\n",
              "      <td>Smileys &amp; Emotion</td>\n",
              "      <td>[white_heart]</td>\n",
              "      <td>[]</td>\n",
              "      <td>12.0</td>\n",
              "      <td>13.0</td>\n",
              "      <td>NaN</td>\n",
              "    </tr>\n",
              "    <tr>\n",
              "      <th>...</th>\n",
              "      <td>...</td>\n",
              "      <td>...</td>\n",
              "      <td>...</td>\n",
              "      <td>...</td>\n",
              "      <td>...</td>\n",
              "      <td>...</td>\n",
              "      <td>...</td>\n",
              "      <td>...</td>\n",
              "    </tr>\n",
              "    <tr>\n",
              "      <th>1514</th>\n",
              "      <td>🟩</td>\n",
              "      <td>green square</td>\n",
              "      <td>Symbols</td>\n",
              "      <td>[green_square]</td>\n",
              "      <td>[]</td>\n",
              "      <td>12.0</td>\n",
              "      <td>13.0</td>\n",
              "      <td>NaN</td>\n",
              "    </tr>\n",
              "    <tr>\n",
              "      <th>1515</th>\n",
              "      <td>🟦</td>\n",
              "      <td>blue square</td>\n",
              "      <td>Symbols</td>\n",
              "      <td>[blue_square]</td>\n",
              "      <td>[]</td>\n",
              "      <td>12.0</td>\n",
              "      <td>13.0</td>\n",
              "      <td>NaN</td>\n",
              "    </tr>\n",
              "    <tr>\n",
              "      <th>1516</th>\n",
              "      <td>🟪</td>\n",
              "      <td>purple square</td>\n",
              "      <td>Symbols</td>\n",
              "      <td>[purple_square]</td>\n",
              "      <td>[]</td>\n",
              "      <td>12.0</td>\n",
              "      <td>13.0</td>\n",
              "      <td>NaN</td>\n",
              "    </tr>\n",
              "    <tr>\n",
              "      <th>1517</th>\n",
              "      <td>🟫</td>\n",
              "      <td>brown square</td>\n",
              "      <td>Symbols</td>\n",
              "      <td>[brown_square]</td>\n",
              "      <td>[]</td>\n",
              "      <td>12.0</td>\n",
              "      <td>13.0</td>\n",
              "      <td>NaN</td>\n",
              "    </tr>\n",
              "    <tr>\n",
              "      <th>1542</th>\n",
              "      <td>🏳️‍⚧️</td>\n",
              "      <td>transgender flag</td>\n",
              "      <td>Flags</td>\n",
              "      <td>[transgender_flag]</td>\n",
              "      <td>[]</td>\n",
              "      <td>13.0</td>\n",
              "      <td>14.0</td>\n",
              "      <td>NaN</td>\n",
              "    </tr>\n",
              "  </tbody>\n",
              "</table>\n",
              "<p>165 rows × 8 columns</p>\n",
              "</div>\n",
              "      <button class=\"colab-df-convert\" onclick=\"convertToInteractive('df-699cf4d6-bcad-4cab-887b-3a9560a13cae')\"\n",
              "              title=\"Convert this dataframe to an interactive table.\"\n",
              "              style=\"display:none;\">\n",
              "        \n",
              "  <svg xmlns=\"http://www.w3.org/2000/svg\" height=\"24px\"viewBox=\"0 0 24 24\"\n",
              "       width=\"24px\">\n",
              "    <path d=\"M0 0h24v24H0V0z\" fill=\"none\"/>\n",
              "    <path d=\"M18.56 5.44l.94 2.06.94-2.06 2.06-.94-2.06-.94-.94-2.06-.94 2.06-2.06.94zm-11 1L8.5 8.5l.94-2.06 2.06-.94-2.06-.94L8.5 2.5l-.94 2.06-2.06.94zm10 10l.94 2.06.94-2.06 2.06-.94-2.06-.94-.94-2.06-.94 2.06-2.06.94z\"/><path d=\"M17.41 7.96l-1.37-1.37c-.4-.4-.92-.59-1.43-.59-.52 0-1.04.2-1.43.59L10.3 9.45l-7.72 7.72c-.78.78-.78 2.05 0 2.83L4 21.41c.39.39.9.59 1.41.59.51 0 1.02-.2 1.41-.59l7.78-7.78 2.81-2.81c.8-.78.8-2.07 0-2.86zM5.41 20L4 18.59l7.72-7.72 1.47 1.35L5.41 20z\"/>\n",
              "  </svg>\n",
              "      </button>\n",
              "      \n",
              "  <style>\n",
              "    .colab-df-container {\n",
              "      display:flex;\n",
              "      flex-wrap:wrap;\n",
              "      gap: 12px;\n",
              "    }\n",
              "\n",
              "    .colab-df-convert {\n",
              "      background-color: #E8F0FE;\n",
              "      border: none;\n",
              "      border-radius: 50%;\n",
              "      cursor: pointer;\n",
              "      display: none;\n",
              "      fill: #1967D2;\n",
              "      height: 32px;\n",
              "      padding: 0 0 0 0;\n",
              "      width: 32px;\n",
              "    }\n",
              "\n",
              "    .colab-df-convert:hover {\n",
              "      background-color: #E2EBFA;\n",
              "      box-shadow: 0px 1px 2px rgba(60, 64, 67, 0.3), 0px 1px 3px 1px rgba(60, 64, 67, 0.15);\n",
              "      fill: #174EA6;\n",
              "    }\n",
              "\n",
              "    [theme=dark] .colab-df-convert {\n",
              "      background-color: #3B4455;\n",
              "      fill: #D2E3FC;\n",
              "    }\n",
              "\n",
              "    [theme=dark] .colab-df-convert:hover {\n",
              "      background-color: #434B5C;\n",
              "      box-shadow: 0px 1px 3px 1px rgba(0, 0, 0, 0.15);\n",
              "      filter: drop-shadow(0px 1px 2px rgba(0, 0, 0, 0.3));\n",
              "      fill: #FFFFFF;\n",
              "    }\n",
              "  </style>\n",
              "\n",
              "      <script>\n",
              "        const buttonEl =\n",
              "          document.querySelector('#df-699cf4d6-bcad-4cab-887b-3a9560a13cae button.colab-df-convert');\n",
              "        buttonEl.style.display =\n",
              "          google.colab.kernel.accessAllowed ? 'block' : 'none';\n",
              "\n",
              "        async function convertToInteractive(key) {\n",
              "          const element = document.querySelector('#df-699cf4d6-bcad-4cab-887b-3a9560a13cae');\n",
              "          const dataTable =\n",
              "            await google.colab.kernel.invokeFunction('convertToInteractive',\n",
              "                                                     [key], {});\n",
              "          if (!dataTable) return;\n",
              "\n",
              "          const docLinkHtml = 'Like what you see? Visit the ' +\n",
              "            '<a target=\"_blank\" href=https://colab.research.google.com/notebooks/data_table.ipynb>data table notebook</a>'\n",
              "            + ' to learn more about interactive tables.';\n",
              "          element.innerHTML = '';\n",
              "          dataTable['output_type'] = 'display_data';\n",
              "          await google.colab.output.renderOutput(dataTable, element);\n",
              "          const docLink = document.createElement('div');\n",
              "          docLink.innerHTML = docLinkHtml;\n",
              "          element.appendChild(docLink);\n",
              "        }\n",
              "      </script>\n",
              "    </div>\n",
              "  </div>\n",
              "  "
            ]
          },
          "metadata": {},
          "execution_count": 96
        }
      ]
    },
    {
      "cell_type": "markdown",
      "source": [
        "**7. Banderas**\n",
        "\n",
        "Usando la tabla emojis del ejercicio anterior, definí una función bandera_de que tome el nombre de un país (en inglés) y te de su bandera.\n",
        "\n",
        "Por ejemplo:\n",
        "\n",
        "\n",
        "```\n",
        ">>> bandera_de(\"Argentina\")\n",
        "'🇦🇷'\n",
        ">>> bandera_de(\"Brazil\")\n",
        "'🇧🇷'\n",
        ">>> emojificar(\"Mexico\")\n",
        "'🇲🇽'\n",
        "```\n",
        "\n",
        "\n"
      ],
      "metadata": {
        "id": "lJvWDNbrDg_e"
      }
    },
    {
      "cell_type": "code",
      "source": [
        "def bandera_de(pais):\n",
        "  return emojis[emojis['description'] == \"flag: \" + pais]['emoji'].iloc[0] "
      ],
      "metadata": {
        "id": "Kk-miFb3t04o"
      },
      "execution_count": null,
      "outputs": []
    },
    {
      "cell_type": "code",
      "source": [
        "bandera_de(\"Argentina\")"
      ],
      "metadata": {
        "colab": {
          "base_uri": "https://localhost:8080/",
          "height": 35
        },
        "id": "yPjN9rkxODwq",
        "outputId": "8d43c8a6-57c5-43fe-dccd-28dc58b21398"
      },
      "execution_count": null,
      "outputs": [
        {
          "output_type": "execute_result",
          "data": {
            "text/plain": [
              "'🇦🇷'"
            ],
            "application/vnd.google.colaboratory.intrinsic+json": {
              "type": "string"
            }
          },
          "metadata": {},
          "execution_count": 159
        }
      ]
    },
    {
      "cell_type": "markdown",
      "source": [
        "**7. Emojificar**\n",
        "\n",
        "Definí la función emojificar, que tome un texto y reemplace todas las palabras que se correspondan con el alias de un emoji por el emoji correspondiente.\n",
        "\n",
        "Por ejemplo:\n",
        "\n",
        "\n",
        "```\n",
        ">>> emojificar(\"Emojificando smile\")\n",
        "'Emojificando 😄'\n",
        ">>> emojificar(\"hola argentina\")\n",
        "'hola 🇦🇷'\n",
        ">>> print(emojificar(\"pizza y mate\"))\n",
        "# el print puede ser\n",
        "# necesario si el emoji no se ve bien\n",
        "🍕 y 🧉\n",
        "```\n",
        "\n",
        "Ayuda\n",
        "Hay varias formas de encarar este ejercicio. Una de ellas es recorrer la tabla de emojis iterando los índices, y luego accediendo cada fila con iloc:\n",
        "\n",
        "\n",
        "```\n",
        "for index in emojis.index:\n",
        "  emoji = emojis.iloc[index]\n",
        "  # y ahora emoji es una fila que podés\n",
        "  # usar como emoji.skin_tones, por ejemplo\n",
        "```\n",
        "Otra más sencilla es usar itertuples() que nos permite recorrer directamente cada fila:\n",
        "\n",
        "\n",
        "```\n",
        "for emoji in emojis.itertuples():\n",
        "  # y ahora emoji es una fila que podés\n",
        "  # usar igual que el ejemplo anterior\n",
        "```\n",
        "\n",
        "Por último, también podés convertir el dataframe emojis en una lista de diccionarios usando …\n",
        "\n",
        "\n",
        "```\n",
        "# esto devuelve una lista de diccionarios\n",
        "emojis.to_dict(\"records\")\n",
        "```\n",
        "… y luego recorrerla normalmente.\n",
        "\n",
        "Por último, ojo porque hay muchos emojis que tienen alias muy cortos y si no tenés cuidado te puede pasar ésto:\n",
        "\n",
        "\n",
        "```\n",
        ">>> emojificar(\"hola argentina\")\n",
        "'h⭕l🅰️ 🅰️rgentin🅰️'\n",
        "```\n",
        "\n"
      ],
      "metadata": {
        "id": "p7y7OCM9Dq2W"
      }
    },
    {
      "cell_type": "code",
      "source": [
        "def emojificar(string):\n",
        "  resultado = string\n",
        "  for index in emojis.index:\n",
        "    emoji = emojis.iloc[index] \n",
        "    for alias in emoji.aliases: \n",
        "      if len(alias) > 1:\n",
        "        resultado = resultado.replace(alias, emoji.emoji)\n",
        "  return resultado"
      ],
      "metadata": {
        "id": "dZdpOXp0M8TZ"
      },
      "execution_count": null,
      "outputs": []
    },
    {
      "cell_type": "code",
      "source": [
        "emojificar(\"Emojificando smile\")"
      ],
      "metadata": {
        "colab": {
          "base_uri": "https://localhost:8080/",
          "height": 35
        },
        "id": "xO7dsilWM-OG",
        "outputId": "f82e1f53-cfad-4f4b-9b60-6a8424ce3e51"
      },
      "execution_count": null,
      "outputs": [
        {
          "output_type": "execute_result",
          "data": {
            "text/plain": [
              "'Emojificando 😄'"
            ],
            "application/vnd.google.colaboratory.intrinsic+json": {
              "type": "string"
            }
          },
          "metadata": {},
          "execution_count": 146
        }
      ]
    },
    {
      "cell_type": "markdown",
      "source": [
        "**8. Partidos de fútbol**\n",
        "\n",
        "En una aplicación tenemos estadísticas de partidos de fútbol ⚽ como las siguientes:\n",
        "\n",
        "Como vemos, estas estadísticas tienen información de la fecha, equipos que se enfrentaron, y quien ganó (resultado) y qué goles hizo cada equipo.\n",
        "\n",
        "Sabiendo ésto, definí una función goles_hechos_a, que reciba un equipo y un diccionario con las estadísticas de un partido, y devuelva la cantidad de goles que le hicieron al equipo dado, sin importante si fueron de visitante o local.\n",
        "\n",
        "Por ejemplo:\n",
        "\n",
        "\n",
        "```\n",
        ">>> goles_hechos_a(\"Tigre\", {\n",
        " 'equipo_local': 'Rosario Central',\n",
        " 'equipo_visitante': 'Tigre',\n",
        " 'goles_locales': 2,\n",
        " 'goles_visitantes': 1,\n",
        " ...\n",
        "})\n",
        "2 # porque Tigre era visitante y hubo un sólo gol local\n",
        ">>> goles_hechos_a(\"River Plate\", {\n",
        "  'equipo_local': 'River Plate',\n",
        "  'equipo_visitante': 'Quilmes',\n",
        "  'goles_locales': 2,\n",
        "  'goles_visitantes': 3,\n",
        "  ...\n",
        "})\n",
        "3 # porque River era local y hubo dos goles visitantes\n",
        "```\n",
        "\n",
        "Nota: asumí que la función será siempre invocada con uno de los dos equipos participantes."
      ],
      "metadata": {
        "id": "Nw9-Oz7CEPTF"
      }
    },
    {
      "cell_type": "code",
      "source": [
        "# Hecho "
      ],
      "metadata": {
        "id": "xATQvLpHik3a"
      },
      "execution_count": null,
      "outputs": []
    },
    {
      "cell_type": "code",
      "source": [
        "partidos_de_ejemplo = [\n",
        " {'anio': 2015,\n",
        "  'dia': 17,\n",
        "  'equipo_local': 'Belgrano',\n",
        "  'equipo_visitante': 'Nueva Chicago',\n",
        "  'goles_locales': 3,\n",
        "  'goles_visitantes': 1,\n",
        "  'mes': 2,\n",
        "  'resultado': 'local'},\n",
        " {'anio': 2017,\n",
        "  'dia': 22,\n",
        "  'equipo_local': 'Olimpo Bahia Blanca',\n",
        "  'equipo_visitante': 'Estudiantes L.P.',\n",
        "  'goles_locales': 3,\n",
        "  'goles_visitantes': 1,\n",
        "  'mes': 5,\n",
        "  'resultado': 'local'},\n",
        " {'anio': 2015,\n",
        "  'dia': 31,\n",
        "  'equipo_local': 'Tigre',\n",
        "  'equipo_visitante': 'Defensa y Justicia',\n",
        "  'goles_locales': 0,\n",
        "  'goles_visitantes': 0,\n",
        "  'mes': 3,\n",
        "  'resultado': 'empate'},\n",
        " {'anio': 2020,\n",
        "  'dia': 8,\n",
        "  'equipo_local': 'Banfield',\n",
        "  'equipo_visitante': 'Rosario Central',\n",
        "  'goles_locales': 1,\n",
        "  'goles_visitantes': 1,\n",
        "  'mes': 2,\n",
        "  'resultado': 'empate'},\n",
        " {'anio': 2017,\n",
        "  'dia': 25,\n",
        "  'equipo_local': 'Tigre',\n",
        "  'equipo_visitante': 'Velez Sarsfield',\n",
        "  'goles_locales': 0,\n",
        "  'goles_visitantes': 3,\n",
        "  'mes': 8,\n",
        "  'resultado': 'visitante'}]"
      ],
      "metadata": {
        "id": "db0ob5vmHNjL"
      },
      "execution_count": null,
      "outputs": []
    },
    {
      "cell_type": "code",
      "source": [
        "def goles_hechos_a(equipo, partido): \n",
        "  if equipo == partido['equipo_local']: \n",
        "    return partido['goles_visitantes']\n",
        "  else: \n",
        "    return partido['goles_locales']"
      ],
      "metadata": {
        "id": "UNbEwN69GRV_"
      },
      "execution_count": null,
      "outputs": []
    },
    {
      "cell_type": "code",
      "source": [
        "goles_hechos_a(\"Tigre\", {\n",
        " 'equipo_local': 'Rosario Central',\n",
        " 'equipo_visitante': 'Tigre',\n",
        " 'goles_locales': 2,\n",
        " 'goles_visitantes': 1, })"
      ],
      "metadata": {
        "colab": {
          "base_uri": "https://localhost:8080/"
        },
        "id": "apHg_8IPG8li",
        "outputId": "e0e9d51b-b278-41c9-9c38-2b6eecefb710"
      },
      "execution_count": null,
      "outputs": [
        {
          "output_type": "execute_result",
          "data": {
            "text/plain": [
              "2"
            ]
          },
          "metadata": {},
          "execution_count": 50
        }
      ]
    },
    {
      "cell_type": "code",
      "source": [
        "goles_hechos_a(\"River Plate\", {\n",
        "  'equipo_local': 'River Plate',\n",
        "  'equipo_visitante': 'Quilmes',\n",
        "  'goles_locales': 2,\n",
        "  'goles_visitantes': 3, }) "
      ],
      "metadata": {
        "colab": {
          "base_uri": "https://localhost:8080/"
        },
        "id": "wCSTUGxJHErP",
        "outputId": "aa284cf3-195d-4bc7-ca02-4605901be1d7"
      },
      "execution_count": null,
      "outputs": [
        {
          "output_type": "execute_result",
          "data": {
            "text/plain": [
              "3"
            ]
          },
          "metadata": {},
          "execution_count": 51
        }
      ]
    },
    {
      "cell_type": "markdown",
      "source": [
        "**9. Tajaí**\n",
        "\n",
        "Definí una función participo que diga si un equipo partició en un partido.\n",
        "\n",
        "\n",
        "```\n",
        ">>> participo(\"Nueva Chicago\", partidos_de_ejemplo[0])\n",
        "True # Porque fue un partido Belgrano vs Nueva Chicago\n",
        ">>> participo(\"Olimpo Bahia Blanca\", partidos_de_ejemplo[1])\n",
        "True # Porque fue vs Olimpo Bahia Blanca vs Estudiantes L.P.\n",
        ">>> participo(\"River Plate\", partidos_de_ejemplo[1])\n",
        "False\n",
        "```"
      ],
      "metadata": {
        "id": "mNsk-3NOHSGw"
      }
    },
    {
      "cell_type": "code",
      "source": [
        "# Hecho "
      ],
      "metadata": {
        "id": "vmijwWOrimrT"
      },
      "execution_count": null,
      "outputs": []
    },
    {
      "cell_type": "code",
      "source": [
        "def participo(equipo, partido): \n",
        "  return equipo == partido['equipo_local'] or equipo == partido['equipo_visitante'] \n"
      ],
      "metadata": {
        "id": "IqFTcz6NHcXl"
      },
      "execution_count": null,
      "outputs": []
    },
    {
      "cell_type": "code",
      "source": [
        "participo(\"Nueva Chicago\", partidos_de_ejemplo[0])"
      ],
      "metadata": {
        "colab": {
          "base_uri": "https://localhost:8080/"
        },
        "id": "ToOkvvoyHpat",
        "outputId": "4e86c8c2-bf40-4525-9e15-fa09ad9d5afc"
      },
      "execution_count": null,
      "outputs": [
        {
          "output_type": "execute_result",
          "data": {
            "text/plain": [
              "True"
            ]
          },
          "metadata": {},
          "execution_count": 56
        }
      ]
    },
    {
      "cell_type": "code",
      "source": [
        "participo(\"Olimpo Bahia Blanca\", partidos_de_ejemplo[1])"
      ],
      "metadata": {
        "colab": {
          "base_uri": "https://localhost:8080/"
        },
        "id": "n4Fc6IvXH_0g",
        "outputId": "eb026406-693a-4138-dfd4-4bdb4391fe7e"
      },
      "execution_count": null,
      "outputs": [
        {
          "output_type": "execute_result",
          "data": {
            "text/plain": [
              "True"
            ]
          },
          "metadata": {},
          "execution_count": 57
        }
      ]
    },
    {
      "cell_type": "code",
      "source": [
        "participo(\"River Plate\", partidos_de_ejemplo[1])"
      ],
      "metadata": {
        "colab": {
          "base_uri": "https://localhost:8080/"
        },
        "id": "V9UmRs1RIB5m",
        "outputId": "3ce30316-babf-4b97-bac0-ad5f6e5ed51e"
      },
      "execution_count": null,
      "outputs": [
        {
          "output_type": "execute_result",
          "data": {
            "text/plain": [
              "False"
            ]
          },
          "metadata": {},
          "execution_count": 58
        }
      ]
    },
    {
      "cell_type": "markdown",
      "source": [
        "**10. El clásico del domingo**\n",
        "\n",
        "Los domingos necesitamos armar los titulares que se ven durante el partido y al finalizar. Por ejemplo:\n",
        "\n",
        "\n",
        "```\n",
        ">>> titular_durante(partidos_de_ejemplo[3])\n",
        "\"El minuto a minuto del Banfield - Rosario Central\"\n",
        ">>> titular_final(partidos_de_ejemplo[4])\n",
        "\"Tigre 0 - 0 Defensa y Justicia: toda la información\"\n",
        "```\n",
        "\n",
        "Definí las funciones titular_durante y titular_final"
      ],
      "metadata": {
        "id": "uBjaHPeRHX7y"
      }
    },
    {
      "cell_type": "code",
      "source": [
        "# Hecho "
      ],
      "metadata": {
        "id": "6gBxRSPvin_G"
      },
      "execution_count": null,
      "outputs": []
    },
    {
      "cell_type": "code",
      "source": [
        "def titular_durante(partido): \n",
        "  return 'El minuto a minuto del ' + partido['equipo_local'] + ' - ' + partido['equipo_visitante'] "
      ],
      "metadata": {
        "id": "kT-XavLXIDXg"
      },
      "execution_count": null,
      "outputs": []
    },
    {
      "cell_type": "code",
      "source": [
        "titular_durante(partidos_de_ejemplo[3]) "
      ],
      "metadata": {
        "colab": {
          "base_uri": "https://localhost:8080/",
          "height": 35
        },
        "id": "Op9Cs9qKIWMN",
        "outputId": "a06171c9-0306-4309-fb3a-729a630cf305"
      },
      "execution_count": null,
      "outputs": [
        {
          "output_type": "execute_result",
          "data": {
            "text/plain": [
              "'El minuto a minuto del Banfield - Rosario Central'"
            ],
            "application/vnd.google.colaboratory.intrinsic+json": {
              "type": "string"
            }
          },
          "metadata": {},
          "execution_count": 60
        }
      ]
    },
    {
      "cell_type": "code",
      "source": [
        "def titular_final(partido): \n",
        "  return partido['equipo_local'] + ' ' + str(partido['goles_locales']) + ' - ' + str(partido['goles_visitantes']) + ' ' + partido['equipo_visitante'] + ': toda la información'"
      ],
      "metadata": {
        "id": "QdJbnEzzIYiC"
      },
      "execution_count": null,
      "outputs": []
    },
    {
      "cell_type": "code",
      "source": [
        "titular_final(partidos_de_ejemplo[4]) \n",
        "# la respuesta del ejemplo está mal? "
      ],
      "metadata": {
        "colab": {
          "base_uri": "https://localhost:8080/",
          "height": 35
        },
        "id": "YwvcimLhI7bE",
        "outputId": "33fdaa4a-fbd8-4de8-9314-96ce371c4bda"
      },
      "execution_count": null,
      "outputs": [
        {
          "output_type": "execute_result",
          "data": {
            "text/plain": [
              "'Tigre 0 - 3 Velez Sarsfield: toda la información'"
            ],
            "application/vnd.google.colaboratory.intrinsic+json": {
              "type": "string"
            }
          },
          "metadata": {},
          "execution_count": 70
        }
      ]
    },
    {
      "cell_type": "markdown",
      "source": [
        "**11. ¡6 a 1!**\n",
        "\n",
        "Definí una función mayor_goleada_recibida que responda cuál fue la mayor goleada recibida, independientemente de si fue recibida de local o visitante. Probablemente te convenga reutilizar algunas de las funciones anteriores"
      ],
      "metadata": {
        "id": "Iy4UELrKLrtu"
      }
    },
    {
      "cell_type": "code",
      "source": [
        "'''\n",
        "def mayor_goleada_recibida(partidos): \n",
        "  visitantes = 0\n",
        "  locales = 0 \n",
        "  for partido in partidos: \n",
        "    if partido['goles_locales'] > locales: \n",
        "      locales = partido['goles_locales']\n",
        "    if partido['goles_visitantes'] > visitantes: \n",
        "      visitantes = partido['goles_visitantes']\n",
        "  if visitantes > locales: \n",
        "    return visitantes \n",
        "  else: \n",
        "    return locales \n",
        "'''\n",
        "# siento que hice un código exageradamente largo\n",
        "# cuál sería otra alternativa?"
      ],
      "metadata": {
        "id": "RpaJ6VsINQJ6"
      },
      "execution_count": null,
      "outputs": []
    },
    {
      "cell_type": "code",
      "source": [
        "mayor_goleada_recibida(partidos_de_ejemplo)"
      ],
      "metadata": {
        "colab": {
          "base_uri": "https://localhost:8080/"
        },
        "id": "Xgx96S9GOH5V",
        "outputId": "81c6b573-0de7-4215-d597-6a1ff16a4166"
      },
      "execution_count": null,
      "outputs": [
        {
          "output_type": "execute_result",
          "data": {
            "text/plain": [
              "3"
            ]
          },
          "metadata": {},
          "execution_count": 78
        }
      ]
    },
    {
      "cell_type": "markdown",
      "source": [
        "**12. Siamo Fuori**\n",
        "\n",
        "Definí una función perdio, que diga si un equipo perdió en un partido. Nota: si el equipo empató o no partició, diremos que no perdió."
      ],
      "metadata": {
        "id": "4ANojmqKLs7i"
      }
    },
    {
      "cell_type": "code",
      "source": [
        "# Hecho "
      ],
      "metadata": {
        "id": "BVT0UkohirRs"
      },
      "execution_count": null,
      "outputs": []
    },
    {
      "cell_type": "code",
      "source": [
        "def perdio(equipo, partido):\n",
        "  resultado = False \n",
        "  if equipo == partido[\"equipo_local\"]: \n",
        "    if partido[\"goles_visitantes\"] > partido[\"goles_locales\"]: \n",
        "      resultado = True \n",
        "  else: \n",
        "    if partido[\"goles_locales\"] > partido[\"goles_visitantes\"]: \n",
        "      resultado = True\n",
        "  return resultado"
      ],
      "metadata": {
        "id": "Gdbp3Anm4rZH"
      },
      "execution_count": null,
      "outputs": []
    },
    {
      "cell_type": "code",
      "source": [
        "perdio('Tigre', partidos_de_ejemplo[4]) # Es correcto: 0 - 3"
      ],
      "metadata": {
        "colab": {
          "base_uri": "https://localhost:8080/"
        },
        "id": "H6CHX2zQ5vH3",
        "outputId": "468b19ed-fb9a-47e3-f06d-5229e8c2e1c1"
      },
      "execution_count": null,
      "outputs": [
        {
          "output_type": "execute_result",
          "data": {
            "text/plain": [
              "True"
            ]
          },
          "metadata": {},
          "execution_count": 10
        }
      ]
    },
    {
      "cell_type": "code",
      "source": [
        "perdio('Banfield', partidos_de_ejemplo[3]) #Es correcto: 1 - 1"
      ],
      "metadata": {
        "colab": {
          "base_uri": "https://localhost:8080/"
        },
        "id": "ZHW_dCHb58_T",
        "outputId": "02130857-d2df-484b-bd89-f5953f04de1f"
      },
      "execution_count": null,
      "outputs": [
        {
          "output_type": "execute_result",
          "data": {
            "text/plain": [
              "False"
            ]
          },
          "metadata": {},
          "execution_count": 11
        }
      ]
    },
    {
      "cell_type": "markdown",
      "source": [
        "**13. Saliendo a la cancha**\n",
        "\n",
        "¡Llegó la hora de usar datos reales!\n",
        "\n",
        "Cargá desde https://www.football-data.co.uk/new/ARG.csv una tabla de pandas y mirá qué contiene."
      ],
      "metadata": {
        "id": "LMWDVtU1Lysu"
      }
    },
    {
      "cell_type": "code",
      "source": [
        "import pandas as pd\n",
        "futbol_arg = pd.read_csv('https://www.football-data.co.uk/new/ARG.csv')\n",
        "futbol_arg.sample(5)\n",
        "# Hecho "
      ],
      "metadata": {
        "colab": {
          "base_uri": "https://localhost:8080/",
          "height": 392
        },
        "id": "aO5knZLu6mn_",
        "outputId": "a4e9c18d-1749-40cb-e0d3-6c2606f0a917"
      },
      "execution_count": null,
      "outputs": [
        {
          "output_type": "execute_result",
          "data": {
            "text/plain": [
              "        Country                       League     Season        Date   Time  \\\n",
              "581   Argentina            Liga Profesional   2013/2014  14/02/2014  22:15   \n",
              "897   Argentina            Liga Profesional        2014  01/11/2014  21:30   \n",
              "1893  Argentina            Liga Profesional   2016/2017  18/03/2017  23:30   \n",
              "1000  Argentina            Liga Profesional        2015  07/03/2015  00:10   \n",
              "3103  Argentina  Copa de la Liga Profesional       2020  04/11/2020  00:00   \n",
              "\n",
              "              Home                Away  HG  AG Res    PH    PD     PA  MaxH  \\\n",
              "581     Godoy Cruz             Quilmes   2   0   H  1.95  3.27   4.83  2.02   \n",
              "897        Quilmes     Velez Sarsfield   2   1   H  3.86  3.14   2.23  3.92   \n",
              "1893       Huracan  Defensa y Justicia   2   0   H  3.08  3.09   2.65  3.14   \n",
              "1000  Atl. Rafaela         Racing Club   1   1   D  3.23  3.20   2.47  3.23   \n",
              "3103   River Plate            Banfield   1   3   A  1.32  4.87  11.52  1.38   \n",
              "\n",
              "      MaxD   MaxA  AvgH  AvgD  AvgA  \n",
              "581   3.27   5.10  1.91  3.11  4.32  \n",
              "897   3.15   2.40  3.44  3.02  2.21  \n",
              "1893  3.09   2.80  2.93  2.93  2.54  \n",
              "1000  3.20   2.75  2.94  2.99  2.50  \n",
              "3103  5.10  13.00  1.33  4.66  9.49  "
            ],
            "text/html": [
              "\n",
              "  <div id=\"df-314b4700-ac5b-4cec-8ecf-fe338558a2eb\">\n",
              "    <div class=\"colab-df-container\">\n",
              "      <div>\n",
              "<style scoped>\n",
              "    .dataframe tbody tr th:only-of-type {\n",
              "        vertical-align: middle;\n",
              "    }\n",
              "\n",
              "    .dataframe tbody tr th {\n",
              "        vertical-align: top;\n",
              "    }\n",
              "\n",
              "    .dataframe thead th {\n",
              "        text-align: right;\n",
              "    }\n",
              "</style>\n",
              "<table border=\"1\" class=\"dataframe\">\n",
              "  <thead>\n",
              "    <tr style=\"text-align: right;\">\n",
              "      <th></th>\n",
              "      <th>Country</th>\n",
              "      <th>League</th>\n",
              "      <th>Season</th>\n",
              "      <th>Date</th>\n",
              "      <th>Time</th>\n",
              "      <th>Home</th>\n",
              "      <th>Away</th>\n",
              "      <th>HG</th>\n",
              "      <th>AG</th>\n",
              "      <th>Res</th>\n",
              "      <th>PH</th>\n",
              "      <th>PD</th>\n",
              "      <th>PA</th>\n",
              "      <th>MaxH</th>\n",
              "      <th>MaxD</th>\n",
              "      <th>MaxA</th>\n",
              "      <th>AvgH</th>\n",
              "      <th>AvgD</th>\n",
              "      <th>AvgA</th>\n",
              "    </tr>\n",
              "  </thead>\n",
              "  <tbody>\n",
              "    <tr>\n",
              "      <th>581</th>\n",
              "      <td>Argentina</td>\n",
              "      <td>Liga Profesional</td>\n",
              "      <td>2013/2014</td>\n",
              "      <td>14/02/2014</td>\n",
              "      <td>22:15</td>\n",
              "      <td>Godoy Cruz</td>\n",
              "      <td>Quilmes</td>\n",
              "      <td>2</td>\n",
              "      <td>0</td>\n",
              "      <td>H</td>\n",
              "      <td>1.95</td>\n",
              "      <td>3.27</td>\n",
              "      <td>4.83</td>\n",
              "      <td>2.02</td>\n",
              "      <td>3.27</td>\n",
              "      <td>5.10</td>\n",
              "      <td>1.91</td>\n",
              "      <td>3.11</td>\n",
              "      <td>4.32</td>\n",
              "    </tr>\n",
              "    <tr>\n",
              "      <th>897</th>\n",
              "      <td>Argentina</td>\n",
              "      <td>Liga Profesional</td>\n",
              "      <td>2014</td>\n",
              "      <td>01/11/2014</td>\n",
              "      <td>21:30</td>\n",
              "      <td>Quilmes</td>\n",
              "      <td>Velez Sarsfield</td>\n",
              "      <td>2</td>\n",
              "      <td>1</td>\n",
              "      <td>H</td>\n",
              "      <td>3.86</td>\n",
              "      <td>3.14</td>\n",
              "      <td>2.23</td>\n",
              "      <td>3.92</td>\n",
              "      <td>3.15</td>\n",
              "      <td>2.40</td>\n",
              "      <td>3.44</td>\n",
              "      <td>3.02</td>\n",
              "      <td>2.21</td>\n",
              "    </tr>\n",
              "    <tr>\n",
              "      <th>1893</th>\n",
              "      <td>Argentina</td>\n",
              "      <td>Liga Profesional</td>\n",
              "      <td>2016/2017</td>\n",
              "      <td>18/03/2017</td>\n",
              "      <td>23:30</td>\n",
              "      <td>Huracan</td>\n",
              "      <td>Defensa y Justicia</td>\n",
              "      <td>2</td>\n",
              "      <td>0</td>\n",
              "      <td>H</td>\n",
              "      <td>3.08</td>\n",
              "      <td>3.09</td>\n",
              "      <td>2.65</td>\n",
              "      <td>3.14</td>\n",
              "      <td>3.09</td>\n",
              "      <td>2.80</td>\n",
              "      <td>2.93</td>\n",
              "      <td>2.93</td>\n",
              "      <td>2.54</td>\n",
              "    </tr>\n",
              "    <tr>\n",
              "      <th>1000</th>\n",
              "      <td>Argentina</td>\n",
              "      <td>Liga Profesional</td>\n",
              "      <td>2015</td>\n",
              "      <td>07/03/2015</td>\n",
              "      <td>00:10</td>\n",
              "      <td>Atl. Rafaela</td>\n",
              "      <td>Racing Club</td>\n",
              "      <td>1</td>\n",
              "      <td>1</td>\n",
              "      <td>D</td>\n",
              "      <td>3.23</td>\n",
              "      <td>3.20</td>\n",
              "      <td>2.47</td>\n",
              "      <td>3.23</td>\n",
              "      <td>3.20</td>\n",
              "      <td>2.75</td>\n",
              "      <td>2.94</td>\n",
              "      <td>2.99</td>\n",
              "      <td>2.50</td>\n",
              "    </tr>\n",
              "    <tr>\n",
              "      <th>3103</th>\n",
              "      <td>Argentina</td>\n",
              "      <td>Copa de la Liga Profesional</td>\n",
              "      <td>2020</td>\n",
              "      <td>04/11/2020</td>\n",
              "      <td>00:00</td>\n",
              "      <td>River Plate</td>\n",
              "      <td>Banfield</td>\n",
              "      <td>1</td>\n",
              "      <td>3</td>\n",
              "      <td>A</td>\n",
              "      <td>1.32</td>\n",
              "      <td>4.87</td>\n",
              "      <td>11.52</td>\n",
              "      <td>1.38</td>\n",
              "      <td>5.10</td>\n",
              "      <td>13.00</td>\n",
              "      <td>1.33</td>\n",
              "      <td>4.66</td>\n",
              "      <td>9.49</td>\n",
              "    </tr>\n",
              "  </tbody>\n",
              "</table>\n",
              "</div>\n",
              "      <button class=\"colab-df-convert\" onclick=\"convertToInteractive('df-314b4700-ac5b-4cec-8ecf-fe338558a2eb')\"\n",
              "              title=\"Convert this dataframe to an interactive table.\"\n",
              "              style=\"display:none;\">\n",
              "        \n",
              "  <svg xmlns=\"http://www.w3.org/2000/svg\" height=\"24px\"viewBox=\"0 0 24 24\"\n",
              "       width=\"24px\">\n",
              "    <path d=\"M0 0h24v24H0V0z\" fill=\"none\"/>\n",
              "    <path d=\"M18.56 5.44l.94 2.06.94-2.06 2.06-.94-2.06-.94-.94-2.06-.94 2.06-2.06.94zm-11 1L8.5 8.5l.94-2.06 2.06-.94-2.06-.94L8.5 2.5l-.94 2.06-2.06.94zm10 10l.94 2.06.94-2.06 2.06-.94-2.06-.94-.94-2.06-.94 2.06-2.06.94z\"/><path d=\"M17.41 7.96l-1.37-1.37c-.4-.4-.92-.59-1.43-.59-.52 0-1.04.2-1.43.59L10.3 9.45l-7.72 7.72c-.78.78-.78 2.05 0 2.83L4 21.41c.39.39.9.59 1.41.59.51 0 1.02-.2 1.41-.59l7.78-7.78 2.81-2.81c.8-.78.8-2.07 0-2.86zM5.41 20L4 18.59l7.72-7.72 1.47 1.35L5.41 20z\"/>\n",
              "  </svg>\n",
              "      </button>\n",
              "      \n",
              "  <style>\n",
              "    .colab-df-container {\n",
              "      display:flex;\n",
              "      flex-wrap:wrap;\n",
              "      gap: 12px;\n",
              "    }\n",
              "\n",
              "    .colab-df-convert {\n",
              "      background-color: #E8F0FE;\n",
              "      border: none;\n",
              "      border-radius: 50%;\n",
              "      cursor: pointer;\n",
              "      display: none;\n",
              "      fill: #1967D2;\n",
              "      height: 32px;\n",
              "      padding: 0 0 0 0;\n",
              "      width: 32px;\n",
              "    }\n",
              "\n",
              "    .colab-df-convert:hover {\n",
              "      background-color: #E2EBFA;\n",
              "      box-shadow: 0px 1px 2px rgba(60, 64, 67, 0.3), 0px 1px 3px 1px rgba(60, 64, 67, 0.15);\n",
              "      fill: #174EA6;\n",
              "    }\n",
              "\n",
              "    [theme=dark] .colab-df-convert {\n",
              "      background-color: #3B4455;\n",
              "      fill: #D2E3FC;\n",
              "    }\n",
              "\n",
              "    [theme=dark] .colab-df-convert:hover {\n",
              "      background-color: #434B5C;\n",
              "      box-shadow: 0px 1px 3px 1px rgba(0, 0, 0, 0.15);\n",
              "      filter: drop-shadow(0px 1px 2px rgba(0, 0, 0, 0.3));\n",
              "      fill: #FFFFFF;\n",
              "    }\n",
              "  </style>\n",
              "\n",
              "      <script>\n",
              "        const buttonEl =\n",
              "          document.querySelector('#df-314b4700-ac5b-4cec-8ecf-fe338558a2eb button.colab-df-convert');\n",
              "        buttonEl.style.display =\n",
              "          google.colab.kernel.accessAllowed ? 'block' : 'none';\n",
              "\n",
              "        async function convertToInteractive(key) {\n",
              "          const element = document.querySelector('#df-314b4700-ac5b-4cec-8ecf-fe338558a2eb');\n",
              "          const dataTable =\n",
              "            await google.colab.kernel.invokeFunction('convertToInteractive',\n",
              "                                                     [key], {});\n",
              "          if (!dataTable) return;\n",
              "\n",
              "          const docLinkHtml = 'Like what you see? Visit the ' +\n",
              "            '<a target=\"_blank\" href=https://colab.research.google.com/notebooks/data_table.ipynb>data table notebook</a>'\n",
              "            + ' to learn more about interactive tables.';\n",
              "          element.innerHTML = '';\n",
              "          dataTable['output_type'] = 'display_data';\n",
              "          await google.colab.output.renderOutput(dataTable, element);\n",
              "          const docLink = document.createElement('div');\n",
              "          docLink.innerHTML = docLinkHtml;\n",
              "          element.appendChild(docLink);\n",
              "        }\n",
              "      </script>\n",
              "    </div>\n",
              "  </div>\n",
              "  "
            ]
          },
          "metadata": {},
          "execution_count": 197
        }
      ]
    },
    {
      "cell_type": "code",
      "source": [
        "futbol_arg.info()"
      ],
      "metadata": {
        "colab": {
          "base_uri": "https://localhost:8080/"
        },
        "id": "bPJdbs5oivSH",
        "outputId": "b422c12c-bfe7-4b93-af3d-8009003c2b5c"
      },
      "execution_count": null,
      "outputs": [
        {
          "output_type": "stream",
          "name": "stdout",
          "text": [
            "<class 'pandas.core.frame.DataFrame'>\n",
            "RangeIndex: 4028 entries, 0 to 4027\n",
            "Data columns (total 19 columns):\n",
            " #   Column   Non-Null Count  Dtype  \n",
            "---  ------   --------------  -----  \n",
            " 0   Country  4028 non-null   object \n",
            " 1   League   4028 non-null   object \n",
            " 2   Season   4028 non-null   object \n",
            " 3   Date     4028 non-null   object \n",
            " 4   Time     4028 non-null   object \n",
            " 5   Home     4028 non-null   object \n",
            " 6   Away     4028 non-null   object \n",
            " 7   HG       4028 non-null   int64  \n",
            " 8   AG       4028 non-null   int64  \n",
            " 9   Res      4028 non-null   object \n",
            " 10  PH       4021 non-null   float64\n",
            " 11  PD       4021 non-null   float64\n",
            " 12  PA       4021 non-null   float64\n",
            " 13  MaxH     4028 non-null   float64\n",
            " 14  MaxD     4028 non-null   float64\n",
            " 15  MaxA     4028 non-null   float64\n",
            " 16  AvgH     4028 non-null   float64\n",
            " 17  AvgD     4028 non-null   float64\n",
            " 18  AvgA     4028 non-null   float64\n",
            "dtypes: float64(9), int64(2), object(8)\n",
            "memory usage: 598.0+ KB\n"
          ]
        }
      ]
    },
    {
      "cell_type": "markdown",
      "source": [
        "**13. No todo es información**\n",
        "\n",
        "Dado que no vamos a usar todas las columnas, vamos a quedarnos sólamente con las siquientes:\n",
        "\n",
        "\n",
        "*   League = League Division (división)\n",
        "*   Date = Match Date (fecha del partido dd/mm/yy)\n",
        "*   Time = Time of match kick off (horario de inicio)\n",
        "*   Home = Home Team (equipo local)\n",
        "*   Away = Away Team (equipo visitante)\n",
        "*   HG = Home Team Goals (goles locales)\n",
        "*   AG = Away Team Goals (goles visitantes)\n",
        "*   Res = Full Time Result (H=Home Win, D=Draw, A=Away Win) (resultado)\n",
        "\n",
        "\n",
        "Recortá el dataframe para que contenga sólo las columnas mencionadas"
      ],
      "metadata": {
        "id": "DfFFjHsTLz7h"
      }
    },
    {
      "cell_type": "code",
      "source": [
        "futbol_arg_rec = futbol_arg[['League', 'Date', 'Time', 'Home', 'Away', 'HG', 'AG', 'Res']]\n",
        "futbol_arg_rec.head(3) "
      ],
      "metadata": {
        "colab": {
          "base_uri": "https://localhost:8080/",
          "height": 143
        },
        "id": "1GmsRMcf68Iz",
        "outputId": "3a45e4b6-f09b-42c5-89e3-8e6b6bbe14b3"
      },
      "execution_count": null,
      "outputs": [
        {
          "output_type": "execute_result",
          "data": {
            "text/plain": [
              "              League        Date   Time             Home               Away  \\\n",
              "0  Liga Profesional   03/08/2012  23:00  Arsenal Sarandi  Union de Santa Fe   \n",
              "1  Liga Profesional   04/08/2012  01:10  Velez Sarsfield     Argentinos Jrs   \n",
              "2  Liga Profesional   04/08/2012  18:10      Racing Club       Atl. Rafaela   \n",
              "\n",
              "   HG  AG Res  \n",
              "0   1   0   H  \n",
              "1   3   0   H  \n",
              "2   1   1   D  "
            ],
            "text/html": [
              "\n",
              "  <div id=\"df-ec661ed5-4dd5-42f5-83e5-d32ffbe53d4a\">\n",
              "    <div class=\"colab-df-container\">\n",
              "      <div>\n",
              "<style scoped>\n",
              "    .dataframe tbody tr th:only-of-type {\n",
              "        vertical-align: middle;\n",
              "    }\n",
              "\n",
              "    .dataframe tbody tr th {\n",
              "        vertical-align: top;\n",
              "    }\n",
              "\n",
              "    .dataframe thead th {\n",
              "        text-align: right;\n",
              "    }\n",
              "</style>\n",
              "<table border=\"1\" class=\"dataframe\">\n",
              "  <thead>\n",
              "    <tr style=\"text-align: right;\">\n",
              "      <th></th>\n",
              "      <th>League</th>\n",
              "      <th>Date</th>\n",
              "      <th>Time</th>\n",
              "      <th>Home</th>\n",
              "      <th>Away</th>\n",
              "      <th>HG</th>\n",
              "      <th>AG</th>\n",
              "      <th>Res</th>\n",
              "    </tr>\n",
              "  </thead>\n",
              "  <tbody>\n",
              "    <tr>\n",
              "      <th>0</th>\n",
              "      <td>Liga Profesional</td>\n",
              "      <td>03/08/2012</td>\n",
              "      <td>23:00</td>\n",
              "      <td>Arsenal Sarandi</td>\n",
              "      <td>Union de Santa Fe</td>\n",
              "      <td>1</td>\n",
              "      <td>0</td>\n",
              "      <td>H</td>\n",
              "    </tr>\n",
              "    <tr>\n",
              "      <th>1</th>\n",
              "      <td>Liga Profesional</td>\n",
              "      <td>04/08/2012</td>\n",
              "      <td>01:10</td>\n",
              "      <td>Velez Sarsfield</td>\n",
              "      <td>Argentinos Jrs</td>\n",
              "      <td>3</td>\n",
              "      <td>0</td>\n",
              "      <td>H</td>\n",
              "    </tr>\n",
              "    <tr>\n",
              "      <th>2</th>\n",
              "      <td>Liga Profesional</td>\n",
              "      <td>04/08/2012</td>\n",
              "      <td>18:10</td>\n",
              "      <td>Racing Club</td>\n",
              "      <td>Atl. Rafaela</td>\n",
              "      <td>1</td>\n",
              "      <td>1</td>\n",
              "      <td>D</td>\n",
              "    </tr>\n",
              "  </tbody>\n",
              "</table>\n",
              "</div>\n",
              "      <button class=\"colab-df-convert\" onclick=\"convertToInteractive('df-ec661ed5-4dd5-42f5-83e5-d32ffbe53d4a')\"\n",
              "              title=\"Convert this dataframe to an interactive table.\"\n",
              "              style=\"display:none;\">\n",
              "        \n",
              "  <svg xmlns=\"http://www.w3.org/2000/svg\" height=\"24px\"viewBox=\"0 0 24 24\"\n",
              "       width=\"24px\">\n",
              "    <path d=\"M0 0h24v24H0V0z\" fill=\"none\"/>\n",
              "    <path d=\"M18.56 5.44l.94 2.06.94-2.06 2.06-.94-2.06-.94-.94-2.06-.94 2.06-2.06.94zm-11 1L8.5 8.5l.94-2.06 2.06-.94-2.06-.94L8.5 2.5l-.94 2.06-2.06.94zm10 10l.94 2.06.94-2.06 2.06-.94-2.06-.94-.94-2.06-.94 2.06-2.06.94z\"/><path d=\"M17.41 7.96l-1.37-1.37c-.4-.4-.92-.59-1.43-.59-.52 0-1.04.2-1.43.59L10.3 9.45l-7.72 7.72c-.78.78-.78 2.05 0 2.83L4 21.41c.39.39.9.59 1.41.59.51 0 1.02-.2 1.41-.59l7.78-7.78 2.81-2.81c.8-.78.8-2.07 0-2.86zM5.41 20L4 18.59l7.72-7.72 1.47 1.35L5.41 20z\"/>\n",
              "  </svg>\n",
              "      </button>\n",
              "      \n",
              "  <style>\n",
              "    .colab-df-container {\n",
              "      display:flex;\n",
              "      flex-wrap:wrap;\n",
              "      gap: 12px;\n",
              "    }\n",
              "\n",
              "    .colab-df-convert {\n",
              "      background-color: #E8F0FE;\n",
              "      border: none;\n",
              "      border-radius: 50%;\n",
              "      cursor: pointer;\n",
              "      display: none;\n",
              "      fill: #1967D2;\n",
              "      height: 32px;\n",
              "      padding: 0 0 0 0;\n",
              "      width: 32px;\n",
              "    }\n",
              "\n",
              "    .colab-df-convert:hover {\n",
              "      background-color: #E2EBFA;\n",
              "      box-shadow: 0px 1px 2px rgba(60, 64, 67, 0.3), 0px 1px 3px 1px rgba(60, 64, 67, 0.15);\n",
              "      fill: #174EA6;\n",
              "    }\n",
              "\n",
              "    [theme=dark] .colab-df-convert {\n",
              "      background-color: #3B4455;\n",
              "      fill: #D2E3FC;\n",
              "    }\n",
              "\n",
              "    [theme=dark] .colab-df-convert:hover {\n",
              "      background-color: #434B5C;\n",
              "      box-shadow: 0px 1px 3px 1px rgba(0, 0, 0, 0.15);\n",
              "      filter: drop-shadow(0px 1px 2px rgba(0, 0, 0, 0.3));\n",
              "      fill: #FFFFFF;\n",
              "    }\n",
              "  </style>\n",
              "\n",
              "      <script>\n",
              "        const buttonEl =\n",
              "          document.querySelector('#df-ec661ed5-4dd5-42f5-83e5-d32ffbe53d4a button.colab-df-convert');\n",
              "        buttonEl.style.display =\n",
              "          google.colab.kernel.accessAllowed ? 'block' : 'none';\n",
              "\n",
              "        async function convertToInteractive(key) {\n",
              "          const element = document.querySelector('#df-ec661ed5-4dd5-42f5-83e5-d32ffbe53d4a');\n",
              "          const dataTable =\n",
              "            await google.colab.kernel.invokeFunction('convertToInteractive',\n",
              "                                                     [key], {});\n",
              "          if (!dataTable) return;\n",
              "\n",
              "          const docLinkHtml = 'Like what you see? Visit the ' +\n",
              "            '<a target=\"_blank\" href=https://colab.research.google.com/notebooks/data_table.ipynb>data table notebook</a>'\n",
              "            + ' to learn more about interactive tables.';\n",
              "          element.innerHTML = '';\n",
              "          dataTable['output_type'] = 'display_data';\n",
              "          await google.colab.output.renderOutput(dataTable, element);\n",
              "          const docLink = document.createElement('div');\n",
              "          docLink.innerHTML = docLinkHtml;\n",
              "          element.appendChild(docLink);\n",
              "        }\n",
              "      </script>\n",
              "    </div>\n",
              "  </div>\n",
              "  "
            ]
          },
          "metadata": {},
          "execution_count": 198
        }
      ]
    },
    {
      "cell_type": "markdown",
      "source": [
        "**14. Es la misma columna, pero el nombre es nuevo**\n",
        "\n",
        "El problema es que las columnas tienen nombres difíciles de recordar, y no se parece mucho a lo que veníamos trabajando.\n",
        "\n",
        "Renombrar las columnas para que sus nombres coincidan con lo que representan, en español. Inspirate en las estadísticas de ejemplo que usamos en los ejercicios anteriores."
      ],
      "metadata": {
        "id": "ZIGg0Mj3MIjm"
      }
    },
    {
      "cell_type": "code",
      "source": [
        "futbol_arg_ren = futbol_arg_rec.rename(columns ={'League': 'División', 'Date': 'Fecha', 'Time': 'Horario de inicio', 'Home': 'Equipo local', 'Away': 'Equipo visitante', 'HG': 'Goles locales', 'AG': 'Goles visitantes', 'Res': 'Resultado'})\n",
        "futbol_arg_ren.tail(3)"
      ],
      "metadata": {
        "colab": {
          "base_uri": "https://localhost:8080/",
          "height": 257
        },
        "id": "sKH82f-w7d7t",
        "outputId": "dfe6e070-be31-41a6-a83c-e1f57ecca1c6"
      },
      "execution_count": null,
      "outputs": [
        {
          "output_type": "execute_result",
          "data": {
            "text/plain": [
              "              División       Fecha Horario de inicio        Equipo local  \\\n",
              "4025  Liga Profesional  11/07/2022             23:00      Colon Santa Fe   \n",
              "4026  Liga Profesional  11/07/2022             23:00  Defensa y Justicia   \n",
              "4027  Liga Profesional  12/07/2022             01:30      Argentinos Jrs   \n",
              "\n",
              "     Equipo visitante  Goles locales  Goles visitantes Resultado  \n",
              "4025  Velez Sarsfield              2                 1         H  \n",
              "4026         Aldosivi              3                 2         H  \n",
              "4027            Tigre              2                 1         H  "
            ],
            "text/html": [
              "\n",
              "  <div id=\"df-65f5023c-d476-4ee4-954c-8fc42b8965d0\">\n",
              "    <div class=\"colab-df-container\">\n",
              "      <div>\n",
              "<style scoped>\n",
              "    .dataframe tbody tr th:only-of-type {\n",
              "        vertical-align: middle;\n",
              "    }\n",
              "\n",
              "    .dataframe tbody tr th {\n",
              "        vertical-align: top;\n",
              "    }\n",
              "\n",
              "    .dataframe thead th {\n",
              "        text-align: right;\n",
              "    }\n",
              "</style>\n",
              "<table border=\"1\" class=\"dataframe\">\n",
              "  <thead>\n",
              "    <tr style=\"text-align: right;\">\n",
              "      <th></th>\n",
              "      <th>División</th>\n",
              "      <th>Fecha</th>\n",
              "      <th>Horario de inicio</th>\n",
              "      <th>Equipo local</th>\n",
              "      <th>Equipo visitante</th>\n",
              "      <th>Goles locales</th>\n",
              "      <th>Goles visitantes</th>\n",
              "      <th>Resultado</th>\n",
              "    </tr>\n",
              "  </thead>\n",
              "  <tbody>\n",
              "    <tr>\n",
              "      <th>4025</th>\n",
              "      <td>Liga Profesional</td>\n",
              "      <td>11/07/2022</td>\n",
              "      <td>23:00</td>\n",
              "      <td>Colon Santa Fe</td>\n",
              "      <td>Velez Sarsfield</td>\n",
              "      <td>2</td>\n",
              "      <td>1</td>\n",
              "      <td>H</td>\n",
              "    </tr>\n",
              "    <tr>\n",
              "      <th>4026</th>\n",
              "      <td>Liga Profesional</td>\n",
              "      <td>11/07/2022</td>\n",
              "      <td>23:00</td>\n",
              "      <td>Defensa y Justicia</td>\n",
              "      <td>Aldosivi</td>\n",
              "      <td>3</td>\n",
              "      <td>2</td>\n",
              "      <td>H</td>\n",
              "    </tr>\n",
              "    <tr>\n",
              "      <th>4027</th>\n",
              "      <td>Liga Profesional</td>\n",
              "      <td>12/07/2022</td>\n",
              "      <td>01:30</td>\n",
              "      <td>Argentinos Jrs</td>\n",
              "      <td>Tigre</td>\n",
              "      <td>2</td>\n",
              "      <td>1</td>\n",
              "      <td>H</td>\n",
              "    </tr>\n",
              "  </tbody>\n",
              "</table>\n",
              "</div>\n",
              "      <button class=\"colab-df-convert\" onclick=\"convertToInteractive('df-65f5023c-d476-4ee4-954c-8fc42b8965d0')\"\n",
              "              title=\"Convert this dataframe to an interactive table.\"\n",
              "              style=\"display:none;\">\n",
              "        \n",
              "  <svg xmlns=\"http://www.w3.org/2000/svg\" height=\"24px\"viewBox=\"0 0 24 24\"\n",
              "       width=\"24px\">\n",
              "    <path d=\"M0 0h24v24H0V0z\" fill=\"none\"/>\n",
              "    <path d=\"M18.56 5.44l.94 2.06.94-2.06 2.06-.94-2.06-.94-.94-2.06-.94 2.06-2.06.94zm-11 1L8.5 8.5l.94-2.06 2.06-.94-2.06-.94L8.5 2.5l-.94 2.06-2.06.94zm10 10l.94 2.06.94-2.06 2.06-.94-2.06-.94-.94-2.06-.94 2.06-2.06.94z\"/><path d=\"M17.41 7.96l-1.37-1.37c-.4-.4-.92-.59-1.43-.59-.52 0-1.04.2-1.43.59L10.3 9.45l-7.72 7.72c-.78.78-.78 2.05 0 2.83L4 21.41c.39.39.9.59 1.41.59.51 0 1.02-.2 1.41-.59l7.78-7.78 2.81-2.81c.8-.78.8-2.07 0-2.86zM5.41 20L4 18.59l7.72-7.72 1.47 1.35L5.41 20z\"/>\n",
              "  </svg>\n",
              "      </button>\n",
              "      \n",
              "  <style>\n",
              "    .colab-df-container {\n",
              "      display:flex;\n",
              "      flex-wrap:wrap;\n",
              "      gap: 12px;\n",
              "    }\n",
              "\n",
              "    .colab-df-convert {\n",
              "      background-color: #E8F0FE;\n",
              "      border: none;\n",
              "      border-radius: 50%;\n",
              "      cursor: pointer;\n",
              "      display: none;\n",
              "      fill: #1967D2;\n",
              "      height: 32px;\n",
              "      padding: 0 0 0 0;\n",
              "      width: 32px;\n",
              "    }\n",
              "\n",
              "    .colab-df-convert:hover {\n",
              "      background-color: #E2EBFA;\n",
              "      box-shadow: 0px 1px 2px rgba(60, 64, 67, 0.3), 0px 1px 3px 1px rgba(60, 64, 67, 0.15);\n",
              "      fill: #174EA6;\n",
              "    }\n",
              "\n",
              "    [theme=dark] .colab-df-convert {\n",
              "      background-color: #3B4455;\n",
              "      fill: #D2E3FC;\n",
              "    }\n",
              "\n",
              "    [theme=dark] .colab-df-convert:hover {\n",
              "      background-color: #434B5C;\n",
              "      box-shadow: 0px 1px 3px 1px rgba(0, 0, 0, 0.15);\n",
              "      filter: drop-shadow(0px 1px 2px rgba(0, 0, 0, 0.3));\n",
              "      fill: #FFFFFF;\n",
              "    }\n",
              "  </style>\n",
              "\n",
              "      <script>\n",
              "        const buttonEl =\n",
              "          document.querySelector('#df-65f5023c-d476-4ee4-954c-8fc42b8965d0 button.colab-df-convert');\n",
              "        buttonEl.style.display =\n",
              "          google.colab.kernel.accessAllowed ? 'block' : 'none';\n",
              "\n",
              "        async function convertToInteractive(key) {\n",
              "          const element = document.querySelector('#df-65f5023c-d476-4ee4-954c-8fc42b8965d0');\n",
              "          const dataTable =\n",
              "            await google.colab.kernel.invokeFunction('convertToInteractive',\n",
              "                                                     [key], {});\n",
              "          if (!dataTable) return;\n",
              "\n",
              "          const docLinkHtml = 'Like what you see? Visit the ' +\n",
              "            '<a target=\"_blank\" href=https://colab.research.google.com/notebooks/data_table.ipynb>data table notebook</a>'\n",
              "            + ' to learn more about interactive tables.';\n",
              "          element.innerHTML = '';\n",
              "          dataTable['output_type'] = 'display_data';\n",
              "          await google.colab.output.renderOutput(dataTable, element);\n",
              "          const docLink = document.createElement('div');\n",
              "          docLink.innerHTML = docLinkHtml;\n",
              "          element.appendChild(docLink);\n",
              "        }\n",
              "      </script>\n",
              "    </div>\n",
              "  </div>\n",
              "  "
            ]
          },
          "metadata": {},
          "execution_count": 199
        }
      ]
    },
    {
      "cell_type": "markdown",
      "source": [
        "**15. Cambiando el resultado**\n",
        "Ah, pero los valores de la columna resultado tampoco coinciden con los que veníamos trabajando.\n",
        "\n",
        "Convertí los códigos de la columna resultado de la siguiente forma:\n",
        "\n",
        "\n",
        "*   H ➡️ local\n",
        "*   A ➡️ visitante\n",
        "*   D ➡️ empate\n",
        "\n",
        "Ayuda\n",
        "Podés transformar los valores de una columna usando un_datagrame.una_columna.map(diccionario), donde las claves del diccionario son los valores originales, y los valores, los valores nuevos."
      ],
      "metadata": {
        "id": "6X2XfjcyMN-J"
      }
    },
    {
      "cell_type": "code",
      "source": [
        "futbol_arg_ren[\"Resultado\"] = futbol_arg_ren.Resultado.map({\"H\":\"Local\", \"A\":\"Visitante\", \"D\":\"Empate\"})\n",
        "futbol_arg_ren.head()  \n",
        "# Podés transformar los valores de una columna usando un_datagrame.una_columna.map(diccionario)"
      ],
      "metadata": {
        "colab": {
          "base_uri": "https://localhost:8080/",
          "height": 250
        },
        "id": "PbDMYAyl8tkC",
        "outputId": "ce2bceb4-a223-408e-9fe7-feb62df7e9ab"
      },
      "execution_count": null,
      "outputs": [
        {
          "output_type": "execute_result",
          "data": {
            "text/plain": [
              "            División Horario de inicio     Equipo local   Equipo visitante  \\\n",
              "0  Liga Profesional              23:00  Arsenal Sarandi  Union de Santa Fe   \n",
              "1  Liga Profesional              01:10  Velez Sarsfield     Argentinos Jrs   \n",
              "2  Liga Profesional              18:10      Racing Club       Atl. Rafaela   \n",
              "3  Liga Profesional              20:10   Colon Santa FE              Lanus   \n",
              "4  Liga Profesional              22:15          Quilmes       Boca Juniors   \n",
              "\n",
              "   Goles locales  Goles visitantes Resultado  Anio  \n",
              "0              1                 0     Local  2012  \n",
              "1              3                 0     Local  2012  \n",
              "2              1                 1    Empate  2012  \n",
              "3              1                 0     Local  2012  \n",
              "4              3                 0     Local  2012  "
            ],
            "text/html": [
              "\n",
              "  <div id=\"df-fd750b74-ecd4-4b59-b06d-4b28bcac54ba\">\n",
              "    <div class=\"colab-df-container\">\n",
              "      <div>\n",
              "<style scoped>\n",
              "    .dataframe tbody tr th:only-of-type {\n",
              "        vertical-align: middle;\n",
              "    }\n",
              "\n",
              "    .dataframe tbody tr th {\n",
              "        vertical-align: top;\n",
              "    }\n",
              "\n",
              "    .dataframe thead th {\n",
              "        text-align: right;\n",
              "    }\n",
              "</style>\n",
              "<table border=\"1\" class=\"dataframe\">\n",
              "  <thead>\n",
              "    <tr style=\"text-align: right;\">\n",
              "      <th></th>\n",
              "      <th>División</th>\n",
              "      <th>Horario de inicio</th>\n",
              "      <th>Equipo local</th>\n",
              "      <th>Equipo visitante</th>\n",
              "      <th>Goles locales</th>\n",
              "      <th>Goles visitantes</th>\n",
              "      <th>Resultado</th>\n",
              "      <th>Anio</th>\n",
              "    </tr>\n",
              "  </thead>\n",
              "  <tbody>\n",
              "    <tr>\n",
              "      <th>0</th>\n",
              "      <td>Liga Profesional</td>\n",
              "      <td>23:00</td>\n",
              "      <td>Arsenal Sarandi</td>\n",
              "      <td>Union de Santa Fe</td>\n",
              "      <td>1</td>\n",
              "      <td>0</td>\n",
              "      <td>Local</td>\n",
              "      <td>2012</td>\n",
              "    </tr>\n",
              "    <tr>\n",
              "      <th>1</th>\n",
              "      <td>Liga Profesional</td>\n",
              "      <td>01:10</td>\n",
              "      <td>Velez Sarsfield</td>\n",
              "      <td>Argentinos Jrs</td>\n",
              "      <td>3</td>\n",
              "      <td>0</td>\n",
              "      <td>Local</td>\n",
              "      <td>2012</td>\n",
              "    </tr>\n",
              "    <tr>\n",
              "      <th>2</th>\n",
              "      <td>Liga Profesional</td>\n",
              "      <td>18:10</td>\n",
              "      <td>Racing Club</td>\n",
              "      <td>Atl. Rafaela</td>\n",
              "      <td>1</td>\n",
              "      <td>1</td>\n",
              "      <td>Empate</td>\n",
              "      <td>2012</td>\n",
              "    </tr>\n",
              "    <tr>\n",
              "      <th>3</th>\n",
              "      <td>Liga Profesional</td>\n",
              "      <td>20:10</td>\n",
              "      <td>Colon Santa FE</td>\n",
              "      <td>Lanus</td>\n",
              "      <td>1</td>\n",
              "      <td>0</td>\n",
              "      <td>Local</td>\n",
              "      <td>2012</td>\n",
              "    </tr>\n",
              "    <tr>\n",
              "      <th>4</th>\n",
              "      <td>Liga Profesional</td>\n",
              "      <td>22:15</td>\n",
              "      <td>Quilmes</td>\n",
              "      <td>Boca Juniors</td>\n",
              "      <td>3</td>\n",
              "      <td>0</td>\n",
              "      <td>Local</td>\n",
              "      <td>2012</td>\n",
              "    </tr>\n",
              "  </tbody>\n",
              "</table>\n",
              "</div>\n",
              "      <button class=\"colab-df-convert\" onclick=\"convertToInteractive('df-fd750b74-ecd4-4b59-b06d-4b28bcac54ba')\"\n",
              "              title=\"Convert this dataframe to an interactive table.\"\n",
              "              style=\"display:none;\">\n",
              "        \n",
              "  <svg xmlns=\"http://www.w3.org/2000/svg\" height=\"24px\"viewBox=\"0 0 24 24\"\n",
              "       width=\"24px\">\n",
              "    <path d=\"M0 0h24v24H0V0z\" fill=\"none\"/>\n",
              "    <path d=\"M18.56 5.44l.94 2.06.94-2.06 2.06-.94-2.06-.94-.94-2.06-.94 2.06-2.06.94zm-11 1L8.5 8.5l.94-2.06 2.06-.94-2.06-.94L8.5 2.5l-.94 2.06-2.06.94zm10 10l.94 2.06.94-2.06 2.06-.94-2.06-.94-.94-2.06-.94 2.06-2.06.94z\"/><path d=\"M17.41 7.96l-1.37-1.37c-.4-.4-.92-.59-1.43-.59-.52 0-1.04.2-1.43.59L10.3 9.45l-7.72 7.72c-.78.78-.78 2.05 0 2.83L4 21.41c.39.39.9.59 1.41.59.51 0 1.02-.2 1.41-.59l7.78-7.78 2.81-2.81c.8-.78.8-2.07 0-2.86zM5.41 20L4 18.59l7.72-7.72 1.47 1.35L5.41 20z\"/>\n",
              "  </svg>\n",
              "      </button>\n",
              "      \n",
              "  <style>\n",
              "    .colab-df-container {\n",
              "      display:flex;\n",
              "      flex-wrap:wrap;\n",
              "      gap: 12px;\n",
              "    }\n",
              "\n",
              "    .colab-df-convert {\n",
              "      background-color: #E8F0FE;\n",
              "      border: none;\n",
              "      border-radius: 50%;\n",
              "      cursor: pointer;\n",
              "      display: none;\n",
              "      fill: #1967D2;\n",
              "      height: 32px;\n",
              "      padding: 0 0 0 0;\n",
              "      width: 32px;\n",
              "    }\n",
              "\n",
              "    .colab-df-convert:hover {\n",
              "      background-color: #E2EBFA;\n",
              "      box-shadow: 0px 1px 2px rgba(60, 64, 67, 0.3), 0px 1px 3px 1px rgba(60, 64, 67, 0.15);\n",
              "      fill: #174EA6;\n",
              "    }\n",
              "\n",
              "    [theme=dark] .colab-df-convert {\n",
              "      background-color: #3B4455;\n",
              "      fill: #D2E3FC;\n",
              "    }\n",
              "\n",
              "    [theme=dark] .colab-df-convert:hover {\n",
              "      background-color: #434B5C;\n",
              "      box-shadow: 0px 1px 3px 1px rgba(0, 0, 0, 0.15);\n",
              "      filter: drop-shadow(0px 1px 2px rgba(0, 0, 0, 0.3));\n",
              "      fill: #FFFFFF;\n",
              "    }\n",
              "  </style>\n",
              "\n",
              "      <script>\n",
              "        const buttonEl =\n",
              "          document.querySelector('#df-fd750b74-ecd4-4b59-b06d-4b28bcac54ba button.colab-df-convert');\n",
              "        buttonEl.style.display =\n",
              "          google.colab.kernel.accessAllowed ? 'block' : 'none';\n",
              "\n",
              "        async function convertToInteractive(key) {\n",
              "          const element = document.querySelector('#df-fd750b74-ecd4-4b59-b06d-4b28bcac54ba');\n",
              "          const dataTable =\n",
              "            await google.colab.kernel.invokeFunction('convertToInteractive',\n",
              "                                                     [key], {});\n",
              "          if (!dataTable) return;\n",
              "\n",
              "          const docLinkHtml = 'Like what you see? Visit the ' +\n",
              "            '<a target=\"_blank\" href=https://colab.research.google.com/notebooks/data_table.ipynb>data table notebook</a>'\n",
              "            + ' to learn more about interactive tables.';\n",
              "          element.innerHTML = '';\n",
              "          dataTable['output_type'] = 'display_data';\n",
              "          await google.colab.output.renderOutput(dataTable, element);\n",
              "          const docLink = document.createElement('div');\n",
              "          docLink.innerHTML = docLinkHtml;\n",
              "          element.appendChild(docLink);\n",
              "        }\n",
              "      </script>\n",
              "    </div>\n",
              "  </div>\n",
              "  "
            ]
          },
          "metadata": {},
          "execution_count": 215
        }
      ]
    },
    {
      "cell_type": "markdown",
      "source": [
        "**16. Todo a su tiempo**\n",
        "\n",
        "Momento, ¿y de cuándo son estos datos? ¿Desde qué año hay registros?\n",
        "\n",
        "Transformá la columna de fecha en datetime para que podamos maniuplarla adecuadamente, agregá una columna anio y finalmente respondé la pregunta.\n",
        "\n",
        "Ayuda\n",
        "Te va a convenir usar la función pd.to_datetime."
      ],
      "metadata": {
        "id": "L3XPgthNMXTl"
      }
    },
    {
      "cell_type": "code",
      "source": [
        "# Hecho"
      ],
      "metadata": {
        "id": "D6TdIZ1fr-Xs"
      },
      "execution_count": null,
      "outputs": []
    },
    {
      "cell_type": "code",
      "source": [
        "from datetime import date, time, datetime\n",
        "futbol_arg_ren[\"Anio\"] = pd.to_datetime(futbol_arg_ren.Fecha).dt.year # creo una nueva columna solo con el año de la columna 'Fecha'\n",
        "futbol_arg_ren.pop('Fecha') # elimino la columna\n",
        "min(futbol_arg_ren['Anio']) # Respuesta: hay registros desde el 2012"
      ],
      "metadata": {
        "colab": {
          "base_uri": "https://localhost:8080/"
        },
        "id": "fJ9EKXzZPefG",
        "outputId": "80a9cdbd-348b-443e-ae56-7786fab4912b"
      },
      "execution_count": null,
      "outputs": [
        {
          "output_type": "execute_result",
          "data": {
            "text/plain": [
              "2012"
            ]
          },
          "metadata": {},
          "execution_count": 202
        }
      ]
    },
    {
      "cell_type": "code",
      "source": [
        "futbol_arg_ren.sample(5)"
      ],
      "metadata": {
        "colab": {
          "base_uri": "https://localhost:8080/",
          "height": 354
        },
        "id": "A-x1EnJNy39X",
        "outputId": "448b989e-067b-47b2-aa8a-9085f62403a8"
      },
      "execution_count": null,
      "outputs": [
        {
          "output_type": "execute_result",
          "data": {
            "text/plain": [
              "              División Horario de inicio        Equipo local  \\\n",
              "2628  Liga Profesional             00:00               Lanus   \n",
              "2376  Liga Profesional             22:00  Defensa y Justicia   \n",
              "2167  Liga Profesional             23:05               Lanus   \n",
              "3998  Liga Profesional             19:30           Patronato   \n",
              "2431  Liga Profesional             21:45         River Plate   \n",
              "\n",
              "      Equipo visitante  Goles locales  Goles visitantes  Resultado  Anio  \n",
              "2628           Huracan              0                 1  Visitante  2018  \n",
              "2376          Belgrano              1                 1     Empate  2018  \n",
              "2167  Newells Old Boys              1                 0      Local  2017  \n",
              "3998     Independiente              3                 1      Local  2022  \n",
              "2431   Rosario Central              2                 0      Local  2018  "
            ],
            "text/html": [
              "\n",
              "  <div id=\"df-c20b041d-5b31-44c9-b6ea-4c29c9ffccba\">\n",
              "    <div class=\"colab-df-container\">\n",
              "      <div>\n",
              "<style scoped>\n",
              "    .dataframe tbody tr th:only-of-type {\n",
              "        vertical-align: middle;\n",
              "    }\n",
              "\n",
              "    .dataframe tbody tr th {\n",
              "        vertical-align: top;\n",
              "    }\n",
              "\n",
              "    .dataframe thead th {\n",
              "        text-align: right;\n",
              "    }\n",
              "</style>\n",
              "<table border=\"1\" class=\"dataframe\">\n",
              "  <thead>\n",
              "    <tr style=\"text-align: right;\">\n",
              "      <th></th>\n",
              "      <th>División</th>\n",
              "      <th>Horario de inicio</th>\n",
              "      <th>Equipo local</th>\n",
              "      <th>Equipo visitante</th>\n",
              "      <th>Goles locales</th>\n",
              "      <th>Goles visitantes</th>\n",
              "      <th>Resultado</th>\n",
              "      <th>Anio</th>\n",
              "    </tr>\n",
              "  </thead>\n",
              "  <tbody>\n",
              "    <tr>\n",
              "      <th>2628</th>\n",
              "      <td>Liga Profesional</td>\n",
              "      <td>00:00</td>\n",
              "      <td>Lanus</td>\n",
              "      <td>Huracan</td>\n",
              "      <td>0</td>\n",
              "      <td>1</td>\n",
              "      <td>Visitante</td>\n",
              "      <td>2018</td>\n",
              "    </tr>\n",
              "    <tr>\n",
              "      <th>2376</th>\n",
              "      <td>Liga Profesional</td>\n",
              "      <td>22:00</td>\n",
              "      <td>Defensa y Justicia</td>\n",
              "      <td>Belgrano</td>\n",
              "      <td>1</td>\n",
              "      <td>1</td>\n",
              "      <td>Empate</td>\n",
              "      <td>2018</td>\n",
              "    </tr>\n",
              "    <tr>\n",
              "      <th>2167</th>\n",
              "      <td>Liga Profesional</td>\n",
              "      <td>23:05</td>\n",
              "      <td>Lanus</td>\n",
              "      <td>Newells Old Boys</td>\n",
              "      <td>1</td>\n",
              "      <td>0</td>\n",
              "      <td>Local</td>\n",
              "      <td>2017</td>\n",
              "    </tr>\n",
              "    <tr>\n",
              "      <th>3998</th>\n",
              "      <td>Liga Profesional</td>\n",
              "      <td>19:30</td>\n",
              "      <td>Patronato</td>\n",
              "      <td>Independiente</td>\n",
              "      <td>3</td>\n",
              "      <td>1</td>\n",
              "      <td>Local</td>\n",
              "      <td>2022</td>\n",
              "    </tr>\n",
              "    <tr>\n",
              "      <th>2431</th>\n",
              "      <td>Liga Profesional</td>\n",
              "      <td>21:45</td>\n",
              "      <td>River Plate</td>\n",
              "      <td>Rosario Central</td>\n",
              "      <td>2</td>\n",
              "      <td>0</td>\n",
              "      <td>Local</td>\n",
              "      <td>2018</td>\n",
              "    </tr>\n",
              "  </tbody>\n",
              "</table>\n",
              "</div>\n",
              "      <button class=\"colab-df-convert\" onclick=\"convertToInteractive('df-c20b041d-5b31-44c9-b6ea-4c29c9ffccba')\"\n",
              "              title=\"Convert this dataframe to an interactive table.\"\n",
              "              style=\"display:none;\">\n",
              "        \n",
              "  <svg xmlns=\"http://www.w3.org/2000/svg\" height=\"24px\"viewBox=\"0 0 24 24\"\n",
              "       width=\"24px\">\n",
              "    <path d=\"M0 0h24v24H0V0z\" fill=\"none\"/>\n",
              "    <path d=\"M18.56 5.44l.94 2.06.94-2.06 2.06-.94-2.06-.94-.94-2.06-.94 2.06-2.06.94zm-11 1L8.5 8.5l.94-2.06 2.06-.94-2.06-.94L8.5 2.5l-.94 2.06-2.06.94zm10 10l.94 2.06.94-2.06 2.06-.94-2.06-.94-.94-2.06-.94 2.06-2.06.94z\"/><path d=\"M17.41 7.96l-1.37-1.37c-.4-.4-.92-.59-1.43-.59-.52 0-1.04.2-1.43.59L10.3 9.45l-7.72 7.72c-.78.78-.78 2.05 0 2.83L4 21.41c.39.39.9.59 1.41.59.51 0 1.02-.2 1.41-.59l7.78-7.78 2.81-2.81c.8-.78.8-2.07 0-2.86zM5.41 20L4 18.59l7.72-7.72 1.47 1.35L5.41 20z\"/>\n",
              "  </svg>\n",
              "      </button>\n",
              "      \n",
              "  <style>\n",
              "    .colab-df-container {\n",
              "      display:flex;\n",
              "      flex-wrap:wrap;\n",
              "      gap: 12px;\n",
              "    }\n",
              "\n",
              "    .colab-df-convert {\n",
              "      background-color: #E8F0FE;\n",
              "      border: none;\n",
              "      border-radius: 50%;\n",
              "      cursor: pointer;\n",
              "      display: none;\n",
              "      fill: #1967D2;\n",
              "      height: 32px;\n",
              "      padding: 0 0 0 0;\n",
              "      width: 32px;\n",
              "    }\n",
              "\n",
              "    .colab-df-convert:hover {\n",
              "      background-color: #E2EBFA;\n",
              "      box-shadow: 0px 1px 2px rgba(60, 64, 67, 0.3), 0px 1px 3px 1px rgba(60, 64, 67, 0.15);\n",
              "      fill: #174EA6;\n",
              "    }\n",
              "\n",
              "    [theme=dark] .colab-df-convert {\n",
              "      background-color: #3B4455;\n",
              "      fill: #D2E3FC;\n",
              "    }\n",
              "\n",
              "    [theme=dark] .colab-df-convert:hover {\n",
              "      background-color: #434B5C;\n",
              "      box-shadow: 0px 1px 3px 1px rgba(0, 0, 0, 0.15);\n",
              "      filter: drop-shadow(0px 1px 2px rgba(0, 0, 0, 0.3));\n",
              "      fill: #FFFFFF;\n",
              "    }\n",
              "  </style>\n",
              "\n",
              "      <script>\n",
              "        const buttonEl =\n",
              "          document.querySelector('#df-c20b041d-5b31-44c9-b6ea-4c29c9ffccba button.colab-df-convert');\n",
              "        buttonEl.style.display =\n",
              "          google.colab.kernel.accessAllowed ? 'block' : 'none';\n",
              "\n",
              "        async function convertToInteractive(key) {\n",
              "          const element = document.querySelector('#df-c20b041d-5b31-44c9-b6ea-4c29c9ffccba');\n",
              "          const dataTable =\n",
              "            await google.colab.kernel.invokeFunction('convertToInteractive',\n",
              "                                                     [key], {});\n",
              "          if (!dataTable) return;\n",
              "\n",
              "          const docLinkHtml = 'Like what you see? Visit the ' +\n",
              "            '<a target=\"_blank\" href=https://colab.research.google.com/notebooks/data_table.ipynb>data table notebook</a>'\n",
              "            + ' to learn more about interactive tables.';\n",
              "          element.innerHTML = '';\n",
              "          dataTable['output_type'] = 'display_data';\n",
              "          await google.colab.output.renderOutput(dataTable, element);\n",
              "          const docLink = document.createElement('div');\n",
              "          docLink.innerHTML = docLinkHtml;\n",
              "          element.appendChild(docLink);\n",
              "        }\n",
              "      </script>\n",
              "    </div>\n",
              "  </div>\n",
              "  "
            ]
          },
          "metadata": {},
          "execution_count": 31
        }
      ]
    },
    {
      "cell_type": "markdown",
      "source": [
        "**17. De visitante**\n",
        "\n",
        "¿Cuál es el promedio de goles visitante y local de cada año?\n",
        "\n",
        "Hacé una tabla que contenga una fila por cada liga con sus resultados y un gráfico de barras donde se presente esta información"
      ],
      "metadata": {
        "id": "WmqP1MyMMaiU"
      }
    },
    {
      "cell_type": "code",
      "source": [
        "# promedio de goles de cada año en la columna 'Anio'\n",
        "goles_promedio_por_anio = futbol_arg_ren.groupby(\"Anio\", as_index=False).mean()\n",
        "goles_promedio_por_anio   "
      ],
      "metadata": {
        "colab": {
          "base_uri": "https://localhost:8080/",
          "height": 394
        },
        "id": "B8V2Yra5ytpl",
        "outputId": "481733d8-ccac-4975-92cd-c0ef8537c45c"
      },
      "execution_count": null,
      "outputs": [
        {
          "output_type": "execute_result",
          "data": {
            "text/plain": [
              "    Anio  Goles locales  Goles visitantes\n",
              "0   2012       1.281915          0.930851\n",
              "1   2013       1.300261          0.911227\n",
              "2   2014       1.345550          0.992147\n",
              "3   2015       1.268657          0.961620\n",
              "4   2016       1.336283          1.000000\n",
              "5   2017       1.273399          1.039409\n",
              "6   2018       1.283208          0.962406\n",
              "7   2019       1.250000          1.024390\n",
              "8   2020       1.217617          1.186528\n",
              "9   2021       1.394687          1.092979\n",
              "10  2022       1.368771          1.132890"
            ],
            "text/html": [
              "\n",
              "  <div id=\"df-50899c4a-7684-412e-bc39-351a3a50f036\">\n",
              "    <div class=\"colab-df-container\">\n",
              "      <div>\n",
              "<style scoped>\n",
              "    .dataframe tbody tr th:only-of-type {\n",
              "        vertical-align: middle;\n",
              "    }\n",
              "\n",
              "    .dataframe tbody tr th {\n",
              "        vertical-align: top;\n",
              "    }\n",
              "\n",
              "    .dataframe thead th {\n",
              "        text-align: right;\n",
              "    }\n",
              "</style>\n",
              "<table border=\"1\" class=\"dataframe\">\n",
              "  <thead>\n",
              "    <tr style=\"text-align: right;\">\n",
              "      <th></th>\n",
              "      <th>Anio</th>\n",
              "      <th>Goles locales</th>\n",
              "      <th>Goles visitantes</th>\n",
              "    </tr>\n",
              "  </thead>\n",
              "  <tbody>\n",
              "    <tr>\n",
              "      <th>0</th>\n",
              "      <td>2012</td>\n",
              "      <td>1.281915</td>\n",
              "      <td>0.930851</td>\n",
              "    </tr>\n",
              "    <tr>\n",
              "      <th>1</th>\n",
              "      <td>2013</td>\n",
              "      <td>1.300261</td>\n",
              "      <td>0.911227</td>\n",
              "    </tr>\n",
              "    <tr>\n",
              "      <th>2</th>\n",
              "      <td>2014</td>\n",
              "      <td>1.345550</td>\n",
              "      <td>0.992147</td>\n",
              "    </tr>\n",
              "    <tr>\n",
              "      <th>3</th>\n",
              "      <td>2015</td>\n",
              "      <td>1.268657</td>\n",
              "      <td>0.961620</td>\n",
              "    </tr>\n",
              "    <tr>\n",
              "      <th>4</th>\n",
              "      <td>2016</td>\n",
              "      <td>1.336283</td>\n",
              "      <td>1.000000</td>\n",
              "    </tr>\n",
              "    <tr>\n",
              "      <th>5</th>\n",
              "      <td>2017</td>\n",
              "      <td>1.273399</td>\n",
              "      <td>1.039409</td>\n",
              "    </tr>\n",
              "    <tr>\n",
              "      <th>6</th>\n",
              "      <td>2018</td>\n",
              "      <td>1.283208</td>\n",
              "      <td>0.962406</td>\n",
              "    </tr>\n",
              "    <tr>\n",
              "      <th>7</th>\n",
              "      <td>2019</td>\n",
              "      <td>1.250000</td>\n",
              "      <td>1.024390</td>\n",
              "    </tr>\n",
              "    <tr>\n",
              "      <th>8</th>\n",
              "      <td>2020</td>\n",
              "      <td>1.217617</td>\n",
              "      <td>1.186528</td>\n",
              "    </tr>\n",
              "    <tr>\n",
              "      <th>9</th>\n",
              "      <td>2021</td>\n",
              "      <td>1.394687</td>\n",
              "      <td>1.092979</td>\n",
              "    </tr>\n",
              "    <tr>\n",
              "      <th>10</th>\n",
              "      <td>2022</td>\n",
              "      <td>1.368771</td>\n",
              "      <td>1.132890</td>\n",
              "    </tr>\n",
              "  </tbody>\n",
              "</table>\n",
              "</div>\n",
              "      <button class=\"colab-df-convert\" onclick=\"convertToInteractive('df-50899c4a-7684-412e-bc39-351a3a50f036')\"\n",
              "              title=\"Convert this dataframe to an interactive table.\"\n",
              "              style=\"display:none;\">\n",
              "        \n",
              "  <svg xmlns=\"http://www.w3.org/2000/svg\" height=\"24px\"viewBox=\"0 0 24 24\"\n",
              "       width=\"24px\">\n",
              "    <path d=\"M0 0h24v24H0V0z\" fill=\"none\"/>\n",
              "    <path d=\"M18.56 5.44l.94 2.06.94-2.06 2.06-.94-2.06-.94-.94-2.06-.94 2.06-2.06.94zm-11 1L8.5 8.5l.94-2.06 2.06-.94-2.06-.94L8.5 2.5l-.94 2.06-2.06.94zm10 10l.94 2.06.94-2.06 2.06-.94-2.06-.94-.94-2.06-.94 2.06-2.06.94z\"/><path d=\"M17.41 7.96l-1.37-1.37c-.4-.4-.92-.59-1.43-.59-.52 0-1.04.2-1.43.59L10.3 9.45l-7.72 7.72c-.78.78-.78 2.05 0 2.83L4 21.41c.39.39.9.59 1.41.59.51 0 1.02-.2 1.41-.59l7.78-7.78 2.81-2.81c.8-.78.8-2.07 0-2.86zM5.41 20L4 18.59l7.72-7.72 1.47 1.35L5.41 20z\"/>\n",
              "  </svg>\n",
              "      </button>\n",
              "      \n",
              "  <style>\n",
              "    .colab-df-container {\n",
              "      display:flex;\n",
              "      flex-wrap:wrap;\n",
              "      gap: 12px;\n",
              "    }\n",
              "\n",
              "    .colab-df-convert {\n",
              "      background-color: #E8F0FE;\n",
              "      border: none;\n",
              "      border-radius: 50%;\n",
              "      cursor: pointer;\n",
              "      display: none;\n",
              "      fill: #1967D2;\n",
              "      height: 32px;\n",
              "      padding: 0 0 0 0;\n",
              "      width: 32px;\n",
              "    }\n",
              "\n",
              "    .colab-df-convert:hover {\n",
              "      background-color: #E2EBFA;\n",
              "      box-shadow: 0px 1px 2px rgba(60, 64, 67, 0.3), 0px 1px 3px 1px rgba(60, 64, 67, 0.15);\n",
              "      fill: #174EA6;\n",
              "    }\n",
              "\n",
              "    [theme=dark] .colab-df-convert {\n",
              "      background-color: #3B4455;\n",
              "      fill: #D2E3FC;\n",
              "    }\n",
              "\n",
              "    [theme=dark] .colab-df-convert:hover {\n",
              "      background-color: #434B5C;\n",
              "      box-shadow: 0px 1px 3px 1px rgba(0, 0, 0, 0.15);\n",
              "      filter: drop-shadow(0px 1px 2px rgba(0, 0, 0, 0.3));\n",
              "      fill: #FFFFFF;\n",
              "    }\n",
              "  </style>\n",
              "\n",
              "      <script>\n",
              "        const buttonEl =\n",
              "          document.querySelector('#df-50899c4a-7684-412e-bc39-351a3a50f036 button.colab-df-convert');\n",
              "        buttonEl.style.display =\n",
              "          google.colab.kernel.accessAllowed ? 'block' : 'none';\n",
              "\n",
              "        async function convertToInteractive(key) {\n",
              "          const element = document.querySelector('#df-50899c4a-7684-412e-bc39-351a3a50f036');\n",
              "          const dataTable =\n",
              "            await google.colab.kernel.invokeFunction('convertToInteractive',\n",
              "                                                     [key], {});\n",
              "          if (!dataTable) return;\n",
              "\n",
              "          const docLinkHtml = 'Like what you see? Visit the ' +\n",
              "            '<a target=\"_blank\" href=https://colab.research.google.com/notebooks/data_table.ipynb>data table notebook</a>'\n",
              "            + ' to learn more about interactive tables.';\n",
              "          element.innerHTML = '';\n",
              "          dataTable['output_type'] = 'display_data';\n",
              "          await google.colab.output.renderOutput(dataTable, element);\n",
              "          const docLink = document.createElement('div');\n",
              "          docLink.innerHTML = docLinkHtml;\n",
              "          element.appendChild(docLink);\n",
              "        }\n",
              "      </script>\n",
              "    </div>\n",
              "  </div>\n",
              "  "
            ]
          },
          "metadata": {},
          "execution_count": 203
        }
      ]
    },
    {
      "cell_type": "code",
      "source": [
        "goles_promedio_por_anio.plot.bar(x = \"Anio\")"
      ],
      "metadata": {
        "colab": {
          "base_uri": "https://localhost:8080/",
          "height": 312
        },
        "id": "wZv0vk0_uJXC",
        "outputId": "d0568f79-fcba-4bd9-fa3e-3531a9b16534"
      },
      "execution_count": null,
      "outputs": [
        {
          "output_type": "execute_result",
          "data": {
            "text/plain": [
              "<matplotlib.axes._subplots.AxesSubplot at 0x7f938d13dfd0>"
            ]
          },
          "metadata": {},
          "execution_count": 209
        },
        {
          "output_type": "display_data",
          "data": {
            "text/plain": [
              "<Figure size 432x288 with 1 Axes>"
            ],
            "image/png": "[encoded data removed]"
          },
          "metadata": {
            "needs_background": "light"
          }
        }
      ]
    },
    {
      "cell_type": "markdown",
      "source": [
        "**18. Tantas estadísticas me dieron hambre**\n",
        "\n",
        "¿Cuál es la proporción de victorias de local, visitante y empates?\n",
        "\n",
        "Calculá estas estadísticamente numéricamente y con ellas hacé un gráfico de torta 🥧."
      ],
      "metadata": {
        "id": "niHyXYsVMduc"
      }
    },
    {
      "cell_type": "code",
      "source": [
        "proporcion_resultados = futbol_arg_ren['Resultado'].value_counts()\n",
        "pd.DataFrame(proporcion_resultados)"
      ],
      "metadata": {
        "colab": {
          "base_uri": "https://localhost:8080/",
          "height": 143
        },
        "id": "QwNTmR2kulJy",
        "outputId": "ff26ea61-bb50-423e-858f-2ea2920e0cfb"
      },
      "execution_count": null,
      "outputs": [
        {
          "output_type": "execute_result",
          "data": {
            "text/plain": [
              "           Resultado\n",
              "Local           1744\n",
              "Empate          1179\n",
              "Visitante       1105"
            ],
            "text/html": [
              "\n",
              "  <div id=\"df-6f71eb37-1c6a-4a7d-9491-6055482e1447\">\n",
              "    <div class=\"colab-df-container\">\n",
              "      <div>\n",
              "<style scoped>\n",
              "    .dataframe tbody tr th:only-of-type {\n",
              "        vertical-align: middle;\n",
              "    }\n",
              "\n",
              "    .dataframe tbody tr th {\n",
              "        vertical-align: top;\n",
              "    }\n",
              "\n",
              "    .dataframe thead th {\n",
              "        text-align: right;\n",
              "    }\n",
              "</style>\n",
              "<table border=\"1\" class=\"dataframe\">\n",
              "  <thead>\n",
              "    <tr style=\"text-align: right;\">\n",
              "      <th></th>\n",
              "      <th>Resultado</th>\n",
              "    </tr>\n",
              "  </thead>\n",
              "  <tbody>\n",
              "    <tr>\n",
              "      <th>Local</th>\n",
              "      <td>1744</td>\n",
              "    </tr>\n",
              "    <tr>\n",
              "      <th>Empate</th>\n",
              "      <td>1179</td>\n",
              "    </tr>\n",
              "    <tr>\n",
              "      <th>Visitante</th>\n",
              "      <td>1105</td>\n",
              "    </tr>\n",
              "  </tbody>\n",
              "</table>\n",
              "</div>\n",
              "      <button class=\"colab-df-convert\" onclick=\"convertToInteractive('df-6f71eb37-1c6a-4a7d-9491-6055482e1447')\"\n",
              "              title=\"Convert this dataframe to an interactive table.\"\n",
              "              style=\"display:none;\">\n",
              "        \n",
              "  <svg xmlns=\"http://www.w3.org/2000/svg\" height=\"24px\"viewBox=\"0 0 24 24\"\n",
              "       width=\"24px\">\n",
              "    <path d=\"M0 0h24v24H0V0z\" fill=\"none\"/>\n",
              "    <path d=\"M18.56 5.44l.94 2.06.94-2.06 2.06-.94-2.06-.94-.94-2.06-.94 2.06-2.06.94zm-11 1L8.5 8.5l.94-2.06 2.06-.94-2.06-.94L8.5 2.5l-.94 2.06-2.06.94zm10 10l.94 2.06.94-2.06 2.06-.94-2.06-.94-.94-2.06-.94 2.06-2.06.94z\"/><path d=\"M17.41 7.96l-1.37-1.37c-.4-.4-.92-.59-1.43-.59-.52 0-1.04.2-1.43.59L10.3 9.45l-7.72 7.72c-.78.78-.78 2.05 0 2.83L4 21.41c.39.39.9.59 1.41.59.51 0 1.02-.2 1.41-.59l7.78-7.78 2.81-2.81c.8-.78.8-2.07 0-2.86zM5.41 20L4 18.59l7.72-7.72 1.47 1.35L5.41 20z\"/>\n",
              "  </svg>\n",
              "      </button>\n",
              "      \n",
              "  <style>\n",
              "    .colab-df-container {\n",
              "      display:flex;\n",
              "      flex-wrap:wrap;\n",
              "      gap: 12px;\n",
              "    }\n",
              "\n",
              "    .colab-df-convert {\n",
              "      background-color: #E8F0FE;\n",
              "      border: none;\n",
              "      border-radius: 50%;\n",
              "      cursor: pointer;\n",
              "      display: none;\n",
              "      fill: #1967D2;\n",
              "      height: 32px;\n",
              "      padding: 0 0 0 0;\n",
              "      width: 32px;\n",
              "    }\n",
              "\n",
              "    .colab-df-convert:hover {\n",
              "      background-color: #E2EBFA;\n",
              "      box-shadow: 0px 1px 2px rgba(60, 64, 67, 0.3), 0px 1px 3px 1px rgba(60, 64, 67, 0.15);\n",
              "      fill: #174EA6;\n",
              "    }\n",
              "\n",
              "    [theme=dark] .colab-df-convert {\n",
              "      background-color: #3B4455;\n",
              "      fill: #D2E3FC;\n",
              "    }\n",
              "\n",
              "    [theme=dark] .colab-df-convert:hover {\n",
              "      background-color: #434B5C;\n",
              "      box-shadow: 0px 1px 3px 1px rgba(0, 0, 0, 0.15);\n",
              "      filter: drop-shadow(0px 1px 2px rgba(0, 0, 0, 0.3));\n",
              "      fill: #FFFFFF;\n",
              "    }\n",
              "  </style>\n",
              "\n",
              "      <script>\n",
              "        const buttonEl =\n",
              "          document.querySelector('#df-6f71eb37-1c6a-4a7d-9491-6055482e1447 button.colab-df-convert');\n",
              "        buttonEl.style.display =\n",
              "          google.colab.kernel.accessAllowed ? 'block' : 'none';\n",
              "\n",
              "        async function convertToInteractive(key) {\n",
              "          const element = document.querySelector('#df-6f71eb37-1c6a-4a7d-9491-6055482e1447');\n",
              "          const dataTable =\n",
              "            await google.colab.kernel.invokeFunction('convertToInteractive',\n",
              "                                                     [key], {});\n",
              "          if (!dataTable) return;\n",
              "\n",
              "          const docLinkHtml = 'Like what you see? Visit the ' +\n",
              "            '<a target=\"_blank\" href=https://colab.research.google.com/notebooks/data_table.ipynb>data table notebook</a>'\n",
              "            + ' to learn more about interactive tables.';\n",
              "          element.innerHTML = '';\n",
              "          dataTable['output_type'] = 'display_data';\n",
              "          await google.colab.output.renderOutput(dataTable, element);\n",
              "          const docLink = document.createElement('div');\n",
              "          docLink.innerHTML = docLinkHtml;\n",
              "          element.appendChild(docLink);\n",
              "        }\n",
              "      </script>\n",
              "    </div>\n",
              "  </div>\n",
              "  "
            ]
          },
          "metadata": {},
          "execution_count": 243
        }
      ]
    },
    {
      "cell_type": "code",
      "source": [
        "proporcion_resultados.plot.pie()"
      ],
      "metadata": {
        "colab": {
          "base_uri": "https://localhost:8080/",
          "height": 265
        },
        "id": "JOtUKyppvDnB",
        "outputId": "a6d77310-0f1d-4b47-f831-6360758f8b2e"
      },
      "execution_count": null,
      "outputs": [
        {
          "output_type": "execute_result",
          "data": {
            "text/plain": [
              "<matplotlib.axes._subplots.AxesSubplot at 0x7f938d95f950>"
            ]
          },
          "metadata": {},
          "execution_count": 217
        },
        {
          "output_type": "display_data",
          "data": {
            "text/plain": [
              "<Figure size 432x288 with 1 Axes>"
            ],
            "image/png": "[encoded data removed]"
          },
          "metadata": {}
        }
      ]
    },
    {
      "cell_type": "markdown",
      "source": [
        "**19. ¡Hay equipo(s)!**\n",
        "\n",
        "\n",
        "1.   ¿Qué cantidad de equipos participaron?\n",
        "2.   ¿Cuál es el promedio de goles que le hicieron a cada equipo siendo local? Hacé una tabla con una fila por cada partido que responda esta pregunta\n",
        "3.   ¿Y cuál es la mayor cantidad de goles que le hicieron a un equipo siendo visitante? Hacé una tabla que responda ésto por cada equipo.\n",
        "4.   Bonus: representalo también como un gráfico de barras horizontal, ordenado de mayor a menor\n",
        "\n",
        "\n",
        "\n",
        "\n",
        "\n"
      ],
      "metadata": {
        "id": "o3Un-RLkMj-5"
      }
    },
    {
      "cell_type": "code",
      "source": [
        "# 1. ¿Qué cantidad de equipos participaron?\n",
        "futbol_arg_ren['Equipo local'].nunique() \n",
        "# suponiendo que todos los que jugaron de visitantes, también lo hicieron de local "
      ],
      "metadata": {
        "colab": {
          "base_uri": "https://localhost:8080/"
        },
        "id": "Sk7RpS0I0bkz",
        "outputId": "9cf11243-a18a-4e51-b87c-b389a61ff0aa"
      },
      "execution_count": null,
      "outputs": [
        {
          "output_type": "execute_result",
          "data": {
            "text/plain": [
              "40"
            ]
          },
          "metadata": {},
          "execution_count": 218
        }
      ]
    },
    {
      "cell_type": "code",
      "source": [
        "# 2. ¿Cuál es el promedio de goles que le hicieron a cada equipo siendo local? Hacé una tabla con una fila por cada partido que responda esta pregunta\n",
        "futbol_arg_ren.groupby(\"Equipo local\", as_index=False)['Goles visitantes'].mean()"
      ],
      "metadata": {
        "colab": {
          "base_uri": "https://localhost:8080/",
          "height": 1000
        },
        "id": "WWFLfClwvNco",
        "outputId": "ecd08a3f-c347-4739-a297-eb525c5ed1c8"
      },
      "execution_count": null,
      "outputs": [
        {
          "output_type": "execute_result",
          "data": {
            "text/plain": [
              "           Equipo local  Goles visitantes\n",
              "0              Aldosivi          1.387755\n",
              "1              All Boys          0.921053\n",
              "2        Argentinos Jrs          1.022388\n",
              "3       Arsenal Sarandi          1.131034\n",
              "4          Atl. Rafaela          1.406977\n",
              "5          Atl. Tucuman          1.103093\n",
              "6              Banfield          1.113821\n",
              "7      Barracas Central          1.818182\n",
              "8              Belgrano          0.725664\n",
              "9          Boca Juniors          0.800000\n",
              "10      Central Cordoba          1.456522\n",
              "11    Chacarita Juniors          1.384615\n",
              "12       Colon Santa FE          1.026316\n",
              "13       Colon Santa Fe          1.000000\n",
              "14    Crucero del Norte          1.333333\n",
              "15   Defensa y Justicia          1.066667\n",
              "16     Estudiantes L.P.          0.808642\n",
              "17        Gimnasia L.P.          1.086331\n",
              "18           Godoy Cruz          1.140127\n",
              "19              Huracan          0.990826\n",
              "20        Independiente          0.929577\n",
              "21                Lanus          0.855346\n",
              "22     Newells Old Boys          0.861635\n",
              "23        Nueva Chicago          1.266667\n",
              "24  Olimpo Bahia Blanca          1.000000\n",
              "25            Patronato          1.147368\n",
              "26             Platense          1.300000\n",
              "27              Quilmes          1.116279\n",
              "28          Racing Club          0.739130\n",
              "29          River Plate          0.867089\n",
              "30      Rosario Central          1.014388\n",
              "31          San Lorenzo          1.049383\n",
              "32      San Martin S.J.          1.168675\n",
              "33        San Martin T.          1.153846\n",
              "34      Sarmiento Junin          1.313433\n",
              "35     Talleres Cordoba          0.852273\n",
              "36            Temperley          1.096154\n",
              "37                Tigre          1.056452\n",
              "38    Union de Santa Fe          1.038462\n",
              "39      Velez Sarsfield          0.937500"
            ],
            "text/html": [
              "\n",
              "  <div id=\"df-e5063762-6193-4221-9f90-024d47356a73\">\n",
              "    <div class=\"colab-df-container\">\n",
              "      <div>\n",
              "<style scoped>\n",
              "    .dataframe tbody tr th:only-of-type {\n",
              "        vertical-align: middle;\n",
              "    }\n",
              "\n",
              "    .dataframe tbody tr th {\n",
              "        vertical-align: top;\n",
              "    }\n",
              "\n",
              "    .dataframe thead th {\n",
              "        text-align: right;\n",
              "    }\n",
              "</style>\n",
              "<table border=\"1\" class=\"dataframe\">\n",
              "  <thead>\n",
              "    <tr style=\"text-align: right;\">\n",
              "      <th></th>\n",
              "      <th>Equipo local</th>\n",
              "      <th>Goles visitantes</th>\n",
              "    </tr>\n",
              "  </thead>\n",
              "  <tbody>\n",
              "    <tr>\n",
              "      <th>0</th>\n",
              "      <td>Aldosivi</td>\n",
              "      <td>1.387755</td>\n",
              "    </tr>\n",
              "    <tr>\n",
              "      <th>1</th>\n",
              "      <td>All Boys</td>\n",
              "      <td>0.921053</td>\n",
              "    </tr>\n",
              "    <tr>\n",
              "      <th>2</th>\n",
              "      <td>Argentinos Jrs</td>\n",
              "      <td>1.022388</td>\n",
              "    </tr>\n",
              "    <tr>\n",
              "      <th>3</th>\n",
              "      <td>Arsenal Sarandi</td>\n",
              "      <td>1.131034</td>\n",
              "    </tr>\n",
              "    <tr>\n",
              "      <th>4</th>\n",
              "      <td>Atl. Rafaela</td>\n",
              "      <td>1.406977</td>\n",
              "    </tr>\n",
              "    <tr>\n",
              "      <th>5</th>\n",
              "      <td>Atl. Tucuman</td>\n",
              "      <td>1.103093</td>\n",
              "    </tr>\n",
              "    <tr>\n",
              "      <th>6</th>\n",
              "      <td>Banfield</td>\n",
              "      <td>1.113821</td>\n",
              "    </tr>\n",
              "    <tr>\n",
              "      <th>7</th>\n",
              "      <td>Barracas Central</td>\n",
              "      <td>1.818182</td>\n",
              "    </tr>\n",
              "    <tr>\n",
              "      <th>8</th>\n",
              "      <td>Belgrano</td>\n",
              "      <td>0.725664</td>\n",
              "    </tr>\n",
              "    <tr>\n",
              "      <th>9</th>\n",
              "      <td>Boca Juniors</td>\n",
              "      <td>0.800000</td>\n",
              "    </tr>\n",
              "    <tr>\n",
              "      <th>10</th>\n",
              "      <td>Central Cordoba</td>\n",
              "      <td>1.456522</td>\n",
              "    </tr>\n",
              "    <tr>\n",
              "      <th>11</th>\n",
              "      <td>Chacarita Juniors</td>\n",
              "      <td>1.384615</td>\n",
              "    </tr>\n",
              "    <tr>\n",
              "      <th>12</th>\n",
              "      <td>Colon Santa FE</td>\n",
              "      <td>1.026316</td>\n",
              "    </tr>\n",
              "    <tr>\n",
              "      <th>13</th>\n",
              "      <td>Colon Santa Fe</td>\n",
              "      <td>1.000000</td>\n",
              "    </tr>\n",
              "    <tr>\n",
              "      <th>14</th>\n",
              "      <td>Crucero del Norte</td>\n",
              "      <td>1.333333</td>\n",
              "    </tr>\n",
              "    <tr>\n",
              "      <th>15</th>\n",
              "      <td>Defensa y Justicia</td>\n",
              "      <td>1.066667</td>\n",
              "    </tr>\n",
              "    <tr>\n",
              "      <th>16</th>\n",
              "      <td>Estudiantes L.P.</td>\n",
              "      <td>0.808642</td>\n",
              "    </tr>\n",
              "    <tr>\n",
              "      <th>17</th>\n",
              "      <td>Gimnasia L.P.</td>\n",
              "      <td>1.086331</td>\n",
              "    </tr>\n",
              "    <tr>\n",
              "      <th>18</th>\n",
              "      <td>Godoy Cruz</td>\n",
              "      <td>1.140127</td>\n",
              "    </tr>\n",
              "    <tr>\n",
              "      <th>19</th>\n",
              "      <td>Huracan</td>\n",
              "      <td>0.990826</td>\n",
              "    </tr>\n",
              "    <tr>\n",
              "      <th>20</th>\n",
              "      <td>Independiente</td>\n",
              "      <td>0.929577</td>\n",
              "    </tr>\n",
              "    <tr>\n",
              "      <th>21</th>\n",
              "      <td>Lanus</td>\n",
              "      <td>0.855346</td>\n",
              "    </tr>\n",
              "    <tr>\n",
              "      <th>22</th>\n",
              "      <td>Newells Old Boys</td>\n",
              "      <td>0.861635</td>\n",
              "    </tr>\n",
              "    <tr>\n",
              "      <th>23</th>\n",
              "      <td>Nueva Chicago</td>\n",
              "      <td>1.266667</td>\n",
              "    </tr>\n",
              "    <tr>\n",
              "      <th>24</th>\n",
              "      <td>Olimpo Bahia Blanca</td>\n",
              "      <td>1.000000</td>\n",
              "    </tr>\n",
              "    <tr>\n",
              "      <th>25</th>\n",
              "      <td>Patronato</td>\n",
              "      <td>1.147368</td>\n",
              "    </tr>\n",
              "    <tr>\n",
              "      <th>26</th>\n",
              "      <td>Platense</td>\n",
              "      <td>1.300000</td>\n",
              "    </tr>\n",
              "    <tr>\n",
              "      <th>27</th>\n",
              "      <td>Quilmes</td>\n",
              "      <td>1.116279</td>\n",
              "    </tr>\n",
              "    <tr>\n",
              "      <th>28</th>\n",
              "      <td>Racing Club</td>\n",
              "      <td>0.739130</td>\n",
              "    </tr>\n",
              "    <tr>\n",
              "      <th>29</th>\n",
              "      <td>River Plate</td>\n",
              "      <td>0.867089</td>\n",
              "    </tr>\n",
              "    <tr>\n",
              "      <th>30</th>\n",
              "      <td>Rosario Central</td>\n",
              "      <td>1.014388</td>\n",
              "    </tr>\n",
              "    <tr>\n",
              "      <th>31</th>\n",
              "      <td>San Lorenzo</td>\n",
              "      <td>1.049383</td>\n",
              "    </tr>\n",
              "    <tr>\n",
              "      <th>32</th>\n",
              "      <td>San Martin S.J.</td>\n",
              "      <td>1.168675</td>\n",
              "    </tr>\n",
              "    <tr>\n",
              "      <th>33</th>\n",
              "      <td>San Martin T.</td>\n",
              "      <td>1.153846</td>\n",
              "    </tr>\n",
              "    <tr>\n",
              "      <th>34</th>\n",
              "      <td>Sarmiento Junin</td>\n",
              "      <td>1.313433</td>\n",
              "    </tr>\n",
              "    <tr>\n",
              "      <th>35</th>\n",
              "      <td>Talleres Cordoba</td>\n",
              "      <td>0.852273</td>\n",
              "    </tr>\n",
              "    <tr>\n",
              "      <th>36</th>\n",
              "      <td>Temperley</td>\n",
              "      <td>1.096154</td>\n",
              "    </tr>\n",
              "    <tr>\n",
              "      <th>37</th>\n",
              "      <td>Tigre</td>\n",
              "      <td>1.056452</td>\n",
              "    </tr>\n",
              "    <tr>\n",
              "      <th>38</th>\n",
              "      <td>Union de Santa Fe</td>\n",
              "      <td>1.038462</td>\n",
              "    </tr>\n",
              "    <tr>\n",
              "      <th>39</th>\n",
              "      <td>Velez Sarsfield</td>\n",
              "      <td>0.937500</td>\n",
              "    </tr>\n",
              "  </tbody>\n",
              "</table>\n",
              "</div>\n",
              "      <button class=\"colab-df-convert\" onclick=\"convertToInteractive('df-e5063762-6193-4221-9f90-024d47356a73')\"\n",
              "              title=\"Convert this dataframe to an interactive table.\"\n",
              "              style=\"display:none;\">\n",
              "        \n",
              "  <svg xmlns=\"http://www.w3.org/2000/svg\" height=\"24px\"viewBox=\"0 0 24 24\"\n",
              "       width=\"24px\">\n",
              "    <path d=\"M0 0h24v24H0V0z\" fill=\"none\"/>\n",
              "    <path d=\"M18.56 5.44l.94 2.06.94-2.06 2.06-.94-2.06-.94-.94-2.06-.94 2.06-2.06.94zm-11 1L8.5 8.5l.94-2.06 2.06-.94-2.06-.94L8.5 2.5l-.94 2.06-2.06.94zm10 10l.94 2.06.94-2.06 2.06-.94-2.06-.94-.94-2.06-.94 2.06-2.06.94z\"/><path d=\"M17.41 7.96l-1.37-1.37c-.4-.4-.92-.59-1.43-.59-.52 0-1.04.2-1.43.59L10.3 9.45l-7.72 7.72c-.78.78-.78 2.05 0 2.83L4 21.41c.39.39.9.59 1.41.59.51 0 1.02-.2 1.41-.59l7.78-7.78 2.81-2.81c.8-.78.8-2.07 0-2.86zM5.41 20L4 18.59l7.72-7.72 1.47 1.35L5.41 20z\"/>\n",
              "  </svg>\n",
              "      </button>\n",
              "      \n",
              "  <style>\n",
              "    .colab-df-container {\n",
              "      display:flex;\n",
              "      flex-wrap:wrap;\n",
              "      gap: 12px;\n",
              "    }\n",
              "\n",
              "    .colab-df-convert {\n",
              "      background-color: #E8F0FE;\n",
              "      border: none;\n",
              "      border-radius: 50%;\n",
              "      cursor: pointer;\n",
              "      display: none;\n",
              "      fill: #1967D2;\n",
              "      height: 32px;\n",
              "      padding: 0 0 0 0;\n",
              "      width: 32px;\n",
              "    }\n",
              "\n",
              "    .colab-df-convert:hover {\n",
              "      background-color: #E2EBFA;\n",
              "      box-shadow: 0px 1px 2px rgba(60, 64, 67, 0.3), 0px 1px 3px 1px rgba(60, 64, 67, 0.15);\n",
              "      fill: #174EA6;\n",
              "    }\n",
              "\n",
              "    [theme=dark] .colab-df-convert {\n",
              "      background-color: #3B4455;\n",
              "      fill: #D2E3FC;\n",
              "    }\n",
              "\n",
              "    [theme=dark] .colab-df-convert:hover {\n",
              "      background-color: #434B5C;\n",
              "      box-shadow: 0px 1px 3px 1px rgba(0, 0, 0, 0.15);\n",
              "      filter: drop-shadow(0px 1px 2px rgba(0, 0, 0, 0.3));\n",
              "      fill: #FFFFFF;\n",
              "    }\n",
              "  </style>\n",
              "\n",
              "      <script>\n",
              "        const buttonEl =\n",
              "          document.querySelector('#df-e5063762-6193-4221-9f90-024d47356a73 button.colab-df-convert');\n",
              "        buttonEl.style.display =\n",
              "          google.colab.kernel.accessAllowed ? 'block' : 'none';\n",
              "\n",
              "        async function convertToInteractive(key) {\n",
              "          const element = document.querySelector('#df-e5063762-6193-4221-9f90-024d47356a73');\n",
              "          const dataTable =\n",
              "            await google.colab.kernel.invokeFunction('convertToInteractive',\n",
              "                                                     [key], {});\n",
              "          if (!dataTable) return;\n",
              "\n",
              "          const docLinkHtml = 'Like what you see? Visit the ' +\n",
              "            '<a target=\"_blank\" href=https://colab.research.google.com/notebooks/data_table.ipynb>data table notebook</a>'\n",
              "            + ' to learn more about interactive tables.';\n",
              "          element.innerHTML = '';\n",
              "          dataTable['output_type'] = 'display_data';\n",
              "          await google.colab.output.renderOutput(dataTable, element);\n",
              "          const docLink = document.createElement('div');\n",
              "          docLink.innerHTML = docLinkHtml;\n",
              "          element.appendChild(docLink);\n",
              "        }\n",
              "      </script>\n",
              "    </div>\n",
              "  </div>\n",
              "  "
            ]
          },
          "metadata": {},
          "execution_count": 223
        }
      ]
    },
    {
      "cell_type": "code",
      "source": [
        "# 3. ¿Y cuál es la mayor cantidad de goles que le hicieron a un equipo siendo visitante? Hacé una tabla que responda ésto por cada equipo.\n",
        "futbol_arg_ren.groupby(\"Equipo visitante\", as_index=False)['Goles locales'].max() "
      ],
      "metadata": {
        "colab": {
          "base_uri": "https://localhost:8080/",
          "height": 1000
        },
        "id": "HPviyLQuww-S",
        "outputId": "67b39c3b-05f1-42d3-bf4f-075a20f85e3c"
      },
      "execution_count": null,
      "outputs": [
        {
          "output_type": "execute_result",
          "data": {
            "text/plain": [
              "       Equipo visitante  Goles locales\n",
              "0              Aldosivi              5\n",
              "1              All Boys              4\n",
              "2        Argentinos Jrs              5\n",
              "3       Arsenal Sarandi              5\n",
              "4          Atl. Rafaela              4\n",
              "5          Atl. Tucuman              5\n",
              "6              Banfield              4\n",
              "7      Barracas Central              3\n",
              "8              Belgrano              4\n",
              "9          Boca Juniors              6\n",
              "10      Central Cordoba              8\n",
              "11    Chacarita Juniors              4\n",
              "12       Colon Santa FE              4\n",
              "13       Colon Santa Fe              1\n",
              "14    Crucero del Norte              5\n",
              "15   Defensa y Justicia              5\n",
              "16     Estudiantes L.P.              4\n",
              "17        Gimnasia L.P.              5\n",
              "18           Godoy Cruz              6\n",
              "19              Huracan              4\n",
              "20        Independiente              4\n",
              "21                Lanus              5\n",
              "22     Newells Old Boys              5\n",
              "23        Nueva Chicago              3\n",
              "24  Olimpo Bahia Blanca              5\n",
              "25            Patronato              5\n",
              "26             Platense              4\n",
              "27              Quilmes              5\n",
              "28          Racing Club              5\n",
              "29          River Plate              5\n",
              "30      Rosario Central              5\n",
              "31          San Lorenzo              4\n",
              "32      San Martin S.J.              6\n",
              "33        San Martin T.              4\n",
              "34      Sarmiento Junin              6\n",
              "35     Talleres Cordoba              5\n",
              "36            Temperley              4\n",
              "37                Tigre              5\n",
              "38    Union de Santa Fe              5\n",
              "39      Velez Sarsfield              4"
            ],
            "text/html": [
              "\n",
              "  <div id=\"df-17838e20-2653-41ce-a5b3-9270ec4785ea\">\n",
              "    <div class=\"colab-df-container\">\n",
              "      <div>\n",
              "<style scoped>\n",
              "    .dataframe tbody tr th:only-of-type {\n",
              "        vertical-align: middle;\n",
              "    }\n",
              "\n",
              "    .dataframe tbody tr th {\n",
              "        vertical-align: top;\n",
              "    }\n",
              "\n",
              "    .dataframe thead th {\n",
              "        text-align: right;\n",
              "    }\n",
              "</style>\n",
              "<table border=\"1\" class=\"dataframe\">\n",
              "  <thead>\n",
              "    <tr style=\"text-align: right;\">\n",
              "      <th></th>\n",
              "      <th>Equipo visitante</th>\n",
              "      <th>Goles locales</th>\n",
              "    </tr>\n",
              "  </thead>\n",
              "  <tbody>\n",
              "    <tr>\n",
              "      <th>0</th>\n",
              "      <td>Aldosivi</td>\n",
              "      <td>5</td>\n",
              "    </tr>\n",
              "    <tr>\n",
              "      <th>1</th>\n",
              "      <td>All Boys</td>\n",
              "      <td>4</td>\n",
              "    </tr>\n",
              "    <tr>\n",
              "      <th>2</th>\n",
              "      <td>Argentinos Jrs</td>\n",
              "      <td>5</td>\n",
              "    </tr>\n",
              "    <tr>\n",
              "      <th>3</th>\n",
              "      <td>Arsenal Sarandi</td>\n",
              "      <td>5</td>\n",
              "    </tr>\n",
              "    <tr>\n",
              "      <th>4</th>\n",
              "      <td>Atl. Rafaela</td>\n",
              "      <td>4</td>\n",
              "    </tr>\n",
              "    <tr>\n",
              "      <th>5</th>\n",
              "      <td>Atl. Tucuman</td>\n",
              "      <td>5</td>\n",
              "    </tr>\n",
              "    <tr>\n",
              "      <th>6</th>\n",
              "      <td>Banfield</td>\n",
              "      <td>4</td>\n",
              "    </tr>\n",
              "    <tr>\n",
              "      <th>7</th>\n",
              "      <td>Barracas Central</td>\n",
              "      <td>3</td>\n",
              "    </tr>\n",
              "    <tr>\n",
              "      <th>8</th>\n",
              "      <td>Belgrano</td>\n",
              "      <td>4</td>\n",
              "    </tr>\n",
              "    <tr>\n",
              "      <th>9</th>\n",
              "      <td>Boca Juniors</td>\n",
              "      <td>6</td>\n",
              "    </tr>\n",
              "    <tr>\n",
              "      <th>10</th>\n",
              "      <td>Central Cordoba</td>\n",
              "      <td>8</td>\n",
              "    </tr>\n",
              "    <tr>\n",
              "      <th>11</th>\n",
              "      <td>Chacarita Juniors</td>\n",
              "      <td>4</td>\n",
              "    </tr>\n",
              "    <tr>\n",
              "      <th>12</th>\n",
              "      <td>Colon Santa FE</td>\n",
              "      <td>4</td>\n",
              "    </tr>\n",
              "    <tr>\n",
              "      <th>13</th>\n",
              "      <td>Colon Santa Fe</td>\n",
              "      <td>1</td>\n",
              "    </tr>\n",
              "    <tr>\n",
              "      <th>14</th>\n",
              "      <td>Crucero del Norte</td>\n",
              "      <td>5</td>\n",
              "    </tr>\n",
              "    <tr>\n",
              "      <th>15</th>\n",
              "      <td>Defensa y Justicia</td>\n",
              "      <td>5</td>\n",
              "    </tr>\n",
              "    <tr>\n",
              "      <th>16</th>\n",
              "      <td>Estudiantes L.P.</td>\n",
              "      <td>4</td>\n",
              "    </tr>\n",
              "    <tr>\n",
              "      <th>17</th>\n",
              "      <td>Gimnasia L.P.</td>\n",
              "      <td>5</td>\n",
              "    </tr>\n",
              "    <tr>\n",
              "      <th>18</th>\n",
              "      <td>Godoy Cruz</td>\n",
              "      <td>6</td>\n",
              "    </tr>\n",
              "    <tr>\n",
              "      <th>19</th>\n",
              "      <td>Huracan</td>\n",
              "      <td>4</td>\n",
              "    </tr>\n",
              "    <tr>\n",
              "      <th>20</th>\n",
              "      <td>Independiente</td>\n",
              "      <td>4</td>\n",
              "    </tr>\n",
              "    <tr>\n",
              "      <th>21</th>\n",
              "      <td>Lanus</td>\n",
              "      <td>5</td>\n",
              "    </tr>\n",
              "    <tr>\n",
              "      <th>22</th>\n",
              "      <td>Newells Old Boys</td>\n",
              "      <td>5</td>\n",
              "    </tr>\n",
              "    <tr>\n",
              "      <th>23</th>\n",
              "      <td>Nueva Chicago</td>\n",
              "      <td>3</td>\n",
              "    </tr>\n",
              "    <tr>\n",
              "      <th>24</th>\n",
              "      <td>Olimpo Bahia Blanca</td>\n",
              "      <td>5</td>\n",
              "    </tr>\n",
              "    <tr>\n",
              "      <th>25</th>\n",
              "      <td>Patronato</td>\n",
              "      <td>5</td>\n",
              "    </tr>\n",
              "    <tr>\n",
              "      <th>26</th>\n",
              "      <td>Platense</td>\n",
              "      <td>4</td>\n",
              "    </tr>\n",
              "    <tr>\n",
              "      <th>27</th>\n",
              "      <td>Quilmes</td>\n",
              "      <td>5</td>\n",
              "    </tr>\n",
              "    <tr>\n",
              "      <th>28</th>\n",
              "      <td>Racing Club</td>\n",
              "      <td>5</td>\n",
              "    </tr>\n",
              "    <tr>\n",
              "      <th>29</th>\n",
              "      <td>River Plate</td>\n",
              "      <td>5</td>\n",
              "    </tr>\n",
              "    <tr>\n",
              "      <th>30</th>\n",
              "      <td>Rosario Central</td>\n",
              "      <td>5</td>\n",
              "    </tr>\n",
              "    <tr>\n",
              "      <th>31</th>\n",
              "      <td>San Lorenzo</td>\n",
              "      <td>4</td>\n",
              "    </tr>\n",
              "    <tr>\n",
              "      <th>32</th>\n",
              "      <td>San Martin S.J.</td>\n",
              "      <td>6</td>\n",
              "    </tr>\n",
              "    <tr>\n",
              "      <th>33</th>\n",
              "      <td>San Martin T.</td>\n",
              "      <td>4</td>\n",
              "    </tr>\n",
              "    <tr>\n",
              "      <th>34</th>\n",
              "      <td>Sarmiento Junin</td>\n",
              "      <td>6</td>\n",
              "    </tr>\n",
              "    <tr>\n",
              "      <th>35</th>\n",
              "      <td>Talleres Cordoba</td>\n",
              "      <td>5</td>\n",
              "    </tr>\n",
              "    <tr>\n",
              "      <th>36</th>\n",
              "      <td>Temperley</td>\n",
              "      <td>4</td>\n",
              "    </tr>\n",
              "    <tr>\n",
              "      <th>37</th>\n",
              "      <td>Tigre</td>\n",
              "      <td>5</td>\n",
              "    </tr>\n",
              "    <tr>\n",
              "      <th>38</th>\n",
              "      <td>Union de Santa Fe</td>\n",
              "      <td>5</td>\n",
              "    </tr>\n",
              "    <tr>\n",
              "      <th>39</th>\n",
              "      <td>Velez Sarsfield</td>\n",
              "      <td>4</td>\n",
              "    </tr>\n",
              "  </tbody>\n",
              "</table>\n",
              "</div>\n",
              "      <button class=\"colab-df-convert\" onclick=\"convertToInteractive('df-17838e20-2653-41ce-a5b3-9270ec4785ea')\"\n",
              "              title=\"Convert this dataframe to an interactive table.\"\n",
              "              style=\"display:none;\">\n",
              "        \n",
              "  <svg xmlns=\"http://www.w3.org/2000/svg\" height=\"24px\"viewBox=\"0 0 24 24\"\n",
              "       width=\"24px\">\n",
              "    <path d=\"M0 0h24v24H0V0z\" fill=\"none\"/>\n",
              "    <path d=\"M18.56 5.44l.94 2.06.94-2.06 2.06-.94-2.06-.94-.94-2.06-.94 2.06-2.06.94zm-11 1L8.5 8.5l.94-2.06 2.06-.94-2.06-.94L8.5 2.5l-.94 2.06-2.06.94zm10 10l.94 2.06.94-2.06 2.06-.94-2.06-.94-.94-2.06-.94 2.06-2.06.94z\"/><path d=\"M17.41 7.96l-1.37-1.37c-.4-.4-.92-.59-1.43-.59-.52 0-1.04.2-1.43.59L10.3 9.45l-7.72 7.72c-.78.78-.78 2.05 0 2.83L4 21.41c.39.39.9.59 1.41.59.51 0 1.02-.2 1.41-.59l7.78-7.78 2.81-2.81c.8-.78.8-2.07 0-2.86zM5.41 20L4 18.59l7.72-7.72 1.47 1.35L5.41 20z\"/>\n",
              "  </svg>\n",
              "      </button>\n",
              "      \n",
              "  <style>\n",
              "    .colab-df-container {\n",
              "      display:flex;\n",
              "      flex-wrap:wrap;\n",
              "      gap: 12px;\n",
              "    }\n",
              "\n",
              "    .colab-df-convert {\n",
              "      background-color: #E8F0FE;\n",
              "      border: none;\n",
              "      border-radius: 50%;\n",
              "      cursor: pointer;\n",
              "      display: none;\n",
              "      fill: #1967D2;\n",
              "      height: 32px;\n",
              "      padding: 0 0 0 0;\n",
              "      width: 32px;\n",
              "    }\n",
              "\n",
              "    .colab-df-convert:hover {\n",
              "      background-color: #E2EBFA;\n",
              "      box-shadow: 0px 1px 2px rgba(60, 64, 67, 0.3), 0px 1px 3px 1px rgba(60, 64, 67, 0.15);\n",
              "      fill: #174EA6;\n",
              "    }\n",
              "\n",
              "    [theme=dark] .colab-df-convert {\n",
              "      background-color: #3B4455;\n",
              "      fill: #D2E3FC;\n",
              "    }\n",
              "\n",
              "    [theme=dark] .colab-df-convert:hover {\n",
              "      background-color: #434B5C;\n",
              "      box-shadow: 0px 1px 3px 1px rgba(0, 0, 0, 0.15);\n",
              "      filter: drop-shadow(0px 1px 2px rgba(0, 0, 0, 0.3));\n",
              "      fill: #FFFFFF;\n",
              "    }\n",
              "  </style>\n",
              "\n",
              "      <script>\n",
              "        const buttonEl =\n",
              "          document.querySelector('#df-17838e20-2653-41ce-a5b3-9270ec4785ea button.colab-df-convert');\n",
              "        buttonEl.style.display =\n",
              "          google.colab.kernel.accessAllowed ? 'block' : 'none';\n",
              "\n",
              "        async function convertToInteractive(key) {\n",
              "          const element = document.querySelector('#df-17838e20-2653-41ce-a5b3-9270ec4785ea');\n",
              "          const dataTable =\n",
              "            await google.colab.kernel.invokeFunction('convertToInteractive',\n",
              "                                                     [key], {});\n",
              "          if (!dataTable) return;\n",
              "\n",
              "          const docLinkHtml = 'Like what you see? Visit the ' +\n",
              "            '<a target=\"_blank\" href=https://colab.research.google.com/notebooks/data_table.ipynb>data table notebook</a>'\n",
              "            + ' to learn more about interactive tables.';\n",
              "          element.innerHTML = '';\n",
              "          dataTable['output_type'] = 'display_data';\n",
              "          await google.colab.output.renderOutput(dataTable, element);\n",
              "          const docLink = document.createElement('div');\n",
              "          docLink.innerHTML = docLinkHtml;\n",
              "          element.appendChild(docLink);\n",
              "        }\n",
              "      </script>\n",
              "    </div>\n",
              "  </div>\n",
              "  "
            ]
          },
          "metadata": {},
          "execution_count": 226
        }
      ]
    },
    {
      "cell_type": "code",
      "source": [
        "# Bonus\n",
        "futbol_arg_ren.groupby(\"Equipo visitante\")['Goles locales'].max().sort_values().plot.barh(x = \"Equipo visitante\", figsize=(15, 12))"
      ],
      "metadata": {
        "colab": {
          "base_uri": "https://localhost:8080/",
          "height": 694
        },
        "id": "l-obwzu1xGa8",
        "outputId": "af601b74-61d5-4899-c4ed-a04ef8a0896c"
      },
      "execution_count": null,
      "outputs": [
        {
          "output_type": "execute_result",
          "data": {
            "text/plain": [
              "<matplotlib.axes._subplots.AxesSubplot at 0x7f938d9a6850>"
            ]
          },
          "metadata": {},
          "execution_count": 228
        },
        {
          "output_type": "display_data",
          "data": {
            "text/plain": [
              "<Figure size 1080x864 with 1 Axes>"
            ],
            "image/png": "[encoded data removed]"
          },
          "metadata": {
            "needs_background": "light"
          }
        }
      ]
    },
    {
      "cell_type": "markdown",
      "source": [
        "**20. Para cerrar**\n",
        "\n",
        "Ahora que tenemos los datos reales, ¿podríamos usar nuestras primeras funciones con ellos?\n",
        "\n",
        "Actualizá la variable partidos_de_ejemplo para que tenga una lista de diccionarios iguales a los originales, pero esta vez generados tomando 20 partidos al azar de la tabla.\n",
        "\n",
        "Ayuda\n",
        "Recordá que contás con un_dataframe.sample y que podés transformar una tabla en una lista de registros usando to_dict(\"records\")"
      ],
      "metadata": {
        "id": "wCZTyEscMgsR"
      }
    },
    {
      "cell_type": "code",
      "source": [
        "partidos_de_ejemplo = futbol_arg_ren[[\"Equipo local\", \"Equipo visitante\", \"Goles locales\", \"Goles visitantes\", \"Resultado\", \"Anio\"]].sample(20).to_dict(\"records\")\n",
        "partidos_de_ejemplo"
      ],
      "metadata": {
        "colab": {
          "base_uri": "https://localhost:8080/"
        },
        "id": "J1-1DV7BwUyM",
        "outputId": "d3452cd0-dee5-4a6b-fd72-685d6f01449e"
      },
      "execution_count": null,
      "outputs": [
        {
          "output_type": "execute_result",
          "data": {
            "text/plain": [
              "[{'Anio': 2016,\n",
              "  'Equipo local': 'Quilmes',\n",
              "  'Equipo visitante': 'Independiente',\n",
              "  'Goles locales': 1,\n",
              "  'Goles visitantes': 1,\n",
              "  'Resultado': 'Empate'},\n",
              " {'Anio': 2016,\n",
              "  'Equipo local': 'Banfield',\n",
              "  'Equipo visitante': 'San Martin S.J.',\n",
              "  'Goles locales': 3,\n",
              "  'Goles visitantes': 2,\n",
              "  'Resultado': 'Local'},\n",
              " {'Anio': 2015,\n",
              "  'Equipo local': 'Nueva Chicago',\n",
              "  'Equipo visitante': 'Rosario Central',\n",
              "  'Goles locales': 0,\n",
              "  'Goles visitantes': 2,\n",
              "  'Resultado': 'Visitante'},\n",
              " {'Anio': 2015,\n",
              "  'Equipo local': 'Banfield',\n",
              "  'Equipo visitante': 'Crucero del Norte',\n",
              "  'Goles locales': 2,\n",
              "  'Goles visitantes': 1,\n",
              "  'Resultado': 'Local'},\n",
              " {'Anio': 2017,\n",
              "  'Equipo local': 'Defensa y Justicia',\n",
              "  'Equipo visitante': 'Huracan',\n",
              "  'Goles locales': 0,\n",
              "  'Goles visitantes': 0,\n",
              "  'Resultado': 'Empate'},\n",
              " {'Anio': 2014,\n",
              "  'Equipo local': 'San Lorenzo',\n",
              "  'Equipo visitante': 'Newells Old Boys',\n",
              "  'Goles locales': 0,\n",
              "  'Goles visitantes': 0,\n",
              "  'Resultado': 'Empate'},\n",
              " {'Anio': 2016,\n",
              "  'Equipo local': 'San Martin S.J.',\n",
              "  'Equipo visitante': 'Estudiantes L.P.',\n",
              "  'Goles locales': 0,\n",
              "  'Goles visitantes': 2,\n",
              "  'Resultado': 'Visitante'},\n",
              " {'Anio': 2021,\n",
              "  'Equipo local': 'Union de Santa Fe',\n",
              "  'Equipo visitante': 'Independiente',\n",
              "  'Goles locales': 0,\n",
              "  'Goles visitantes': 0,\n",
              "  'Resultado': 'Empate'},\n",
              " {'Anio': 2013,\n",
              "  'Equipo local': 'River Plate',\n",
              "  'Equipo visitante': 'Velez Sarsfield',\n",
              "  'Goles locales': 0,\n",
              "  'Goles visitantes': 0,\n",
              "  'Resultado': 'Empate'},\n",
              " {'Anio': 2014,\n",
              "  'Equipo local': 'Estudiantes L.P.',\n",
              "  'Equipo visitante': 'Olimpo Bahia Blanca',\n",
              "  'Goles locales': 0,\n",
              "  'Goles visitantes': 0,\n",
              "  'Resultado': 'Empate'},\n",
              " {'Anio': 2018,\n",
              "  'Equipo local': 'Boca Juniors',\n",
              "  'Equipo visitante': 'Tigre',\n",
              "  'Goles locales': 2,\n",
              "  'Goles visitantes': 1,\n",
              "  'Resultado': 'Local'},\n",
              " {'Anio': 2019,\n",
              "  'Equipo local': 'Velez Sarsfield',\n",
              "  'Equipo visitante': 'Independiente',\n",
              "  'Goles locales': 2,\n",
              "  'Goles visitantes': 0,\n",
              "  'Resultado': 'Local'},\n",
              " {'Anio': 2016,\n",
              "  'Equipo local': 'Newells Old Boys',\n",
              "  'Equipo visitante': 'Atl. Tucuman',\n",
              "  'Goles locales': 2,\n",
              "  'Goles visitantes': 1,\n",
              "  'Resultado': 'Local'},\n",
              " {'Anio': 2019,\n",
              "  'Equipo local': 'River Plate',\n",
              "  'Equipo visitante': 'San Lorenzo',\n",
              "  'Goles locales': 0,\n",
              "  'Goles visitantes': 1,\n",
              "  'Resultado': 'Visitante'},\n",
              " {'Anio': 2021,\n",
              "  'Equipo local': 'Banfield',\n",
              "  'Equipo visitante': 'Atl. Tucuman',\n",
              "  'Goles locales': 2,\n",
              "  'Goles visitantes': 0,\n",
              "  'Resultado': 'Local'},\n",
              " {'Anio': 2016,\n",
              "  'Equipo local': 'Aldosivi',\n",
              "  'Equipo visitante': 'Racing Club',\n",
              "  'Goles locales': 2,\n",
              "  'Goles visitantes': 1,\n",
              "  'Resultado': 'Local'},\n",
              " {'Anio': 2021,\n",
              "  'Equipo local': 'Velez Sarsfield',\n",
              "  'Equipo visitante': 'Racing Club',\n",
              "  'Goles locales': 0,\n",
              "  'Goles visitantes': 0,\n",
              "  'Resultado': 'Empate'},\n",
              " {'Anio': 2019,\n",
              "  'Equipo local': 'Argentinos Jrs',\n",
              "  'Equipo visitante': 'Talleres Cordoba',\n",
              "  'Goles locales': 1,\n",
              "  'Goles visitantes': 0,\n",
              "  'Resultado': 'Local'},\n",
              " {'Anio': 2012,\n",
              "  'Equipo local': 'All Boys',\n",
              "  'Equipo visitante': 'Lanus',\n",
              "  'Goles locales': 2,\n",
              "  'Goles visitantes': 1,\n",
              "  'Resultado': 'Local'},\n",
              " {'Anio': 2016,\n",
              "  'Equipo local': 'Patronato',\n",
              "  'Equipo visitante': 'Rosario Central',\n",
              "  'Goles locales': 1,\n",
              "  'Goles visitantes': 0,\n",
              "  'Resultado': 'Local'}]"
            ]
          },
          "metadata": {},
          "execution_count": 225
        }
      ]
    },
    {
      "cell_type": "markdown",
      "source": [
        "## Intro a variables y procedimientos  "
      ],
      "metadata": {
        "id": "de6BTCvFO5Z7"
      }
    },
    {
      "cell_type": "markdown",
      "source": [
        "### Alcancía \n",
        "\n",
        "\n",
        "Vamos a ahorrar para un viaje post COVID. Tenemos una alcancía comunitaria (viaje en pozo). Para decidir si podemos viajar, debemos corroborar que el pozo tenga plata. \n",
        "\n",
        "\n",
        "> Creá una función _`pozo_vacio`_, que tome como parámetro el `pozo` y retorne `True` si pozo es 0 o `False` si es mayor a 0"
      ],
      "metadata": {
        "id": "YaTZ7USHPC-C"
      }
    },
    {
      "cell_type": "code",
      "source": [
        "# Declaración (inicializando)\n",
        "pozo = 0 # Asignación "
      ],
      "metadata": {
        "id": "F-p4Fs8MPEMG"
      },
      "execution_count": null,
      "outputs": []
    },
    {
      "cell_type": "code",
      "source": [
        "pozo"
      ],
      "metadata": {
        "colab": {
          "base_uri": "https://localhost:8080/"
        },
        "id": "vw6tU_DtPJaA",
        "outputId": "41154d18-e45f-4b36-e34f-d3705b5fe039"
      },
      "execution_count": null,
      "outputs": [
        {
          "output_type": "execute_result",
          "data": {
            "text/plain": [
              "0"
            ]
          },
          "metadata": {},
          "execution_count": 218
        }
      ]
    },
    {
      "cell_type": "code",
      "source": [
        "pozo + 10"
      ],
      "metadata": {
        "colab": {
          "base_uri": "https://localhost:8080/"
        },
        "id": "ir5vi7FiPK3D",
        "outputId": "5d8045e5-10ad-4abe-8474-84af0471fcd0"
      },
      "execution_count": null,
      "outputs": [
        {
          "output_type": "execute_result",
          "data": {
            "text/plain": [
              "10"
            ]
          },
          "metadata": {},
          "execution_count": 219
        }
      ]
    },
    {
      "cell_type": "code",
      "source": [
        "pozo"
      ],
      "metadata": {
        "colab": {
          "base_uri": "https://localhost:8080/"
        },
        "id": "t3Dm-e4-Pdjo",
        "outputId": "800be98c-42e6-401f-8f45-4f776427b52d"
      },
      "execution_count": null,
      "outputs": [
        {
          "output_type": "execute_result",
          "data": {
            "text/plain": [
              "0"
            ]
          },
          "metadata": {},
          "execution_count": 220
        }
      ]
    },
    {
      "cell_type": "code",
      "source": [
        "# Modificando (actualizando)\n",
        "pozo = 500 # Asignación"
      ],
      "metadata": {
        "id": "VKhv1w7qPfHm"
      },
      "execution_count": null,
      "outputs": []
    },
    {
      "cell_type": "code",
      "source": [
        "pozo"
      ],
      "metadata": {
        "colab": {
          "base_uri": "https://localhost:8080/"
        },
        "id": "s3fve5LWPp-O",
        "outputId": "1bc57888-996c-4922-adc9-9327d6628add"
      },
      "execution_count": null,
      "outputs": [
        {
          "output_type": "execute_result",
          "data": {
            "text/plain": [
              "500"
            ]
          },
          "metadata": {},
          "execution_count": 222
        }
      ]
    },
    {
      "cell_type": "code",
      "source": [
        "def pozo_vacio(): \n",
        "  return pozo == 0"
      ],
      "metadata": {
        "id": "jiIQmbuGPslO"
      },
      "execution_count": null,
      "outputs": []
    },
    {
      "cell_type": "code",
      "source": [
        "pozo_vacio()"
      ],
      "metadata": {
        "colab": {
          "base_uri": "https://localhost:8080/"
        },
        "id": "I4z2NorpRPyI",
        "outputId": "babfbcc3-c907-4311-8c86-fc30a870d147"
      },
      "execution_count": null,
      "outputs": [
        {
          "output_type": "execute_result",
          "data": {
            "text/plain": [
              "False"
            ]
          },
          "metadata": {},
          "execution_count": 224
        }
      ]
    },
    {
      "cell_type": "code",
      "source": [
        "pozo = 50"
      ],
      "metadata": {
        "id": "3_DZg4RkRT0D"
      },
      "execution_count": null,
      "outputs": []
    },
    {
      "cell_type": "code",
      "source": [
        "pozo_vacio()"
      ],
      "metadata": {
        "colab": {
          "base_uri": "https://localhost:8080/"
        },
        "id": "ghVMblElRWCj",
        "outputId": "975daa95-57b2-48d0-c14c-270d341f2293"
      },
      "execution_count": null,
      "outputs": [
        {
          "output_type": "execute_result",
          "data": {
            "text/plain": [
              "False"
            ]
          },
          "metadata": {},
          "execution_count": 226
        }
      ]
    },
    {
      "cell_type": "code",
      "source": [
        "# Procedimiento para vaciar pozo\n",
        "# Los procedimientos NO tienen return\n",
        "def pozo_vacio(): \n",
        "  global pozo\n",
        "  pozo = 0"
      ],
      "metadata": {
        "id": "8Dl7bpE2R9oS"
      },
      "execution_count": null,
      "outputs": []
    },
    {
      "cell_type": "markdown",
      "source": [
        "Sabemos que para llegar al Chaltén necesitamos por persona 3000 pesos\n",
        "\n",
        "> Hacé una función `cuantos_viajan_al_chalten` que retorne según el monto del `pozo`, la cantidad de personas que pueden viajar\n",
        "\n",
        "¡Tené en cuenta que media persona no puede viajar! :P"
      ],
      "metadata": {
        "id": "xMB_0GY3Rg_j"
      }
    },
    {
      "cell_type": "code",
      "source": [
        "def cuantos_viajan_al_chalten(): \n",
        "  return pozo // 3000 \n",
        "  # sino se puede hacer: int(pozo / 3000)"
      ],
      "metadata": {
        "id": "ooJulwhdSUeC"
      },
      "execution_count": null,
      "outputs": []
    },
    {
      "cell_type": "code",
      "source": [
        "pozo = 7000\n",
        "cuantos_viajan_al_chalten()"
      ],
      "metadata": {
        "colab": {
          "base_uri": "https://localhost:8080/"
        },
        "id": "K5RDS7gfSuP4",
        "outputId": "68050c6e-5ccc-4ce3-f301-cf2959107b4b"
      },
      "execution_count": null,
      "outputs": [
        {
          "output_type": "execute_result",
          "data": {
            "text/plain": [
              "2"
            ]
          },
          "metadata": {},
          "execution_count": 229
        }
      ]
    },
    {
      "cell_type": "markdown",
      "source": [
        "Queremos un procedimiento ```volver_a_empezar``` que si tenemos menos de $1000, vuelva el pozo a cero\n",
        "\n"
      ],
      "metadata": {
        "id": "6RdCYqe5WHwo"
      }
    },
    {
      "cell_type": "code",
      "source": [
        "def volver_a_empezar():\n",
        "  global pozo\n",
        "  if pozo < 1000:\n",
        "    pozo = 0"
      ],
      "metadata": {
        "id": "e0V27D5uWdVr"
      },
      "execution_count": null,
      "outputs": []
    },
    {
      "cell_type": "code",
      "source": [
        "pozo = 500\n",
        "volver_a_empezar()\n",
        "pozo"
      ],
      "metadata": {
        "colab": {
          "base_uri": "https://localhost:8080/"
        },
        "id": "8KwCkruvXAyT",
        "outputId": "9addd0f3-67c9-4190-9884-ad329613c702"
      },
      "execution_count": null,
      "outputs": [
        {
          "output_type": "execute_result",
          "data": {
            "text/plain": [
              "0"
            ]
          },
          "metadata": {},
          "execution_count": 231
        }
      ]
    },
    {
      "cell_type": "code",
      "source": [
        "pozo = 1000\n",
        "volver_a_empezar()\n",
        "pozo"
      ],
      "metadata": {
        "colab": {
          "base_uri": "https://localhost:8080/"
        },
        "id": "4vct0i1OXG1z",
        "outputId": "752292ce-419b-4274-aec1-c72b8575f45c"
      },
      "execution_count": null,
      "outputs": [
        {
          "output_type": "execute_result",
          "data": {
            "text/plain": [
              "1000"
            ]
          },
          "metadata": {},
          "execution_count": 232
        }
      ]
    },
    {
      "cell_type": "markdown",
      "source": [
        "## Simulacro de parcial \n",
        "https://colab.research.google.com/drive/1PU2JyptHBvxFi4VtK4mIOUqxn4-A2eVw#scrollTo=SmB_kWDc01QG"
      ],
      "metadata": {
        "id": "VRZ3qHiM1tY-"
      }
    },
    {
      "cell_type": "markdown",
      "source": [
        "Ejercicios adicionales "
      ],
      "metadata": {
        "id": "Y1CwFVS2ly16"
      }
    },
    {
      "cell_type": "code",
      "source": [
        "# Pipe\n",
        "start = int(input(\"Insertá el número que de inicio a tu rango: \"))\n",
        "end = int(input(\"Insertá el número que de fin a tu rango: \"))\n",
        "\n",
        "sumatoria = 0\n",
        "for i in range(start, end): \n",
        "  sumatoria += i\n",
        "print(sumatoria) "
      ],
      "metadata": {
        "colab": {
          "base_uri": "https://localhost:8080/"
        },
        "id": "fPIrRkI10pqN",
        "outputId": "e00f81aa-1934-4654-9b5b-6aeb96bfe0a2"
      },
      "execution_count": null,
      "outputs": [
        {
          "output_type": "stream",
          "name": "stdout",
          "text": [
            "Insertá el número que de inicio a tu rango: 42\n",
            "Insertá el número que de fin a tu rango: 176\n",
            "14539\n"
          ]
        }
      ]
    },
    {
      "cell_type": "code",
      "source": [
        "num = int(input('Ingrese un número: ')) \n",
        "\n",
        "pares = []\n",
        "for i in range(num):\n",
        "  if i%2 == 0: \n",
        "    pares.append(i)\n",
        "print(pares)"
      ],
      "metadata": {
        "colab": {
          "base_uri": "https://localhost:8080/"
        },
        "id": "sY29H0Qp9Flq",
        "outputId": "a737f3bf-a607-4fad-9d84-7aa5f3180678"
      },
      "execution_count": null,
      "outputs": [
        {
          "output_type": "stream",
          "name": "stdout",
          "text": [
            "Ingrese un número: 20\n",
            "[0, 2, 4, 6, 8, 10, 12, 14, 16, 18]\n"
          ]
        }
      ]
    },
    {
      "cell_type": "markdown",
      "source": [
        "## Primer parcial "
      ],
      "metadata": {
        "id": "c9iBo3nxVJ_3"
      }
    },
    {
      "cell_type": "markdown",
      "source": [
        "Punto 1"
      ],
      "metadata": {
        "id": "L1813e9gdS7g"
      }
    },
    {
      "cell_type": "code",
      "source": [
        "def espar(n):\n",
        "  if (n / 2) == 0:\n",
        "    return \"True\"\n",
        "  elif (n / 2) != 0:\n",
        "    return \"False\""
      ],
      "metadata": {
        "id": "8KtjevvNdU6T"
      },
      "execution_count": null,
      "outputs": []
    },
    {
      "cell_type": "markdown",
      "source": [
        "Punto 2"
      ],
      "metadata": {
        "id": "2VZWdl3adYL2"
      }
    },
    {
      "cell_type": "code",
      "source": [
        "def vencio_el_producto(mes_de_envasado, anio_de_envasado, mes_actual, anio_actual):  \n",
        "  return anio_actual == anio_de_envasado and mes_actual - mes_de_envasado > 2 or anio_actual != anio_de_envasado + 1 and (mes_de_envasado - mes_actual - 8) > 2"
      ],
      "metadata": {
        "id": "SpeWh9TlebWA"
      },
      "execution_count": null,
      "outputs": []
    },
    {
      "cell_type": "code",
      "source": [
        "vencio_el_producto(4, 2020, 5, 2020)  "
      ],
      "metadata": {
        "colab": {
          "base_uri": "https://localhost:8080/"
        },
        "id": "9uazEBYnejNA",
        "outputId": "ce897852-cbb6-4599-e550-3e7fc664a965"
      },
      "execution_count": null,
      "outputs": [
        {
          "output_type": "execute_result",
          "data": {
            "text/plain": [
              "False"
            ]
          },
          "metadata": {},
          "execution_count": 41
        }
      ]
    },
    {
      "cell_type": "code",
      "source": [
        "vencio_el_producto(4, 2020, 5, 2022)  "
      ],
      "metadata": {
        "colab": {
          "base_uri": "https://localhost:8080/"
        },
        "id": "RqCUTYJhepnE",
        "outputId": "299cff72-0c3c-471d-f05b-efcfc50fbe35"
      },
      "execution_count": null,
      "outputs": [
        {
          "output_type": "execute_result",
          "data": {
            "text/plain": [
              "False"
            ]
          },
          "metadata": {},
          "execution_count": 40
        }
      ]
    },
    {
      "cell_type": "markdown",
      "source": [
        "Punto 3"
      ],
      "metadata": {
        "id": "yVqHxvATdahb"
      }
    },
    {
      "cell_type": "code",
      "source": [
        "def hora_valida(h, m): \n",
        "  return h < 0 or h > 23 or m > 59 or m < 0 \n",
        "\n",
        "def informar_cantidad_horas_trabajadas(h1, m1, h2, m2): \n",
        "  if hora_valida(h1, m1) or hora_valida(h2, m2): \n",
        "    return 'Revise los horarios ingresados. Las horas deben estar entre 0 y 23 y los minutos entre 0 y 59.'\n",
        "  elif h1 > h2 or (h1 == h2) and m1 > m2: \n",
        "    return 'El horario de entrada no puede ser mayor al de salida'\n",
        "  else: \n",
        "    return 'Ha trabajado ' + str((h2 - h1) + (m2 - m1) / 60) + ' horas' "
      ],
      "metadata": {
        "id": "h5cmgC3Rh8IS"
      },
      "execution_count": null,
      "outputs": []
    },
    {
      "cell_type": "code",
      "source": [
        "informar_cantidad_horas_trabajadas(8, 30, 18, 0)"
      ],
      "metadata": {
        "colab": {
          "base_uri": "https://localhost:8080/",
          "height": 35
        },
        "id": "BMA-aIGVgjtV",
        "outputId": "cdf8d916-e03a-4762-f11a-a2ddbdcf8a6d"
      },
      "execution_count": null,
      "outputs": [
        {
          "output_type": "execute_result",
          "data": {
            "text/plain": [
              "'Ha trabajado 9.5 horas'"
            ],
            "application/vnd.google.colaboratory.intrinsic+json": {
              "type": "string"
            }
          },
          "metadata": {},
          "execution_count": 46
        }
      ]
    },
    {
      "cell_type": "code",
      "source": [
        "informar_cantidad_horas_trabajadas(9, 0, 10, 15)"
      ],
      "metadata": {
        "colab": {
          "base_uri": "https://localhost:8080/",
          "height": 35
        },
        "id": "pJ1ZpIjemJ1L",
        "outputId": "4ed67a2b-1903-4ed4-eff2-ed7e69625cbd"
      },
      "execution_count": null,
      "outputs": [
        {
          "output_type": "execute_result",
          "data": {
            "text/plain": [
              "'Ha trabajado 1.25 horas'"
            ],
            "application/vnd.google.colaboratory.intrinsic+json": {
              "type": "string"
            }
          },
          "metadata": {},
          "execution_count": 21
        }
      ]
    },
    {
      "cell_type": "markdown",
      "source": [
        "Punto 4"
      ],
      "metadata": {
        "id": "MjQ-DIn9dKqZ"
      }
    },
    {
      "cell_type": "code",
      "source": [
        "def precio_taza(tamanio, infusion): \n",
        "  if str.lower(tamanio) == 'chica' and (str.lower(infusion) == 'té' or str.lower(infusion) == 'te' or str.lower(infusion) == 'café' or str.lower(infusion) == 'cafe'): \n",
        "    return 96\n",
        "  elif str.lower(tamanio) == 'mediana' and (str.lower(infusion) == 'té' or str.lower(infusion) == 'te'): \n",
        "    return 196\n",
        "  else: \n",
        "    return 331 "
      ],
      "metadata": {
        "id": "J1LqsUBzX_Fh"
      },
      "execution_count": null,
      "outputs": []
    },
    {
      "cell_type": "code",
      "source": [
        "precio_taza('mediana', 'te')"
      ],
      "metadata": {
        "colab": {
          "base_uri": "https://localhost:8080/"
        },
        "id": "e7_kSRijX_3x",
        "outputId": "02006cb5-2617-4a25-cd62-14a45da6de40"
      },
      "execution_count": null,
      "outputs": [
        {
          "output_type": "execute_result",
          "data": {
            "text/plain": [
              "196"
            ]
          },
          "metadata": {},
          "execution_count": 13
        }
      ]
    },
    {
      "cell_type": "code",
      "source": [
        "# Franco \n",
        "def precio_taza_franco(tamanio, infusion):  \n",
        "  tamanio_normalizado = str.lower(tamanio)\n",
        "  if (infusion == 'té' or infusion == 'te') and tamanio_normalizado == 'mediana': \n",
        "    return 222\n",
        "  elif tamanio_normalizado == 'chica': \n",
        "    return 100\n",
        "  else: \n",
        "    return 321"
      ],
      "metadata": {
        "id": "_uoxZRaQXYsl"
      },
      "execution_count": null,
      "outputs": []
    },
    {
      "cell_type": "markdown",
      "source": [
        "Punto 5"
      ],
      "metadata": {
        "id": "qwWFoLEtdHve"
      }
    },
    {
      "cell_type": "code",
      "source": [
        "productos  = ''\n",
        "cantidad_productos = 0 \n",
        "\n",
        "def registrar_producto(producto, fecha, cantidad):\n",
        "  global productos \n",
        "  global cantidad_productos\n",
        "  \n",
        "  if cantidad_productos != 0: \n",
        "    productos += ';'\n",
        "\n",
        "  cantidad_productos += 1\n",
        "  productos += 'producto:' + producto + ',' + fecha + ',' + str(cantidad) "
      ],
      "metadata": {
        "id": "MkxXdS8naMTz"
      },
      "execution_count": null,
      "outputs": []
    },
    {
      "cell_type": "code",
      "source": [
        "registrar_producto('maní', '3/5/2022', 8) \n",
        "productos "
      ],
      "metadata": {
        "colab": {
          "base_uri": "https://localhost:8080/",
          "height": 35
        },
        "id": "g4kEvOYUb04j",
        "outputId": "677aee27-6233-4e71-8440-348a1596e61b"
      },
      "execution_count": null,
      "outputs": [
        {
          "output_type": "execute_result",
          "data": {
            "text/plain": [
              "'producto:maní,3/5/2022,8'"
            ],
            "application/vnd.google.colaboratory.intrinsic+json": {
              "type": "string"
            }
          },
          "metadata": {},
          "execution_count": 57
        }
      ]
    },
    {
      "cell_type": "code",
      "source": [
        "registrar_producto('acai', '3/7/2022', 10)\n",
        "productos "
      ],
      "metadata": {
        "colab": {
          "base_uri": "https://localhost:8080/",
          "height": 35
        },
        "id": "lqY39MQAeHes",
        "outputId": "fcbb8fa5-0d0d-49c4-f77a-5b80e33178cf"
      },
      "execution_count": null,
      "outputs": [
        {
          "output_type": "execute_result",
          "data": {
            "text/plain": [
              "'producto:maní,3/5/2022,8;producto:acai,3/7/2022,10'"
            ],
            "application/vnd.google.colaboratory.intrinsic+json": {
              "type": "string"
            }
          },
          "metadata": {},
          "execution_count": 58
        }
      ]
    },
    {
      "cell_type": "markdown",
      "source": [
        "En el almacén están haciendo el inventario y necesitan registrar toda la mercadería que llegó con el proveedor.\n",
        "\n",
        "\n",
        "```\n",
        " productos\n",
        "''\n",
        " inventariar('maní', '3/5/2022', 8)\n",
        " productos\n",
        "'producto:maní,3/5/2022,8'\n",
        "Cada producto se debe separar del anterior con un ;:\n",
        "\n",
        " inventariar('cereal', '3/5/2022', 4)\n",
        " productos\n",
        "'producto:maní,3/5/2022,8;producto:cereal,3/5/2022,4'\n",
        " inventariar('acai', '7/6/2022', 10)\n",
        " productos\n",
        "'producto:maní,3/5/2022,8;producto:cereal,3/5/2022,4;producto:acai,3/6/2022,19'\n",
        "```\n",
        "Definí el procedieminto inventariar que tome un producto, una fecha y una cantidad y lo almacene en una variable global productos separado por comas."
      ],
      "metadata": {
        "id": "4bHYzaLCvZOj"
      }
    },
    {
      "cell_type": "code",
      "source": [
        "# Jonás \n",
        "productos = ''\n",
        "contador = 0\n",
        "\n",
        "def inventariar(producto, fecha, cantidad): \n",
        "  global productos \n",
        "  global contador \n",
        "  if contador != 0: \n",
        "    productos += ';'\n",
        "\n",
        "  productos += 'producto:' + producto + ',' + fecha + ',' + str(cantidad) \n",
        "  contador += 1\n",
        "\n",
        "  return productos "
      ],
      "metadata": {
        "id": "KgSrYCCwvUHE"
      },
      "execution_count": null,
      "outputs": []
    },
    {
      "cell_type": "code",
      "source": [
        "productos"
      ],
      "metadata": {
        "colab": {
          "base_uri": "https://localhost:8080/",
          "height": 35
        },
        "id": "eu-pJ610w3W9",
        "outputId": "02408ca5-abb3-4024-a845-d1479c7cc04f"
      },
      "execution_count": null,
      "outputs": [
        {
          "output_type": "execute_result",
          "data": {
            "text/plain": [
              "''"
            ],
            "application/vnd.google.colaboratory.intrinsic+json": {
              "type": "string"
            }
          },
          "metadata": {},
          "execution_count": 73
        }
      ]
    },
    {
      "cell_type": "code",
      "source": [
        "inventariar('naranja', '19/10/2002', 10)"
      ],
      "metadata": {
        "colab": {
          "base_uri": "https://localhost:8080/",
          "height": 35
        },
        "id": "jw990X4iw5zY",
        "outputId": "de8ae565-4a00-49ce-8079-98f1e42cfb2f"
      },
      "execution_count": null,
      "outputs": [
        {
          "output_type": "execute_result",
          "data": {
            "text/plain": [
              "'producto:naranja,19/10/2002,10'"
            ],
            "application/vnd.google.colaboratory.intrinsic+json": {
              "type": "string"
            }
          },
          "metadata": {},
          "execution_count": 74
        }
      ]
    },
    {
      "cell_type": "code",
      "source": [
        "inventariar('manzana', '3/6/2003', 10)"
      ],
      "metadata": {
        "colab": {
          "base_uri": "https://localhost:8080/",
          "height": 35
        },
        "id": "LcaeEYzQybJE",
        "outputId": "b6c40c2b-756d-4e00-ea67-89450b539bb9"
      },
      "execution_count": null,
      "outputs": [
        {
          "output_type": "execute_result",
          "data": {
            "text/plain": [
              "'producto:naranja,19/10/2002,10;producto:manzana,3/6/2003,10'"
            ],
            "application/vnd.google.colaboratory.intrinsic+json": {
              "type": "string"
            }
          },
          "metadata": {},
          "execution_count": 75
        }
      ]
    },
    {
      "cell_type": "code",
      "source": [
        "inventariar('banana', '18/5/2002', 2)"
      ],
      "metadata": {
        "colab": {
          "base_uri": "https://localhost:8080/",
          "height": 35
        },
        "id": "C2RhXGmQy_HF",
        "outputId": "d7c67a7b-b57c-4ede-ab94-ded893acc2fa"
      },
      "execution_count": null,
      "outputs": [
        {
          "output_type": "execute_result",
          "data": {
            "text/plain": [
              "'producto:naranja,19/10/2002,10;producto:manzana,3/6/2003,10;producto:banana,18/5/2002,2'"
            ],
            "application/vnd.google.colaboratory.intrinsic+json": {
              "type": "string"
            }
          },
          "metadata": {},
          "execution_count": 76
        }
      ]
    },
    {
      "cell_type": "markdown",
      "source": [
        "Punto 6"
      ],
      "metadata": {
        "id": "B0uPPzgpdCIj"
      }
    },
    {
      "cell_type": "code",
      "source": [
        "s = \"xlFSceK\""
      ],
      "metadata": {
        "id": "grncq_zFcU0P"
      },
      "execution_count": null,
      "outputs": []
    },
    {
      "cell_type": "code",
      "source": [
        "str.endswith(s, \"a\") and len(str(len(s))) == 1 and str.lower(s) == s"
      ],
      "metadata": {
        "colab": {
          "base_uri": "https://localhost:8080/"
        },
        "id": "husNpdfbcV88",
        "outputId": "38343103-a49c-4b18-f6cd-0bb97ad47530"
      },
      "execution_count": null,
      "outputs": [
        {
          "output_type": "execute_result",
          "data": {
            "text/plain": [
              "False"
            ]
          },
          "metadata": {},
          "execution_count": 31
        }
      ]
    },
    {
      "cell_type": "code",
      "source": [
        "str.endswith(s, \"a\") and len(str(len(s))) == 1 and str.upper(s) != s and str.lower(s) != s"
      ],
      "metadata": {
        "colab": {
          "base_uri": "https://localhost:8080/"
        },
        "id": "2YXK4C-zccT9",
        "outputId": "48a8ebde-7249-4561-ff86-05e3bffbc889"
      },
      "execution_count": null,
      "outputs": [
        {
          "output_type": "execute_result",
          "data": {
            "text/plain": [
              "False"
            ]
          },
          "metadata": {},
          "execution_count": 32
        }
      ]
    },
    {
      "cell_type": "code",
      "source": [
        "str.endswith(s, \"a\") and int(str(len(s))) == 10 and str.lower(s) == s"
      ],
      "metadata": {
        "colab": {
          "base_uri": "https://localhost:8080/"
        },
        "id": "BSlKtBBQce5G",
        "outputId": "a9946aed-c80f-44c5-ddd5-eced67c1d326"
      },
      "execution_count": null,
      "outputs": [
        {
          "output_type": "execute_result",
          "data": {
            "text/plain": [
              "False"
            ]
          },
          "metadata": {},
          "execution_count": 33
        }
      ]
    },
    {
      "cell_type": "code",
      "source": [
        "str.endswith(s, \"a\") and int(str(len(s))) == 10 and str.upper(s) != s and str.lower(s) != s"
      ],
      "metadata": {
        "colab": {
          "base_uri": "https://localhost:8080/"
        },
        "id": "C6nND1Zkcw32",
        "outputId": "40bb55f3-73c8-469c-a1a6-656b03985d72"
      },
      "execution_count": null,
      "outputs": [
        {
          "output_type": "execute_result",
          "data": {
            "text/plain": [
              "False"
            ]
          },
          "metadata": {},
          "execution_count": 40
        }
      ]
    },
    {
      "cell_type": "code",
      "source": [
        "str.endswith(s, \"a\") and len(s + \"9\") > 11 and str.lower(s) == s"
      ],
      "metadata": {
        "colab": {
          "base_uri": "https://localhost:8080/"
        },
        "id": "WoeSrcREc2Np",
        "outputId": "a86d5399-420d-4487-d49c-b0481676b000"
      },
      "execution_count": null,
      "outputs": [
        {
          "output_type": "execute_result",
          "data": {
            "text/plain": [
              "False"
            ]
          },
          "metadata": {},
          "execution_count": 41
        }
      ]
    },
    {
      "cell_type": "code",
      "source": [
        "str.endswith(s, \"a\") and len(s + \"9\") > 11 and str.upper(s) != s and str.lower(s) != s"
      ],
      "metadata": {
        "colab": {
          "base_uri": "https://localhost:8080/"
        },
        "id": "_3qjQI9lc4bB",
        "outputId": "2bbd0288-785f-48dc-9495-89498e58cea0"
      },
      "execution_count": null,
      "outputs": [
        {
          "output_type": "execute_result",
          "data": {
            "text/plain": [
              "False"
            ]
          },
          "metadata": {},
          "execution_count": 42
        }
      ]
    },
    {
      "cell_type": "code",
      "source": [
        "\"a\" not in s and len(str(len(s))) == 1 and str.lower(s) == s"
      ],
      "metadata": {
        "colab": {
          "base_uri": "https://localhost:8080/"
        },
        "id": "aCK3xHcrciJR",
        "outputId": "0b751655-414c-4afd-d87c-311779e47398"
      },
      "execution_count": null,
      "outputs": [
        {
          "output_type": "execute_result",
          "data": {
            "text/plain": [
              "False"
            ]
          },
          "metadata": {},
          "execution_count": 34
        }
      ]
    },
    {
      "cell_type": "code",
      "source": [
        "\"a\" not in s and len(str(len(s))) == 1 and str.upper(s) != s and str.lower(s) != s"
      ],
      "metadata": {
        "colab": {
          "base_uri": "https://localhost:8080/"
        },
        "id": "J8Rfbgv0clAL",
        "outputId": "cd527201-8578-4cb6-efc1-cbb5ea33689c"
      },
      "execution_count": null,
      "outputs": [
        {
          "output_type": "execute_result",
          "data": {
            "text/plain": [
              "True"
            ]
          },
          "metadata": {},
          "execution_count": 35
        }
      ]
    },
    {
      "cell_type": "code",
      "source": [
        "\"a\" not in s and int(str(len(s))) == 10 and str.lower(s) == s"
      ],
      "metadata": {
        "colab": {
          "base_uri": "https://localhost:8080/"
        },
        "id": "Dt8Bxik-cpC2",
        "outputId": "d18a01e3-07a5-41cd-ab72-082ea1838228"
      },
      "execution_count": null,
      "outputs": [
        {
          "output_type": "execute_result",
          "data": {
            "text/plain": [
              "False"
            ]
          },
          "metadata": {},
          "execution_count": 36
        }
      ]
    },
    {
      "cell_type": "code",
      "source": [
        "\"a\" not in s and int(str(len(s))) == 10 and str.upper(s) != s and str.lower(s) != s"
      ],
      "metadata": {
        "colab": {
          "base_uri": "https://localhost:8080/"
        },
        "id": "b453vP9ccrQ6",
        "outputId": "4f784043-9b5e-4534-baae-1baa0bdccb09"
      },
      "execution_count": null,
      "outputs": [
        {
          "output_type": "execute_result",
          "data": {
            "text/plain": [
              "False"
            ]
          },
          "metadata": {},
          "execution_count": 37
        }
      ]
    },
    {
      "cell_type": "code",
      "source": [
        "\"a\" not in s and len(s + \"9\") > 11 and str.lower(s) == s"
      ],
      "metadata": {
        "colab": {
          "base_uri": "https://localhost:8080/"
        },
        "id": "xJkHMDE4ctNR",
        "outputId": "48dee54a-0ed9-41b9-ddb1-e1d3dd8f9f87"
      },
      "execution_count": null,
      "outputs": [
        {
          "output_type": "execute_result",
          "data": {
            "text/plain": [
              "False"
            ]
          },
          "metadata": {},
          "execution_count": 38
        }
      ]
    },
    {
      "cell_type": "code",
      "source": [
        "\"a\" not in s and len(s + \"9\") > 11 and str.upper(s) != s and str.lower(s) != s"
      ],
      "metadata": {
        "colab": {
          "base_uri": "https://localhost:8080/"
        },
        "id": "dlO7TqH7cva4",
        "outputId": "3b9d425b-7e93-4ede-cf58-96c7221271a8"
      },
      "execution_count": null,
      "outputs": [
        {
          "output_type": "execute_result",
          "data": {
            "text/plain": [
              "False"
            ]
          },
          "metadata": {},
          "execution_count": 39
        }
      ]
    },
    {
      "cell_type": "markdown",
      "source": [
        "## Pandas"
      ],
      "metadata": {
        "id": "r7Mr1S3aV0H1"
      }
    },
    {
      "cell_type": "code",
      "source": [
        "import pandas as pd"
      ],
      "metadata": {
        "id": "N882YEhUvID0"
      },
      "execution_count": null,
      "outputs": []
    },
    {
      "cell_type": "code",
      "source": [
        "# CSV es un archivo separado por comas (contienen filas y columnas)\n",
        "florerias = pd.read_csv(\"https://cdn.buenosaires.gob.ar/datosabiertos/datasets/ministerio-de-espacio-publico-e-higiene-urbana/puestos-de-flores/puestos-flores.csv\")\n",
        "florerias.sample(2) \n",
        "#Nota: si el archivo no está separado por comas sino por ;, hay que pasar un parámetro adicional llamado \"sep\"\n",
        "#pd.read_csv(\"https://cdn.buenosaires.gob.ar/datosabiertos/datasets/atencion-ciudadana/puestos-flores/puestos-flores.csv\", sep=\";\")"
      ],
      "metadata": {
        "colab": {
          "base_uri": "https://localhost:8080/",
          "height": 263
        },
        "id": "FcUo9Muov33c",
        "outputId": "e55f272e-d0d0-44a0-84f9-6e591a42f1fe"
      },
      "execution_count": null,
      "outputs": [
        {
          "output_type": "execute_result",
          "data": {
            "text/plain": [
              "                   TITULAR TIPO DOC    DOC NRO.       Calle Altura  \\\n",
              "27  VILLAREAL SILVIA MABEL      DNI  16.453.092     LAVALLE   1578   \n",
              "38   GLADYS ELIZABETH LENZ      DNI  20.675.024  ELCANO AV.   3176   \n",
              "\n",
              "    NroEXPEDIENTE  AñoExpediente                 NroDispo/Permiso    FecDispo  \\\n",
              "27       18903337           2020  RS-2021-14926962-GCABA-COMUNA1.  13/05/2021   \n",
              "38       26790048           2020         DI-2020-1256-GCABA-DGCCT  12/11/2020   \n",
              "\n",
              "   VencimientoDispo          TIPO       BARRIO  COMUNA  LATITUD  LONGITUD  \n",
              "27       13/05/2023  Otorgamiento  San Nicolas       1      NaN       NaN  \n",
              "38       12/11/2022  Otorgamiento   Colegiales      13      NaN       NaN  "
            ],
            "text/html": [
              "\n",
              "  <div id=\"df-e4a264cc-ad6b-4e32-8ca6-3bca5c8e962c\">\n",
              "    <div class=\"colab-df-container\">\n",
              "      <div>\n",
              "<style scoped>\n",
              "    .dataframe tbody tr th:only-of-type {\n",
              "        vertical-align: middle;\n",
              "    }\n",
              "\n",
              "    .dataframe tbody tr th {\n",
              "        vertical-align: top;\n",
              "    }\n",
              "\n",
              "    .dataframe thead th {\n",
              "        text-align: right;\n",
              "    }\n",
              "</style>\n",
              "<table border=\"1\" class=\"dataframe\">\n",
              "  <thead>\n",
              "    <tr style=\"text-align: right;\">\n",
              "      <th></th>\n",
              "      <th>TITULAR</th>\n",
              "      <th>TIPO DOC</th>\n",
              "      <th>DOC NRO.</th>\n",
              "      <th>Calle</th>\n",
              "      <th>Altura</th>\n",
              "      <th>NroEXPEDIENTE</th>\n",
              "      <th>AñoExpediente</th>\n",
              "      <th>NroDispo/Permiso</th>\n",
              "      <th>FecDispo</th>\n",
              "      <th>VencimientoDispo</th>\n",
              "      <th>TIPO</th>\n",
              "      <th>BARRIO</th>\n",
              "      <th>COMUNA</th>\n",
              "      <th>LATITUD</th>\n",
              "      <th>LONGITUD</th>\n",
              "    </tr>\n",
              "  </thead>\n",
              "  <tbody>\n",
              "    <tr>\n",
              "      <th>27</th>\n",
              "      <td>VILLAREAL SILVIA MABEL</td>\n",
              "      <td>DNI</td>\n",
              "      <td>16.453.092</td>\n",
              "      <td>LAVALLE</td>\n",
              "      <td>1578</td>\n",
              "      <td>18903337</td>\n",
              "      <td>2020</td>\n",
              "      <td>RS-2021-14926962-GCABA-COMUNA1.</td>\n",
              "      <td>13/05/2021</td>\n",
              "      <td>13/05/2023</td>\n",
              "      <td>Otorgamiento</td>\n",
              "      <td>San Nicolas</td>\n",
              "      <td>1</td>\n",
              "      <td>NaN</td>\n",
              "      <td>NaN</td>\n",
              "    </tr>\n",
              "    <tr>\n",
              "      <th>38</th>\n",
              "      <td>GLADYS ELIZABETH LENZ</td>\n",
              "      <td>DNI</td>\n",
              "      <td>20.675.024</td>\n",
              "      <td>ELCANO AV.</td>\n",
              "      <td>3176</td>\n",
              "      <td>26790048</td>\n",
              "      <td>2020</td>\n",
              "      <td>DI-2020-1256-GCABA-DGCCT</td>\n",
              "      <td>12/11/2020</td>\n",
              "      <td>12/11/2022</td>\n",
              "      <td>Otorgamiento</td>\n",
              "      <td>Colegiales</td>\n",
              "      <td>13</td>\n",
              "      <td>NaN</td>\n",
              "      <td>NaN</td>\n",
              "    </tr>\n",
              "  </tbody>\n",
              "</table>\n",
              "</div>\n",
              "      <button class=\"colab-df-convert\" onclick=\"convertToInteractive('df-e4a264cc-ad6b-4e32-8ca6-3bca5c8e962c')\"\n",
              "              title=\"Convert this dataframe to an interactive table.\"\n",
              "              style=\"display:none;\">\n",
              "        \n",
              "  <svg xmlns=\"http://www.w3.org/2000/svg\" height=\"24px\"viewBox=\"0 0 24 24\"\n",
              "       width=\"24px\">\n",
              "    <path d=\"M0 0h24v24H0V0z\" fill=\"none\"/>\n",
              "    <path d=\"M18.56 5.44l.94 2.06.94-2.06 2.06-.94-2.06-.94-.94-2.06-.94 2.06-2.06.94zm-11 1L8.5 8.5l.94-2.06 2.06-.94-2.06-.94L8.5 2.5l-.94 2.06-2.06.94zm10 10l.94 2.06.94-2.06 2.06-.94-2.06-.94-.94-2.06-.94 2.06-2.06.94z\"/><path d=\"M17.41 7.96l-1.37-1.37c-.4-.4-.92-.59-1.43-.59-.52 0-1.04.2-1.43.59L10.3 9.45l-7.72 7.72c-.78.78-.78 2.05 0 2.83L4 21.41c.39.39.9.59 1.41.59.51 0 1.02-.2 1.41-.59l7.78-7.78 2.81-2.81c.8-.78.8-2.07 0-2.86zM5.41 20L4 18.59l7.72-7.72 1.47 1.35L5.41 20z\"/>\n",
              "  </svg>\n",
              "      </button>\n",
              "      \n",
              "  <style>\n",
              "    .colab-df-container {\n",
              "      display:flex;\n",
              "      flex-wrap:wrap;\n",
              "      gap: 12px;\n",
              "    }\n",
              "\n",
              "    .colab-df-convert {\n",
              "      background-color: #E8F0FE;\n",
              "      border: none;\n",
              "      border-radius: 50%;\n",
              "      cursor: pointer;\n",
              "      display: none;\n",
              "      fill: #1967D2;\n",
              "      height: 32px;\n",
              "      padding: 0 0 0 0;\n",
              "      width: 32px;\n",
              "    }\n",
              "\n",
              "    .colab-df-convert:hover {\n",
              "      background-color: #E2EBFA;\n",
              "      box-shadow: 0px 1px 2px rgba(60, 64, 67, 0.3), 0px 1px 3px 1px rgba(60, 64, 67, 0.15);\n",
              "      fill: #174EA6;\n",
              "    }\n",
              "\n",
              "    [theme=dark] .colab-df-convert {\n",
              "      background-color: #3B4455;\n",
              "      fill: #D2E3FC;\n",
              "    }\n",
              "\n",
              "    [theme=dark] .colab-df-convert:hover {\n",
              "      background-color: #434B5C;\n",
              "      box-shadow: 0px 1px 3px 1px rgba(0, 0, 0, 0.15);\n",
              "      filter: drop-shadow(0px 1px 2px rgba(0, 0, 0, 0.3));\n",
              "      fill: #FFFFFF;\n",
              "    }\n",
              "  </style>\n",
              "\n",
              "      <script>\n",
              "        const buttonEl =\n",
              "          document.querySelector('#df-e4a264cc-ad6b-4e32-8ca6-3bca5c8e962c button.colab-df-convert');\n",
              "        buttonEl.style.display =\n",
              "          google.colab.kernel.accessAllowed ? 'block' : 'none';\n",
              "\n",
              "        async function convertToInteractive(key) {\n",
              "          const element = document.querySelector('#df-e4a264cc-ad6b-4e32-8ca6-3bca5c8e962c');\n",
              "          const dataTable =\n",
              "            await google.colab.kernel.invokeFunction('convertToInteractive',\n",
              "                                                     [key], {});\n",
              "          if (!dataTable) return;\n",
              "\n",
              "          const docLinkHtml = 'Like what you see? Visit the ' +\n",
              "            '<a target=\"_blank\" href=https://colab.research.google.com/notebooks/data_table.ipynb>data table notebook</a>'\n",
              "            + ' to learn more about interactive tables.';\n",
              "          element.innerHTML = '';\n",
              "          dataTable['output_type'] = 'display_data';\n",
              "          await google.colab.output.renderOutput(dataTable, element);\n",
              "          const docLink = document.createElement('div');\n",
              "          docLink.innerHTML = docLinkHtml;\n",
              "          element.appendChild(docLink);\n",
              "        }\n",
              "      </script>\n",
              "    </div>\n",
              "  </div>\n",
              "  "
            ]
          },
          "metadata": {},
          "execution_count": 10
        }
      ]
    },
    {
      "cell_type": "code",
      "source": [
        "#sorted es una función que ordena los valores\n",
        "numeros = [10, 2, 3, 44, 10, 1]\n",
        "sorted(numeros)\n"
      ],
      "metadata": {
        "colab": {
          "base_uri": "https://localhost:8080/"
        },
        "id": "VVG_U9ecanii",
        "outputId": "9763cd2d-318d-4180-9da2-6316628d12a7"
      },
      "execution_count": null,
      "outputs": [
        {
          "output_type": "execute_result",
          "data": {
            "text/plain": [
              "[1, 2, 3, 10, 10, 44]"
            ]
          },
          "metadata": {},
          "execution_count": 14
        }
      ]
    },
    {
      "cell_type": "code",
      "source": [
        "#list.sort es otra operación\n",
        "#es un procedimiento\n",
        "list.sort(numeros)\n",
        "numeros"
      ],
      "metadata": {
        "colab": {
          "base_uri": "https://localhost:8080/"
        },
        "id": "TYY_V9eddjjE",
        "outputId": "0f628d97-3438-4ca3-b4fd-82355c6796b4"
      },
      "execution_count": null,
      "outputs": [
        {
          "output_type": "execute_result",
          "data": {
            "text/plain": [
              "[1, 2, 3, 10, 10, 44]"
            ]
          },
          "metadata": {},
          "execution_count": 15
        }
      ]
    },
    {
      "cell_type": "markdown",
      "source": [
        "###Dataset de florerias \n",
        "\n",
        "1. Busquen en la página de data.buenosaires.gob.ar el dataset de bibliotecas de CABA\n",
        "2. Carguen en un dataframe dicho dataset\n",
        "3. Averiguen cuántas bibliotecas hay\n",
        "4. Averiguen en cuántos barrios **diferentes** están estas bibliotecas\n",
        "5. Averiguen los nombres de estas bibliotecas\n",
        "6. Averiguen cuántas bibliotecas hay por barrio"
      ],
      "metadata": {
        "id": "iKjSaKpgZC4x"
      }
    },
    {
      "cell_type": "code",
      "source": [
        "# Hecho "
      ],
      "metadata": {
        "id": "JSI_mQ9JRRBA"
      },
      "execution_count": null,
      "outputs": []
    },
    {
      "cell_type": "markdown",
      "source": [
        "Punto 1"
      ],
      "metadata": {
        "id": "_E-LtrjfvKnI"
      }
    },
    {
      "cell_type": "code",
      "source": [
        "bibliotecas = pd.read_csv('https://cdn.buenosaires.gob.ar/datosabiertos/datasets/bibliotecas/bibliotecas.csv')\n",
        "bibliotecas.sample(2)"
      ],
      "metadata": {
        "colab": {
          "base_uri": "https://localhost:8080/",
          "height": 211
        },
        "id": "3CloxJSktb6t",
        "outputId": "77a817cf-3c16-44ec-de37-e0d1a5cc4973"
      },
      "execution_count": null,
      "outputs": [
        {
          "output_type": "execute_result",
          "data": {
            "text/plain": [
              "        biblioteca         calle altura           calle_2 piso   telefono  \\\n",
              "2   ANTONIO DEVOTO  BAHIA BLANCA   4025               NaN  NaN  4501-4320   \n",
              "27    REINA BATATA      LA PAMPA    NaN  11 DE SEPTIEMBRE  NaN  4783-3648   \n",
              "\n",
              "      observaciones                direccion_normalizada       long  \\\n",
              "2               NaN                    BAHIA BLANCA 4025 -58.510894   \n",
              "27  PLAZA BARRANCAS  LA PAMPA Y 11 DE SEPTIEMBRE DE 1888 -58.448721   \n",
              "\n",
              "          lat        barrio     comuna  codigo_postal codigo_postal_argentino  \n",
              "2  -34.599313  VILLA DEVOTO  COMUNA 11         1419.0                C1419BAI  \n",
              "27 -34.561599      BELGRANO  COMUNA 13            NaN                     NaN  "
            ],
            "text/html": [
              "\n",
              "  <div id=\"df-8e2a01d5-d107-4942-ba19-183df60d5df7\">\n",
              "    <div class=\"colab-df-container\">\n",
              "      <div>\n",
              "<style scoped>\n",
              "    .dataframe tbody tr th:only-of-type {\n",
              "        vertical-align: middle;\n",
              "    }\n",
              "\n",
              "    .dataframe tbody tr th {\n",
              "        vertical-align: top;\n",
              "    }\n",
              "\n",
              "    .dataframe thead th {\n",
              "        text-align: right;\n",
              "    }\n",
              "</style>\n",
              "<table border=\"1\" class=\"dataframe\">\n",
              "  <thead>\n",
              "    <tr style=\"text-align: right;\">\n",
              "      <th></th>\n",
              "      <th>biblioteca</th>\n",
              "      <th>calle</th>\n",
              "      <th>altura</th>\n",
              "      <th>calle_2</th>\n",
              "      <th>piso</th>\n",
              "      <th>telefono</th>\n",
              "      <th>observaciones</th>\n",
              "      <th>direccion_normalizada</th>\n",
              "      <th>long</th>\n",
              "      <th>lat</th>\n",
              "      <th>barrio</th>\n",
              "      <th>comuna</th>\n",
              "      <th>codigo_postal</th>\n",
              "      <th>codigo_postal_argentino</th>\n",
              "    </tr>\n",
              "  </thead>\n",
              "  <tbody>\n",
              "    <tr>\n",
              "      <th>2</th>\n",
              "      <td>ANTONIO DEVOTO</td>\n",
              "      <td>BAHIA BLANCA</td>\n",
              "      <td>4025</td>\n",
              "      <td>NaN</td>\n",
              "      <td>NaN</td>\n",
              "      <td>4501-4320</td>\n",
              "      <td>NaN</td>\n",
              "      <td>BAHIA BLANCA 4025</td>\n",
              "      <td>-58.510894</td>\n",
              "      <td>-34.599313</td>\n",
              "      <td>VILLA DEVOTO</td>\n",
              "      <td>COMUNA 11</td>\n",
              "      <td>1419.0</td>\n",
              "      <td>C1419BAI</td>\n",
              "    </tr>\n",
              "    <tr>\n",
              "      <th>27</th>\n",
              "      <td>REINA BATATA</td>\n",
              "      <td>LA PAMPA</td>\n",
              "      <td>NaN</td>\n",
              "      <td>11 DE SEPTIEMBRE</td>\n",
              "      <td>NaN</td>\n",
              "      <td>4783-3648</td>\n",
              "      <td>PLAZA BARRANCAS</td>\n",
              "      <td>LA PAMPA Y 11 DE SEPTIEMBRE DE 1888</td>\n",
              "      <td>-58.448721</td>\n",
              "      <td>-34.561599</td>\n",
              "      <td>BELGRANO</td>\n",
              "      <td>COMUNA 13</td>\n",
              "      <td>NaN</td>\n",
              "      <td>NaN</td>\n",
              "    </tr>\n",
              "  </tbody>\n",
              "</table>\n",
              "</div>\n",
              "      <button class=\"colab-df-convert\" onclick=\"convertToInteractive('df-8e2a01d5-d107-4942-ba19-183df60d5df7')\"\n",
              "              title=\"Convert this dataframe to an interactive table.\"\n",
              "              style=\"display:none;\">\n",
              "        \n",
              "  <svg xmlns=\"http://www.w3.org/2000/svg\" height=\"24px\"viewBox=\"0 0 24 24\"\n",
              "       width=\"24px\">\n",
              "    <path d=\"M0 0h24v24H0V0z\" fill=\"none\"/>\n",
              "    <path d=\"M18.56 5.44l.94 2.06.94-2.06 2.06-.94-2.06-.94-.94-2.06-.94 2.06-2.06.94zm-11 1L8.5 8.5l.94-2.06 2.06-.94-2.06-.94L8.5 2.5l-.94 2.06-2.06.94zm10 10l.94 2.06.94-2.06 2.06-.94-2.06-.94-.94-2.06-.94 2.06-2.06.94z\"/><path d=\"M17.41 7.96l-1.37-1.37c-.4-.4-.92-.59-1.43-.59-.52 0-1.04.2-1.43.59L10.3 9.45l-7.72 7.72c-.78.78-.78 2.05 0 2.83L4 21.41c.39.39.9.59 1.41.59.51 0 1.02-.2 1.41-.59l7.78-7.78 2.81-2.81c.8-.78.8-2.07 0-2.86zM5.41 20L4 18.59l7.72-7.72 1.47 1.35L5.41 20z\"/>\n",
              "  </svg>\n",
              "      </button>\n",
              "      \n",
              "  <style>\n",
              "    .colab-df-container {\n",
              "      display:flex;\n",
              "      flex-wrap:wrap;\n",
              "      gap: 12px;\n",
              "    }\n",
              "\n",
              "    .colab-df-convert {\n",
              "      background-color: #E8F0FE;\n",
              "      border: none;\n",
              "      border-radius: 50%;\n",
              "      cursor: pointer;\n",
              "      display: none;\n",
              "      fill: #1967D2;\n",
              "      height: 32px;\n",
              "      padding: 0 0 0 0;\n",
              "      width: 32px;\n",
              "    }\n",
              "\n",
              "    .colab-df-convert:hover {\n",
              "      background-color: #E2EBFA;\n",
              "      box-shadow: 0px 1px 2px rgba(60, 64, 67, 0.3), 0px 1px 3px 1px rgba(60, 64, 67, 0.15);\n",
              "      fill: #174EA6;\n",
              "    }\n",
              "\n",
              "    [theme=dark] .colab-df-convert {\n",
              "      background-color: #3B4455;\n",
              "      fill: #D2E3FC;\n",
              "    }\n",
              "\n",
              "    [theme=dark] .colab-df-convert:hover {\n",
              "      background-color: #434B5C;\n",
              "      box-shadow: 0px 1px 3px 1px rgba(0, 0, 0, 0.15);\n",
              "      filter: drop-shadow(0px 1px 2px rgba(0, 0, 0, 0.3));\n",
              "      fill: #FFFFFF;\n",
              "    }\n",
              "  </style>\n",
              "\n",
              "      <script>\n",
              "        const buttonEl =\n",
              "          document.querySelector('#df-8e2a01d5-d107-4942-ba19-183df60d5df7 button.colab-df-convert');\n",
              "        buttonEl.style.display =\n",
              "          google.colab.kernel.accessAllowed ? 'block' : 'none';\n",
              "\n",
              "        async function convertToInteractive(key) {\n",
              "          const element = document.querySelector('#df-8e2a01d5-d107-4942-ba19-183df60d5df7');\n",
              "          const dataTable =\n",
              "            await google.colab.kernel.invokeFunction('convertToInteractive',\n",
              "                                                     [key], {});\n",
              "          if (!dataTable) return;\n",
              "\n",
              "          const docLinkHtml = 'Like what you see? Visit the ' +\n",
              "            '<a target=\"_blank\" href=https://colab.research.google.com/notebooks/data_table.ipynb>data table notebook</a>'\n",
              "            + ' to learn more about interactive tables.';\n",
              "          element.innerHTML = '';\n",
              "          dataTable['output_type'] = 'display_data';\n",
              "          await google.colab.output.renderOutput(dataTable, element);\n",
              "          const docLink = document.createElement('div');\n",
              "          docLink.innerHTML = docLinkHtml;\n",
              "          element.appendChild(docLink);\n",
              "        }\n",
              "      </script>\n",
              "    </div>\n",
              "  </div>\n",
              "  "
            ]
          },
          "metadata": {},
          "execution_count": 19
        }
      ]
    },
    {
      "cell_type": "markdown",
      "source": [
        "Punto 2"
      ],
      "metadata": {
        "id": "etj005V-vMVp"
      }
    },
    {
      "cell_type": "code",
      "source": [
        "len(bibliotecas) "
      ],
      "metadata": {
        "colab": {
          "base_uri": "https://localhost:8080/"
        },
        "id": "ja-ZOfiltwqS",
        "outputId": "0859ae81-9006-4ff4-8048-8d98c064f366"
      },
      "execution_count": null,
      "outputs": [
        {
          "output_type": "execute_result",
          "data": {
            "text/plain": [
              "30"
            ]
          },
          "metadata": {},
          "execution_count": 54
        }
      ]
    },
    {
      "cell_type": "markdown",
      "source": [
        "Punto 3"
      ],
      "metadata": {
        "id": "r0kukraNvNxn"
      }
    },
    {
      "cell_type": "code",
      "source": [
        "len(pd.unique(bibliotecas.barrio)) "
      ],
      "metadata": {
        "colab": {
          "base_uri": "https://localhost:8080/"
        },
        "id": "Qc91PfnHubFO",
        "outputId": "df2569ad-013d-478a-f7c4-41049288f093"
      },
      "execution_count": null,
      "outputs": [
        {
          "output_type": "execute_result",
          "data": {
            "text/plain": [
              "19"
            ]
          },
          "metadata": {},
          "execution_count": 26
        }
      ]
    },
    {
      "cell_type": "markdown",
      "source": [
        "Punto 4"
      ],
      "metadata": {
        "id": "fRb5G_mnvPSG"
      }
    },
    {
      "cell_type": "code",
      "source": [
        "biblioteca_ordenada = bibliotecas.sort_values('biblioteca')\n",
        "biblioteca_ordenada['biblioteca']\n",
        "# len(biblioteca_ordenada['biblioteca'])"
      ],
      "metadata": {
        "colab": {
          "base_uri": "https://localhost:8080/"
        },
        "id": "a9eWeeYO1B-g",
        "outputId": "0cc114b7-23ae-4b3f-9aeb-74f262b71168"
      },
      "execution_count": null,
      "outputs": [
        {
          "output_type": "execute_result",
          "data": {
            "text/plain": [
              "0               ALFONSINA STORNI\n",
              "1                  ALVARO YUNQUE\n",
              "2                 ANTONIO DEVOTO\n",
              "3            BALDOMERO F. MORENO\n",
              "4                   BENITO LYNCH\n",
              "5           CARLOS GUIDO Y SPANO\n",
              "6                          CIRCE\n",
              "7          CNGO. LUIS CHORROARIN\n",
              "8              CORNELIO SAAVEDRA\n",
              "9                 ENRIQUE BANCHS\n",
              "10          ESTANISLAO DEL CAMPO\n",
              "11             EVARISTO CARRIEGO\n",
              "12              HILARIO ASCASUBI\n",
              "13              JAVIER VILLAFAÑE\n",
              "14            JOAQUIN V GONZALEZ\n",
              "15                JOSE HERNANDEZ\n",
              "16                   JOSE MARMOL\n",
              "17              JULIO C. SAGUIER\n",
              "18                JULIO CORTAZAR\n",
              "19                     LA PRENSA\n",
              "20              LEOPOLDO LUGONES\n",
              "29                       MAFALDA\n",
              "21                 MANUEL GALVEZ\n",
              "22               MARIANO PELLIZA\n",
              "23    MARTIN DEL BARCO CENTENERA\n",
              "24                   MIGUEL CANE\n",
              "25                    NORA LANGE\n",
              "26               RAFAEL OBLIGADO\n",
              "27                  REINA BATATA\n",
              "28             RICARDO GÜIRALDES\n",
              "Name: biblioteca, dtype: object"
            ]
          },
          "metadata": {},
          "execution_count": 56
        }
      ]
    },
    {
      "cell_type": "markdown",
      "source": [
        "Punto 5"
      ],
      "metadata": {
        "id": "Uw-qURFg2XcB"
      }
    },
    {
      "cell_type": "code",
      "source": [
        "pd.value_counts(bibliotecas.barrio) "
      ],
      "metadata": {
        "colab": {
          "base_uri": "https://localhost:8080/"
        },
        "id": "nv1u4yv-5bAY",
        "outputId": "0fe69a66-4b8d-4346-f403-01383c97b30c"
      },
      "execution_count": null,
      "outputs": [
        {
          "output_type": "execute_result",
          "data": {
            "text/plain": [
              "VILLA LUGANO        4\n",
              "BELGRANO            3\n",
              "MONSERRAT           2\n",
              "SAN NICOLAS         2\n",
              "FLORES              2\n",
              "PARQUE PATRICIOS    2\n",
              "RETIRO              2\n",
              "PALERMO             2\n",
              "SAAVEDRA            1\n",
              "MATADEROS           1\n",
              "FLORESTA            1\n",
              "CHACARITA           1\n",
              "BOCA                1\n",
              "LINIERS             1\n",
              "VILLA DEVOTO        1\n",
              "VILLA CRESPO        1\n",
              "BOEDO               1\n",
              "VILLA SANTA RITA    1\n",
              "PARQUE CHACABUCO    1\n",
              "Name: barrio, dtype: int64"
            ]
          },
          "metadata": {},
          "execution_count": 57
        }
      ]
    },
    {
      "cell_type": "markdown",
      "source": [
        "Punto 6"
      ],
      "metadata": {
        "id": "wqePA4Cv3Cl2"
      }
    },
    {
      "cell_type": "code",
      "source": [
        "bibliotecas_por_barrio = pd.value_counts(bibliotecas.barrio)\n",
        "bibliotecas_por_barrio.plot.bar()"
      ],
      "metadata": {
        "colab": {
          "base_uri": "https://localhost:8080/",
          "height": 380
        },
        "id": "zlN60nL36GSi",
        "outputId": "13e4fc4c-1d43-4d7b-fe8c-50427ad3e77c"
      },
      "execution_count": null,
      "outputs": [
        {
          "output_type": "execute_result",
          "data": {
            "text/plain": [
              "<matplotlib.axes._subplots.AxesSubplot at 0x7ff1ee6c9290>"
            ]
          },
          "metadata": {},
          "execution_count": 58
        },
        {
          "output_type": "display_data",
          "data": {
            "text/plain": [
              "<Figure size 432x288 with 1 Axes>"
            ],
            "image/png": "[encoded data removed]"
          },
          "metadata": {
            "needs_background": "light"
          }
        }
      ]
    },
    {
      "cell_type": "markdown",
      "source": [
        "### Dataset de arbolado "
      ],
      "metadata": {
        "id": "yZ30cdFfcvXn"
      }
    },
    {
      "cell_type": "code",
      "source": [
        "# Hecho"
      ],
      "metadata": {
        "id": "NFsv3JjG_rV1"
      },
      "execution_count": null,
      "outputs": []
    },
    {
      "cell_type": "code",
      "source": [
        "import pandas as pd "
      ],
      "metadata": {
        "id": "fdSxSw0Zcxwh"
      },
      "execution_count": null,
      "outputs": []
    },
    {
      "cell_type": "code",
      "source": [
        "arbolado = pd.read_csv(\"http://cdn.buenosaires.gob.ar/datosabiertos/datasets/arbolado-publico-lineal/arbolado-publico-lineal.csv\")\n",
        "arbolado.sample(2)"
      ],
      "metadata": {
        "id": "xrOwx4Guc9yc",
        "colab": {
          "base_uri": "https://localhost:8080/",
          "height": 246
        },
        "outputId": "8faa1232-87aa-43f6-bc82-7a4f6520b629"
      },
      "execution_count": null,
      "outputs": [
        {
          "output_type": "execute_result",
          "data": {
            "text/plain": [
              "             long        lat tipo_sitio  id_arbol  altura_tot  diametro  \\\n",
              "267260 -58.427636 -34.577488      Árbol  34006649           9        42   \n",
              "90535  -58.516288 -34.586609      Árbol    163203           3        10   \n",
              "\n",
              "        inclinacio  id_especie    nombre_fam nombre_gen  \\\n",
              "267260           0          11  Bignoniáceas  Jacarandá   \n",
              "90535            0           6      Moráceas      Ficus   \n",
              "\n",
              "                   nombre_cie nombre_com                     tipo_folla  \\\n",
              "267260  Jacarandá mimosifolia  Jacarandá  Árbol Latifoliado Caducifolio   \n",
              "90535         Ficus benjamina      Ficus      Árbol Latifoliado Perenne   \n",
              "\n",
              "                  origen codigo_man        barrio  comuna            calle  \\\n",
              "267260  Nativo/Autóctono     23-068       PALERMO      14     Santa Fe Av.   \n",
              "90535            Exótico    83-183B  VILLA DEVOTO      11  Lamarca, Emilio   \n",
              "\n",
              "        chapa1  chapa2  \n",
              "267260       0       0  \n",
              "90535     5397       0  "
            ],
            "text/html": [
              "\n",
              "  <div id=\"df-2530b150-f0ce-4aeb-bd25-097ec37f78dc\">\n",
              "    <div class=\"colab-df-container\">\n",
              "      <div>\n",
              "<style scoped>\n",
              "    .dataframe tbody tr th:only-of-type {\n",
              "        vertical-align: middle;\n",
              "    }\n",
              "\n",
              "    .dataframe tbody tr th {\n",
              "        vertical-align: top;\n",
              "    }\n",
              "\n",
              "    .dataframe thead th {\n",
              "        text-align: right;\n",
              "    }\n",
              "</style>\n",
              "<table border=\"1\" class=\"dataframe\">\n",
              "  <thead>\n",
              "    <tr style=\"text-align: right;\">\n",
              "      <th></th>\n",
              "      <th>long</th>\n",
              "      <th>lat</th>\n",
              "      <th>tipo_sitio</th>\n",
              "      <th>id_arbol</th>\n",
              "      <th>altura_tot</th>\n",
              "      <th>diametro</th>\n",
              "      <th>inclinacio</th>\n",
              "      <th>id_especie</th>\n",
              "      <th>nombre_fam</th>\n",
              "      <th>nombre_gen</th>\n",
              "      <th>nombre_cie</th>\n",
              "      <th>nombre_com</th>\n",
              "      <th>tipo_folla</th>\n",
              "      <th>origen</th>\n",
              "      <th>codigo_man</th>\n",
              "      <th>barrio</th>\n",
              "      <th>comuna</th>\n",
              "      <th>calle</th>\n",
              "      <th>chapa1</th>\n",
              "      <th>chapa2</th>\n",
              "    </tr>\n",
              "  </thead>\n",
              "  <tbody>\n",
              "    <tr>\n",
              "      <th>267260</th>\n",
              "      <td>-58.427636</td>\n",
              "      <td>-34.577488</td>\n",
              "      <td>Árbol</td>\n",
              "      <td>34006649</td>\n",
              "      <td>9</td>\n",
              "      <td>42</td>\n",
              "      <td>0</td>\n",
              "      <td>11</td>\n",
              "      <td>Bignoniáceas</td>\n",
              "      <td>Jacarandá</td>\n",
              "      <td>Jacarandá mimosifolia</td>\n",
              "      <td>Jacarandá</td>\n",
              "      <td>Árbol Latifoliado Caducifolio</td>\n",
              "      <td>Nativo/Autóctono</td>\n",
              "      <td>23-068</td>\n",
              "      <td>PALERMO</td>\n",
              "      <td>14</td>\n",
              "      <td>Santa Fe Av.</td>\n",
              "      <td>0</td>\n",
              "      <td>0</td>\n",
              "    </tr>\n",
              "    <tr>\n",
              "      <th>90535</th>\n",
              "      <td>-58.516288</td>\n",
              "      <td>-34.586609</td>\n",
              "      <td>Árbol</td>\n",
              "      <td>163203</td>\n",
              "      <td>3</td>\n",
              "      <td>10</td>\n",
              "      <td>0</td>\n",
              "      <td>6</td>\n",
              "      <td>Moráceas</td>\n",
              "      <td>Ficus</td>\n",
              "      <td>Ficus benjamina</td>\n",
              "      <td>Ficus</td>\n",
              "      <td>Árbol Latifoliado Perenne</td>\n",
              "      <td>Exótico</td>\n",
              "      <td>83-183B</td>\n",
              "      <td>VILLA DEVOTO</td>\n",
              "      <td>11</td>\n",
              "      <td>Lamarca, Emilio</td>\n",
              "      <td>5397</td>\n",
              "      <td>0</td>\n",
              "    </tr>\n",
              "  </tbody>\n",
              "</table>\n",
              "</div>\n",
              "      <button class=\"colab-df-convert\" onclick=\"convertToInteractive('df-2530b150-f0ce-4aeb-bd25-097ec37f78dc')\"\n",
              "              title=\"Convert this dataframe to an interactive table.\"\n",
              "              style=\"display:none;\">\n",
              "        \n",
              "  <svg xmlns=\"http://www.w3.org/2000/svg\" height=\"24px\"viewBox=\"0 0 24 24\"\n",
              "       width=\"24px\">\n",
              "    <path d=\"M0 0h24v24H0V0z\" fill=\"none\"/>\n",
              "    <path d=\"M18.56 5.44l.94 2.06.94-2.06 2.06-.94-2.06-.94-.94-2.06-.94 2.06-2.06.94zm-11 1L8.5 8.5l.94-2.06 2.06-.94-2.06-.94L8.5 2.5l-.94 2.06-2.06.94zm10 10l.94 2.06.94-2.06 2.06-.94-2.06-.94-.94-2.06-.94 2.06-2.06.94z\"/><path d=\"M17.41 7.96l-1.37-1.37c-.4-.4-.92-.59-1.43-.59-.52 0-1.04.2-1.43.59L10.3 9.45l-7.72 7.72c-.78.78-.78 2.05 0 2.83L4 21.41c.39.39.9.59 1.41.59.51 0 1.02-.2 1.41-.59l7.78-7.78 2.81-2.81c.8-.78.8-2.07 0-2.86zM5.41 20L4 18.59l7.72-7.72 1.47 1.35L5.41 20z\"/>\n",
              "  </svg>\n",
              "      </button>\n",
              "      \n",
              "  <style>\n",
              "    .colab-df-container {\n",
              "      display:flex;\n",
              "      flex-wrap:wrap;\n",
              "      gap: 12px;\n",
              "    }\n",
              "\n",
              "    .colab-df-convert {\n",
              "      background-color: #E8F0FE;\n",
              "      border: none;\n",
              "      border-radius: 50%;\n",
              "      cursor: pointer;\n",
              "      display: none;\n",
              "      fill: #1967D2;\n",
              "      height: 32px;\n",
              "      padding: 0 0 0 0;\n",
              "      width: 32px;\n",
              "    }\n",
              "\n",
              "    .colab-df-convert:hover {\n",
              "      background-color: #E2EBFA;\n",
              "      box-shadow: 0px 1px 2px rgba(60, 64, 67, 0.3), 0px 1px 3px 1px rgba(60, 64, 67, 0.15);\n",
              "      fill: #174EA6;\n",
              "    }\n",
              "\n",
              "    [theme=dark] .colab-df-convert {\n",
              "      background-color: #3B4455;\n",
              "      fill: #D2E3FC;\n",
              "    }\n",
              "\n",
              "    [theme=dark] .colab-df-convert:hover {\n",
              "      background-color: #434B5C;\n",
              "      box-shadow: 0px 1px 3px 1px rgba(0, 0, 0, 0.15);\n",
              "      filter: drop-shadow(0px 1px 2px rgba(0, 0, 0, 0.3));\n",
              "      fill: #FFFFFF;\n",
              "    }\n",
              "  </style>\n",
              "\n",
              "      <script>\n",
              "        const buttonEl =\n",
              "          document.querySelector('#df-2530b150-f0ce-4aeb-bd25-097ec37f78dc button.colab-df-convert');\n",
              "        buttonEl.style.display =\n",
              "          google.colab.kernel.accessAllowed ? 'block' : 'none';\n",
              "\n",
              "        async function convertToInteractive(key) {\n",
              "          const element = document.querySelector('#df-2530b150-f0ce-4aeb-bd25-097ec37f78dc');\n",
              "          const dataTable =\n",
              "            await google.colab.kernel.invokeFunction('convertToInteractive',\n",
              "                                                     [key], {});\n",
              "          if (!dataTable) return;\n",
              "\n",
              "          const docLinkHtml = 'Like what you see? Visit the ' +\n",
              "            '<a target=\"_blank\" href=https://colab.research.google.com/notebooks/data_table.ipynb>data table notebook</a>'\n",
              "            + ' to learn more about interactive tables.';\n",
              "          element.innerHTML = '';\n",
              "          dataTable['output_type'] = 'display_data';\n",
              "          await google.colab.output.renderOutput(dataTable, element);\n",
              "          const docLink = document.createElement('div');\n",
              "          docLink.innerHTML = docLinkHtml;\n",
              "          element.appendChild(docLink);\n",
              "        }\n",
              "      </script>\n",
              "    </div>\n",
              "  </div>\n",
              "  "
            ]
          },
          "metadata": {},
          "execution_count": 236
        }
      ]
    },
    {
      "cell_type": "markdown",
      "source": [
        "**Ejercicio 1**\n",
        "\n",
        "Cargar el dataset http://cdn.buenosaires.gob.ar/datosabiertos/datasets/arbolado-publico-lineal/arbolado-publico-lineal.csv y obtener la cantidad de árboles por cada barrio."
      ],
      "metadata": {
        "id": "3F4HgXIc68rb"
      }
    },
    {
      "cell_type": "code",
      "source": [
        "# 1. cantidad de árboles por cada barrio \n",
        "arbolado.value_counts('barrio') "
      ],
      "metadata": {
        "colab": {
          "base_uri": "https://localhost:8080/"
        },
        "id": "UfHhZJ1h7AgL",
        "outputId": "058f3867-aa31-4ecd-803a-f8269833aadc"
      },
      "execution_count": null,
      "outputs": [
        {
          "output_type": "execute_result",
          "data": {
            "text/plain": [
              "barrio\n",
              "PALERMO              22483\n",
              "MATADEROS            18289\n",
              "VILLA DEVOTO         17538\n",
              "CABALLITO            15660\n",
              "FLORES               15278\n",
              "VILLA URQUIZA        14493\n",
              "BELGRANO             13991\n",
              "VILLA LUGANO         13863\n",
              "SAAVEDRA             11066\n",
              "LINIERS              10597\n",
              "BARRACAS             10133\n",
              "PARQUE AVELLANEDA     9961\n",
              "NUEVA POMPEYA         9869\n",
              "PARQUE CHACABUCO      9544\n",
              "ALMAGRO               8248\n",
              "VILLA PUEYRREDON      8239\n",
              "RECOLETA              8079\n",
              "VILLA CRESPO          8047\n",
              "VILLA DEL PARQUE      7873\n",
              "NUÑEZ                 7721\n",
              "BALVANERA             7635\n",
              "MONTE CASTRO          7424\n",
              "PARQUE PATRICIOS      6742\n",
              "BOEDO                 6369\n",
              "VILLA LURO            6351\n",
              "VELEZ SARSFIELD       6317\n",
              "FLORESTA              6114\n",
              "COLEGIALES            6089\n",
              "VILLA SANTA RITA      5923\n",
              "VILLA SOLDATI         5856\n",
              "BOCA                  5473\n",
              "CHACARITA             5426\n",
              "VILLA RIACHUELO       5094\n",
              "VILLA GRAL. MITRE     5082\n",
              "SAN CRISTOBAL         4835\n",
              "VILLA ORTUZAR         4536\n",
              "PARQUE CHAS           4507\n",
              "PATERNAL              4150\n",
              "VERSALLES             4024\n",
              "VILLA REAL            3885\n",
              "COGHLAN               3751\n",
              "CONSTITUCION          3599\n",
              "AGRONOMIA             3194\n",
              "RETIRO                2499\n",
              "PUERTO MADERO         2382\n",
              "MONSERRAT             2020\n",
              "SAN TELMO             1383\n",
              "SAN NICOLAS            989\n",
              "Dique 1                 54\n",
              "Dique 3                 22\n",
              "Dique 4                  2\n",
              "dtype: int64"
            ]
          },
          "metadata": {},
          "execution_count": 237
        }
      ]
    },
    {
      "cell_type": "markdown",
      "source": [
        "**Ejercicio 2**\n",
        "\n",
        "Utilizando el dataset anterior, obtener la altura máxima de árboles por barrio. "
      ],
      "metadata": {
        "id": "XOGoXyVk7HUw"
      }
    },
    {
      "cell_type": "code",
      "source": [
        "# 2. altura máxima de árboles por barrio\n",
        "arbolado.groupby('barrio')['altura_tot'].max() "
      ],
      "metadata": {
        "colab": {
          "base_uri": "https://localhost:8080/"
        },
        "id": "ecsVCDdL7IlP",
        "outputId": "149b1cfc-9c8c-4b0e-bfce-2d401a6520ee"
      },
      "execution_count": null,
      "outputs": [
        {
          "output_type": "execute_result",
          "data": {
            "text/plain": [
              "barrio\n",
              "AGRONOMIA            57\n",
              "ALMAGRO              60\n",
              "BALVANERA            46\n",
              "BARRACAS             48\n",
              "BELGRANO             60\n",
              "BOCA                 49\n",
              "BOEDO                60\n",
              "CABALLITO            60\n",
              "CHACARITA            50\n",
              "COGHLAN              40\n",
              "COLEGIALES           57\n",
              "CONSTITUCION         28\n",
              "Dique 1               6\n",
              "Dique 3              12\n",
              "Dique 4              12\n",
              "FLORES               60\n",
              "FLORESTA             55\n",
              "LINIERS              60\n",
              "MATADEROS            60\n",
              "MONSERRAT            41\n",
              "MONTE CASTRO         60\n",
              "NUEVA POMPEYA        58\n",
              "NUÑEZ                39\n",
              "PALERMO              53\n",
              "PARQUE AVELLANEDA    60\n",
              "PARQUE CHACABUCO     60\n",
              "PARQUE CHAS          46\n",
              "PARQUE PATRICIOS     47\n",
              "PATERNAL             57\n",
              "PUERTO MADERO        35\n",
              "RECOLETA             60\n",
              "RETIRO               42\n",
              "SAAVEDRA             30\n",
              "SAN CRISTOBAL        41\n",
              "SAN NICOLAS          28\n",
              "SAN TELMO            60\n",
              "VELEZ SARSFIELD      33\n",
              "VERSALLES            35\n",
              "VILLA CRESPO         60\n",
              "VILLA DEL PARQUE     24\n",
              "VILLA DEVOTO         60\n",
              "VILLA GRAL. MITRE    48\n",
              "VILLA LUGANO         60\n",
              "VILLA LURO           60\n",
              "VILLA ORTUZAR        28\n",
              "VILLA PUEYRREDON     47\n",
              "VILLA REAL           43\n",
              "VILLA RIACHUELO      56\n",
              "VILLA SANTA RITA     26\n",
              "VILLA SOLDATI        40\n",
              "VILLA URQUIZA        42\n",
              "Name: altura_tot, dtype: int64"
            ]
          },
          "metadata": {},
          "execution_count": 238
        }
      ]
    },
    {
      "cell_type": "markdown",
      "source": [
        "**Ejercicio 3**\n",
        "\n",
        "Desarrollar una función que dado una lista de árboles (representados como diccionarios con la misma estructura que el dataframe anterior) y un barrio (un string), devuelva aquellos que estén en ese barrio."
      ],
      "metadata": {
        "id": "5HqUgRUd7LYu"
      }
    },
    {
      "cell_type": "code",
      "source": [
        "lista_arboles = arbolado.to_dict('records') \n",
        "def en_el_barrio(lista_arboles, barrio): \n",
        "  afirmativos = [] \n",
        "  for arbol in lista_arboles: \n",
        "    if arbol['barrio'] == barrio: \n",
        "      afirmativos.append(arbol['id_arbol'])\n",
        "  return afirmativos "
      ],
      "metadata": {
        "id": "tAUOWQYm7QOx"
      },
      "execution_count": null,
      "outputs": []
    },
    {
      "cell_type": "code",
      "source": [
        "en_el_barrio(lista_arboles, 'Dique 4')"
      ],
      "metadata": {
        "colab": {
          "base_uri": "https://localhost:8080/"
        },
        "id": "HFAz_AVN7Uah",
        "outputId": "2c3fd458-6df2-4d24-db40-70d9ff736e73"
      },
      "execution_count": null,
      "outputs": [
        {
          "output_type": "execute_result",
          "data": {
            "text/plain": [
              "[81911, 81912]"
            ]
          },
          "metadata": {},
          "execution_count": 240
        }
      ]
    },
    {
      "cell_type": "markdown",
      "source": [
        "**Ejercicio 4**\n",
        "\n",
        "Desarrollar una función que dado una lista de árboles (representados como diccionarios con la misma estructura que el dataframe anterior) y un barrio (un string), devuelva el promedio de las alturas de aquellos están en ese barrio y tengan diámetro y altura mayor a 0. \n",
        "\n",
        "Hacerlo reutilizando la función del punto anterior. "
      ],
      "metadata": {
        "id": "zF1vO4LK7bG-"
      }
    },
    {
      "cell_type": "code",
      "source": [
        "def altura_promedio_barrial(lista_arboles, barrio): \n",
        "  altura_tot = []\n",
        "  for arbol in lista_arboles: \n",
        "    if en_el_barrio(lista_arboles, barrio): \n",
        "      altura_tot.append(arbol['altura_tot'])\n",
        "  return sum(altura_tot) / len(altura_tot)\n",
        "\n",
        "def altura_supera_promedio(lista_arboles, barrio): \n",
        "  afirmativos = [] \n",
        "  for arbol in lista_arboles: \n",
        "    if en_el_barrio(lista_arboles, barrio): \n",
        "      afirmativos.append(arbol['id_arbol'])\n",
        "  return afirmativos "
      ],
      "metadata": {
        "id": "07cWLlel7c_j"
      },
      "execution_count": null,
      "outputs": []
    },
    {
      "cell_type": "code",
      "source": [
        "altura_supera_promedio(lista_arboles, 'Dique 3')"
      ],
      "metadata": {
        "id": "0T6Kh8nB9VZm"
      },
      "execution_count": null,
      "outputs": []
    },
    {
      "cell_type": "markdown",
      "source": [
        "###Dataset de bicicleteros "
      ],
      "metadata": {
        "id": "PxBVV_RhuYv9"
      }
    },
    {
      "cell_type": "code",
      "source": [
        "# Hecho"
      ],
      "metadata": {
        "id": "jYvHiowrRO9F"
      },
      "execution_count": null,
      "outputs": []
    },
    {
      "cell_type": "code",
      "source": [
        "import pandas as pd"
      ],
      "metadata": {
        "id": "PtYLQAFnubf1"
      },
      "execution_count": null,
      "outputs": []
    },
    {
      "cell_type": "code",
      "source": [
        "bicicleteros = pd.read_csv('''https://cdn.buenosaires.gob.ar/datosabiertos/datasets/transporte-y-obras-publicas/bicicleteros-via-publica/bicicleteros.csv''')\n",
        "bicicleteros.sample(3) "
      ],
      "metadata": {
        "colab": {
          "base_uri": "https://localhost:8080/",
          "height": 277
        },
        "id": "o83Ut8TBvXkw",
        "outputId": "5b534445-1844-497b-e66c-aabe0da55139"
      },
      "execution_count": null,
      "outputs": [
        {
          "output_type": "execute_result",
          "data": {
            "text/plain": [
              "          long        lat   id             nombre  anio_de_in tipo cantidad  \\\n",
              "556 -58.388988 -34.599510  560  BIBLIOTECA GALVEZ        2015   1U        1   \n",
              "122 -58.429160 -34.594995  123              LOCAL        2013   4U        1   \n",
              "109 -58.391714 -34.586598  110        CC RECOLETA        2012   4U        2   \n",
              "\n",
              "       ubicacion                     clasificac        calle  altura calle2  \\\n",
              "556  VIA PUBLICA  EDIFICIO CULTURAL-BIBLIOTECAS  CORDOBA AV.    1558    NaN   \n",
              "122  VIA PUBLICA                    AV. CORDOBA  CORDOBA AV.    4500    NaN   \n",
              "109     INTERIOR           EDIFICIOS CULTURALES        JUNIN    1930    NaN   \n",
              "\n",
              "           barrio     comuna  codigo_postal codigo_postal_argentino  \n",
              "556   San Nicolas   Comuna 1         1055.0                C1055AAS  \n",
              "122  Villa Crespo  Comuna 15         1414.0                C1414BAP  \n",
              "109      Recoleta   Comuna 2         1113.0                C1113AAX  "
            ],
            "text/html": [
              "\n",
              "  <div id=\"df-15b9011f-fa80-4a29-a10c-9b6940f2fd00\">\n",
              "    <div class=\"colab-df-container\">\n",
              "      <div>\n",
              "<style scoped>\n",
              "    .dataframe tbody tr th:only-of-type {\n",
              "        vertical-align: middle;\n",
              "    }\n",
              "\n",
              "    .dataframe tbody tr th {\n",
              "        vertical-align: top;\n",
              "    }\n",
              "\n",
              "    .dataframe thead th {\n",
              "        text-align: right;\n",
              "    }\n",
              "</style>\n",
              "<table border=\"1\" class=\"dataframe\">\n",
              "  <thead>\n",
              "    <tr style=\"text-align: right;\">\n",
              "      <th></th>\n",
              "      <th>long</th>\n",
              "      <th>lat</th>\n",
              "      <th>id</th>\n",
              "      <th>nombre</th>\n",
              "      <th>anio_de_in</th>\n",
              "      <th>tipo</th>\n",
              "      <th>cantidad</th>\n",
              "      <th>ubicacion</th>\n",
              "      <th>clasificac</th>\n",
              "      <th>calle</th>\n",
              "      <th>altura</th>\n",
              "      <th>calle2</th>\n",
              "      <th>barrio</th>\n",
              "      <th>comuna</th>\n",
              "      <th>codigo_postal</th>\n",
              "      <th>codigo_postal_argentino</th>\n",
              "    </tr>\n",
              "  </thead>\n",
              "  <tbody>\n",
              "    <tr>\n",
              "      <th>556</th>\n",
              "      <td>-58.388988</td>\n",
              "      <td>-34.599510</td>\n",
              "      <td>560</td>\n",
              "      <td>BIBLIOTECA GALVEZ</td>\n",
              "      <td>2015</td>\n",
              "      <td>1U</td>\n",
              "      <td>1</td>\n",
              "      <td>VIA PUBLICA</td>\n",
              "      <td>EDIFICIO CULTURAL-BIBLIOTECAS</td>\n",
              "      <td>CORDOBA AV.</td>\n",
              "      <td>1558</td>\n",
              "      <td>NaN</td>\n",
              "      <td>San Nicolas</td>\n",
              "      <td>Comuna 1</td>\n",
              "      <td>1055.0</td>\n",
              "      <td>C1055AAS</td>\n",
              "    </tr>\n",
              "    <tr>\n",
              "      <th>122</th>\n",
              "      <td>-58.429160</td>\n",
              "      <td>-34.594995</td>\n",
              "      <td>123</td>\n",
              "      <td>LOCAL</td>\n",
              "      <td>2013</td>\n",
              "      <td>4U</td>\n",
              "      <td>1</td>\n",
              "      <td>VIA PUBLICA</td>\n",
              "      <td>AV. CORDOBA</td>\n",
              "      <td>CORDOBA AV.</td>\n",
              "      <td>4500</td>\n",
              "      <td>NaN</td>\n",
              "      <td>Villa Crespo</td>\n",
              "      <td>Comuna 15</td>\n",
              "      <td>1414.0</td>\n",
              "      <td>C1414BAP</td>\n",
              "    </tr>\n",
              "    <tr>\n",
              "      <th>109</th>\n",
              "      <td>-58.391714</td>\n",
              "      <td>-34.586598</td>\n",
              "      <td>110</td>\n",
              "      <td>CC RECOLETA</td>\n",
              "      <td>2012</td>\n",
              "      <td>4U</td>\n",
              "      <td>2</td>\n",
              "      <td>INTERIOR</td>\n",
              "      <td>EDIFICIOS CULTURALES</td>\n",
              "      <td>JUNIN</td>\n",
              "      <td>1930</td>\n",
              "      <td>NaN</td>\n",
              "      <td>Recoleta</td>\n",
              "      <td>Comuna 2</td>\n",
              "      <td>1113.0</td>\n",
              "      <td>C1113AAX</td>\n",
              "    </tr>\n",
              "  </tbody>\n",
              "</table>\n",
              "</div>\n",
              "      <button class=\"colab-df-convert\" onclick=\"convertToInteractive('df-15b9011f-fa80-4a29-a10c-9b6940f2fd00')\"\n",
              "              title=\"Convert this dataframe to an interactive table.\"\n",
              "              style=\"display:none;\">\n",
              "        \n",
              "  <svg xmlns=\"http://www.w3.org/2000/svg\" height=\"24px\"viewBox=\"0 0 24 24\"\n",
              "       width=\"24px\">\n",
              "    <path d=\"M0 0h24v24H0V0z\" fill=\"none\"/>\n",
              "    <path d=\"M18.56 5.44l.94 2.06.94-2.06 2.06-.94-2.06-.94-.94-2.06-.94 2.06-2.06.94zm-11 1L8.5 8.5l.94-2.06 2.06-.94-2.06-.94L8.5 2.5l-.94 2.06-2.06.94zm10 10l.94 2.06.94-2.06 2.06-.94-2.06-.94-.94-2.06-.94 2.06-2.06.94z\"/><path d=\"M17.41 7.96l-1.37-1.37c-.4-.4-.92-.59-1.43-.59-.52 0-1.04.2-1.43.59L10.3 9.45l-7.72 7.72c-.78.78-.78 2.05 0 2.83L4 21.41c.39.39.9.59 1.41.59.51 0 1.02-.2 1.41-.59l7.78-7.78 2.81-2.81c.8-.78.8-2.07 0-2.86zM5.41 20L4 18.59l7.72-7.72 1.47 1.35L5.41 20z\"/>\n",
              "  </svg>\n",
              "      </button>\n",
              "      \n",
              "  <style>\n",
              "    .colab-df-container {\n",
              "      display:flex;\n",
              "      flex-wrap:wrap;\n",
              "      gap: 12px;\n",
              "    }\n",
              "\n",
              "    .colab-df-convert {\n",
              "      background-color: #E8F0FE;\n",
              "      border: none;\n",
              "      border-radius: 50%;\n",
              "      cursor: pointer;\n",
              "      display: none;\n",
              "      fill: #1967D2;\n",
              "      height: 32px;\n",
              "      padding: 0 0 0 0;\n",
              "      width: 32px;\n",
              "    }\n",
              "\n",
              "    .colab-df-convert:hover {\n",
              "      background-color: #E2EBFA;\n",
              "      box-shadow: 0px 1px 2px rgba(60, 64, 67, 0.3), 0px 1px 3px 1px rgba(60, 64, 67, 0.15);\n",
              "      fill: #174EA6;\n",
              "    }\n",
              "\n",
              "    [theme=dark] .colab-df-convert {\n",
              "      background-color: #3B4455;\n",
              "      fill: #D2E3FC;\n",
              "    }\n",
              "\n",
              "    [theme=dark] .colab-df-convert:hover {\n",
              "      background-color: #434B5C;\n",
              "      box-shadow: 0px 1px 3px 1px rgba(0, 0, 0, 0.15);\n",
              "      filter: drop-shadow(0px 1px 2px rgba(0, 0, 0, 0.3));\n",
              "      fill: #FFFFFF;\n",
              "    }\n",
              "  </style>\n",
              "\n",
              "      <script>\n",
              "        const buttonEl =\n",
              "          document.querySelector('#df-15b9011f-fa80-4a29-a10c-9b6940f2fd00 button.colab-df-convert');\n",
              "        buttonEl.style.display =\n",
              "          google.colab.kernel.accessAllowed ? 'block' : 'none';\n",
              "\n",
              "        async function convertToInteractive(key) {\n",
              "          const element = document.querySelector('#df-15b9011f-fa80-4a29-a10c-9b6940f2fd00');\n",
              "          const dataTable =\n",
              "            await google.colab.kernel.invokeFunction('convertToInteractive',\n",
              "                                                     [key], {});\n",
              "          if (!dataTable) return;\n",
              "\n",
              "          const docLinkHtml = 'Like what you see? Visit the ' +\n",
              "            '<a target=\"_blank\" href=https://colab.research.google.com/notebooks/data_table.ipynb>data table notebook</a>'\n",
              "            + ' to learn more about interactive tables.';\n",
              "          element.innerHTML = '';\n",
              "          dataTable['output_type'] = 'display_data';\n",
              "          await google.colab.output.renderOutput(dataTable, element);\n",
              "          const docLink = document.createElement('div');\n",
              "          docLink.innerHTML = docLinkHtml;\n",
              "          element.appendChild(docLink);\n",
              "        }\n",
              "      </script>\n",
              "    </div>\n",
              "  </div>\n",
              "  "
            ]
          },
          "metadata": {},
          "execution_count": 6
        }
      ]
    },
    {
      "cell_type": "markdown",
      "source": [
        "* ¿Cuantos se instalaron por año? \n",
        "* ¿Cuántos hay en cada barrio?\n",
        "* ¿Y en cada comunidad?"
      ],
      "metadata": {
        "id": "N47YQpkfv-VO"
      }
    },
    {
      "cell_type": "code",
      "source": [
        "bicicleteros.count()\n",
        "# Cuenta los valores NO NULOS en cada columna \n",
        "#¿Cuantos se instalaron por año?\n",
        "pd.value_counts(bicicleteros['anio_de_in']) \n",
        "#pd.value_counts nos contabiliza la cantidad de repeticiones "
      ],
      "metadata": {
        "colab": {
          "base_uri": "https://localhost:8080/"
        },
        "id": "SZ98VbI0v_F3",
        "outputId": "86711727-0c87-4076-e4ff-37747762abe0"
      },
      "execution_count": null,
      "outputs": [
        {
          "output_type": "execute_result",
          "data": {
            "text/plain": [
              "2013    384\n",
              "2018    124\n",
              "2011    107\n",
              "2015    102\n",
              "2014     68\n",
              "2019     64\n",
              "2017     61\n",
              "2016     15\n",
              "2012     10\n",
              "0         3\n",
              "Name: anio_de_in, dtype: int64"
            ]
          },
          "metadata": {},
          "execution_count": 28
        }
      ]
    },
    {
      "cell_type": "code",
      "source": [
        "#¿Cuántos hay en cada barrio?\n",
        "pd.value_counts(bicicleteros['barrio']) "
      ],
      "metadata": {
        "colab": {
          "base_uri": "https://localhost:8080/"
        },
        "id": "ksKy9WZ-x1Yu",
        "outputId": "dad4a541-47e9-4c8a-8713-46d380b14042"
      },
      "execution_count": null,
      "outputs": [
        {
          "output_type": "execute_result",
          "data": {
            "text/plain": [
              "Palermo              188\n",
              "San Nicolas           79\n",
              "Balvanera             58\n",
              "Almagro               51\n",
              "Recoleta              48\n",
              "Villa Crespo          41\n",
              "Monserrat             37\n",
              "Caballito             36\n",
              "Belgrano              35\n",
              "Villa Lugano          28\n",
              "Barracas              26\n",
              "Flores                22\n",
              "Retiro                20\n",
              "Parque Patricios      19\n",
              "Colegiales            15\n",
              "Parque Avellaneda     14\n",
              "Mataderos             14\n",
              "San Telmo             13\n",
              "Saavedra              12\n",
              "San Cristobal         12\n",
              "Boedo                 12\n",
              "Villa Devoto          12\n",
              "Villa Soldati         11\n",
              "NuÃ±ez                11\n",
              "Chacarita             10\n",
              "Villa Del Parque       9\n",
              "Parque Chacabuco       9\n",
              "La Boca                9\n",
              "Villa Urquiza          9\n",
              "Constitucion           9\n",
              "Monte Castro           7\n",
              "Villa Pueyrredon       6\n",
              "Floresta               6\n",
              "Villa Riachuelo        6\n",
              "Liniers                5\n",
              "Nueva Pompeya          5\n",
              "Parque Chas            5\n",
              "Villa Gral. Mitre      4\n",
              "Villa Santa Rita       4\n",
              "Coghlan                3\n",
              "Agronomia              3\n",
              "Velez Sarsfield        2\n",
              "Villa Ortuzar          2\n",
              "Paternal               2\n",
              "Puerto Madero          2\n",
              "Villa Real             1\n",
              "Villa Luro             1\n",
              "Name: barrio, dtype: int64"
            ]
          },
          "metadata": {},
          "execution_count": 29
        }
      ]
    },
    {
      "cell_type": "code",
      "source": [
        "#¿Y en cada comunidad?\n",
        "pd.value_counts(bicicleteros['comuna'])"
      ],
      "metadata": {
        "colab": {
          "base_uri": "https://localhost:8080/"
        },
        "id": "RIvBf9l0ylFU",
        "outputId": "0b18c11a-f822-4348-9a45-748af03fc8fa"
      },
      "execution_count": null,
      "outputs": [
        {
          "output_type": "execute_result",
          "data": {
            "text/plain": [
              "Comuna 14    188\n",
              "Comuna 1     160\n",
              "Comuna 3      70\n",
              "Comuna 5      63\n",
              "Comuna 15     63\n",
              "Comuna 13     61\n",
              "Comuna 4      59\n",
              "Comuna 2      48\n",
              "Comuna 8      45\n",
              "Comuna 6      36\n",
              "Comuna 9      33\n",
              "Comuna 7      31\n",
              "Comuna 12     30\n",
              "Comuna 11     29\n",
              "Comuna 10     17\n",
              "Name: comuna, dtype: int64"
            ]
          },
          "metadata": {},
          "execution_count": 30
        }
      ]
    },
    {
      "cell_type": "code",
      "source": [
        "bicicleteros.to_dict('records') #función nueva: to_dict con el parámetro 'records'\n",
        "                              # nos permite convertir una tabla (pd) a una lista de diccionarios "
      ],
      "metadata": {
        "id": "wP9ayim3At0O"
      },
      "execution_count": null,
      "outputs": []
    },
    {
      "cell_type": "markdown",
      "source": [
        "**Tarea**\n",
        "* ¿Cuando fue el primero en cada barrio?\n",
        "* ¿Cuál es la cantidad total por barrio? ¿Y en promedio?"
      ],
      "metadata": {
        "id": "KbVEBHXEAnqt"
      }
    },
    {
      "cell_type": "code",
      "source": [
        "#¿Cuando fue el primero en cada barrio?"
      ],
      "metadata": {
        "id": "f_i46C2FjCYK"
      },
      "execution_count": null,
      "outputs": []
    },
    {
      "cell_type": "code",
      "source": [
        "#¿Cuál es la cantidad total por barrio?\n",
        "cada_barrio = bicicleteros.groupby(\"barrio\").cantidad.count()\n",
        "cada_barrio "
      ],
      "metadata": {
        "colab": {
          "base_uri": "https://localhost:8080/"
        },
        "id": "HslaSZgMhugb",
        "outputId": "2b9b9f8c-c9ee-426e-92e5-4f08b34c4e61"
      },
      "execution_count": null,
      "outputs": [
        {
          "output_type": "execute_result",
          "data": {
            "text/plain": [
              "barrio\n",
              "Agronomia              3\n",
              "Almagro               51\n",
              "Balvanera             58\n",
              "Barracas              26\n",
              "Belgrano              35\n",
              "Boedo                 12\n",
              "Caballito             36\n",
              "Chacarita             10\n",
              "Coghlan                3\n",
              "Colegiales            15\n",
              "Constitucion           9\n",
              "Flores                22\n",
              "Floresta               6\n",
              "La Boca                9\n",
              "Liniers                5\n",
              "Mataderos             14\n",
              "Monserrat             37\n",
              "Monte Castro           7\n",
              "Nueva Pompeya          5\n",
              "NuÃ±ez                11\n",
              "Palermo              188\n",
              "Parque Avellaneda     14\n",
              "Parque Chacabuco       9\n",
              "Parque Chas            5\n",
              "Parque Patricios      19\n",
              "Paternal               2\n",
              "Puerto Madero          2\n",
              "Recoleta              48\n",
              "Retiro                20\n",
              "Saavedra              12\n",
              "San Cristobal         12\n",
              "San Nicolas           79\n",
              "San Telmo             13\n",
              "Velez Sarsfield        2\n",
              "Villa Crespo          41\n",
              "Villa Del Parque       9\n",
              "Villa Devoto          12\n",
              "Villa Gral. Mitre      4\n",
              "Villa Lugano          28\n",
              "Villa Luro             1\n",
              "Villa Ortuzar          2\n",
              "Villa Pueyrredon       6\n",
              "Villa Real             1\n",
              "Villa Riachuelo        6\n",
              "Villa Santa Rita       4\n",
              "Villa Soldati         11\n",
              "Villa Urquiza          9\n",
              "Name: cantidad, dtype: int64"
            ]
          },
          "metadata": {},
          "execution_count": 11
        }
      ]
    },
    {
      "cell_type": "code",
      "source": [
        "#¿Y en promedio? (por barrio)\n",
        "cada_barrio.mean()"
      ],
      "metadata": {
        "colab": {
          "base_uri": "https://localhost:8080/"
        },
        "id": "PRXzM092ixgE",
        "outputId": "52a86d16-2f0c-49b3-a4a0-70c90486042d"
      },
      "execution_count": null,
      "outputs": [
        {
          "output_type": "execute_result",
          "data": {
            "text/plain": [
              "19.851063829787233"
            ]
          },
          "metadata": {},
          "execution_count": 9
        }
      ]
    },
    {
      "cell_type": "markdown",
      "source": [
        "### Dataset de distrito tec. "
      ],
      "metadata": {
        "id": "W5-3WMRmO89b"
      }
    },
    {
      "cell_type": "code",
      "source": [
        "# Hecho"
      ],
      "metadata": {
        "id": "dz_2t8mvRNSj"
      },
      "execution_count": null,
      "outputs": []
    },
    {
      "cell_type": "markdown",
      "source": [
        "**Distrinto Tecnólogico**\n",
        "\n",
        "En CABA existe el Distrito Tecnológico; la intención del estado es mover empresas tecnológicas allí. Buscá en la página de datos abiertos de Buenos Aires un dataset sobre las empresas del mismo y en base a sus datos, respondé:\n",
        "\n",
        "1. ¿En que año comenzó este plan del gobierno?\n",
        "2. ¿Qué tipos de empresas hay? ¿Cuantas empresas hay en este momento de cada tipo?\n",
        "3. ¿En qué años se instalaron cada una de estas empresas? \n",
        "4. ¿Hay algún año en que se hayan instalado más?  ¿Hay algún año en que se hayan instalado menos? ¿Cuántas se instalaron cada año?\n",
        "5. ¿Cuántas empresas nacionales vs extrajeras se instalaron cada año?\n",
        "6. ¿Vemos alguna tendencia?"
      ],
      "metadata": {
        "id": "9Af9liECPCFZ"
      }
    },
    {
      "cell_type": "code",
      "source": [
        "import pandas as pd\n",
        "empresas_tecno = pd.read_csv('https://cdn.buenosaires.gob.ar/datosabiertos/datasets/empresas-distrito-tecnologico/empresas-del-distrito-tecnologico.csv')\n",
        "empresas_tecno.sample(5) "
      ],
      "metadata": {
        "id": "ssYEj5tLQOUU",
        "colab": {
          "base_uri": "https://localhost:8080/",
          "height": 357
        },
        "outputId": "1509e622-39f4-4162-922f-4e13ec62fe56"
      },
      "execution_count": null,
      "outputs": [
        {
          "output_type": "execute_result",
          "data": {
            "text/plain": [
              "          long        lat   id              nombre    sector      origen  \\\n",
              "290 -58.411517 -34.634470  309             SION SA  SOFTWARE    Nacional   \n",
              "181 -58.399081 -34.636169  183                 TDI  SOFTWARE    Nacional   \n",
              "247 -58.406244 -34.637106  266              HUAWEI  SOFTWARE  Extranjero   \n",
              "125 -58.406580 -34.642174  127            DEDALORD  SOFTWARE    Nacional   \n",
              "28  -58.405833 -34.637081   29  CAPTTON CONSULTING       BPO    Nacional   \n",
              "\n",
              "       grado_de_a  fecha_de_i año_de_i mes_de_i jurisdicci         calle  \\\n",
              "290  En Operación         NaN        -        -       CABA      Chiclana   \n",
              "181  En Operación      ene-16     2016       01       CABA   Av. Caseros   \n",
              "247       En Obra  Marzo 2017     2017       03       CABA   Av. Caseros   \n",
              "125  En Operación      sep-14     2014       09       CABA  PEDRO CHUTRO   \n",
              "28   En Operación      jun-10     2010       06       CABA      LA RIOJA   \n",
              "\n",
              "     altura    piso_dpto calle2            barrio    comuna  codigo_postal  \\\n",
              "290    3345          NaN    NaN             Boedo  Comuna 5         1260.0   \n",
              "181    2602       Piso 3    NaN  Parque Patricios  Comuna 4         1264.0   \n",
              "247    3031          NaN    NaN  Parque Patricios  Comuna 4         1264.0   \n",
              "125    3135       of 101    NaN  Parque Patricios  Comuna 4         1437.0   \n",
              "28     2197  Piso 1 of 3    NaN  Parque Patricios  Comuna 4         1244.0   \n",
              "\n",
              "    codigo_postal_argentino  \n",
              "290                C1260ACA  \n",
              "181                C1264AAT  \n",
              "247                C1264AAK  \n",
              "125                C1437IYK  \n",
              "28                 C1244ABS  "
            ],
            "text/html": [
              "\n",
              "  <div id=\"df-feae90af-2c33-4463-b156-5030f44e35e1\">\n",
              "    <div class=\"colab-df-container\">\n",
              "      <div>\n",
              "<style scoped>\n",
              "    .dataframe tbody tr th:only-of-type {\n",
              "        vertical-align: middle;\n",
              "    }\n",
              "\n",
              "    .dataframe tbody tr th {\n",
              "        vertical-align: top;\n",
              "    }\n",
              "\n",
              "    .dataframe thead th {\n",
              "        text-align: right;\n",
              "    }\n",
              "</style>\n",
              "<table border=\"1\" class=\"dataframe\">\n",
              "  <thead>\n",
              "    <tr style=\"text-align: right;\">\n",
              "      <th></th>\n",
              "      <th>long</th>\n",
              "      <th>lat</th>\n",
              "      <th>id</th>\n",
              "      <th>nombre</th>\n",
              "      <th>sector</th>\n",
              "      <th>origen</th>\n",
              "      <th>grado_de_a</th>\n",
              "      <th>fecha_de_i</th>\n",
              "      <th>año_de_i</th>\n",
              "      <th>mes_de_i</th>\n",
              "      <th>jurisdicci</th>\n",
              "      <th>calle</th>\n",
              "      <th>altura</th>\n",
              "      <th>piso_dpto</th>\n",
              "      <th>calle2</th>\n",
              "      <th>barrio</th>\n",
              "      <th>comuna</th>\n",
              "      <th>codigo_postal</th>\n",
              "      <th>codigo_postal_argentino</th>\n",
              "    </tr>\n",
              "  </thead>\n",
              "  <tbody>\n",
              "    <tr>\n",
              "      <th>290</th>\n",
              "      <td>-58.411517</td>\n",
              "      <td>-34.634470</td>\n",
              "      <td>309</td>\n",
              "      <td>SION SA</td>\n",
              "      <td>SOFTWARE</td>\n",
              "      <td>Nacional</td>\n",
              "      <td>En Operación</td>\n",
              "      <td>NaN</td>\n",
              "      <td>-</td>\n",
              "      <td>-</td>\n",
              "      <td>CABA</td>\n",
              "      <td>Chiclana</td>\n",
              "      <td>3345</td>\n",
              "      <td>NaN</td>\n",
              "      <td>NaN</td>\n",
              "      <td>Boedo</td>\n",
              "      <td>Comuna 5</td>\n",
              "      <td>1260.0</td>\n",
              "      <td>C1260ACA</td>\n",
              "    </tr>\n",
              "    <tr>\n",
              "      <th>181</th>\n",
              "      <td>-58.399081</td>\n",
              "      <td>-34.636169</td>\n",
              "      <td>183</td>\n",
              "      <td>TDI</td>\n",
              "      <td>SOFTWARE</td>\n",
              "      <td>Nacional</td>\n",
              "      <td>En Operación</td>\n",
              "      <td>ene-16</td>\n",
              "      <td>2016</td>\n",
              "      <td>01</td>\n",
              "      <td>CABA</td>\n",
              "      <td>Av. Caseros</td>\n",
              "      <td>2602</td>\n",
              "      <td>Piso 3</td>\n",
              "      <td>NaN</td>\n",
              "      <td>Parque Patricios</td>\n",
              "      <td>Comuna 4</td>\n",
              "      <td>1264.0</td>\n",
              "      <td>C1264AAT</td>\n",
              "    </tr>\n",
              "    <tr>\n",
              "      <th>247</th>\n",
              "      <td>-58.406244</td>\n",
              "      <td>-34.637106</td>\n",
              "      <td>266</td>\n",
              "      <td>HUAWEI</td>\n",
              "      <td>SOFTWARE</td>\n",
              "      <td>Extranjero</td>\n",
              "      <td>En Obra</td>\n",
              "      <td>Marzo 2017</td>\n",
              "      <td>2017</td>\n",
              "      <td>03</td>\n",
              "      <td>CABA</td>\n",
              "      <td>Av. Caseros</td>\n",
              "      <td>3031</td>\n",
              "      <td>NaN</td>\n",
              "      <td>NaN</td>\n",
              "      <td>Parque Patricios</td>\n",
              "      <td>Comuna 4</td>\n",
              "      <td>1264.0</td>\n",
              "      <td>C1264AAK</td>\n",
              "    </tr>\n",
              "    <tr>\n",
              "      <th>125</th>\n",
              "      <td>-58.406580</td>\n",
              "      <td>-34.642174</td>\n",
              "      <td>127</td>\n",
              "      <td>DEDALORD</td>\n",
              "      <td>SOFTWARE</td>\n",
              "      <td>Nacional</td>\n",
              "      <td>En Operación</td>\n",
              "      <td>sep-14</td>\n",
              "      <td>2014</td>\n",
              "      <td>09</td>\n",
              "      <td>CABA</td>\n",
              "      <td>PEDRO CHUTRO</td>\n",
              "      <td>3135</td>\n",
              "      <td>of 101</td>\n",
              "      <td>NaN</td>\n",
              "      <td>Parque Patricios</td>\n",
              "      <td>Comuna 4</td>\n",
              "      <td>1437.0</td>\n",
              "      <td>C1437IYK</td>\n",
              "    </tr>\n",
              "    <tr>\n",
              "      <th>28</th>\n",
              "      <td>-58.405833</td>\n",
              "      <td>-34.637081</td>\n",
              "      <td>29</td>\n",
              "      <td>CAPTTON CONSULTING</td>\n",
              "      <td>BPO</td>\n",
              "      <td>Nacional</td>\n",
              "      <td>En Operación</td>\n",
              "      <td>jun-10</td>\n",
              "      <td>2010</td>\n",
              "      <td>06</td>\n",
              "      <td>CABA</td>\n",
              "      <td>LA RIOJA</td>\n",
              "      <td>2197</td>\n",
              "      <td>Piso 1 of 3</td>\n",
              "      <td>NaN</td>\n",
              "      <td>Parque Patricios</td>\n",
              "      <td>Comuna 4</td>\n",
              "      <td>1244.0</td>\n",
              "      <td>C1244ABS</td>\n",
              "    </tr>\n",
              "  </tbody>\n",
              "</table>\n",
              "</div>\n",
              "      <button class=\"colab-df-convert\" onclick=\"convertToInteractive('df-feae90af-2c33-4463-b156-5030f44e35e1')\"\n",
              "              title=\"Convert this dataframe to an interactive table.\"\n",
              "              style=\"display:none;\">\n",
              "        \n",
              "  <svg xmlns=\"http://www.w3.org/2000/svg\" height=\"24px\"viewBox=\"0 0 24 24\"\n",
              "       width=\"24px\">\n",
              "    <path d=\"M0 0h24v24H0V0z\" fill=\"none\"/>\n",
              "    <path d=\"M18.56 5.44l.94 2.06.94-2.06 2.06-.94-2.06-.94-.94-2.06-.94 2.06-2.06.94zm-11 1L8.5 8.5l.94-2.06 2.06-.94-2.06-.94L8.5 2.5l-.94 2.06-2.06.94zm10 10l.94 2.06.94-2.06 2.06-.94-2.06-.94-.94-2.06-.94 2.06-2.06.94z\"/><path d=\"M17.41 7.96l-1.37-1.37c-.4-.4-.92-.59-1.43-.59-.52 0-1.04.2-1.43.59L10.3 9.45l-7.72 7.72c-.78.78-.78 2.05 0 2.83L4 21.41c.39.39.9.59 1.41.59.51 0 1.02-.2 1.41-.59l7.78-7.78 2.81-2.81c.8-.78.8-2.07 0-2.86zM5.41 20L4 18.59l7.72-7.72 1.47 1.35L5.41 20z\"/>\n",
              "  </svg>\n",
              "      </button>\n",
              "      \n",
              "  <style>\n",
              "    .colab-df-container {\n",
              "      display:flex;\n",
              "      flex-wrap:wrap;\n",
              "      gap: 12px;\n",
              "    }\n",
              "\n",
              "    .colab-df-convert {\n",
              "      background-color: #E8F0FE;\n",
              "      border: none;\n",
              "      border-radius: 50%;\n",
              "      cursor: pointer;\n",
              "      display: none;\n",
              "      fill: #1967D2;\n",
              "      height: 32px;\n",
              "      padding: 0 0 0 0;\n",
              "      width: 32px;\n",
              "    }\n",
              "\n",
              "    .colab-df-convert:hover {\n",
              "      background-color: #E2EBFA;\n",
              "      box-shadow: 0px 1px 2px rgba(60, 64, 67, 0.3), 0px 1px 3px 1px rgba(60, 64, 67, 0.15);\n",
              "      fill: #174EA6;\n",
              "    }\n",
              "\n",
              "    [theme=dark] .colab-df-convert {\n",
              "      background-color: #3B4455;\n",
              "      fill: #D2E3FC;\n",
              "    }\n",
              "\n",
              "    [theme=dark] .colab-df-convert:hover {\n",
              "      background-color: #434B5C;\n",
              "      box-shadow: 0px 1px 3px 1px rgba(0, 0, 0, 0.15);\n",
              "      filter: drop-shadow(0px 1px 2px rgba(0, 0, 0, 0.3));\n",
              "      fill: #FFFFFF;\n",
              "    }\n",
              "  </style>\n",
              "\n",
              "      <script>\n",
              "        const buttonEl =\n",
              "          document.querySelector('#df-feae90af-2c33-4463-b156-5030f44e35e1 button.colab-df-convert');\n",
              "        buttonEl.style.display =\n",
              "          google.colab.kernel.accessAllowed ? 'block' : 'none';\n",
              "\n",
              "        async function convertToInteractive(key) {\n",
              "          const element = document.querySelector('#df-feae90af-2c33-4463-b156-5030f44e35e1');\n",
              "          const dataTable =\n",
              "            await google.colab.kernel.invokeFunction('convertToInteractive',\n",
              "                                                     [key], {});\n",
              "          if (!dataTable) return;\n",
              "\n",
              "          const docLinkHtml = 'Like what you see? Visit the ' +\n",
              "            '<a target=\"_blank\" href=https://colab.research.google.com/notebooks/data_table.ipynb>data table notebook</a>'\n",
              "            + ' to learn more about interactive tables.';\n",
              "          element.innerHTML = '';\n",
              "          dataTable['output_type'] = 'display_data';\n",
              "          await google.colab.output.renderOutput(dataTable, element);\n",
              "          const docLink = document.createElement('div');\n",
              "          docLink.innerHTML = docLinkHtml;\n",
              "          element.appendChild(docLink);\n",
              "        }\n",
              "      </script>\n",
              "    </div>\n",
              "  </div>\n",
              "  "
            ]
          },
          "metadata": {},
          "execution_count": 266
        }
      ]
    },
    {
      "cell_type": "code",
      "source": [
        "# ¿En que año comenzó este plan del gobierno?\n",
        "empresas_tecno[(empresas_tecno['año_de_i'] != '-')]['año_de_i'].min()"
      ],
      "metadata": {
        "colab": {
          "base_uri": "https://localhost:8080/",
          "height": 35
        },
        "id": "nmA00aYcvkkK",
        "outputId": "df234b35-7658-4593-d389-9a7cc153aea9"
      },
      "execution_count": null,
      "outputs": [
        {
          "output_type": "execute_result",
          "data": {
            "text/plain": [
              "'2009'"
            ],
            "application/vnd.google.colaboratory.intrinsic+json": {
              "type": "string"
            }
          },
          "metadata": {},
          "execution_count": 272
        }
      ]
    },
    {
      "cell_type": "code",
      "source": [
        "# 2. ¿Qué tipos de empresas hay? ¿Cuantas empresas hay en este momento de cada tipo?\n",
        "empresas_tecno.value_counts('sector') "
      ],
      "metadata": {
        "colab": {
          "base_uri": "https://localhost:8080/"
        },
        "id": "LhQ-bEO0SFPp",
        "outputId": "0c55adff-d8a5-40ec-a7b5-70594d6fa212"
      },
      "execution_count": null,
      "outputs": [
        {
          "output_type": "execute_result",
          "data": {
            "text/plain": [
              "sector\n",
              "SOFTWARE       212\n",
              "BPO             63\n",
              "HARDWARE        13\n",
              "e-COMMERCE       6\n",
              "DATA CENTER      5\n",
              "EDUCACION        3\n",
              "INGENIERIA       3\n",
              "DOMOTICA         1\n",
              "dtype: int64"
            ]
          },
          "metadata": {},
          "execution_count": 87
        }
      ]
    },
    {
      "cell_type": "code",
      "source": [
        "# 3. ¿En qué años se instalaron cada una de estas empresas?\n",
        "# 4. ¿Hay algún año en que se hayan instalado más? ¿Hay algún año en que se hayan instalado menos? ¿Cuántas se instalaron cada año?\n",
        "empresas_tecno.groupby('año_de_i').id.count() "
      ],
      "metadata": {
        "colab": {
          "base_uri": "https://localhost:8080/"
        },
        "id": "Fx6-btNKSd-d",
        "outputId": "6d434b0c-51a1-4967-a397-564cc6cb018e"
      },
      "execution_count": null,
      "outputs": [
        {
          "output_type": "execute_result",
          "data": {
            "text/plain": [
              "año_de_i\n",
              "-                  39\n",
              "2009                4\n",
              "2010               11\n",
              "2011               18\n",
              "2012               27\n",
              "2013               25\n",
              "2014               57\n",
              "2015               29\n",
              "2016               33\n",
              "2017               36\n",
              "2018               12\n",
              "2019                4\n",
              "2020                1\n",
              "Previo Ley 2972    10\n",
              "Name: id, dtype: int64"
            ]
          },
          "metadata": {},
          "execution_count": 8
        }
      ]
    },
    {
      "cell_type": "code",
      "source": [
        "# 5. ¿Cuántas empresas nacionales vs extrajeras se instalaron cada año? \n",
        "lista_empresas = empresas_tecno.to_dict('records') "
      ],
      "metadata": {
        "id": "2PNqZ7YEs5IE"
      },
      "execution_count": null,
      "outputs": []
    },
    {
      "cell_type": "code",
      "source": [
        "tabla_comparativa = {}\n",
        "\n",
        "for empresa in lista_empresas: \n",
        "  origen = str.lower(str(empresa[\"origen\"])) # algunos origenes son NaN y por tanto rompen al hacerle lower. \n",
        "                                             # Por eso los convertimos todos a str antes\n",
        "                                             # otra alternativa sería filtrar los origenes nan con dropna antes\n",
        "                                             \n",
        "  if origen in [\"nacional\", \"extranjero\"]: # solo nos van a importar estos dos tipos de origen, los demás los ignoramos\n",
        "    if empresa[\"año_de_i\"] not in tabla_comparativa:\n",
        "      tabla_comparativa[empresa[\"año_de_i\"]] = {\"nacional\": 0, \"extranjero\": 0}\n",
        "\n",
        "    tabla_comparativa[empresa[\"año_de_i\"]][origen] += 1\n",
        "\n",
        "tabla_comparativa\n",
        "# 6. La tendencia es que hay más empresas nacionales que extranjeras "
      ],
      "metadata": {
        "colab": {
          "base_uri": "https://localhost:8080/"
        },
        "id": "-ZbGyqxO3rpv",
        "outputId": "41af76ef-8b9f-4bdf-8f38-b7b7561cd662"
      },
      "execution_count": null,
      "outputs": [
        {
          "output_type": "execute_result",
          "data": {
            "text/plain": [
              "{'-': {'extranjero': 6, 'nacional': 29},\n",
              " '2009': {'extranjero': 1, 'nacional': 3},\n",
              " '2010': {'extranjero': 0, 'nacional': 11},\n",
              " '2011': {'extranjero': 1, 'nacional': 17},\n",
              " '2012': {'extranjero': 1, 'nacional': 26},\n",
              " '2013': {'extranjero': 1, 'nacional': 24},\n",
              " '2014': {'extranjero': 5, 'nacional': 52},\n",
              " '2015': {'extranjero': 2, 'nacional': 27},\n",
              " '2016': {'extranjero': 4, 'nacional': 29},\n",
              " '2017': {'extranjero': 4, 'nacional': 32},\n",
              " '2018': {'extranjero': 0, 'nacional': 12},\n",
              " '2019': {'extranjero': 2, 'nacional': 2},\n",
              " '2020': {'extranjero': 0, 'nacional': 1},\n",
              " 'Previo Ley 2972': {'extranjero': 2, 'nacional': 8}}"
            ]
          },
          "metadata": {},
          "execution_count": 6
        }
      ]
    },
    {
      "cell_type": "markdown",
      "source": [
        "### Dataset de recorridos  "
      ],
      "metadata": {
        "id": "Q-grykicoeUQ"
      }
    },
    {
      "cell_type": "code",
      "source": [
        "# Hecho "
      ],
      "metadata": {
        "id": "rP8uz11bRJwc"
      },
      "execution_count": null,
      "outputs": []
    },
    {
      "cell_type": "code",
      "source": [
        "import pandas as pd \n",
        "recorridos = pd.read_csv(\"https://raw.githubusercontent.com/Gustrucco/IPC-UCEMA/master/recorridos-realizados-2019.sample.csv\")\n",
        "recorridos.head(3)"
      ],
      "metadata": {
        "colab": {
          "base_uri": "https://localhost:8080/",
          "height": 260
        },
        "id": "wFWaBYp7ogxQ",
        "outputId": "e4615023-3c34-410d-f70b-2a8839a71864"
      },
      "execution_count": null,
      "outputs": [
        {
          "output_type": "execute_result",
          "data": {
            "text/plain": [
              "  id_usuario  edad_usuario genero_usuario fecha_origen_recorrido  \\\n",
              "0      64951           NaN            NaN    2019-07-20 02:02:45   \n",
              "1      31995           NaN            NaN    2019-07-10 20:05:06   \n",
              "2        321           NaN            NaN    2019-05-24 23:01:57   \n",
              "\n",
              "  id_estacion_origen nombre_estacion_origen  \\\n",
              "0              295.0               Calasanz   \n",
              "1              252.0          PLAZA HERRERA   \n",
              "2               82.0      HOSPITAL ITALIANO   \n",
              "\n",
              "            direccion_estacion_origen  capacidad_estacion_origen  \\\n",
              "0        San Jose De Calasanz y Valle                       20.0   \n",
              "1  Herrera y Quinquela Martin, Benito                       16.0   \n",
              "2                          Rawson 394                       20.0   \n",
              "\n",
              "   lat_estacion_origen  long_estacion_origen         duracion_recorrido  \\\n",
              "0           -34.624802            -58.437683  0 days 00:17:26.000000000   \n",
              "1           -34.644516            -58.376214  0 days 00:21:19.000000000   \n",
              "2           -34.607892            -58.426395  0 days 00:08:09.000000000   \n",
              "\n",
              "  fecha_destino_recorrido id_estacion_destino        nombre_estacion_destino  \\\n",
              "0     2019-07-20 02:20:11               227.0                      Aranguren   \n",
              "1     2019-07-10 20:26:25               175.0                   Constitución   \n",
              "2     2019-05-24 23:10:06               143.0  BILLINGHURST Y VALENTÍN GOMEZ   \n",
              "\n",
              "    direccion_estacion_destino  capacidad_estacion_destino  \\\n",
              "0  Aranguren, Juan F., Dr. 137                        20.0   \n",
              "1      Garay, Juan De Av. 1050                        36.0   \n",
              "2             Billinghurst 455                        20.0   \n",
              "\n",
              "   lat_estacion_destino  long_estacion_destino servicio  \n",
              "0            -34.610502             -58.432794    nuevo  \n",
              "1            -34.626741             -58.380935    nuevo  \n",
              "2            -34.604709             -58.415807    nuevo  "
            ],
            "text/html": [
              "\n",
              "  <div id=\"df-8fb28074-6bdf-4706-9a60-e4afd1878096\">\n",
              "    <div class=\"colab-df-container\">\n",
              "      <div>\n",
              "<style scoped>\n",
              "    .dataframe tbody tr th:only-of-type {\n",
              "        vertical-align: middle;\n",
              "    }\n",
              "\n",
              "    .dataframe tbody tr th {\n",
              "        vertical-align: top;\n",
              "    }\n",
              "\n",
              "    .dataframe thead th {\n",
              "        text-align: right;\n",
              "    }\n",
              "</style>\n",
              "<table border=\"1\" class=\"dataframe\">\n",
              "  <thead>\n",
              "    <tr style=\"text-align: right;\">\n",
              "      <th></th>\n",
              "      <th>id_usuario</th>\n",
              "      <th>edad_usuario</th>\n",
              "      <th>genero_usuario</th>\n",
              "      <th>fecha_origen_recorrido</th>\n",
              "      <th>id_estacion_origen</th>\n",
              "      <th>nombre_estacion_origen</th>\n",
              "      <th>direccion_estacion_origen</th>\n",
              "      <th>capacidad_estacion_origen</th>\n",
              "      <th>lat_estacion_origen</th>\n",
              "      <th>long_estacion_origen</th>\n",
              "      <th>duracion_recorrido</th>\n",
              "      <th>fecha_destino_recorrido</th>\n",
              "      <th>id_estacion_destino</th>\n",
              "      <th>nombre_estacion_destino</th>\n",
              "      <th>direccion_estacion_destino</th>\n",
              "      <th>capacidad_estacion_destino</th>\n",
              "      <th>lat_estacion_destino</th>\n",
              "      <th>long_estacion_destino</th>\n",
              "      <th>servicio</th>\n",
              "    </tr>\n",
              "  </thead>\n",
              "  <tbody>\n",
              "    <tr>\n",
              "      <th>0</th>\n",
              "      <td>64951</td>\n",
              "      <td>NaN</td>\n",
              "      <td>NaN</td>\n",
              "      <td>2019-07-20 02:02:45</td>\n",
              "      <td>295.0</td>\n",
              "      <td>Calasanz</td>\n",
              "      <td>San Jose De Calasanz y Valle</td>\n",
              "      <td>20.0</td>\n",
              "      <td>-34.624802</td>\n",
              "      <td>-58.437683</td>\n",
              "      <td>0 days 00:17:26.000000000</td>\n",
              "      <td>2019-07-20 02:20:11</td>\n",
              "      <td>227.0</td>\n",
              "      <td>Aranguren</td>\n",
              "      <td>Aranguren, Juan F., Dr. 137</td>\n",
              "      <td>20.0</td>\n",
              "      <td>-34.610502</td>\n",
              "      <td>-58.432794</td>\n",
              "      <td>nuevo</td>\n",
              "    </tr>\n",
              "    <tr>\n",
              "      <th>1</th>\n",
              "      <td>31995</td>\n",
              "      <td>NaN</td>\n",
              "      <td>NaN</td>\n",
              "      <td>2019-07-10 20:05:06</td>\n",
              "      <td>252.0</td>\n",
              "      <td>PLAZA HERRERA</td>\n",
              "      <td>Herrera y Quinquela Martin, Benito</td>\n",
              "      <td>16.0</td>\n",
              "      <td>-34.644516</td>\n",
              "      <td>-58.376214</td>\n",
              "      <td>0 days 00:21:19.000000000</td>\n",
              "      <td>2019-07-10 20:26:25</td>\n",
              "      <td>175.0</td>\n",
              "      <td>Constitución</td>\n",
              "      <td>Garay, Juan De Av. 1050</td>\n",
              "      <td>36.0</td>\n",
              "      <td>-34.626741</td>\n",
              "      <td>-58.380935</td>\n",
              "      <td>nuevo</td>\n",
              "    </tr>\n",
              "    <tr>\n",
              "      <th>2</th>\n",
              "      <td>321</td>\n",
              "      <td>NaN</td>\n",
              "      <td>NaN</td>\n",
              "      <td>2019-05-24 23:01:57</td>\n",
              "      <td>82.0</td>\n",
              "      <td>HOSPITAL ITALIANO</td>\n",
              "      <td>Rawson 394</td>\n",
              "      <td>20.0</td>\n",
              "      <td>-34.607892</td>\n",
              "      <td>-58.426395</td>\n",
              "      <td>0 days 00:08:09.000000000</td>\n",
              "      <td>2019-05-24 23:10:06</td>\n",
              "      <td>143.0</td>\n",
              "      <td>BILLINGHURST Y VALENTÍN GOMEZ</td>\n",
              "      <td>Billinghurst 455</td>\n",
              "      <td>20.0</td>\n",
              "      <td>-34.604709</td>\n",
              "      <td>-58.415807</td>\n",
              "      <td>nuevo</td>\n",
              "    </tr>\n",
              "  </tbody>\n",
              "</table>\n",
              "</div>\n",
              "      <button class=\"colab-df-convert\" onclick=\"convertToInteractive('df-8fb28074-6bdf-4706-9a60-e4afd1878096')\"\n",
              "              title=\"Convert this dataframe to an interactive table.\"\n",
              "              style=\"display:none;\">\n",
              "        \n",
              "  <svg xmlns=\"http://www.w3.org/2000/svg\" height=\"24px\"viewBox=\"0 0 24 24\"\n",
              "       width=\"24px\">\n",
              "    <path d=\"M0 0h24v24H0V0z\" fill=\"none\"/>\n",
              "    <path d=\"M18.56 5.44l.94 2.06.94-2.06 2.06-.94-2.06-.94-.94-2.06-.94 2.06-2.06.94zm-11 1L8.5 8.5l.94-2.06 2.06-.94-2.06-.94L8.5 2.5l-.94 2.06-2.06.94zm10 10l.94 2.06.94-2.06 2.06-.94-2.06-.94-.94-2.06-.94 2.06-2.06.94z\"/><path d=\"M17.41 7.96l-1.37-1.37c-.4-.4-.92-.59-1.43-.59-.52 0-1.04.2-1.43.59L10.3 9.45l-7.72 7.72c-.78.78-.78 2.05 0 2.83L4 21.41c.39.39.9.59 1.41.59.51 0 1.02-.2 1.41-.59l7.78-7.78 2.81-2.81c.8-.78.8-2.07 0-2.86zM5.41 20L4 18.59l7.72-7.72 1.47 1.35L5.41 20z\"/>\n",
              "  </svg>\n",
              "      </button>\n",
              "      \n",
              "  <style>\n",
              "    .colab-df-container {\n",
              "      display:flex;\n",
              "      flex-wrap:wrap;\n",
              "      gap: 12px;\n",
              "    }\n",
              "\n",
              "    .colab-df-convert {\n",
              "      background-color: #E8F0FE;\n",
              "      border: none;\n",
              "      border-radius: 50%;\n",
              "      cursor: pointer;\n",
              "      display: none;\n",
              "      fill: #1967D2;\n",
              "      height: 32px;\n",
              "      padding: 0 0 0 0;\n",
              "      width: 32px;\n",
              "    }\n",
              "\n",
              "    .colab-df-convert:hover {\n",
              "      background-color: #E2EBFA;\n",
              "      box-shadow: 0px 1px 2px rgba(60, 64, 67, 0.3), 0px 1px 3px 1px rgba(60, 64, 67, 0.15);\n",
              "      fill: #174EA6;\n",
              "    }\n",
              "\n",
              "    [theme=dark] .colab-df-convert {\n",
              "      background-color: #3B4455;\n",
              "      fill: #D2E3FC;\n",
              "    }\n",
              "\n",
              "    [theme=dark] .colab-df-convert:hover {\n",
              "      background-color: #434B5C;\n",
              "      box-shadow: 0px 1px 3px 1px rgba(0, 0, 0, 0.15);\n",
              "      filter: drop-shadow(0px 1px 2px rgba(0, 0, 0, 0.3));\n",
              "      fill: #FFFFFF;\n",
              "    }\n",
              "  </style>\n",
              "\n",
              "      <script>\n",
              "        const buttonEl =\n",
              "          document.querySelector('#df-8fb28074-6bdf-4706-9a60-e4afd1878096 button.colab-df-convert');\n",
              "        buttonEl.style.display =\n",
              "          google.colab.kernel.accessAllowed ? 'block' : 'none';\n",
              "\n",
              "        async function convertToInteractive(key) {\n",
              "          const element = document.querySelector('#df-8fb28074-6bdf-4706-9a60-e4afd1878096');\n",
              "          const dataTable =\n",
              "            await google.colab.kernel.invokeFunction('convertToInteractive',\n",
              "                                                     [key], {});\n",
              "          if (!dataTable) return;\n",
              "\n",
              "          const docLinkHtml = 'Like what you see? Visit the ' +\n",
              "            '<a target=\"_blank\" href=https://colab.research.google.com/notebooks/data_table.ipynb>data table notebook</a>'\n",
              "            + ' to learn more about interactive tables.';\n",
              "          element.innerHTML = '';\n",
              "          dataTable['output_type'] = 'display_data';\n",
              "          await google.colab.output.renderOutput(dataTable, element);\n",
              "          const docLink = document.createElement('div');\n",
              "          docLink.innerHTML = docLinkHtml;\n",
              "          element.appendChild(docLink);\n",
              "        }\n",
              "      </script>\n",
              "    </div>\n",
              "  </div>\n",
              "  "
            ]
          },
          "metadata": {},
          "execution_count": 9
        }
      ]
    },
    {
      "cell_type": "code",
      "source": [
        "recorridos.iloc[0]"
      ],
      "metadata": {
        "colab": {
          "base_uri": "https://localhost:8080/"
        },
        "id": "juB9tGvjJ3-V",
        "outputId": "6d70ca63-7e88-4d6e-8c71-e8fafd7349bd"
      },
      "execution_count": null,
      "outputs": [
        {
          "output_type": "execute_result",
          "data": {
            "text/plain": [
              "id_usuario                                           64951\n",
              "edad_usuario                                           NaN\n",
              "genero_usuario                                         NaN\n",
              "fecha_origen_recorrido                 2019-07-20 02:02:45\n",
              "id_estacion_origen                                   295.0\n",
              "nombre_estacion_origen                            Calasanz\n",
              "direccion_estacion_origen     San Jose De Calasanz y Valle\n",
              "capacidad_estacion_origen                             20.0\n",
              "lat_estacion_origen                             -34.624802\n",
              "long_estacion_origen                            -58.437683\n",
              "duracion_recorrido               0 days 00:17:26.000000000\n",
              "fecha_destino_recorrido                2019-07-20 02:20:11\n",
              "id_estacion_destino                                  227.0\n",
              "nombre_estacion_destino                          Aranguren\n",
              "direccion_estacion_destino     Aranguren, Juan F., Dr. 137\n",
              "capacidad_estacion_destino                            20.0\n",
              "lat_estacion_destino                            -34.610502\n",
              "long_estacion_destino                           -58.432794\n",
              "servicio                                             nuevo\n",
              "Name: 0, dtype: object"
            ]
          },
          "metadata": {},
          "execution_count": 10
        }
      ]
    },
    {
      "cell_type": "markdown",
      "source": [
        "**1. Limpieza**\n",
        "\n",
        "Eliminar las filas para las que no se tenga información de la edad."
      ],
      "metadata": {
        "id": "ho3vgLcHoxBw"
      }
    },
    {
      "cell_type": "code",
      "source": [
        "recorridos = recorridos[recorridos.edad_usuario.notna()] \n",
        "recorridos.sample(5) "
      ],
      "metadata": {
        "colab": {
          "base_uri": "https://localhost:8080/",
          "height": 357
        },
        "id": "s7Ib0jDRozYY",
        "outputId": "daff4893-1bf2-4059-c139-53653513ac48"
      },
      "execution_count": null,
      "outputs": [
        {
          "output_type": "execute_result",
          "data": {
            "text/plain": [
              "     id_usuario  edad_usuario genero_usuario fecha_origen_recorrido  \\\n",
              "2547    72919_0          26.0      MASCULINO    2019-01-16 09:26:38   \n",
              "3841   172242_0          25.0      MASCULINO    2019-02-08 19:38:31   \n",
              "9433   228281_0          37.0      MASCULINO    2019-01-21 14:32:32   \n",
              "7372   537419_0          43.0      MASCULINO    2019-01-07 21:23:56   \n",
              "303    364170_0          44.0      MASCULINO    2019-02-15 15:16:16   \n",
              "\n",
              "     id_estacion_origen   nombre_estacion_origen  \\\n",
              "2547              182.0    Ravignani y Guatemala   \n",
              "3841              175.0   Esmeralda y Corrientes   \n",
              "9433               75.0    Plaza Primero de Mayo   \n",
              "7372               33.0     Facultad de Medicina   \n",
              "303               174.0  Ministerio de Educación   \n",
              "\n",
              "                      direccion_estacion_origen  capacidad_estacion_origen  \\\n",
              "2547                 Ravignani 2171 y Guatemala                        NaN   \n",
              "3841                  Esmeralda y Av Corrientes                        NaN   \n",
              "9433     Pichincha entre Adolfo Alsina y Moreno                        NaN   \n",
              "7372             Uriburu y Marcelo T. de Alvear                        NaN   \n",
              "303   Marcelo T De Alvear 1698 y Rodríguez Peña                        NaN   \n",
              "\n",
              "      lat_estacion_origen  long_estacion_origen         duracion_recorrido  \\\n",
              "2547           -34.578191            -58.435234  0 days 00:17:12.000000000   \n",
              "3841           -34.603719            -58.378107  0 days 00:11:07.000000000   \n",
              "9433           -34.612124            -58.398905  0 days 00:17:25.000000000   \n",
              "7372           -34.597127            -58.398717  0 days 00:06:24.000000000   \n",
              "303            -34.597261            -58.391549  0 days 00:09:25.000000000   \n",
              "\n",
              "     fecha_destino_recorrido id_estacion_destino  \\\n",
              "2547     2019-01-16 09:43:50               159_0   \n",
              "3841     2019-02-08 19:49:38               174.0   \n",
              "9433     2019-01-21 14:49:57                36.0   \n",
              "7372     2019-01-07 21:30:20               165.0   \n",
              "303      2019-02-15 15:25:41                53.0   \n",
              "\n",
              "              nombre_estacion_destino  \\\n",
              "2547               Fitz Roy y Gorriti   \n",
              "3841          Ministerio de Educación   \n",
              "9433                            Maipú   \n",
              "7372  Plaza Monseñor Miguel de Andrea   \n",
              "303                     Ricardo Rojas   \n",
              "\n",
              "                           direccion_estacion_destino  \\\n",
              "2547                                              NaN   \n",
              "3841        Marcelo T De Alvear 1698 y Rodríguez Peña   \n",
              "9433                                Maipú y Sarmiento   \n",
              "7372  Plaza Monseñor Miguel de Andrea (Anchorena 900)   \n",
              "303                                   San Martín 1031   \n",
              "\n",
              "      capacidad_estacion_destino  lat_estacion_destino  long_estacion_destino  \\\n",
              "2547                         NaN                   NaN                    NaN   \n",
              "3841                         NaN            -34.597261             -58.391549   \n",
              "9433                         NaN            -34.605369             -58.376596   \n",
              "7372                         NaN            -34.597764             -58.407852   \n",
              "303                          NaN            -34.595881             -58.374282   \n",
              "\n",
              "     servicio  \n",
              "2547  antiguo  \n",
              "3841  antiguo  \n",
              "9433  antiguo  \n",
              "7372  antiguo  \n",
              "303   antiguo  "
            ],
            "text/html": [
              "\n",
              "  <div id=\"df-7560b811-7ba3-4b0b-aa2c-ca75846c9a4c\">\n",
              "    <div class=\"colab-df-container\">\n",
              "      <div>\n",
              "<style scoped>\n",
              "    .dataframe tbody tr th:only-of-type {\n",
              "        vertical-align: middle;\n",
              "    }\n",
              "\n",
              "    .dataframe tbody tr th {\n",
              "        vertical-align: top;\n",
              "    }\n",
              "\n",
              "    .dataframe thead th {\n",
              "        text-align: right;\n",
              "    }\n",
              "</style>\n",
              "<table border=\"1\" class=\"dataframe\">\n",
              "  <thead>\n",
              "    <tr style=\"text-align: right;\">\n",
              "      <th></th>\n",
              "      <th>id_usuario</th>\n",
              "      <th>edad_usuario</th>\n",
              "      <th>genero_usuario</th>\n",
              "      <th>fecha_origen_recorrido</th>\n",
              "      <th>id_estacion_origen</th>\n",
              "      <th>nombre_estacion_origen</th>\n",
              "      <th>direccion_estacion_origen</th>\n",
              "      <th>capacidad_estacion_origen</th>\n",
              "      <th>lat_estacion_origen</th>\n",
              "      <th>long_estacion_origen</th>\n",
              "      <th>duracion_recorrido</th>\n",
              "      <th>fecha_destino_recorrido</th>\n",
              "      <th>id_estacion_destino</th>\n",
              "      <th>nombre_estacion_destino</th>\n",
              "      <th>direccion_estacion_destino</th>\n",
              "      <th>capacidad_estacion_destino</th>\n",
              "      <th>lat_estacion_destino</th>\n",
              "      <th>long_estacion_destino</th>\n",
              "      <th>servicio</th>\n",
              "    </tr>\n",
              "  </thead>\n",
              "  <tbody>\n",
              "    <tr>\n",
              "      <th>2547</th>\n",
              "      <td>72919_0</td>\n",
              "      <td>26.0</td>\n",
              "      <td>MASCULINO</td>\n",
              "      <td>2019-01-16 09:26:38</td>\n",
              "      <td>182.0</td>\n",
              "      <td>Ravignani y Guatemala</td>\n",
              "      <td>Ravignani 2171 y Guatemala</td>\n",
              "      <td>NaN</td>\n",
              "      <td>-34.578191</td>\n",
              "      <td>-58.435234</td>\n",
              "      <td>0 days 00:17:12.000000000</td>\n",
              "      <td>2019-01-16 09:43:50</td>\n",
              "      <td>159_0</td>\n",
              "      <td>Fitz Roy y Gorriti</td>\n",
              "      <td>NaN</td>\n",
              "      <td>NaN</td>\n",
              "      <td>NaN</td>\n",
              "      <td>NaN</td>\n",
              "      <td>antiguo</td>\n",
              "    </tr>\n",
              "    <tr>\n",
              "      <th>3841</th>\n",
              "      <td>172242_0</td>\n",
              "      <td>25.0</td>\n",
              "      <td>MASCULINO</td>\n",
              "      <td>2019-02-08 19:38:31</td>\n",
              "      <td>175.0</td>\n",
              "      <td>Esmeralda y Corrientes</td>\n",
              "      <td>Esmeralda y Av Corrientes</td>\n",
              "      <td>NaN</td>\n",
              "      <td>-34.603719</td>\n",
              "      <td>-58.378107</td>\n",
              "      <td>0 days 00:11:07.000000000</td>\n",
              "      <td>2019-02-08 19:49:38</td>\n",
              "      <td>174.0</td>\n",
              "      <td>Ministerio de Educación</td>\n",
              "      <td>Marcelo T De Alvear 1698 y Rodríguez Peña</td>\n",
              "      <td>NaN</td>\n",
              "      <td>-34.597261</td>\n",
              "      <td>-58.391549</td>\n",
              "      <td>antiguo</td>\n",
              "    </tr>\n",
              "    <tr>\n",
              "      <th>9433</th>\n",
              "      <td>228281_0</td>\n",
              "      <td>37.0</td>\n",
              "      <td>MASCULINO</td>\n",
              "      <td>2019-01-21 14:32:32</td>\n",
              "      <td>75.0</td>\n",
              "      <td>Plaza Primero de Mayo</td>\n",
              "      <td>Pichincha entre Adolfo Alsina y Moreno</td>\n",
              "      <td>NaN</td>\n",
              "      <td>-34.612124</td>\n",
              "      <td>-58.398905</td>\n",
              "      <td>0 days 00:17:25.000000000</td>\n",
              "      <td>2019-01-21 14:49:57</td>\n",
              "      <td>36.0</td>\n",
              "      <td>Maipú</td>\n",
              "      <td>Maipú y Sarmiento</td>\n",
              "      <td>NaN</td>\n",
              "      <td>-34.605369</td>\n",
              "      <td>-58.376596</td>\n",
              "      <td>antiguo</td>\n",
              "    </tr>\n",
              "    <tr>\n",
              "      <th>7372</th>\n",
              "      <td>537419_0</td>\n",
              "      <td>43.0</td>\n",
              "      <td>MASCULINO</td>\n",
              "      <td>2019-01-07 21:23:56</td>\n",
              "      <td>33.0</td>\n",
              "      <td>Facultad de Medicina</td>\n",
              "      <td>Uriburu y Marcelo T. de Alvear</td>\n",
              "      <td>NaN</td>\n",
              "      <td>-34.597127</td>\n",
              "      <td>-58.398717</td>\n",
              "      <td>0 days 00:06:24.000000000</td>\n",
              "      <td>2019-01-07 21:30:20</td>\n",
              "      <td>165.0</td>\n",
              "      <td>Plaza Monseñor Miguel de Andrea</td>\n",
              "      <td>Plaza Monseñor Miguel de Andrea (Anchorena 900)</td>\n",
              "      <td>NaN</td>\n",
              "      <td>-34.597764</td>\n",
              "      <td>-58.407852</td>\n",
              "      <td>antiguo</td>\n",
              "    </tr>\n",
              "    <tr>\n",
              "      <th>303</th>\n",
              "      <td>364170_0</td>\n",
              "      <td>44.0</td>\n",
              "      <td>MASCULINO</td>\n",
              "      <td>2019-02-15 15:16:16</td>\n",
              "      <td>174.0</td>\n",
              "      <td>Ministerio de Educación</td>\n",
              "      <td>Marcelo T De Alvear 1698 y Rodríguez Peña</td>\n",
              "      <td>NaN</td>\n",
              "      <td>-34.597261</td>\n",
              "      <td>-58.391549</td>\n",
              "      <td>0 days 00:09:25.000000000</td>\n",
              "      <td>2019-02-15 15:25:41</td>\n",
              "      <td>53.0</td>\n",
              "      <td>Ricardo Rojas</td>\n",
              "      <td>San Martín 1031</td>\n",
              "      <td>NaN</td>\n",
              "      <td>-34.595881</td>\n",
              "      <td>-58.374282</td>\n",
              "      <td>antiguo</td>\n",
              "    </tr>\n",
              "  </tbody>\n",
              "</table>\n",
              "</div>\n",
              "      <button class=\"colab-df-convert\" onclick=\"convertToInteractive('df-7560b811-7ba3-4b0b-aa2c-ca75846c9a4c')\"\n",
              "              title=\"Convert this dataframe to an interactive table.\"\n",
              "              style=\"display:none;\">\n",
              "        \n",
              "  <svg xmlns=\"http://www.w3.org/2000/svg\" height=\"24px\"viewBox=\"0 0 24 24\"\n",
              "       width=\"24px\">\n",
              "    <path d=\"M0 0h24v24H0V0z\" fill=\"none\"/>\n",
              "    <path d=\"M18.56 5.44l.94 2.06.94-2.06 2.06-.94-2.06-.94-.94-2.06-.94 2.06-2.06.94zm-11 1L8.5 8.5l.94-2.06 2.06-.94-2.06-.94L8.5 2.5l-.94 2.06-2.06.94zm10 10l.94 2.06.94-2.06 2.06-.94-2.06-.94-.94-2.06-.94 2.06-2.06.94z\"/><path d=\"M17.41 7.96l-1.37-1.37c-.4-.4-.92-.59-1.43-.59-.52 0-1.04.2-1.43.59L10.3 9.45l-7.72 7.72c-.78.78-.78 2.05 0 2.83L4 21.41c.39.39.9.59 1.41.59.51 0 1.02-.2 1.41-.59l7.78-7.78 2.81-2.81c.8-.78.8-2.07 0-2.86zM5.41 20L4 18.59l7.72-7.72 1.47 1.35L5.41 20z\"/>\n",
              "  </svg>\n",
              "      </button>\n",
              "      \n",
              "  <style>\n",
              "    .colab-df-container {\n",
              "      display:flex;\n",
              "      flex-wrap:wrap;\n",
              "      gap: 12px;\n",
              "    }\n",
              "\n",
              "    .colab-df-convert {\n",
              "      background-color: #E8F0FE;\n",
              "      border: none;\n",
              "      border-radius: 50%;\n",
              "      cursor: pointer;\n",
              "      display: none;\n",
              "      fill: #1967D2;\n",
              "      height: 32px;\n",
              "      padding: 0 0 0 0;\n",
              "      width: 32px;\n",
              "    }\n",
              "\n",
              "    .colab-df-convert:hover {\n",
              "      background-color: #E2EBFA;\n",
              "      box-shadow: 0px 1px 2px rgba(60, 64, 67, 0.3), 0px 1px 3px 1px rgba(60, 64, 67, 0.15);\n",
              "      fill: #174EA6;\n",
              "    }\n",
              "\n",
              "    [theme=dark] .colab-df-convert {\n",
              "      background-color: #3B4455;\n",
              "      fill: #D2E3FC;\n",
              "    }\n",
              "\n",
              "    [theme=dark] .colab-df-convert:hover {\n",
              "      background-color: #434B5C;\n",
              "      box-shadow: 0px 1px 3px 1px rgba(0, 0, 0, 0.15);\n",
              "      filter: drop-shadow(0px 1px 2px rgba(0, 0, 0, 0.3));\n",
              "      fill: #FFFFFF;\n",
              "    }\n",
              "  </style>\n",
              "\n",
              "      <script>\n",
              "        const buttonEl =\n",
              "          document.querySelector('#df-7560b811-7ba3-4b0b-aa2c-ca75846c9a4c button.colab-df-convert');\n",
              "        buttonEl.style.display =\n",
              "          google.colab.kernel.accessAllowed ? 'block' : 'none';\n",
              "\n",
              "        async function convertToInteractive(key) {\n",
              "          const element = document.querySelector('#df-7560b811-7ba3-4b0b-aa2c-ca75846c9a4c');\n",
              "          const dataTable =\n",
              "            await google.colab.kernel.invokeFunction('convertToInteractive',\n",
              "                                                     [key], {});\n",
              "          if (!dataTable) return;\n",
              "\n",
              "          const docLinkHtml = 'Like what you see? Visit the ' +\n",
              "            '<a target=\"_blank\" href=https://colab.research.google.com/notebooks/data_table.ipynb>data table notebook</a>'\n",
              "            + ' to learn more about interactive tables.';\n",
              "          element.innerHTML = '';\n",
              "          dataTable['output_type'] = 'display_data';\n",
              "          await google.colab.output.renderOutput(dataTable, element);\n",
              "          const docLink = document.createElement('div');\n",
              "          docLink.innerHTML = docLinkHtml;\n",
              "          element.appendChild(docLink);\n",
              "        }\n",
              "      </script>\n",
              "    </div>\n",
              "  </div>\n",
              "  "
            ]
          },
          "metadata": {},
          "execution_count": 6
        }
      ]
    },
    {
      "cell_type": "markdown",
      "source": [
        "**2. Caracterización del dataset**\n",
        "\n",
        "¿Qué cantidad de recorridos hay? ¿Y qué cantidad de usuarios (únicos)? ¿Y de estaciones?"
      ],
      "metadata": {
        "id": "Z5i9NLtipqgH"
      }
    },
    {
      "cell_type": "code",
      "source": [
        "len(recorridos)"
      ],
      "metadata": {
        "colab": {
          "base_uri": "https://localhost:8080/"
        },
        "id": "8jgjEd--qfHV",
        "outputId": "77c7816f-1613-457b-c2f3-5541f79467db"
      },
      "execution_count": null,
      "outputs": [
        {
          "output_type": "execute_result",
          "data": {
            "text/plain": [
              "707"
            ]
          },
          "metadata": {},
          "execution_count": 7
        }
      ]
    },
    {
      "cell_type": "code",
      "source": [
        "len(pd.unique(recorridos.id_usuario)) "
      ],
      "metadata": {
        "colab": {
          "base_uri": "https://localhost:8080/"
        },
        "id": "UypUdqLeqhE2",
        "outputId": "00441ee4-09c8-434d-be04-d71143b53d8b"
      },
      "execution_count": null,
      "outputs": [
        {
          "output_type": "execute_result",
          "data": {
            "text/plain": [
              "686"
            ]
          },
          "metadata": {},
          "execution_count": 9
        }
      ]
    },
    {
      "cell_type": "code",
      "source": [
        "len(pd.unique(recorridos.id_estacion_origen)) + len(pd.unique(recorridos.id_estacion_destino))"
      ],
      "metadata": {
        "colab": {
          "base_uri": "https://localhost:8080/"
        },
        "id": "4tfcVC-5qt5W",
        "outputId": "0ccb90de-801d-4c6d-c3b7-3c384e5a9ed7"
      },
      "execution_count": null,
      "outputs": [
        {
          "output_type": "execute_result",
          "data": {
            "text/plain": [
              "305"
            ]
          },
          "metadata": {},
          "execution_count": 10
        }
      ]
    },
    {
      "cell_type": "markdown",
      "source": [
        "**3. Ciclistas unicos**\n",
        "\n",
        "Queremos obtener una tabla con las siguientes columnas:\n",
        "\n",
        "1.   Dirección de la estación de origen\n",
        "2.   Cantidad de ciclistas únicos que partieron desde allí\n",
        "\n",
        "\n",
        "La tabla debe estar ordenada de mayor a menos cantidad de ciclistas únicos, y tener únicamente los 10 valores más altos"
      ],
      "metadata": {
        "id": "67q9MMIDpv0s"
      }
    },
    {
      "cell_type": "code",
      "source": [
        "partidas_unicas = recorridos.groupby(\"direccion_estacion_origen\", as_index=False).id_usuario.nunique()\n",
        "partidas_unicas = partidas_unicas.sort_values(\"id_usuario\", ascending=False) \n",
        "partidas_unicas"
      ],
      "metadata": {
        "colab": {
          "base_uri": "https://localhost:8080/",
          "height": 424
        },
        "id": "w02uldw5e8R7",
        "outputId": "4c4d6247-6fd6-4965-a320-28501f36ee6e"
      },
      "execution_count": null,
      "outputs": [
        {
          "output_type": "execute_result",
          "data": {
            "text/plain": [
              "                             direccion_estacion_origen  id_usuario\n",
              "221                            Garay, Juan De Av. 1050         160\n",
              "167                               Diaz, Cnel. Av. 2300         120\n",
              "437  Salguero, Jeronimo y Mansilla, Lucio Norberto,...         115\n",
              "182                                       Ecuador 1226         105\n",
              "454                  Santa Fe Av. y Bullrich, Int. Av.         100\n",
              "..                                                 ...         ...\n",
              "146      Constitución 4101 y Treinta y Tres Orientales           1\n",
              "139                                          Chaco 250           1\n",
              "136                     Cerrito y Marcelo T. de Alvear           1\n",
              "66                           Avelino Díaz 499 y Doblas           1\n",
              "457                         Santos Dumont 4380 y Otero           1\n",
              "\n",
              "[529 rows x 2 columns]"
            ],
            "text/html": [
              "\n",
              "  <div id=\"df-29f48e93-7e7c-4208-be46-b33008d3d18f\">\n",
              "    <div class=\"colab-df-container\">\n",
              "      <div>\n",
              "<style scoped>\n",
              "    .dataframe tbody tr th:only-of-type {\n",
              "        vertical-align: middle;\n",
              "    }\n",
              "\n",
              "    .dataframe tbody tr th {\n",
              "        vertical-align: top;\n",
              "    }\n",
              "\n",
              "    .dataframe thead th {\n",
              "        text-align: right;\n",
              "    }\n",
              "</style>\n",
              "<table border=\"1\" class=\"dataframe\">\n",
              "  <thead>\n",
              "    <tr style=\"text-align: right;\">\n",
              "      <th></th>\n",
              "      <th>direccion_estacion_origen</th>\n",
              "      <th>id_usuario</th>\n",
              "    </tr>\n",
              "  </thead>\n",
              "  <tbody>\n",
              "    <tr>\n",
              "      <th>221</th>\n",
              "      <td>Garay, Juan De Av. 1050</td>\n",
              "      <td>160</td>\n",
              "    </tr>\n",
              "    <tr>\n",
              "      <th>167</th>\n",
              "      <td>Diaz, Cnel. Av. 2300</td>\n",
              "      <td>120</td>\n",
              "    </tr>\n",
              "    <tr>\n",
              "      <th>437</th>\n",
              "      <td>Salguero, Jeronimo y Mansilla, Lucio Norberto,...</td>\n",
              "      <td>115</td>\n",
              "    </tr>\n",
              "    <tr>\n",
              "      <th>182</th>\n",
              "      <td>Ecuador 1226</td>\n",
              "      <td>105</td>\n",
              "    </tr>\n",
              "    <tr>\n",
              "      <th>454</th>\n",
              "      <td>Santa Fe Av. y Bullrich, Int. Av.</td>\n",
              "      <td>100</td>\n",
              "    </tr>\n",
              "    <tr>\n",
              "      <th>...</th>\n",
              "      <td>...</td>\n",
              "      <td>...</td>\n",
              "    </tr>\n",
              "    <tr>\n",
              "      <th>146</th>\n",
              "      <td>Constitución 4101 y Treinta y Tres Orientales</td>\n",
              "      <td>1</td>\n",
              "    </tr>\n",
              "    <tr>\n",
              "      <th>139</th>\n",
              "      <td>Chaco 250</td>\n",
              "      <td>1</td>\n",
              "    </tr>\n",
              "    <tr>\n",
              "      <th>136</th>\n",
              "      <td>Cerrito y Marcelo T. de Alvear</td>\n",
              "      <td>1</td>\n",
              "    </tr>\n",
              "    <tr>\n",
              "      <th>66</th>\n",
              "      <td>Avelino Díaz 499 y Doblas</td>\n",
              "      <td>1</td>\n",
              "    </tr>\n",
              "    <tr>\n",
              "      <th>457</th>\n",
              "      <td>Santos Dumont 4380 y Otero</td>\n",
              "      <td>1</td>\n",
              "    </tr>\n",
              "  </tbody>\n",
              "</table>\n",
              "<p>529 rows × 2 columns</p>\n",
              "</div>\n",
              "      <button class=\"colab-df-convert\" onclick=\"convertToInteractive('df-29f48e93-7e7c-4208-be46-b33008d3d18f')\"\n",
              "              title=\"Convert this dataframe to an interactive table.\"\n",
              "              style=\"display:none;\">\n",
              "        \n",
              "  <svg xmlns=\"http://www.w3.org/2000/svg\" height=\"24px\"viewBox=\"0 0 24 24\"\n",
              "       width=\"24px\">\n",
              "    <path d=\"M0 0h24v24H0V0z\" fill=\"none\"/>\n",
              "    <path d=\"M18.56 5.44l.94 2.06.94-2.06 2.06-.94-2.06-.94-.94-2.06-.94 2.06-2.06.94zm-11 1L8.5 8.5l.94-2.06 2.06-.94-2.06-.94L8.5 2.5l-.94 2.06-2.06.94zm10 10l.94 2.06.94-2.06 2.06-.94-2.06-.94-.94-2.06-.94 2.06-2.06.94z\"/><path d=\"M17.41 7.96l-1.37-1.37c-.4-.4-.92-.59-1.43-.59-.52 0-1.04.2-1.43.59L10.3 9.45l-7.72 7.72c-.78.78-.78 2.05 0 2.83L4 21.41c.39.39.9.59 1.41.59.51 0 1.02-.2 1.41-.59l7.78-7.78 2.81-2.81c.8-.78.8-2.07 0-2.86zM5.41 20L4 18.59l7.72-7.72 1.47 1.35L5.41 20z\"/>\n",
              "  </svg>\n",
              "      </button>\n",
              "      \n",
              "  <style>\n",
              "    .colab-df-container {\n",
              "      display:flex;\n",
              "      flex-wrap:wrap;\n",
              "      gap: 12px;\n",
              "    }\n",
              "\n",
              "    .colab-df-convert {\n",
              "      background-color: #E8F0FE;\n",
              "      border: none;\n",
              "      border-radius: 50%;\n",
              "      cursor: pointer;\n",
              "      display: none;\n",
              "      fill: #1967D2;\n",
              "      height: 32px;\n",
              "      padding: 0 0 0 0;\n",
              "      width: 32px;\n",
              "    }\n",
              "\n",
              "    .colab-df-convert:hover {\n",
              "      background-color: #E2EBFA;\n",
              "      box-shadow: 0px 1px 2px rgba(60, 64, 67, 0.3), 0px 1px 3px 1px rgba(60, 64, 67, 0.15);\n",
              "      fill: #174EA6;\n",
              "    }\n",
              "\n",
              "    [theme=dark] .colab-df-convert {\n",
              "      background-color: #3B4455;\n",
              "      fill: #D2E3FC;\n",
              "    }\n",
              "\n",
              "    [theme=dark] .colab-df-convert:hover {\n",
              "      background-color: #434B5C;\n",
              "      box-shadow: 0px 1px 3px 1px rgba(0, 0, 0, 0.15);\n",
              "      filter: drop-shadow(0px 1px 2px rgba(0, 0, 0, 0.3));\n",
              "      fill: #FFFFFF;\n",
              "    }\n",
              "  </style>\n",
              "\n",
              "      <script>\n",
              "        const buttonEl =\n",
              "          document.querySelector('#df-29f48e93-7e7c-4208-be46-b33008d3d18f button.colab-df-convert');\n",
              "        buttonEl.style.display =\n",
              "          google.colab.kernel.accessAllowed ? 'block' : 'none';\n",
              "\n",
              "        async function convertToInteractive(key) {\n",
              "          const element = document.querySelector('#df-29f48e93-7e7c-4208-be46-b33008d3d18f');\n",
              "          const dataTable =\n",
              "            await google.colab.kernel.invokeFunction('convertToInteractive',\n",
              "                                                     [key], {});\n",
              "          if (!dataTable) return;\n",
              "\n",
              "          const docLinkHtml = 'Like what you see? Visit the ' +\n",
              "            '<a target=\"_blank\" href=https://colab.research.google.com/notebooks/data_table.ipynb>data table notebook</a>'\n",
              "            + ' to learn more about interactive tables.';\n",
              "          element.innerHTML = '';\n",
              "          dataTable['output_type'] = 'display_data';\n",
              "          await google.colab.output.renderOutput(dataTable, element);\n",
              "          const docLink = document.createElement('div');\n",
              "          docLink.innerHTML = docLinkHtml;\n",
              "          element.appendChild(docLink);\n",
              "        }\n",
              "      </script>\n",
              "    </div>\n",
              "  </div>\n",
              "  "
            ]
          },
          "metadata": {},
          "execution_count": 31
        }
      ]
    },
    {
      "cell_type": "markdown",
      "source": [
        "**4. Gráfico**\n",
        "\n",
        "Hacer un gráfico de torta que muestre la proporción de (únicos) ciclistas femeninos y masculinos"
      ],
      "metadata": {
        "id": "XLgIDT_Rp7D3"
      }
    },
    {
      "cell_type": "code",
      "source": [
        "cantidad_ciclistas_por_genero = recorridos.groupby(\"genero_usuario\", as_index = False).id_usuario.nunique()\n",
        "cantidad_ciclistas_por_genero.set_index(\"genero_usuario\").plot.pie(y = \"id_usuario\") \n",
        "# set_index conviertio los datos (palabras) en % o nro de masculinos y femeninos "
      ],
      "metadata": {
        "colab": {
          "base_uri": "https://localhost:8080/",
          "height": 265
        },
        "id": "o8LhZxsirZ3C",
        "outputId": "f8190f8b-1834-45b2-da82-2aca23c0aab0"
      },
      "execution_count": null,
      "outputs": [
        {
          "output_type": "execute_result",
          "data": {
            "text/plain": [
              "<matplotlib.axes._subplots.AxesSubplot at 0x7f8387a37cd0>"
            ]
          },
          "metadata": {},
          "execution_count": 13
        },
        {
          "output_type": "display_data",
          "data": {
            "text/plain": [
              "<Figure size 432x288 with 1 Axes>"
            ],
            "image/png": "[encoded data removed]"
          },
          "metadata": {}
        }
      ]
    },
    {
      "cell_type": "markdown",
      "source": [
        "**5. Funciones varias**\n",
        "\n",
        "5. Hacer una función que dada una lista de recorridos, devuelva los id de usuarios cuya edad supera al promedio de entre los recorridos dados. \n",
        "6. Hacer una función que dada una lista de recorridos devuelva cuantos fueron hechos por personas cuya edad supera el cuantil 75% de la tabla.\n",
        "7. Hacer una función que tome una lista de estaciones y un id de estación y devuelva la dirección de la estación según el id dado. "
      ],
      "metadata": {
        "id": "XaxqmfolqBEL"
      }
    },
    {
      "cell_type": "code",
      "source": [
        "lista_recorridos = [\n",
        "  {\n",
        "    'edad_usuario': 56.0,\n",
        "    'genero_usuario': 'MASCULINO',\n",
        "    'id_estacion_destino': '116.0',\n",
        "    'id_estacion_origen': '124.0',\n",
        "    'id_usuario': '640182_0',\n",
        "    'nombre_estacion_destino': 'Hospital Alemán',\n",
        "    'nombre_estacion_origen': 'Ugarteche'\n",
        "  },\n",
        " {\n",
        "    'edad_usuario': 26.0,\n",
        "    'genero_usuario': 'MASCULINO',\n",
        "    'id_estacion_destino': '55.0',\n",
        "    'id_estacion_origen': '16.0',\n",
        "    'id_usuario': '315945_0',\n",
        "    'nombre_estacion_destino': 'Bouchard',\n",
        "    'nombre_estacion_origen': 'Legislatura'\n",
        "  },\n",
        " {\n",
        "    'edad_usuario': 34.0,\n",
        "    'genero_usuario': 'MASCULINO',\n",
        "    'id_estacion_destino': '51.0',\n",
        "    'id_estacion_origen': '84.0',\n",
        "    'id_usuario': '112720_0',\n",
        "    'nombre_estacion_destino': 'Tucumán',\n",
        "    'nombre_estacion_origen': 'Lavalle'\n",
        "  },\n",
        " {\n",
        "    'edad_usuario': 30.0,\n",
        "    'genero_usuario': 'MASCULINO',\n",
        "    'id_estacion_destino': '98.0',\n",
        "    'id_estacion_origen': '167.0',\n",
        "    'id_usuario': '37754_0',\n",
        "    'nombre_estacion_destino': 'Moreno',\n",
        "    'nombre_estacion_origen': 'Hipólito Yrigoyen'\n",
        "  },\n",
        " {\n",
        "    'edad_usuario': 43.0,\n",
        "    'genero_usuario': 'MASCULINO',\n",
        "    'id_estacion_destino': '58.0',\n",
        "    'id_estacion_origen': '88.0',\n",
        "    'id_usuario': '643576_0',\n",
        "    'nombre_estacion_destino': 'Ministro Carranza',\n",
        "    'nombre_estacion_origen': 'Misiones'\n",
        "  },\n",
        " {\n",
        "    'edad_usuario': 36.0,\n",
        "    'genero_usuario': 'MASCULINO',\n",
        "    'id_estacion_destino': '167.0',\n",
        "    'id_estacion_origen': '134.0',\n",
        "    'id_usuario': '377830_0',\n",
        "    'nombre_estacion_destino': 'Hipólito Yrigoyen',\n",
        "    'nombre_estacion_origen': 'Don Bosco'\n",
        "  },\n",
        " {\n",
        "    'edad_usuario': 24.0,\n",
        "    'genero_usuario': 'FEMENINO',\n",
        "    'id_estacion_destino': '143.0',\n",
        "    'id_estacion_origen': '134.0',\n",
        "    'id_usuario': '152164_0',\n",
        "    'nombre_estacion_destino': 'Billinghurst y Valentín Gomez',\n",
        "    'nombre_estacion_origen': 'Don Bosco'\n",
        "  },\n",
        " {\n",
        "    'edad_usuario': 31.0,\n",
        "    'genero_usuario': 'MASCULINO',\n",
        "    'id_estacion_destino': '36.0',\n",
        "    'id_estacion_origen': '18.0',\n",
        "    'id_usuario': '642481_0',\n",
        "    'nombre_estacion_destino': 'Maipú',\n",
        "    'nombre_estacion_origen': 'Independencia'\n",
        "  },\n",
        " {\n",
        "    'edad_usuario': 25.0,\n",
        "    'genero_usuario': 'MASCULINO',\n",
        "    'id_estacion_destino': '59.0',\n",
        "    'id_estacion_origen': '82.0',\n",
        "    'id_usuario': '691601_0',\n",
        "    'nombre_estacion_destino': 'Coronel Díaz',\n",
        "    'nombre_estacion_origen': 'Hospital Italiano'\n",
        "  },\n",
        " {\n",
        "    'edad_usuario': 56.0,\n",
        "    'genero_usuario': 'FEMENINO',\n",
        "    'id_estacion_destino': '14.0',\n",
        "    'id_estacion_origen': '194.0',\n",
        "    'id_usuario': '443403_0',\n",
        "    'nombre_estacion_destino': 'Pacífico',\n",
        "    'nombre_estacion_origen': 'Perón y Francisco Acuña de Figueroa'\n",
        "  }\n",
        "]\n",
        "lista_estaciones = [\n",
        " {\n",
        "  'direccion_estacion': 'Humahuaca 3918',\n",
        "  'id_estacion': '161.0',\n",
        "  'nombre_estacion': 'Humahuaca'\n",
        " },\n",
        " {\n",
        "  'direccion_estacion': 'Acevedo y Padilla',\n",
        "  'id_estacion': '136.0',\n",
        "  'nombre_estacion': 'Acevedo'\n",
        " },\n",
        " {\n",
        "  'direccion_estacion': 'Av. Córdoba y Montevideo',\n",
        "  'id_estacion': '27.0',\n",
        "  'nombre_estacion': 'Montevideo'\n",
        " },\n",
        " {\n",
        "  'direccion_estacion': 'Av. Hipólito Yrigoyen y Virrey Ceballos',\n",
        "  'id_estacion': '8.0',\n",
        "  'nombre_estacion': 'Congreso'\n",
        " },\n",
        " {\n",
        "  'direccion_estacion': 'Perón Juan entre 25 de Mayo y Reconquista',\n",
        "  'id_estacion': '48.0',\n",
        "  'nombre_estacion': 'Perón'\n",
        " },\n",
        " {\n",
        "  'direccion_estacion': 'Arenales 2882 y Aguero',\n",
        "  'id_estacion': '193.0',\n",
        "  'nombre_estacion': 'Arenales y Agüero'\n",
        " },\n",
        " {\n",
        "  'direccion_estacion': 'San Martín y Rivadavia',\n",
        "  'id_estacion': '32.0',\n",
        "  'nombre_estacion': 'Catedral'\n",
        " },\n",
        " {\n",
        "  'direccion_estacion': 'Plaza Vicente López',\n",
        "  'id_estacion': '12.0',\n",
        "  'nombre_estacion': 'Plaza Vicente López'\n",
        " },\n",
        " {\n",
        "  'direccion_estacion': 'Guardia Vieja 3606 entre Billinghurst y Mario Bravo',\n",
        "  'id_estacion': '110.0',\n",
        "  'nombre_estacion': 'Guardia Vieja'\n",
        " },\n",
        " {\n",
        "  'direccion_estacion': 'Esmeralda y Rivadavia',\n",
        "  'id_estacion': '37.0',\n",
        "  'nombre_estacion': 'Piedras'\n",
        " }\n",
        "]"
      ],
      "metadata": {
        "id": "QhxUnNmgsF2w"
      },
      "execution_count": null,
      "outputs": []
    },
    {
      "cell_type": "code",
      "source": [
        "def promedio_edad(lista_recorridos):\n",
        "  suma = 0 \n",
        "  for i in lista_recorridos: \n",
        "    suma += i['edad_usuario']\n",
        "  return suma / len(lista_recorridos)\n",
        "\n",
        "# T5\n",
        "def superan_edad_promedio(lista_recorridos): \n",
        "  superan = []\n",
        "  for recorrido in lista_recorridos: \n",
        "    if recorrido['edad_usuario'] > promedio_edad(lista_recorridos):\n",
        "      superan.append(recorrido['id_usuario'])\n",
        "  return superan "
      ],
      "metadata": {
        "id": "qOjAy4GysZw1"
      },
      "execution_count": null,
      "outputs": []
    },
    {
      "cell_type": "code",
      "source": [
        "superan_edad_promedio(lista_recorridos)"
      ],
      "metadata": {
        "colab": {
          "base_uri": "https://localhost:8080/"
        },
        "id": "Sl3pmnR2tYj5",
        "outputId": "b0741960-3a5b-45d3-dc8f-24b1655aef29"
      },
      "execution_count": null,
      "outputs": [
        {
          "output_type": "execute_result",
          "data": {
            "text/plain": [
              "['640182_0', '643576_0', '443403_0']"
            ]
          },
          "metadata": {},
          "execution_count": 20
        }
      ]
    },
    {
      "cell_type": "code",
      "source": [
        "edad_quantile_75 = recorridos.edad_usuario.quantile(0.75)\n",
        "\n",
        "# T6\n",
        "def superan_quantile_edad(lista_recorridos): \n",
        "  superan = 0 \n",
        "  for recorrido in lista_recorridos: \n",
        "    if recorrido['edad_usuario'] > edad_quantile_75: \n",
        "      superan += 1\n",
        "  return superan "
      ],
      "metadata": {
        "id": "DADBumzjuD9z"
      },
      "execution_count": null,
      "outputs": []
    },
    {
      "cell_type": "code",
      "source": [
        "superan_quantile_edad(lista_recorridos)"
      ],
      "metadata": {
        "colab": {
          "base_uri": "https://localhost:8080/"
        },
        "id": "GLGQzWwPuysm",
        "outputId": "754cde59-6fb7-48f2-83fa-1294b0224dbd"
      },
      "execution_count": null,
      "outputs": [
        {
          "output_type": "execute_result",
          "data": {
            "text/plain": [
              "3"
            ]
          },
          "metadata": {},
          "execution_count": 22
        }
      ]
    },
    {
      "cell_type": "code",
      "source": [
        "# T7\n",
        "def direccion_estacion(lista_estaciones, id_estacion): \n",
        "  for estacion in lista_estaciones: \n",
        "    if estacion['id_estacion'] == id_estacion: \n",
        "      return estacion['direccion_estacion']"
      ],
      "metadata": {
        "id": "IWCGVu9RwrH9"
      },
      "execution_count": null,
      "outputs": []
    },
    {
      "cell_type": "code",
      "source": [
        "direccion_estacion(lista_estaciones, '12.0') "
      ],
      "metadata": {
        "colab": {
          "base_uri": "https://localhost:8080/",
          "height": 35
        },
        "id": "2ZrvKhEgxWzP",
        "outputId": "ac479e84-86b0-435b-e510-8c1cf9abb94e"
      },
      "execution_count": null,
      "outputs": [
        {
          "output_type": "execute_result",
          "data": {
            "text/plain": [
              "'Plaza Vicente López'"
            ],
            "application/vnd.google.colaboratory.intrinsic+json": {
              "type": "string"
            }
          },
          "metadata": {},
          "execution_count": 36
        }
      ]
    },
    {
      "cell_type": "markdown",
      "source": [
        "**8. Misceláneo**\n",
        "\n",
        "Estamos buscando a un sospechoso. Hacer una función que tome un conjunto de datos sobre recorridos y diga si alguno de ellos corresponde a un hombre de entre 30 y 40 años que partió de un Parque. El conjunto de datos puede ser una lista de registros o una tabla, según tu preferencia. "
      ],
      "metadata": {
        "id": "bFjbQQfZsVXW"
      }
    },
    {
      "cell_type": "code",
      "source": [
        "def sospechoso(recorridos): \n",
        "  sospechamos_de = []\n",
        "  for recorrido in recorridos: \n",
        "    if recorrido['genero_usuario'] == 'MASCULINO' and 30 < recorrido['edad_usuario'] < 40 and 'Parque' in recorrido['nombre_estacion_origen']: \n",
        "      sospechamos_de.append(recorrido['id_usuario'])\n",
        "      return sospechamos_de \n",
        "    else: \n",
        "      return 'No hay ningún sospechoso' "
      ],
      "metadata": {
        "id": "WojoZGlyvF8O"
      },
      "execution_count": null,
      "outputs": []
    },
    {
      "cell_type": "code",
      "source": [
        "sospechoso(lista_recorridos) "
      ],
      "metadata": {
        "colab": {
          "base_uri": "https://localhost:8080/",
          "height": 35
        },
        "id": "rUFCWGCHwJ9E",
        "outputId": "866308da-a7dd-43f8-d9c9-f76475f8f11f"
      },
      "execution_count": null,
      "outputs": [
        {
          "output_type": "execute_result",
          "data": {
            "text/plain": [
              "'No hay ningún sospechoso'"
            ],
            "application/vnd.google.colaboratory.intrinsic+json": {
              "type": "string"
            }
          },
          "metadata": {},
          "execution_count": 76
        }
      ]
    },
    {
      "cell_type": "markdown",
      "source": [
        "### Dataset de terrenos "
      ],
      "metadata": {
        "id": "nNGLR16BJdsc"
      }
    },
    {
      "cell_type": "code",
      "source": [
        "import pandas as pd \n",
        "terrenos = pd.read_csv(\"https://raw.githubusercontent.com/Gustrucco/IPC-UCEMA/master/terrenos/ds-18.csv\") \n",
        "terrenos.sample(5)"
      ],
      "metadata": {
        "colab": {
          "base_uri": "https://localhost:8080/",
          "height": 320
        },
        "id": "yrCUy9_wJf7P",
        "outputId": "6d8fa562-caaf-46ba-b423-016abf4702d1"
      },
      "execution_count": null,
      "outputs": [
        {
          "output_type": "execute_result",
          "data": {
            "text/plain": [
              "                          DIRECCION  PROPIEDADS  PRECIOUSD  PRECIOPESO  \\\n",
              "187                      B Aizpurua         187     460000    29440000   \n",
              "276                          SUPERI         292     650000    43680000   \n",
              "661            Bartolomé Mitre 1800        1173     790000    54905000   \n",
              "210            LUIS  SAENZ PEÑA 970         219     340000    21760000   \n",
              "740  ANCHORENA, TOMAS M. DE, DR 700         600    1200000    76500000   \n",
              "\n",
              "     DOLARM2  PESOSM2  COTIZACION TRIMESTRE_         BARRIO  COMUNA_  \n",
              "187     2460   157433          64    SEGUNDO  VILLA URQUIZA       12  \n",
              "276     2226   149589          67    SEGUNDO        COGHLAN       12  \n",
              "661      673    46807          70    SEGUNDO      BALVANERA        3  \n",
              "210     1553    99361          64    SEGUNDO   CONSTITUCION        1  \n",
              "740     2000   127500          64     PRIMER      BALVANERA        3  "
            ],
            "text/html": [
              "\n",
              "  <div id=\"df-4aadb9b8-53c1-4fdc-8aa8-e9a6edf19bfd\">\n",
              "    <div class=\"colab-df-container\">\n",
              "      <div>\n",
              "<style scoped>\n",
              "    .dataframe tbody tr th:only-of-type {\n",
              "        vertical-align: middle;\n",
              "    }\n",
              "\n",
              "    .dataframe tbody tr th {\n",
              "        vertical-align: top;\n",
              "    }\n",
              "\n",
              "    .dataframe thead th {\n",
              "        text-align: right;\n",
              "    }\n",
              "</style>\n",
              "<table border=\"1\" class=\"dataframe\">\n",
              "  <thead>\n",
              "    <tr style=\"text-align: right;\">\n",
              "      <th></th>\n",
              "      <th>DIRECCION</th>\n",
              "      <th>PROPIEDADS</th>\n",
              "      <th>PRECIOUSD</th>\n",
              "      <th>PRECIOPESO</th>\n",
              "      <th>DOLARM2</th>\n",
              "      <th>PESOSM2</th>\n",
              "      <th>COTIZACION</th>\n",
              "      <th>TRIMESTRE_</th>\n",
              "      <th>BARRIO</th>\n",
              "      <th>COMUNA_</th>\n",
              "    </tr>\n",
              "  </thead>\n",
              "  <tbody>\n",
              "    <tr>\n",
              "      <th>187</th>\n",
              "      <td>B Aizpurua</td>\n",
              "      <td>187</td>\n",
              "      <td>460000</td>\n",
              "      <td>29440000</td>\n",
              "      <td>2460</td>\n",
              "      <td>157433</td>\n",
              "      <td>64</td>\n",
              "      <td>SEGUNDO</td>\n",
              "      <td>VILLA URQUIZA</td>\n",
              "      <td>12</td>\n",
              "    </tr>\n",
              "    <tr>\n",
              "      <th>276</th>\n",
              "      <td>SUPERI</td>\n",
              "      <td>292</td>\n",
              "      <td>650000</td>\n",
              "      <td>43680000</td>\n",
              "      <td>2226</td>\n",
              "      <td>149589</td>\n",
              "      <td>67</td>\n",
              "      <td>SEGUNDO</td>\n",
              "      <td>COGHLAN</td>\n",
              "      <td>12</td>\n",
              "    </tr>\n",
              "    <tr>\n",
              "      <th>661</th>\n",
              "      <td>Bartolomé Mitre 1800</td>\n",
              "      <td>1173</td>\n",
              "      <td>790000</td>\n",
              "      <td>54905000</td>\n",
              "      <td>673</td>\n",
              "      <td>46807</td>\n",
              "      <td>70</td>\n",
              "      <td>SEGUNDO</td>\n",
              "      <td>BALVANERA</td>\n",
              "      <td>3</td>\n",
              "    </tr>\n",
              "    <tr>\n",
              "      <th>210</th>\n",
              "      <td>LUIS  SAENZ PEÑA 970</td>\n",
              "      <td>219</td>\n",
              "      <td>340000</td>\n",
              "      <td>21760000</td>\n",
              "      <td>1553</td>\n",
              "      <td>99361</td>\n",
              "      <td>64</td>\n",
              "      <td>SEGUNDO</td>\n",
              "      <td>CONSTITUCION</td>\n",
              "      <td>1</td>\n",
              "    </tr>\n",
              "    <tr>\n",
              "      <th>740</th>\n",
              "      <td>ANCHORENA, TOMAS M. DE, DR 700</td>\n",
              "      <td>600</td>\n",
              "      <td>1200000</td>\n",
              "      <td>76500000</td>\n",
              "      <td>2000</td>\n",
              "      <td>127500</td>\n",
              "      <td>64</td>\n",
              "      <td>PRIMER</td>\n",
              "      <td>BALVANERA</td>\n",
              "      <td>3</td>\n",
              "    </tr>\n",
              "  </tbody>\n",
              "</table>\n",
              "</div>\n",
              "      <button class=\"colab-df-convert\" onclick=\"convertToInteractive('df-4aadb9b8-53c1-4fdc-8aa8-e9a6edf19bfd')\"\n",
              "              title=\"Convert this dataframe to an interactive table.\"\n",
              "              style=\"display:none;\">\n",
              "        \n",
              "  <svg xmlns=\"http://www.w3.org/2000/svg\" height=\"24px\"viewBox=\"0 0 24 24\"\n",
              "       width=\"24px\">\n",
              "    <path d=\"M0 0h24v24H0V0z\" fill=\"none\"/>\n",
              "    <path d=\"M18.56 5.44l.94 2.06.94-2.06 2.06-.94-2.06-.94-.94-2.06-.94 2.06-2.06.94zm-11 1L8.5 8.5l.94-2.06 2.06-.94-2.06-.94L8.5 2.5l-.94 2.06-2.06.94zm10 10l.94 2.06.94-2.06 2.06-.94-2.06-.94-.94-2.06-.94 2.06-2.06.94z\"/><path d=\"M17.41 7.96l-1.37-1.37c-.4-.4-.92-.59-1.43-.59-.52 0-1.04.2-1.43.59L10.3 9.45l-7.72 7.72c-.78.78-.78 2.05 0 2.83L4 21.41c.39.39.9.59 1.41.59.51 0 1.02-.2 1.41-.59l7.78-7.78 2.81-2.81c.8-.78.8-2.07 0-2.86zM5.41 20L4 18.59l7.72-7.72 1.47 1.35L5.41 20z\"/>\n",
              "  </svg>\n",
              "      </button>\n",
              "      \n",
              "  <style>\n",
              "    .colab-df-container {\n",
              "      display:flex;\n",
              "      flex-wrap:wrap;\n",
              "      gap: 12px;\n",
              "    }\n",
              "\n",
              "    .colab-df-convert {\n",
              "      background-color: #E8F0FE;\n",
              "      border: none;\n",
              "      border-radius: 50%;\n",
              "      cursor: pointer;\n",
              "      display: none;\n",
              "      fill: #1967D2;\n",
              "      height: 32px;\n",
              "      padding: 0 0 0 0;\n",
              "      width: 32px;\n",
              "    }\n",
              "\n",
              "    .colab-df-convert:hover {\n",
              "      background-color: #E2EBFA;\n",
              "      box-shadow: 0px 1px 2px rgba(60, 64, 67, 0.3), 0px 1px 3px 1px rgba(60, 64, 67, 0.15);\n",
              "      fill: #174EA6;\n",
              "    }\n",
              "\n",
              "    [theme=dark] .colab-df-convert {\n",
              "      background-color: #3B4455;\n",
              "      fill: #D2E3FC;\n",
              "    }\n",
              "\n",
              "    [theme=dark] .colab-df-convert:hover {\n",
              "      background-color: #434B5C;\n",
              "      box-shadow: 0px 1px 3px 1px rgba(0, 0, 0, 0.15);\n",
              "      filter: drop-shadow(0px 1px 2px rgba(0, 0, 0, 0.3));\n",
              "      fill: #FFFFFF;\n",
              "    }\n",
              "  </style>\n",
              "\n",
              "      <script>\n",
              "        const buttonEl =\n",
              "          document.querySelector('#df-4aadb9b8-53c1-4fdc-8aa8-e9a6edf19bfd button.colab-df-convert');\n",
              "        buttonEl.style.display =\n",
              "          google.colab.kernel.accessAllowed ? 'block' : 'none';\n",
              "\n",
              "        async function convertToInteractive(key) {\n",
              "          const element = document.querySelector('#df-4aadb9b8-53c1-4fdc-8aa8-e9a6edf19bfd');\n",
              "          const dataTable =\n",
              "            await google.colab.kernel.invokeFunction('convertToInteractive',\n",
              "                                                     [key], {});\n",
              "          if (!dataTable) return;\n",
              "\n",
              "          const docLinkHtml = 'Like what you see? Visit the ' +\n",
              "            '<a target=\"_blank\" href=https://colab.research.google.com/notebooks/data_table.ipynb>data table notebook</a>'\n",
              "            + ' to learn more about interactive tables.';\n",
              "          element.innerHTML = '';\n",
              "          dataTable['output_type'] = 'display_data';\n",
              "          await google.colab.output.renderOutput(dataTable, element);\n",
              "          const docLink = document.createElement('div');\n",
              "          docLink.innerHTML = docLinkHtml;\n",
              "          element.appendChild(docLink);\n",
              "        }\n",
              "      </script>\n",
              "    </div>\n",
              "  </div>\n",
              "  "
            ]
          },
          "metadata": {},
          "execution_count": 251
        }
      ]
    },
    {
      "cell_type": "markdown",
      "source": [
        "1. cuantos terrenos hay \n",
        "2. cual es la valuacion total en dolares de los terrenos durante el tercer trimestre \n",
        "3. indicar barrio con mas terrenos "
      ],
      "metadata": {
        "id": "x58KfeIRJsEt"
      }
    },
    {
      "cell_type": "code",
      "source": [
        "# 1. cuantos terrenos hay\n",
        "len(terrenos)"
      ],
      "metadata": {
        "colab": {
          "base_uri": "https://localhost:8080/"
        },
        "id": "PUOfKzVDJ_em",
        "outputId": "66deed8c-bfcc-4b05-e49f-60efbca997ff"
      },
      "execution_count": null,
      "outputs": [
        {
          "output_type": "execute_result",
          "data": {
            "text/plain": [
              "1983"
            ]
          },
          "metadata": {},
          "execution_count": 262
        }
      ]
    },
    {
      "cell_type": "code",
      "source": [
        "# 2. cual es la valuacion total en dolares de los terrenos durante el tercer trimestre\n",
        "terrenos[(terrenos['TRIMESTRE_']=='TERCER')]['PRECIOUSD'].sum()"
      ],
      "metadata": {
        "colab": {
          "base_uri": "https://localhost:8080/"
        },
        "id": "yV0HKxhP23Cs",
        "outputId": "7313fdbe-1a7c-4e1e-b0e4-c48c498a2fe8"
      },
      "execution_count": null,
      "outputs": [
        {
          "output_type": "execute_result",
          "data": {
            "text/plain": [
              "68238900"
            ]
          },
          "metadata": {},
          "execution_count": 114
        }
      ]
    },
    {
      "cell_type": "code",
      "source": [
        "# 3. indicar barrio con mas terrenos\n",
        "terrenos.value_counts('BARRIO').head(1)"
      ],
      "metadata": {
        "colab": {
          "base_uri": "https://localhost:8080/"
        },
        "id": "-qQWtUk3KFSO",
        "outputId": "00bbfd83-a0d6-49e5-8a1c-1e00cbf2cd1d"
      },
      "execution_count": null,
      "outputs": [
        {
          "output_type": "execute_result",
          "data": {
            "text/plain": [
              "BARRIO\n",
              "VILLA CRESPO    148\n",
              "dtype: int64"
            ]
          },
          "metadata": {},
          "execution_count": 260
        }
      ]
    },
    {
      "cell_type": "code",
      "source": [
        "# 2. ¿Cual es la mayor cotizacion en nuñez?\n",
        "# 3. ¿Cual es la segunda comuna con mas terrenos? "
      ],
      "metadata": {
        "id": "u_wfAMcVhQNA"
      },
      "execution_count": null,
      "outputs": []
    },
    {
      "cell_type": "code",
      "source": [
        "terrenos[(terrenos['BARRIO'] == 'NUÑEZ')]['COTIZACION'].max()"
      ],
      "metadata": {
        "colab": {
          "base_uri": "https://localhost:8080/"
        },
        "id": "Tjfr48WmhUmG",
        "outputId": "538d7311-8e70-405d-f80b-91b3b3495f9f"
      },
      "execution_count": null,
      "outputs": [
        {
          "output_type": "execute_result",
          "data": {
            "text/plain": [
              "70"
            ]
          },
          "metadata": {},
          "execution_count": 255
        }
      ]
    },
    {
      "cell_type": "code",
      "source": [
        "terrenos.value_counts('COMUNA_') #comuna 10 con 198"
      ],
      "metadata": {
        "colab": {
          "base_uri": "https://localhost:8080/"
        },
        "id": "-v-EMrH5h_lL",
        "outputId": "5bdf219b-3c99-4de4-c329-50fa1a133af4"
      },
      "execution_count": null,
      "outputs": [
        {
          "output_type": "execute_result",
          "data": {
            "text/plain": [
              "COMUNA_\n",
              "15    311\n",
              "10    198\n",
              "12    198\n",
              "11    173\n",
              "4     159\n",
              "3     133\n",
              "7     124\n",
              "5     121\n",
              "13    118\n",
              "1     112\n",
              "9     105\n",
              "14    102\n",
              "6      92\n",
              "8      21\n",
              "2      16\n",
              "dtype: int64"
            ]
          },
          "metadata": {},
          "execution_count": 258
        }
      ]
    },
    {
      "cell_type": "markdown",
      "source": [
        "### Dataset de artistas "
      ],
      "metadata": {
        "id": "ATcahMg-ReI_"
      }
    },
    {
      "cell_type": "code",
      "source": [
        "artistas = pd.read_csv(\"\"\"https://raw.githubusercontent.com/Gustrucco/IPC-UCEMA/master/artists.csv\"\"\")\n",
        "artistas.sample(5) "
      ],
      "metadata": {
        "colab": {
          "base_uri": "https://localhost:8080/",
          "height": 206
        },
        "id": "tbHt6hGIM4xB",
        "outputId": "c7dc376f-a5c5-4515-834c-5342f8318ba1"
      },
      "execution_count": null,
      "outputs": [
        {
          "output_type": "execute_result",
          "data": {
            "text/plain": [
              "       Artist ID              Name Nationality Gender  Birth Year  Death Year\n",
              "2137        2395     José Guerrero    American   Male      1914.0      1991.0\n",
              "5734        6393        David Wing    American   Male      1947.0         NaN\n",
              "4994        5569    Daniel Spoerri       Swiss   Male      1930.0         NaN\n",
              "5260        5862  William Thompson    American   Male      1919.0         NaN\n",
              "11469      34221         Rong Rong     Chinese   Male      1968.0         NaN"
            ],
            "text/html": [
              "\n",
              "  <div id=\"df-7d59a6ab-31c9-479a-9919-50d15fdbe81b\">\n",
              "    <div class=\"colab-df-container\">\n",
              "      <div>\n",
              "<style scoped>\n",
              "    .dataframe tbody tr th:only-of-type {\n",
              "        vertical-align: middle;\n",
              "    }\n",
              "\n",
              "    .dataframe tbody tr th {\n",
              "        vertical-align: top;\n",
              "    }\n",
              "\n",
              "    .dataframe thead th {\n",
              "        text-align: right;\n",
              "    }\n",
              "</style>\n",
              "<table border=\"1\" class=\"dataframe\">\n",
              "  <thead>\n",
              "    <tr style=\"text-align: right;\">\n",
              "      <th></th>\n",
              "      <th>Artist ID</th>\n",
              "      <th>Name</th>\n",
              "      <th>Nationality</th>\n",
              "      <th>Gender</th>\n",
              "      <th>Birth Year</th>\n",
              "      <th>Death Year</th>\n",
              "    </tr>\n",
              "  </thead>\n",
              "  <tbody>\n",
              "    <tr>\n",
              "      <th>2137</th>\n",
              "      <td>2395</td>\n",
              "      <td>José Guerrero</td>\n",
              "      <td>American</td>\n",
              "      <td>Male</td>\n",
              "      <td>1914.0</td>\n",
              "      <td>1991.0</td>\n",
              "    </tr>\n",
              "    <tr>\n",
              "      <th>5734</th>\n",
              "      <td>6393</td>\n",
              "      <td>David Wing</td>\n",
              "      <td>American</td>\n",
              "      <td>Male</td>\n",
              "      <td>1947.0</td>\n",
              "      <td>NaN</td>\n",
              "    </tr>\n",
              "    <tr>\n",
              "      <th>4994</th>\n",
              "      <td>5569</td>\n",
              "      <td>Daniel Spoerri</td>\n",
              "      <td>Swiss</td>\n",
              "      <td>Male</td>\n",
              "      <td>1930.0</td>\n",
              "      <td>NaN</td>\n",
              "    </tr>\n",
              "    <tr>\n",
              "      <th>5260</th>\n",
              "      <td>5862</td>\n",
              "      <td>William Thompson</td>\n",
              "      <td>American</td>\n",
              "      <td>Male</td>\n",
              "      <td>1919.0</td>\n",
              "      <td>NaN</td>\n",
              "    </tr>\n",
              "    <tr>\n",
              "      <th>11469</th>\n",
              "      <td>34221</td>\n",
              "      <td>Rong Rong</td>\n",
              "      <td>Chinese</td>\n",
              "      <td>Male</td>\n",
              "      <td>1968.0</td>\n",
              "      <td>NaN</td>\n",
              "    </tr>\n",
              "  </tbody>\n",
              "</table>\n",
              "</div>\n",
              "      <button class=\"colab-df-convert\" onclick=\"convertToInteractive('df-7d59a6ab-31c9-479a-9919-50d15fdbe81b')\"\n",
              "              title=\"Convert this dataframe to an interactive table.\"\n",
              "              style=\"display:none;\">\n",
              "        \n",
              "  <svg xmlns=\"http://www.w3.org/2000/svg\" height=\"24px\"viewBox=\"0 0 24 24\"\n",
              "       width=\"24px\">\n",
              "    <path d=\"M0 0h24v24H0V0z\" fill=\"none\"/>\n",
              "    <path d=\"M18.56 5.44l.94 2.06.94-2.06 2.06-.94-2.06-.94-.94-2.06-.94 2.06-2.06.94zm-11 1L8.5 8.5l.94-2.06 2.06-.94-2.06-.94L8.5 2.5l-.94 2.06-2.06.94zm10 10l.94 2.06.94-2.06 2.06-.94-2.06-.94-.94-2.06-.94 2.06-2.06.94z\"/><path d=\"M17.41 7.96l-1.37-1.37c-.4-.4-.92-.59-1.43-.59-.52 0-1.04.2-1.43.59L10.3 9.45l-7.72 7.72c-.78.78-.78 2.05 0 2.83L4 21.41c.39.39.9.59 1.41.59.51 0 1.02-.2 1.41-.59l7.78-7.78 2.81-2.81c.8-.78.8-2.07 0-2.86zM5.41 20L4 18.59l7.72-7.72 1.47 1.35L5.41 20z\"/>\n",
              "  </svg>\n",
              "      </button>\n",
              "      \n",
              "  <style>\n",
              "    .colab-df-container {\n",
              "      display:flex;\n",
              "      flex-wrap:wrap;\n",
              "      gap: 12px;\n",
              "    }\n",
              "\n",
              "    .colab-df-convert {\n",
              "      background-color: #E8F0FE;\n",
              "      border: none;\n",
              "      border-radius: 50%;\n",
              "      cursor: pointer;\n",
              "      display: none;\n",
              "      fill: #1967D2;\n",
              "      height: 32px;\n",
              "      padding: 0 0 0 0;\n",
              "      width: 32px;\n",
              "    }\n",
              "\n",
              "    .colab-df-convert:hover {\n",
              "      background-color: #E2EBFA;\n",
              "      box-shadow: 0px 1px 2px rgba(60, 64, 67, 0.3), 0px 1px 3px 1px rgba(60, 64, 67, 0.15);\n",
              "      fill: #174EA6;\n",
              "    }\n",
              "\n",
              "    [theme=dark] .colab-df-convert {\n",
              "      background-color: #3B4455;\n",
              "      fill: #D2E3FC;\n",
              "    }\n",
              "\n",
              "    [theme=dark] .colab-df-convert:hover {\n",
              "      background-color: #434B5C;\n",
              "      box-shadow: 0px 1px 3px 1px rgba(0, 0, 0, 0.15);\n",
              "      filter: drop-shadow(0px 1px 2px rgba(0, 0, 0, 0.3));\n",
              "      fill: #FFFFFF;\n",
              "    }\n",
              "  </style>\n",
              "\n",
              "      <script>\n",
              "        const buttonEl =\n",
              "          document.querySelector('#df-7d59a6ab-31c9-479a-9919-50d15fdbe81b button.colab-df-convert');\n",
              "        buttonEl.style.display =\n",
              "          google.colab.kernel.accessAllowed ? 'block' : 'none';\n",
              "\n",
              "        async function convertToInteractive(key) {\n",
              "          const element = document.querySelector('#df-7d59a6ab-31c9-479a-9919-50d15fdbe81b');\n",
              "          const dataTable =\n",
              "            await google.colab.kernel.invokeFunction('convertToInteractive',\n",
              "                                                     [key], {});\n",
              "          if (!dataTable) return;\n",
              "\n",
              "          const docLinkHtml = 'Like what you see? Visit the ' +\n",
              "            '<a target=\"_blank\" href=https://colab.research.google.com/notebooks/data_table.ipynb>data table notebook</a>'\n",
              "            + ' to learn more about interactive tables.';\n",
              "          element.innerHTML = '';\n",
              "          dataTable['output_type'] = 'display_data';\n",
              "          await google.colab.output.renderOutput(dataTable, element);\n",
              "          const docLink = document.createElement('div');\n",
              "          docLink.innerHTML = docLinkHtml;\n",
              "          element.appendChild(docLink);\n",
              "        }\n",
              "      </script>\n",
              "    </div>\n",
              "  </div>\n",
              "  "
            ]
          },
          "metadata": {},
          "execution_count": 116
        }
      ]
    },
    {
      "cell_type": "code",
      "source": [
        "# artistas con nacionalidad española \n",
        "# Filtrado: el & (y) y la muralla | (ni)\n",
        "artistas[(artistas['Nationality'] == 'Spanish')]"
      ],
      "metadata": {
        "colab": {
          "base_uri": "https://localhost:8080/",
          "height": 424
        },
        "id": "29iMLE93i9mz",
        "outputId": "19b2b43a-79b6-4677-a01e-9e101d630190"
      },
      "execution_count": null,
      "outputs": [
        {
          "output_type": "execute_result",
          "data": {
            "text/plain": [
              "       Artist ID                  Name Nationality Gender  Birth Year  \\\n",
              "1              2        Doroteo Arnaiz     Spanish   Male      1936.0   \n",
              "13            16     Cristobal Arteche     Spanish   Male      1900.0   \n",
              "155          179        Mariano Andreù     Spanish   Male      1901.0   \n",
              "159          183  Manuel Angeles Ortiz     Spanish   Male      1895.0   \n",
              "287          329        Miquel Barcelo     Spanish   Male      1957.0   \n",
              "...          ...                   ...         ...    ...         ...   \n",
              "14305      47229         Rocco Redondo     Spanish   Male      1950.0   \n",
              "14729      48665             Juan Uslé     Spanish   Male      1954.0   \n",
              "14783      48863          Pierre Daura     Spanish   Male      1896.0   \n",
              "14859      49199           Marcel Giró     Spanish   Male      1913.0   \n",
              "15062      67325          Carlos Saura     Spanish    NaN      1932.0   \n",
              "\n",
              "       Death Year  \n",
              "1             NaN  \n",
              "13         1964.0  \n",
              "155           NaN  \n",
              "159        1984.0  \n",
              "287           NaN  \n",
              "...           ...  \n",
              "14305         NaN  \n",
              "14729         NaN  \n",
              "14783      1976.0  \n",
              "14859      2011.0  \n",
              "15062         NaN  \n",
              "\n",
              "[153 rows x 6 columns]"
            ],
            "text/html": [
              "\n",
              "  <div id=\"df-d9808317-4ae5-448b-afcd-84a8607f5e16\">\n",
              "    <div class=\"colab-df-container\">\n",
              "      <div>\n",
              "<style scoped>\n",
              "    .dataframe tbody tr th:only-of-type {\n",
              "        vertical-align: middle;\n",
              "    }\n",
              "\n",
              "    .dataframe tbody tr th {\n",
              "        vertical-align: top;\n",
              "    }\n",
              "\n",
              "    .dataframe thead th {\n",
              "        text-align: right;\n",
              "    }\n",
              "</style>\n",
              "<table border=\"1\" class=\"dataframe\">\n",
              "  <thead>\n",
              "    <tr style=\"text-align: right;\">\n",
              "      <th></th>\n",
              "      <th>Artist ID</th>\n",
              "      <th>Name</th>\n",
              "      <th>Nationality</th>\n",
              "      <th>Gender</th>\n",
              "      <th>Birth Year</th>\n",
              "      <th>Death Year</th>\n",
              "    </tr>\n",
              "  </thead>\n",
              "  <tbody>\n",
              "    <tr>\n",
              "      <th>1</th>\n",
              "      <td>2</td>\n",
              "      <td>Doroteo Arnaiz</td>\n",
              "      <td>Spanish</td>\n",
              "      <td>Male</td>\n",
              "      <td>1936.0</td>\n",
              "      <td>NaN</td>\n",
              "    </tr>\n",
              "    <tr>\n",
              "      <th>13</th>\n",
              "      <td>16</td>\n",
              "      <td>Cristobal Arteche</td>\n",
              "      <td>Spanish</td>\n",
              "      <td>Male</td>\n",
              "      <td>1900.0</td>\n",
              "      <td>1964.0</td>\n",
              "    </tr>\n",
              "    <tr>\n",
              "      <th>155</th>\n",
              "      <td>179</td>\n",
              "      <td>Mariano Andreù</td>\n",
              "      <td>Spanish</td>\n",
              "      <td>Male</td>\n",
              "      <td>1901.0</td>\n",
              "      <td>NaN</td>\n",
              "    </tr>\n",
              "    <tr>\n",
              "      <th>159</th>\n",
              "      <td>183</td>\n",
              "      <td>Manuel Angeles Ortiz</td>\n",
              "      <td>Spanish</td>\n",
              "      <td>Male</td>\n",
              "      <td>1895.0</td>\n",
              "      <td>1984.0</td>\n",
              "    </tr>\n",
              "    <tr>\n",
              "      <th>287</th>\n",
              "      <td>329</td>\n",
              "      <td>Miquel Barcelo</td>\n",
              "      <td>Spanish</td>\n",
              "      <td>Male</td>\n",
              "      <td>1957.0</td>\n",
              "      <td>NaN</td>\n",
              "    </tr>\n",
              "    <tr>\n",
              "      <th>...</th>\n",
              "      <td>...</td>\n",
              "      <td>...</td>\n",
              "      <td>...</td>\n",
              "      <td>...</td>\n",
              "      <td>...</td>\n",
              "      <td>...</td>\n",
              "    </tr>\n",
              "    <tr>\n",
              "      <th>14305</th>\n",
              "      <td>47229</td>\n",
              "      <td>Rocco Redondo</td>\n",
              "      <td>Spanish</td>\n",
              "      <td>Male</td>\n",
              "      <td>1950.0</td>\n",
              "      <td>NaN</td>\n",
              "    </tr>\n",
              "    <tr>\n",
              "      <th>14729</th>\n",
              "      <td>48665</td>\n",
              "      <td>Juan Uslé</td>\n",
              "      <td>Spanish</td>\n",
              "      <td>Male</td>\n",
              "      <td>1954.0</td>\n",
              "      <td>NaN</td>\n",
              "    </tr>\n",
              "    <tr>\n",
              "      <th>14783</th>\n",
              "      <td>48863</td>\n",
              "      <td>Pierre Daura</td>\n",
              "      <td>Spanish</td>\n",
              "      <td>Male</td>\n",
              "      <td>1896.0</td>\n",
              "      <td>1976.0</td>\n",
              "    </tr>\n",
              "    <tr>\n",
              "      <th>14859</th>\n",
              "      <td>49199</td>\n",
              "      <td>Marcel Giró</td>\n",
              "      <td>Spanish</td>\n",
              "      <td>Male</td>\n",
              "      <td>1913.0</td>\n",
              "      <td>2011.0</td>\n",
              "    </tr>\n",
              "    <tr>\n",
              "      <th>15062</th>\n",
              "      <td>67325</td>\n",
              "      <td>Carlos Saura</td>\n",
              "      <td>Spanish</td>\n",
              "      <td>NaN</td>\n",
              "      <td>1932.0</td>\n",
              "      <td>NaN</td>\n",
              "    </tr>\n",
              "  </tbody>\n",
              "</table>\n",
              "<p>153 rows × 6 columns</p>\n",
              "</div>\n",
              "      <button class=\"colab-df-convert\" onclick=\"convertToInteractive('df-d9808317-4ae5-448b-afcd-84a8607f5e16')\"\n",
              "              title=\"Convert this dataframe to an interactive table.\"\n",
              "              style=\"display:none;\">\n",
              "        \n",
              "  <svg xmlns=\"http://www.w3.org/2000/svg\" height=\"24px\"viewBox=\"0 0 24 24\"\n",
              "       width=\"24px\">\n",
              "    <path d=\"M0 0h24v24H0V0z\" fill=\"none\"/>\n",
              "    <path d=\"M18.56 5.44l.94 2.06.94-2.06 2.06-.94-2.06-.94-.94-2.06-.94 2.06-2.06.94zm-11 1L8.5 8.5l.94-2.06 2.06-.94-2.06-.94L8.5 2.5l-.94 2.06-2.06.94zm10 10l.94 2.06.94-2.06 2.06-.94-2.06-.94-.94-2.06-.94 2.06-2.06.94z\"/><path d=\"M17.41 7.96l-1.37-1.37c-.4-.4-.92-.59-1.43-.59-.52 0-1.04.2-1.43.59L10.3 9.45l-7.72 7.72c-.78.78-.78 2.05 0 2.83L4 21.41c.39.39.9.59 1.41.59.51 0 1.02-.2 1.41-.59l7.78-7.78 2.81-2.81c.8-.78.8-2.07 0-2.86zM5.41 20L4 18.59l7.72-7.72 1.47 1.35L5.41 20z\"/>\n",
              "  </svg>\n",
              "      </button>\n",
              "      \n",
              "  <style>\n",
              "    .colab-df-container {\n",
              "      display:flex;\n",
              "      flex-wrap:wrap;\n",
              "      gap: 12px;\n",
              "    }\n",
              "\n",
              "    .colab-df-convert {\n",
              "      background-color: #E8F0FE;\n",
              "      border: none;\n",
              "      border-radius: 50%;\n",
              "      cursor: pointer;\n",
              "      display: none;\n",
              "      fill: #1967D2;\n",
              "      height: 32px;\n",
              "      padding: 0 0 0 0;\n",
              "      width: 32px;\n",
              "    }\n",
              "\n",
              "    .colab-df-convert:hover {\n",
              "      background-color: #E2EBFA;\n",
              "      box-shadow: 0px 1px 2px rgba(60, 64, 67, 0.3), 0px 1px 3px 1px rgba(60, 64, 67, 0.15);\n",
              "      fill: #174EA6;\n",
              "    }\n",
              "\n",
              "    [theme=dark] .colab-df-convert {\n",
              "      background-color: #3B4455;\n",
              "      fill: #D2E3FC;\n",
              "    }\n",
              "\n",
              "    [theme=dark] .colab-df-convert:hover {\n",
              "      background-color: #434B5C;\n",
              "      box-shadow: 0px 1px 3px 1px rgba(0, 0, 0, 0.15);\n",
              "      filter: drop-shadow(0px 1px 2px rgba(0, 0, 0, 0.3));\n",
              "      fill: #FFFFFF;\n",
              "    }\n",
              "  </style>\n",
              "\n",
              "      <script>\n",
              "        const buttonEl =\n",
              "          document.querySelector('#df-d9808317-4ae5-448b-afcd-84a8607f5e16 button.colab-df-convert');\n",
              "        buttonEl.style.display =\n",
              "          google.colab.kernel.accessAllowed ? 'block' : 'none';\n",
              "\n",
              "        async function convertToInteractive(key) {\n",
              "          const element = document.querySelector('#df-d9808317-4ae5-448b-afcd-84a8607f5e16');\n",
              "          const dataTable =\n",
              "            await google.colab.kernel.invokeFunction('convertToInteractive',\n",
              "                                                     [key], {});\n",
              "          if (!dataTable) return;\n",
              "\n",
              "          const docLinkHtml = 'Like what you see? Visit the ' +\n",
              "            '<a target=\"_blank\" href=https://colab.research.google.com/notebooks/data_table.ipynb>data table notebook</a>'\n",
              "            + ' to learn more about interactive tables.';\n",
              "          element.innerHTML = '';\n",
              "          dataTable['output_type'] = 'display_data';\n",
              "          await google.colab.output.renderOutput(dataTable, element);\n",
              "          const docLink = document.createElement('div');\n",
              "          docLink.innerHTML = docLinkHtml;\n",
              "          element.appendChild(docLink);\n",
              "        }\n",
              "      </script>\n",
              "    </div>\n",
              "  </div>\n",
              "  "
            ]
          },
          "metadata": {},
          "execution_count": 259
        }
      ]
    },
    {
      "cell_type": "markdown",
      "source": [
        "1- ¿Qué cantidad de artistas hay? ¿Y qué artista nació más recientemente?"
      ],
      "metadata": {
        "id": "Jg0DgbaoBTvw"
      }
    },
    {
      "cell_type": "code",
      "source": [
        "len(artistas)"
      ],
      "metadata": {
        "colab": {
          "base_uri": "https://localhost:8080/"
        },
        "id": "6j7EpuW5BV7B",
        "outputId": "fdc7c91b-c42c-4ac0-d521-6d12c199410b"
      },
      "execution_count": null,
      "outputs": [
        {
          "output_type": "execute_result",
          "data": {
            "text/plain": [
              "15091"
            ]
          },
          "metadata": {},
          "execution_count": 117
        }
      ]
    },
    {
      "cell_type": "code",
      "source": [
        "print(artistas['Birth Year'].max())\n",
        "artistas[(artistas['Birth Year']==2012)]\n",
        "# Alternativa: \n",
        "# artistas.sort_values(ascending=False).head(1)\n",
        "# artistas.iloc[14047]"
      ],
      "metadata": {
        "colab": {
          "base_uri": "https://localhost:8080/",
          "height": 98
        },
        "id": "fdxir_5LBkTa",
        "outputId": "1038ee51-1b45-4616-f9bc-8022fa85a159"
      },
      "execution_count": null,
      "outputs": [
        {
          "output_type": "stream",
          "name": "stdout",
          "text": [
            "2012.0\n"
          ]
        },
        {
          "output_type": "execute_result",
          "data": {
            "text/plain": [
              "       Artist ID                     Name Nationality Gender  Birth Year  \\\n",
              "14047      46313  Technology Will Save Us         NaN    NaN      2012.0   \n",
              "\n",
              "       Death Year  \n",
              "14047         NaN  "
            ],
            "text/html": [
              "\n",
              "  <div id=\"df-c8cbed10-9e5f-4751-8393-09e197a3632e\">\n",
              "    <div class=\"colab-df-container\">\n",
              "      <div>\n",
              "<style scoped>\n",
              "    .dataframe tbody tr th:only-of-type {\n",
              "        vertical-align: middle;\n",
              "    }\n",
              "\n",
              "    .dataframe tbody tr th {\n",
              "        vertical-align: top;\n",
              "    }\n",
              "\n",
              "    .dataframe thead th {\n",
              "        text-align: right;\n",
              "    }\n",
              "</style>\n",
              "<table border=\"1\" class=\"dataframe\">\n",
              "  <thead>\n",
              "    <tr style=\"text-align: right;\">\n",
              "      <th></th>\n",
              "      <th>Artist ID</th>\n",
              "      <th>Name</th>\n",
              "      <th>Nationality</th>\n",
              "      <th>Gender</th>\n",
              "      <th>Birth Year</th>\n",
              "      <th>Death Year</th>\n",
              "    </tr>\n",
              "  </thead>\n",
              "  <tbody>\n",
              "    <tr>\n",
              "      <th>14047</th>\n",
              "      <td>46313</td>\n",
              "      <td>Technology Will Save Us</td>\n",
              "      <td>NaN</td>\n",
              "      <td>NaN</td>\n",
              "      <td>2012.0</td>\n",
              "      <td>NaN</td>\n",
              "    </tr>\n",
              "  </tbody>\n",
              "</table>\n",
              "</div>\n",
              "      <button class=\"colab-df-convert\" onclick=\"convertToInteractive('df-c8cbed10-9e5f-4751-8393-09e197a3632e')\"\n",
              "              title=\"Convert this dataframe to an interactive table.\"\n",
              "              style=\"display:none;\">\n",
              "        \n",
              "  <svg xmlns=\"http://www.w3.org/2000/svg\" height=\"24px\"viewBox=\"0 0 24 24\"\n",
              "       width=\"24px\">\n",
              "    <path d=\"M0 0h24v24H0V0z\" fill=\"none\"/>\n",
              "    <path d=\"M18.56 5.44l.94 2.06.94-2.06 2.06-.94-2.06-.94-.94-2.06-.94 2.06-2.06.94zm-11 1L8.5 8.5l.94-2.06 2.06-.94-2.06-.94L8.5 2.5l-.94 2.06-2.06.94zm10 10l.94 2.06.94-2.06 2.06-.94-2.06-.94-.94-2.06-.94 2.06-2.06.94z\"/><path d=\"M17.41 7.96l-1.37-1.37c-.4-.4-.92-.59-1.43-.59-.52 0-1.04.2-1.43.59L10.3 9.45l-7.72 7.72c-.78.78-.78 2.05 0 2.83L4 21.41c.39.39.9.59 1.41.59.51 0 1.02-.2 1.41-.59l7.78-7.78 2.81-2.81c.8-.78.8-2.07 0-2.86zM5.41 20L4 18.59l7.72-7.72 1.47 1.35L5.41 20z\"/>\n",
              "  </svg>\n",
              "      </button>\n",
              "      \n",
              "  <style>\n",
              "    .colab-df-container {\n",
              "      display:flex;\n",
              "      flex-wrap:wrap;\n",
              "      gap: 12px;\n",
              "    }\n",
              "\n",
              "    .colab-df-convert {\n",
              "      background-color: #E8F0FE;\n",
              "      border: none;\n",
              "      border-radius: 50%;\n",
              "      cursor: pointer;\n",
              "      display: none;\n",
              "      fill: #1967D2;\n",
              "      height: 32px;\n",
              "      padding: 0 0 0 0;\n",
              "      width: 32px;\n",
              "    }\n",
              "\n",
              "    .colab-df-convert:hover {\n",
              "      background-color: #E2EBFA;\n",
              "      box-shadow: 0px 1px 2px rgba(60, 64, 67, 0.3), 0px 1px 3px 1px rgba(60, 64, 67, 0.15);\n",
              "      fill: #174EA6;\n",
              "    }\n",
              "\n",
              "    [theme=dark] .colab-df-convert {\n",
              "      background-color: #3B4455;\n",
              "      fill: #D2E3FC;\n",
              "    }\n",
              "\n",
              "    [theme=dark] .colab-df-convert:hover {\n",
              "      background-color: #434B5C;\n",
              "      box-shadow: 0px 1px 3px 1px rgba(0, 0, 0, 0.15);\n",
              "      filter: drop-shadow(0px 1px 2px rgba(0, 0, 0, 0.3));\n",
              "      fill: #FFFFFF;\n",
              "    }\n",
              "  </style>\n",
              "\n",
              "      <script>\n",
              "        const buttonEl =\n",
              "          document.querySelector('#df-c8cbed10-9e5f-4751-8393-09e197a3632e button.colab-df-convert');\n",
              "        buttonEl.style.display =\n",
              "          google.colab.kernel.accessAllowed ? 'block' : 'none';\n",
              "\n",
              "        async function convertToInteractive(key) {\n",
              "          const element = document.querySelector('#df-c8cbed10-9e5f-4751-8393-09e197a3632e');\n",
              "          const dataTable =\n",
              "            await google.colab.kernel.invokeFunction('convertToInteractive',\n",
              "                                                     [key], {});\n",
              "          if (!dataTable) return;\n",
              "\n",
              "          const docLinkHtml = 'Like what you see? Visit the ' +\n",
              "            '<a target=\"_blank\" href=https://colab.research.google.com/notebooks/data_table.ipynb>data table notebook</a>'\n",
              "            + ' to learn more about interactive tables.';\n",
              "          element.innerHTML = '';\n",
              "          dataTable['output_type'] = 'display_data';\n",
              "          await google.colab.output.renderOutput(dataTable, element);\n",
              "          const docLink = document.createElement('div');\n",
              "          docLink.innerHTML = docLinkHtml;\n",
              "          element.appendChild(docLink);\n",
              "        }\n",
              "      </script>\n",
              "    </div>\n",
              "  </div>\n",
              "  "
            ]
          },
          "metadata": {},
          "execution_count": 125
        }
      ]
    },
    {
      "cell_type": "markdown",
      "source": [
        "5- Hacer una función que tome una lista de artistas y devuelva la década en la que nació cada uno de ellos."
      ],
      "metadata": {
        "id": "gN-93f4hH_1m"
      }
    },
    {
      "cell_type": "code",
      "source": [
        "lista_artistas = [{'Artist ID': 1,\n",
        "'Name': 'Robert Arneson',\n",
        "'Nationality': 'American',\n",
        "'Gender': 'Male',\n",
        "'Birth Year': 1930.0,\n",
        "'Death Year': 1992.0},\n",
        "{'Artist ID': 11,\n",
        "'Name': 'Jean (Hans) Arp',\n",
        "'Nationality': 'French',\n",
        "'Gender': 'Male',\n",
        "'Birth Year': 1886.0,\n",
        "'Death Year': 1966.0},\n",
        "{'Artist ID': 13,\n",
        "'Name': 'J. Arrelano Fischer',\n",
        "'Nationality': 'Mexican',\n",
        "'Gender': 'Male',\n",
        "'Birth Year': 1911.0,\n",
        "'Death Year': 1995.0},\n",
        "{'Artist ID': 15,\n",
        "'Name': 'Folke Arstrom',\n",
        "'Nationality': 'Swedish',\n",
        "'Gender': 'Male',\n",
        "'Birth Year': 1907.0,\n",
        "'Death Year': 1997.0},\n",
        "{'Artist ID': 16,\n",
        "'Name': 'Cristobal Arteche',\n",
        "'Nationality': 'Spanish',\n",
        "'Gender': 'Male',\n",
        "'Birth Year': 1900.0,\n",
        "'Death Year': 1964.0},\n",
        "{'Artist ID': 19,\n",
        "'Name': 'Richard Artschwager',\n",
        "'Nationality': 'American',\n",
        "'Gender': 'Male',\n",
        "'Birth Year': 1923.0,\n",
        "'Death Year': 2013.0},\n",
        "{'Artist ID': 21,\n",
        "'Name': 'Ruth Asawa',\n",
        "'Nationality': 'American',\n",
        "'Gender': 'Female',\n",
        "'Birth Year': 1926.0,\n",
        "'Death Year': 2013.0},\n",
        "{'Artist ID': 23,\n",
        "'Name': 'Charles Robert Ashbee',\n",
        "'Nationality': 'British',\n",
        "'Gender': 'Male',\n",
        "'Birth Year': 1863.0,\n",
        "'Death Year': 1942.0},\n",
        "{'Artist ID': 25,\n",
        "'Name': 'E. M. Ashe',\n",
        "'Nationality': 'American',\n",
        "'Gender': 'Male',\n",
        "'Birth Year': 1867.0,\n",
        "'Death Year': 1941.0},\n",
        "{'Artist ID': 27,\n",
        "'Name': 'Erik Gunnar Asplund',\n",
        "'Nationality': 'Swedish',\n",
        "'Gender': 'Male',\n",
        "'Birth Year': 1885.0,\n",
        "'Death Year': 1940.0\n",
        "}]"
      ],
      "metadata": {
        "id": "LFeuHngyINIs"
      },
      "execution_count": null,
      "outputs": []
    },
    {
      "cell_type": "code",
      "source": [
        "def decada_de_nacimiento(lista_artistas): \n",
        "  decadas = []\n",
        "  for artista in lista_artistas: \n",
        "    decadas.append(str(artista['Birth Year'])[2] + '0') \n",
        "  return decadas "
      ],
      "metadata": {
        "id": "4ZlpjMiFIAmM"
      },
      "execution_count": null,
      "outputs": []
    },
    {
      "cell_type": "code",
      "source": [
        "decada_de_nacimiento(lista_artistas)"
      ],
      "metadata": {
        "colab": {
          "base_uri": "https://localhost:8080/"
        },
        "id": "aElTntwWJUn-",
        "outputId": "1f1587d6-fb57-4b2f-f798-13896e8a35c7"
      },
      "execution_count": null,
      "outputs": [
        {
          "output_type": "execute_result",
          "data": {
            "text/plain": [
              "['30', '80', '10', '00', '00', '20', '20', '60', '60', '80']"
            ]
          },
          "metadata": {},
          "execution_count": 142
        }
      ]
    },
    {
      "cell_type": "markdown",
      "source": [
        "7- Hacer una función que tome una lista de artistas y devuelva todos los que tengan un año de nacimiento posterior al año promedio del dataframe."
      ],
      "metadata": {
        "id": "hcVOytIlaZ_0"
      }
    },
    {
      "cell_type": "code",
      "source": [
        "def promedio(artistas): \n",
        "  suma = []\n",
        "  for artista in artistas: \n",
        "    suma.append(artista['Birth Year'])\n",
        "  return sum(suma) / len(suma)\n",
        "\n",
        "def artistas_jovenes(artistas): \n",
        "  superiores_al_promedio = [] \n",
        "  for artista in artistas: \n",
        "    if int(artista['Birth Year']) > int(promedio(artistas)): \n",
        "      superiores_al_promedio.append(artista)\n",
        "  return superiores_al_promedio "
      ],
      "metadata": {
        "id": "BwWQEzp7afY-"
      },
      "execution_count": null,
      "outputs": []
    },
    {
      "cell_type": "code",
      "source": [
        "promedio(lista_artistas)"
      ],
      "metadata": {
        "colab": {
          "base_uri": "https://localhost:8080/"
        },
        "id": "m2wurxNZfhh0",
        "outputId": "16673e1c-bd44-4e80-cb2b-3a8c6bc758c3"
      },
      "execution_count": null,
      "outputs": [
        {
          "output_type": "execute_result",
          "data": {
            "text/plain": [
              "1899.8"
            ]
          },
          "metadata": {},
          "execution_count": 194
        }
      ]
    },
    {
      "cell_type": "code",
      "source": [
        "artistas_jovenes(lista_artistas)"
      ],
      "metadata": {
        "colab": {
          "base_uri": "https://localhost:8080/"
        },
        "id": "Iax0M2xZePC0",
        "outputId": "057d8928-0a3a-47d5-97f3-d8977e01f4a7"
      },
      "execution_count": null,
      "outputs": [
        {
          "output_type": "execute_result",
          "data": {
            "text/plain": [
              "[{'Artist ID': 1,\n",
              "  'Birth Year': 1930.0,\n",
              "  'Death Year': 1992.0,\n",
              "  'Gender': 'Male',\n",
              "  'Name': 'Robert Arneson',\n",
              "  'Nationality': 'American'},\n",
              " {'Artist ID': 13,\n",
              "  'Birth Year': 1911.0,\n",
              "  'Death Year': 1995.0,\n",
              "  'Gender': 'Male',\n",
              "  'Name': 'J. Arrelano Fischer',\n",
              "  'Nationality': 'Mexican'},\n",
              " {'Artist ID': 15,\n",
              "  'Birth Year': 1907.0,\n",
              "  'Death Year': 1997.0,\n",
              "  'Gender': 'Male',\n",
              "  'Name': 'Folke Arstrom',\n",
              "  'Nationality': 'Swedish'},\n",
              " {'Artist ID': 16,\n",
              "  'Birth Year': 1900.0,\n",
              "  'Death Year': 1964.0,\n",
              "  'Gender': 'Male',\n",
              "  'Name': 'Cristobal Arteche',\n",
              "  'Nationality': 'Spanish'},\n",
              " {'Artist ID': 19,\n",
              "  'Birth Year': 1923.0,\n",
              "  'Death Year': 2013.0,\n",
              "  'Gender': 'Male',\n",
              "  'Name': 'Richard Artschwager',\n",
              "  'Nationality': 'American'},\n",
              " {'Artist ID': 21,\n",
              "  'Birth Year': 1926.0,\n",
              "  'Death Year': 2013.0,\n",
              "  'Gender': 'Female',\n",
              "  'Name': 'Ruth Asawa',\n",
              "  'Nationality': 'American'}]"
            ]
          },
          "metadata": {},
          "execution_count": 192
        }
      ]
    },
    {
      "cell_type": "markdown",
      "source": [
        "### Dataset de películas \n",
        "https://colab.research.google.com/drive/18IuGGwGZav8TP5nQSFs0Rd0PpLLZtw9Z?usp=sharing"
      ],
      "metadata": {
        "id": "Yc4ONBhJJ5jA"
      }
    },
    {
      "cell_type": "markdown",
      "source": [
        "## Parcialito integrador"
      ],
      "metadata": {
        "id": "L808zn54JtoS"
      }
    },
    {
      "cell_type": "code",
      "source": [
        "# Falta el 4. Amigo invisible "
      ],
      "metadata": {
        "id": "H6gAtPErNcsp"
      },
      "execution_count": null,
      "outputs": []
    },
    {
      "cell_type": "markdown",
      "source": [
        "**1. Modo de dinosaurio ON**\n",
        "\n",
        "No sé si notaste que los nombres de los saurópsidos (dinosaurios) suelen terminar con el sufijo \"aurus\", por ejemplo: \"argensauro\", \"gigantosauro\". \n",
        "\n",
        "Creá una función _saurear_ que ayude a l@s biolog@s de campo a nombrar sus hallazgos:\n",
        "\n",
        "```python\n",
        ">>> saurear(\"giganto\")\n",
        "'gigantosauro'\n",
        "\n",
        "```"
      ],
      "metadata": {
        "id": "UNIH7kutJxfA"
      }
    },
    {
      "cell_type": "code",
      "source": [
        "def saurear(dinosaurio): \n",
        "  return dinosaurio + 'sauro'"
      ],
      "metadata": {
        "id": "6iAlsVZ8J2gm"
      },
      "execution_count": null,
      "outputs": []
    },
    {
      "cell_type": "code",
      "source": [
        "saurear(\"giganto\") "
      ],
      "metadata": {
        "colab": {
          "base_uri": "https://localhost:8080/",
          "height": 35
        },
        "id": "dELXUdlUKA1N",
        "outputId": "858854cb-437e-42c8-fbbb-98d3c9059576"
      },
      "execution_count": null,
      "outputs": [
        {
          "output_type": "execute_result",
          "data": {
            "text/plain": [
              "'gigantosauro'"
            ],
            "application/vnd.google.colaboratory.intrinsic+json": {
              "type": "string"
            }
          },
          "metadata": {},
          "execution_count": 56
        }
      ]
    },
    {
      "cell_type": "markdown",
      "source": [
        "**2. Año bisiesto**\n",
        "\n",
        "La nona Norma dice que los años bisiestos traen suerte. La nona le falla la memoria para recordar cuál es bisiesto o no. Creá la función _es_bisiesto_, que tome un año (>2000) y diga si es o no bisiesto. Tené en cuenta que el año 2000 fué bisiesto y esto pasa cada 4 años.\n",
        "\n",
        "```\n",
        ">>> es_bisiesto(2060)\n",
        "True\n",
        "```"
      ],
      "metadata": {
        "id": "VECtL6BtKFBs"
      }
    },
    {
      "cell_type": "code",
      "source": [
        "def es_bisiesto(anio): \n",
        "  return anio % 4 == 0"
      ],
      "metadata": {
        "id": "XFHkgZPQKGg_"
      },
      "execution_count": null,
      "outputs": []
    },
    {
      "cell_type": "code",
      "source": [
        "es_bisiesto(2060)"
      ],
      "metadata": {
        "colab": {
          "base_uri": "https://localhost:8080/"
        },
        "id": "3fpS4ytrKeej",
        "outputId": "11108184-f2f5-492e-af48-9145cc90c1bc"
      },
      "execution_count": null,
      "outputs": [
        {
          "output_type": "execute_result",
          "data": {
            "text/plain": [
              "True"
            ]
          },
          "metadata": {},
          "execution_count": 58
        }
      ]
    },
    {
      "cell_type": "code",
      "source": [
        "es_bisiesto(2058)"
      ],
      "metadata": {
        "colab": {
          "base_uri": "https://localhost:8080/"
        },
        "id": "Ci80lRAdKfju",
        "outputId": "1e2f2e8a-b01a-4320-abbd-6459bb67f4fa"
      },
      "execution_count": null,
      "outputs": [
        {
          "output_type": "execute_result",
          "data": {
            "text/plain": [
              "False"
            ]
          },
          "metadata": {},
          "execution_count": 59
        }
      ]
    },
    {
      "cell_type": "code",
      "source": [
        "es_bisiesto(2056)"
      ],
      "metadata": {
        "colab": {
          "base_uri": "https://localhost:8080/"
        },
        "id": "UMqHQzp6KjoR",
        "outputId": "6db2c863-40f1-4ab6-eda5-d328a6049e81"
      },
      "execution_count": null,
      "outputs": [
        {
          "output_type": "execute_result",
          "data": {
            "text/plain": [
              "True"
            ]
          },
          "metadata": {},
          "execution_count": 60
        }
      ]
    },
    {
      "cell_type": "markdown",
      "source": [
        "**3. Corrección de parciales**\n",
        "\n",
        "A los profes de pensamiento computacional se le traspapelaron los exámenes y necesitan repartirse el pilón de exámenes para corregir. Ayudalos creando una función _que_comision_, que tome un apellido y le diga a l@s profes a qué comisión pertenece:\n",
        "\n",
        "```python\n",
        ">>> estudiantes_por_comision = {\"comision A\": [\"Perez\", \"Lopez\"], \"comision B\" : [\"Salto\" , \"Gomez\"]}\n",
        ">>> que_comision(\"Perez\")\n",
        "\"comision A\"\n",
        "```"
      ],
      "metadata": {
        "id": "cWvRsNxJKmYa"
      }
    },
    {
      "cell_type": "code",
      "source": [
        "estudiantes_por_comision = {\"comision A\": [\"Perez\", \"Lopez\"], \"comision B\" : [\"Salto\" , \"Gomez\"]}\n",
        "\n",
        "def que_comision(apellido):\n",
        "  if apellido in estudiantes_por_comision[\"comision A\"]: \n",
        "    return 'comision A'\n",
        "  else:\n",
        "    return 'comision B'"
      ],
      "metadata": {
        "id": "OUzwOiy8O72X"
      },
      "execution_count": null,
      "outputs": []
    },
    {
      "cell_type": "code",
      "source": [
        "que_comision(\"Perez\")"
      ],
      "metadata": {
        "colab": {
          "base_uri": "https://localhost:8080/",
          "height": 35
        },
        "id": "CsdgnB1sO9Zj",
        "outputId": "078e3ecc-68b0-4db0-b08e-ad0c5022f8c1"
      },
      "execution_count": null,
      "outputs": [
        {
          "output_type": "execute_result",
          "data": {
            "text/plain": [
              "'comision A'"
            ],
            "application/vnd.google.colaboratory.intrinsic+json": {
              "type": "string"
            }
          },
          "metadata": {},
          "execution_count": 79
        }
      ]
    },
    {
      "cell_type": "markdown",
      "source": [
        "**4. Amigo Invisible**\n",
        "\n",
        "Se acerca la fiesta de fin de curso y nos resulta una buena idea hacer un amigo invisible.  Creá una función \"parejas_del_amigo_invisible\" que nos ayude a crear las parejas para el juego a partir de una lista de participantes:\n",
        "\n",
        "\n",
        "```python\n",
        ">>> participantes = [\"Ana\", \"Fran\", \"Nadia\", \"Gus\"]\n",
        ">>> parejas_del_amigo_invisible(participantes)\n",
        "{'Ana': 'Fran', 'Nadia': 'Gus'}\n",
        "\n",
        "```"
      ],
      "metadata": {
        "id": "5AezGvSHLq9z"
      }
    },
    {
      "cell_type": "code",
      "source": [
        "parejas = {} \n",
        "participantes = [\"Ana\", \"Fran\", \"Nadia\", \"Gus\"]\n",
        "def parejas_del_amigo_invisible(participantes): \n",
        "  for i in participantes: \n",
        "    parejas[participantes[0]] = participantes[1]\n",
        "  return parejas"
      ],
      "metadata": {
        "id": "y5yRZk8B9EMC"
      },
      "execution_count": null,
      "outputs": []
    },
    {
      "cell_type": "code",
      "source": [
        "parejas_del_amigo_invisible(participantes)"
      ],
      "metadata": {
        "colab": {
          "base_uri": "https://localhost:8080/"
        },
        "id": "p0QNoXCvRuP5",
        "outputId": "e9244f50-3cd8-42ec-9ab6-77d661826d42"
      },
      "execution_count": null,
      "outputs": [
        {
          "output_type": "execute_result",
          "data": {
            "text/plain": [
              "{'Ana': 'Fran'}"
            ]
          },
          "metadata": {},
          "execution_count": 176
        }
      ]
    },
    {
      "cell_type": "markdown",
      "source": [
        "**5. Un regalo apropiado**\n",
        "\n",
        "Ana ya estuvo averiguando algunas opciones de regalos en una casa de juegos de mesa para su amigo invisible. Ana quiere un juego de cooperación, para 2 jugadores, cuyo precio sea no más de $3000. Creá la función \"el_mejor_regalo\", que dada un listado de productos, le informe a Ana cuál es el nombre del mejor regalo según lo que busca.\n",
        "\n",
        "```pytho\n",
        ">>> juegos_de_mesa = [{\"nombre\":\"Paris\", \"tipo\": \"competitivo\", \"cantidad_jugadores\": 2, \"precio\":2500},\n",
        "                  {\"nombre\":\"Saboteur\" , \"tipo\": \"cooperativo\", \"cantidad_jugadores\": 4, \"precio\":2000},\n",
        "                  {\"nombre\":\"Hanabi\" , \"tipo\": \"cooperativo\", \"cantidad_jugadores\": 4, \"precio\":1000},\n",
        "                  {\"nombre\":\"1812\" , \"tipo\": \"cooperativo\", \"cantidad_jugadores\": 2, \"precio\":3000},\n",
        "                  {\"nombre\":\"Virus\" , \"tipo\": \"competitivo\", \"cantidad_jugadores\": 3, \"precio\":1500}\n",
        "                  ]\n",
        ">>> el_mejor_regalo(juegos_de_mesa)\n",
        "'1812'\n",
        "\n",
        "```"
      ],
      "metadata": {
        "id": "TVNHWGv1L0Bz"
      }
    },
    {
      "cell_type": "code",
      "source": [
        "juegos_de_mesa = [{\"nombre\":\"Paris\", \"tipo\": \"competitivo\", \"cantidad_jugadores\": 2, \"precio\":2500},\n",
        "                  {\"nombre\":\"Saboteur\" , \"tipo\": \"cooperativo\", \"cantidad_jugadores\": 4, \"precio\":2000},\n",
        "                  {\"nombre\":\"Hanabi\" , \"tipo\": \"cooperativo\", \"cantidad_jugadores\": 4, \"precio\":1000},\n",
        "                  {\"nombre\":\"1812\" , \"tipo\": \"cooperativo\", \"cantidad_jugadores\": 2, \"precio\":3000},\n",
        "                  {\"nombre\":\"Virus\" , \"tipo\": \"competitivo\", \"cantidad_jugadores\": 3, \"precio\":1500}\n",
        "                  ]"
      ],
      "metadata": {
        "id": "4k-N7tNhMU12"
      },
      "execution_count": null,
      "outputs": []
    },
    {
      "cell_type": "code",
      "source": [
        "def el_mejor_regalo(juegos_de_mesa): \n",
        "  for juego in juegos_de_mesa: \n",
        "    if juego['tipo'] == 'cooperativo' and juego['cantidad_jugadores'] == 2 and juego['precio'] <= 3000: \n",
        "      return juego['nombre']"
      ],
      "metadata": {
        "id": "Cv_lP6svL6i_"
      },
      "execution_count": null,
      "outputs": []
    },
    {
      "cell_type": "code",
      "source": [
        "el_mejor_regalo(juegos_de_mesa)"
      ],
      "metadata": {
        "colab": {
          "base_uri": "https://localhost:8080/",
          "height": 35
        },
        "id": "UuW6bjANMWPG",
        "outputId": "db142670-2b7d-4941-8e7f-84f118d0a4ad"
      },
      "execution_count": null,
      "outputs": [
        {
          "output_type": "execute_result",
          "data": {
            "text/plain": [
              "'1812'"
            ],
            "application/vnd.google.colaboratory.intrinsic+json": {
              "type": "string"
            }
          },
          "metadata": {},
          "execution_count": 72
        }
      ]
    },
    {
      "cell_type": "markdown",
      "source": [
        "## Final febrero 2022\n",
        "\n",
        "https://colab.research.google.com/drive/18IuGGwGZav8TP5nQSFs0Rd0PpLLZtw9Z?usp=sharing\n"
      ],
      "metadata": {
        "id": "-i8pKvYRRusb"
      }
    },
    {
      "cell_type": "markdown",
      "source": [
        "## Segundo parcial"
      ],
      "metadata": {
        "id": "c87tJFDbE-ZE"
      }
    },
    {
      "cell_type": "code",
      "source": [
        "# T1 \n",
        "def top_n(lista_numeros, numero): \n",
        "  lista_numeros.sort() # descendente \n",
        "  return lista_numeros[-numero:] "
      ],
      "metadata": {
        "id": "3au8bFTyFGD6"
      },
      "execution_count": 1,
      "outputs": []
    },
    {
      "cell_type": "code",
      "source": [
        "# T2 \n",
        "def pancarta_llamativa(emoji, frase): \n",
        "  intercalado = ''\n",
        "  for elemento in range(len(frase)): \n",
        "    if elemento % 2 == 0: \n",
        "      intercalado += frase[elemento].upper()\n",
        "    else: \n",
        "      intercalado += frase[elemento].lower()\n",
        "  return emoji + ' ' + intercalado + ' ' + emoji"
      ],
      "metadata": {
        "id": "EvI97gvoFIwR"
      },
      "execution_count": 2,
      "outputs": []
    },
    {
      "cell_type": "code",
      "source": [
        "# T3\n",
        "frase = \"she loves you yeah yeah yeah\"\n",
        "def repetidos(frase, palabra): \n",
        "  frase_enlistada = frase.split()\n",
        "  repetidos = []\n",
        "  for i in frase_enlistada: \n",
        "    if palabra == i: \n",
        "      repetidos.append(i)\n",
        "  return len(repetidos) "
      ],
      "metadata": {
        "id": "8CMdgIwQFLVW"
      },
      "execution_count": 3,
      "outputs": []
    },
    {
      "cell_type": "code",
      "source": [
        "# T3\n",
        "def contar_palabras(frase): \n",
        "  frase_enlistada = frase.split()\n",
        "  contador = {}\n",
        "  for palabra in frase_enlistada: \n",
        "    contador[palabra] = repetidos(frase, palabra)\n",
        "  return contador "
      ],
      "metadata": {
        "id": "W20gAPacFPP4"
      },
      "execution_count": 4,
      "outputs": []
    }
  ]
}